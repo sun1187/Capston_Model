{
  "nbformat": 4,
  "nbformat_minor": 0,
  "metadata": {
    "colab": {
      "name": "ver6_level2_predict.ipynb",
      "provenance": [],
      "collapsed_sections": [],
      "toc_visible": true
    },
    "kernelspec": {
      "display_name": "Python 3",
      "language": "python",
      "name": "python3"
    },
    "language_info": {
      "codemirror_mode": {
        "name": "ipython",
        "version": 3
      },
      "file_extension": ".py",
      "mimetype": "text/x-python",
      "name": "python",
      "nbconvert_exporter": "python",
      "pygments_lexer": "ipython3",
      "version": "3.8.5"
    },
    "widgets": {
      "application/vnd.jupyter.widget-state+json": {
        "991edee8188e4aad902efce65f97a97f": {
          "model_module": "@jupyter-widgets/controls",
          "model_name": "HBoxModel",
          "state": {
            "_view_name": "HBoxView",
            "_dom_classes": [],
            "_model_name": "HBoxModel",
            "_view_module": "@jupyter-widgets/controls",
            "_model_module_version": "1.5.0",
            "_view_count": null,
            "_view_module_version": "1.5.0",
            "box_style": "",
            "layout": "IPY_MODEL_874bce68809d4d2b8e85e524f86a02fa",
            "_model_module": "@jupyter-widgets/controls",
            "children": [
              "IPY_MODEL_f1a0eabd6c514ee0964b84ff01c57127",
              "IPY_MODEL_df8632e5a0974ec9b838b688ea702035"
            ]
          }
        },
        "874bce68809d4d2b8e85e524f86a02fa": {
          "model_module": "@jupyter-widgets/base",
          "model_name": "LayoutModel",
          "state": {
            "_view_name": "LayoutView",
            "grid_template_rows": null,
            "right": null,
            "justify_content": null,
            "_view_module": "@jupyter-widgets/base",
            "overflow": null,
            "_model_module_version": "1.2.0",
            "_view_count": null,
            "flex_flow": null,
            "width": null,
            "min_width": null,
            "border": null,
            "align_items": null,
            "bottom": null,
            "_model_module": "@jupyter-widgets/base",
            "top": null,
            "grid_column": null,
            "overflow_y": null,
            "overflow_x": null,
            "grid_auto_flow": null,
            "grid_area": null,
            "grid_template_columns": null,
            "flex": null,
            "_model_name": "LayoutModel",
            "justify_items": null,
            "grid_row": null,
            "max_height": null,
            "align_content": null,
            "visibility": null,
            "align_self": null,
            "height": null,
            "min_height": null,
            "padding": null,
            "grid_auto_rows": null,
            "grid_gap": null,
            "max_width": null,
            "order": null,
            "_view_module_version": "1.2.0",
            "grid_template_areas": null,
            "object_position": null,
            "object_fit": null,
            "grid_auto_columns": null,
            "margin": null,
            "display": null,
            "left": null
          }
        },
        "f1a0eabd6c514ee0964b84ff01c57127": {
          "model_module": "@jupyter-widgets/controls",
          "model_name": "FloatProgressModel",
          "state": {
            "_view_name": "ProgressView",
            "style": "IPY_MODEL_0456ad68e8df4bd1b43c8ee3c879ed4f",
            "_dom_classes": [],
            "description": "100%",
            "_model_name": "FloatProgressModel",
            "bar_style": "success",
            "max": 2370,
            "_view_module": "@jupyter-widgets/controls",
            "_model_module_version": "1.5.0",
            "value": 2370,
            "_view_count": null,
            "_view_module_version": "1.5.0",
            "orientation": "horizontal",
            "min": 0,
            "description_tooltip": null,
            "_model_module": "@jupyter-widgets/controls",
            "layout": "IPY_MODEL_969a92756c024b998f591c3cc8bb4e6b"
          }
        },
        "df8632e5a0974ec9b838b688ea702035": {
          "model_module": "@jupyter-widgets/controls",
          "model_name": "HTMLModel",
          "state": {
            "_view_name": "HTMLView",
            "style": "IPY_MODEL_cf3c1bbf2b044ac3b9bc4d5bc2e06c31",
            "_dom_classes": [],
            "description": "",
            "_model_name": "HTMLModel",
            "placeholder": "​",
            "_view_module": "@jupyter-widgets/controls",
            "_model_module_version": "1.5.0",
            "value": " 2370/2370 [08:16&lt;00:00,  4.77it/s]",
            "_view_count": null,
            "_view_module_version": "1.5.0",
            "description_tooltip": null,
            "_model_module": "@jupyter-widgets/controls",
            "layout": "IPY_MODEL_c1ee46c102874782bd92daa067ad6666"
          }
        },
        "0456ad68e8df4bd1b43c8ee3c879ed4f": {
          "model_module": "@jupyter-widgets/controls",
          "model_name": "ProgressStyleModel",
          "state": {
            "_view_name": "StyleView",
            "_model_name": "ProgressStyleModel",
            "description_width": "initial",
            "_view_module": "@jupyter-widgets/base",
            "_model_module_version": "1.5.0",
            "_view_count": null,
            "_view_module_version": "1.2.0",
            "bar_color": null,
            "_model_module": "@jupyter-widgets/controls"
          }
        },
        "969a92756c024b998f591c3cc8bb4e6b": {
          "model_module": "@jupyter-widgets/base",
          "model_name": "LayoutModel",
          "state": {
            "_view_name": "LayoutView",
            "grid_template_rows": null,
            "right": null,
            "justify_content": null,
            "_view_module": "@jupyter-widgets/base",
            "overflow": null,
            "_model_module_version": "1.2.0",
            "_view_count": null,
            "flex_flow": null,
            "width": null,
            "min_width": null,
            "border": null,
            "align_items": null,
            "bottom": null,
            "_model_module": "@jupyter-widgets/base",
            "top": null,
            "grid_column": null,
            "overflow_y": null,
            "overflow_x": null,
            "grid_auto_flow": null,
            "grid_area": null,
            "grid_template_columns": null,
            "flex": null,
            "_model_name": "LayoutModel",
            "justify_items": null,
            "grid_row": null,
            "max_height": null,
            "align_content": null,
            "visibility": null,
            "align_self": null,
            "height": null,
            "min_height": null,
            "padding": null,
            "grid_auto_rows": null,
            "grid_gap": null,
            "max_width": null,
            "order": null,
            "_view_module_version": "1.2.0",
            "grid_template_areas": null,
            "object_position": null,
            "object_fit": null,
            "grid_auto_columns": null,
            "margin": null,
            "display": null,
            "left": null
          }
        },
        "cf3c1bbf2b044ac3b9bc4d5bc2e06c31": {
          "model_module": "@jupyter-widgets/controls",
          "model_name": "DescriptionStyleModel",
          "state": {
            "_view_name": "StyleView",
            "_model_name": "DescriptionStyleModel",
            "description_width": "",
            "_view_module": "@jupyter-widgets/base",
            "_model_module_version": "1.5.0",
            "_view_count": null,
            "_view_module_version": "1.2.0",
            "_model_module": "@jupyter-widgets/controls"
          }
        },
        "c1ee46c102874782bd92daa067ad6666": {
          "model_module": "@jupyter-widgets/base",
          "model_name": "LayoutModel",
          "state": {
            "_view_name": "LayoutView",
            "grid_template_rows": null,
            "right": null,
            "justify_content": null,
            "_view_module": "@jupyter-widgets/base",
            "overflow": null,
            "_model_module_version": "1.2.0",
            "_view_count": null,
            "flex_flow": null,
            "width": null,
            "min_width": null,
            "border": null,
            "align_items": null,
            "bottom": null,
            "_model_module": "@jupyter-widgets/base",
            "top": null,
            "grid_column": null,
            "overflow_y": null,
            "overflow_x": null,
            "grid_auto_flow": null,
            "grid_area": null,
            "grid_template_columns": null,
            "flex": null,
            "_model_name": "LayoutModel",
            "justify_items": null,
            "grid_row": null,
            "max_height": null,
            "align_content": null,
            "visibility": null,
            "align_self": null,
            "height": null,
            "min_height": null,
            "padding": null,
            "grid_auto_rows": null,
            "grid_gap": null,
            "max_width": null,
            "order": null,
            "_view_module_version": "1.2.0",
            "grid_template_areas": null,
            "object_position": null,
            "object_fit": null,
            "grid_auto_columns": null,
            "margin": null,
            "display": null,
            "left": null
          }
        }
      }
    }
  },
  "cells": [
    {
      "cell_type": "code",
      "metadata": {
        "id": "Jo8nelVfNsvK"
      },
      "source": [
        "import pandas as pd\n",
        "import numpy as np\n",
        "import tensorflow as tf\n",
        "tf.random.set_seed(42)\n",
        "\n",
        "pd.set_option('display.max_columns', 500) "
      ],
      "execution_count": 4,
      "outputs": []
    },
    {
      "cell_type": "markdown",
      "metadata": {
        "id": "RVT6iKNhQ6i0"
      },
      "source": [
        "# Load Data: DB1(2020.5.17).xlsx\n"
      ]
    },
    {
      "cell_type": "code",
      "metadata": {
        "id": "Eqq8aSwOUEcy"
      },
      "source": [
        "#data_jaun = pd.read_excel('DB1(2020.5.17).xlsx', sheet_name = 'digestive(jaundice)')\n",
        "#data_hemate = pd.read_excel('DB1(2020.5.17).xlsx', sheet_name = 'hematemesis(digestive)')\n",
        "#data_Folie_Nerve = pd.read_excel('DB1(2020.5.17).xlsx', sheet_name = 'Folie_Nerve')\n",
        "#data_musculoskeletal = pd.read_excel('DB1(2020.5.17).xlsx', sheet_name = 'musculoskeletal')\n",
        "#data_kidney = pd.read_excel('DB1(2020.5.17).xlsx', sheet_name = 'kidney')\n",
        "#data_respiratory = pd.read_excel('DB1(2020.5.17).xlsx', sheet_name = 'respiratory')\n",
        "#data_circulator1 = pd.read_excel('DB1(2020.5.17).xlsx', sheet_name = 'circulator1')\n",
        "#data_circulator2 = pd.read_excel('DB1(2020.5.17).xlsx', sheet_name = 'Circulator2')\n",
        "#data_para = pd.read_excel('DB1(2020.5.17).xlsx', sheet_name = 'Para_Female_Child')\n",
        "#data_digestive = pd.read_excel('DB1(2020.5.17).xlsx', sheet_name = 'digestive')"
      ],
      "execution_count": 2,
      "outputs": []
    },
    {
      "cell_type": "code",
      "metadata": {
        "id": "2u9XKkqJb6pa"
      },
      "source": [
        "data_jaun = pd.read_excel('DB1(2020.5.17)_add_less_5.xlsx', sheet_name = 'digestive(jaundice)')\n",
        "data_hemate = pd.read_excel('DB1(2020.5.17)_add_less_5.xlsx', sheet_name = 'hematemesis(digestive)')\n",
        "#data_Folie_Nerve = pd.read_excel('DB1(2020.5.17).xlsx', sheet_name = 'Folie_Nerve')\n",
        "data_musculoskeletal = pd.read_excel('DB1(2020.5.17)_add_less_5.xlsx', sheet_name = 'musculoskeletal')\n",
        "data_kidney = pd.read_excel('DB1(2020.5.17)_add_less_5.xlsx', sheet_name = 'kidney')\n",
        "data_respiratory = pd.read_excel('DB1(2020.5.17)_add_less_5.xlsx', sheet_name = 'respiratory')\n",
        "data_circulator1 = pd.read_excel('DB1(2020.5.17)_add_less_5.xlsx', sheet_name = 'circulator1')\n",
        "data_circulator2 = pd.read_excel('DB1(2020.5.17)_add_less_5.xlsx', sheet_name = 'Circulator2')\n",
        "data_para = pd.read_excel('DB1(2020.5.17)_add_less_5.xlsx', sheet_name = 'Para_Female_Child')\n",
        "data_digestive = pd.read_excel('DB1(2020.5.17)_add_less_5.xlsx', sheet_name = 'digestive')\n",
        "#others = pd.read_excel('결측치db.xls', sheet_name='Sheet2')"
      ],
      "execution_count": 5,
      "outputs": []
    },
    {
      "cell_type": "markdown",
      "metadata": {
        "id": "RoLbHC7vRGew"
      },
      "source": [
        "# 1. Preprocessing"
      ]
    },
    {
      "cell_type": "markdown",
      "metadata": {
        "id": "iZZcnNXBKlHb"
      },
      "source": [
        "## 0) Select columns and fill diseases"
      ]
    },
    {
      "cell_type": "code",
      "metadata": {
        "id": "D0CoLQiww8_h"
      },
      "source": [
        "def organize_data(df):\n",
        "  df.columns = df.iloc[0]\n",
        "  df = df[1:]\n",
        "  df = df.iloc[:, 3:]\n",
        "  df = df[['level2', 'Chief complaint', 'Onset', 'Location']]\n",
        "  #df = df[['level2', 'Chief complaint', 'Onset']]\n",
        "  df['level2'] = df['level2'].fillna(method='ffill')\n",
        "\n",
        "  return df"
      ],
      "execution_count": 6,
      "outputs": []
    },
    {
      "cell_type": "code",
      "metadata": {
        "id": "jOzjEnC_xKFc"
      },
      "source": [
        "data_digestive = organize_data(data_digestive)\n",
        "data_musculoskeletal = organize_data(data_musculoskeletal)\n",
        "data_kidney = organize_data(data_kidney)\n",
        "data_respiratory = organize_data(data_respiratory)\n",
        "data_para = organize_data(data_para)\n",
        "#data_Folie_Nerve = organize_data(data_Folie_Nerve)\n",
        "data_circulator1 = organize_data(data_circulator1)\n",
        "data_hemate = organize_data(data_hemate)\n",
        "data_jaun = organize_data(data_jaun)\n",
        "\n",
        "data_circulator2 = data_circulator2[['챕터', 'Chief complaint', 'Onset', 'Location']]\n",
        "#data_circulator2 = data_circulator2[['챕터', 'Chief complaint', 'Onset']]\n",
        "data_circulator2['챕터'] = data_circulator2['챕터'].fillna(method='ffill')"
      ],
      "execution_count": 7,
      "outputs": []
    },
    {
      "cell_type": "code",
      "metadata": {
        "colab": {
          "base_uri": "https://localhost:8080/"
        },
        "id": "zle4FdXxzH8p",
        "outputId": "fc02d131-62ad-4071-9a72-b19ad563f24e"
      },
      "source": [
        "print(data_digestive.shape)\n",
        "print(data_jaun.shape)\n",
        "print(data_hemate.shape)\n",
        "print(data_musculoskeletal.shape)\n",
        "print(data_kidney.shape)\n",
        "print(data_respiratory.shape)\n",
        "print(data_para.shape)\n",
        "#print(data_Folie_Nerve.shape)\n",
        "print(data_circulator1.shape)\n",
        "print(data_circulator2.shape)"
      ],
      "execution_count": 8,
      "outputs": [
        {
          "output_type": "stream",
          "text": [
            "(421, 4)\n",
            "(440, 4)\n",
            "(360, 4)\n",
            "(205, 4)\n",
            "(246, 4)\n",
            "(205, 4)\n",
            "(355, 4)\n",
            "(305, 4)\n",
            "(218, 4)\n"
          ],
          "name": "stdout"
        }
      ]
    },
    {
      "cell_type": "code",
      "metadata": {
        "colab": {
          "base_uri": "https://localhost:8080/",
          "height": 80
        },
        "id": "gEMR9X_T0MnP",
        "outputId": "139a7658-c7b9-4915-c748-4555d8ac8f16"
      },
      "source": [
        "data_circulator2.columns = data_circulator1.columns\n",
        "\n",
        "data = pd.concat([data_digestive, data_musculoskeletal, data_kidney,\n",
        "                  data_respiratory, data_circulator1, #data_Folie_Nerve,\n",
        "                  data_circulator2, data_para, data_jaun, data_hemate], axis=0)\n",
        "data.sample()"
      ],
      "execution_count": 9,
      "outputs": [
        {
          "output_type": "execute_result",
          "data": {
            "text/html": [
              "<div>\n",
              "<style scoped>\n",
              "    .dataframe tbody tr th:only-of-type {\n",
              "        vertical-align: middle;\n",
              "    }\n",
              "\n",
              "    .dataframe tbody tr th {\n",
              "        vertical-align: top;\n",
              "    }\n",
              "\n",
              "    .dataframe thead th {\n",
              "        text-align: right;\n",
              "    }\n",
              "</style>\n",
              "<table border=\"1\" class=\"dataframe\">\n",
              "  <thead>\n",
              "    <tr style=\"text-align: right;\">\n",
              "      <th></th>\n",
              "      <th>level2</th>\n",
              "      <th>Chief complaint</th>\n",
              "      <th>Onset</th>\n",
              "      <th>Location</th>\n",
              "    </tr>\n",
              "  </thead>\n",
              "  <tbody>\n",
              "    <tr>\n",
              "      <th>204</th>\n",
              "      <td>Dysuria</td>\n",
              "      <td>\"소변보는 게 불편해요\"</td>\n",
              "      <td>3시간 전</td>\n",
              "      <td>-</td>\n",
              "    </tr>\n",
              "  </tbody>\n",
              "</table>\n",
              "</div>"
            ],
            "text/plain": [
              "0     level2 Chief complaint  Onset Location\n",
              "204  Dysuria   \"소변보는 게 불편해요\"  3시간 전        -"
            ]
          },
          "metadata": {
            "tags": []
          },
          "execution_count": 9
        }
      ]
    },
    {
      "cell_type": "code",
      "metadata": {
        "colab": {
          "base_uri": "https://localhost:8080/"
        },
        "id": "iYVhQKIGZgk6",
        "outputId": "11070ac2-3167-471c-a782-38c9e832897a"
      },
      "source": [
        "data = data.dropna(thresh=2)\n",
        "data.shape"
      ],
      "execution_count": 10,
      "outputs": [
        {
          "output_type": "execute_result",
          "data": {
            "text/plain": [
              "(2363, 4)"
            ]
          },
          "metadata": {
            "tags": []
          },
          "execution_count": 10
        }
      ]
    },
    {
      "cell_type": "markdown",
      "metadata": {
        "id": "2KvyK8gz3fjh"
      },
      "source": [
        "## 1) Check Target Data, Disease"
      ]
    },
    {
      "cell_type": "code",
      "metadata": {
        "colab": {
          "base_uri": "https://localhost:8080/"
        },
        "id": "fyGrH-By36ja",
        "outputId": "8731f491-2667-42e0-fbef-55e6e38b6dac"
      },
      "source": [
        "data['level2'].value_counts()"
      ],
      "execution_count": 11,
      "outputs": [
        {
          "output_type": "execute_result",
          "data": {
            "text/plain": [
              "Jaundice                            495\n",
              "Hematemesis                         400\n",
              "Emmeniopathy/Dysmenorrhea           100\n",
              "Acute Abdominal Pain                 95\n",
              "Arthrodynia                          75\n",
              "Mastalgia/Breast Lump                70\n",
              "Chest Pain                           66\n",
              "Blackout                             65\n",
              "Emesis                               60\n",
              "Cough                                60\n",
              "Red Urine                            60\n",
              "Dysuria                              60\n",
              "Dyspnea                              60\n",
              "Dyspepsia/Chronic Abdominal Pain     55\n",
              "Palpitation                          55\n",
              "Dyslipidemia                         53\n",
              "Hemoptysis                           50\n",
              "Cervicodynia                         50\n",
              "Skin Rash                            50\n",
              "Oliguresis                           50\n",
              "Diarrhea                             45\n",
              "Hypertension                         43\n",
              "Hematochezia                         40\n",
              "Polyuria                             40\n",
              "Rhinorrhea/Nasal Stuffiness          40\n",
              "Uracratia                            36\n",
              "Leukorrhea                           30\n",
              "Lumbago                              30\n",
              "Constipation                         30\n",
              "Name: level2, dtype: int64"
            ]
          },
          "metadata": {
            "tags": []
          },
          "execution_count": 11
        }
      ]
    },
    {
      "cell_type": "code",
      "metadata": {
        "id": "G1t14oZ_KOUb"
      },
      "source": [
        "data = data[data['level2'] != 'Dyslipidemia'] # Drop 이상지질혈증\n",
        "data.reset_index(inplace=True, drop=True)"
      ],
      "execution_count": 12,
      "outputs": []
    },
    {
      "cell_type": "code",
      "metadata": {
        "colab": {
          "base_uri": "https://localhost:8080/"
        },
        "id": "M-y09EPr3fFi",
        "outputId": "d2da52c2-5333-4d81-a103-919e348be596"
      },
      "source": [
        "len(data['level2'].unique())"
      ],
      "execution_count": 13,
      "outputs": [
        {
          "output_type": "execute_result",
          "data": {
            "text/plain": [
              "28"
            ]
          },
          "metadata": {
            "tags": []
          },
          "execution_count": 13
        }
      ]
    },
    {
      "cell_type": "markdown",
      "metadata": {
        "id": "mh7Cfaw33m2a"
      },
      "source": [
        "### Organize differently expressed diseases to the same expression diseases"
      ]
    },
    {
      "cell_type": "code",
      "metadata": {
        "colab": {
          "base_uri": "https://localhost:8080/",
          "height": 204
        },
        "id": "e_AZUkd23iSv",
        "outputId": "e9346f0d-db7d-43aa-ef30-765035398e64"
      },
      "source": [
        "level2_kor = pd.read_excel('ver6_new_words.xlsx', sheet_name = 'level2')\n",
        "level2_kor = level2_kor[['Level 2', '번역']]\n",
        "level2_kor = level2_kor.dropna()\n",
        "\n",
        "level2_kor.columns = ['level2', '번역']\n",
        "level2_kor.head()"
      ],
      "execution_count": 14,
      "outputs": [
        {
          "output_type": "execute_result",
          "data": {
            "text/html": [
              "<div>\n",
              "<style scoped>\n",
              "    .dataframe tbody tr th:only-of-type {\n",
              "        vertical-align: middle;\n",
              "    }\n",
              "\n",
              "    .dataframe tbody tr th {\n",
              "        vertical-align: top;\n",
              "    }\n",
              "\n",
              "    .dataframe thead th {\n",
              "        text-align: right;\n",
              "    }\n",
              "</style>\n",
              "<table border=\"1\" class=\"dataframe\">\n",
              "  <thead>\n",
              "    <tr style=\"text-align: right;\">\n",
              "      <th></th>\n",
              "      <th>level2</th>\n",
              "      <th>번역</th>\n",
              "    </tr>\n",
              "  </thead>\n",
              "  <tbody>\n",
              "    <tr>\n",
              "      <th>0</th>\n",
              "      <td>Acute Abdominal Pain</td>\n",
              "      <td>급성 복통</td>\n",
              "    </tr>\n",
              "    <tr>\n",
              "      <th>1</th>\n",
              "      <td>Dyspepsia/Chronic Abdominal Pain</td>\n",
              "      <td>소화불량/만성 복통</td>\n",
              "    </tr>\n",
              "    <tr>\n",
              "      <th>2</th>\n",
              "      <td>Hematemesis</td>\n",
              "      <td>토혈</td>\n",
              "    </tr>\n",
              "    <tr>\n",
              "      <th>3</th>\n",
              "      <td>Hematochezia</td>\n",
              "      <td>혈변</td>\n",
              "    </tr>\n",
              "    <tr>\n",
              "      <th>4</th>\n",
              "      <td>Emesis</td>\n",
              "      <td>구토</td>\n",
              "    </tr>\n",
              "  </tbody>\n",
              "</table>\n",
              "</div>"
            ],
            "text/plain": [
              "                             level2          번역\n",
              "0              Acute Abdominal Pain       급성 복통\n",
              "1  Dyspepsia/Chronic Abdominal Pain  소화불량/만성 복통\n",
              "2                       Hematemesis          토혈\n",
              "3                      Hematochezia          혈변\n",
              "4                           Emesis           구토"
            ]
          },
          "metadata": {
            "tags": []
          },
          "execution_count": 14
        }
      ]
    },
    {
      "cell_type": "code",
      "metadata": {
        "colab": {
          "base_uri": "https://localhost:8080/"
        },
        "id": "T-4MF06IdLQu",
        "outputId": "37966a61-1f13-4813-f2d0-60f49a9b79b5"
      },
      "source": [
        "print(level2_kor.shape)\n",
        "print(data.shape)"
      ],
      "execution_count": 15,
      "outputs": [
        {
          "output_type": "stream",
          "text": [
            "(41, 2)\n",
            "(2310, 4)\n"
          ],
          "name": "stdout"
        }
      ]
    },
    {
      "cell_type": "code",
      "metadata": {
        "colab": {
          "base_uri": "https://localhost:8080/",
          "height": 80
        },
        "id": "-JLpBUwl3kkr",
        "outputId": "a739f09a-da3b-4cdb-e2a7-ffe40efa31b2"
      },
      "source": [
        "data = pd.merge(data, level2_kor, how='left',on='level2')\n",
        "#data2.reset_index(drop=True, inplace=True)\n",
        "\n",
        "data['번역'].fillna(data['level2'], inplace=True)\n",
        "data['level2'] = data['번역']\n",
        "data.drop('번역', axis=1, inplace=True)\n",
        "data.sample()"
      ],
      "execution_count": 16,
      "outputs": [
        {
          "output_type": "execute_result",
          "data": {
            "text/html": [
              "<div>\n",
              "<style scoped>\n",
              "    .dataframe tbody tr th:only-of-type {\n",
              "        vertical-align: middle;\n",
              "    }\n",
              "\n",
              "    .dataframe tbody tr th {\n",
              "        vertical-align: top;\n",
              "    }\n",
              "\n",
              "    .dataframe thead th {\n",
              "        text-align: right;\n",
              "    }\n",
              "</style>\n",
              "<table border=\"1\" class=\"dataframe\">\n",
              "  <thead>\n",
              "    <tr style=\"text-align: right;\">\n",
              "      <th></th>\n",
              "      <th>level2</th>\n",
              "      <th>Chief complaint</th>\n",
              "      <th>Onset</th>\n",
              "      <th>Location</th>\n",
              "    </tr>\n",
              "  </thead>\n",
              "  <tbody>\n",
              "    <tr>\n",
              "      <th>628</th>\n",
              "      <td>다뇨증</td>\n",
              "      <td>\"소변량이 많아졌어요\"</td>\n",
              "      <td>이년전</td>\n",
              "      <td>-</td>\n",
              "    </tr>\n",
              "  </tbody>\n",
              "</table>\n",
              "</div>"
            ],
            "text/plain": [
              "    level2 Chief complaint Onset Location\n",
              "628    다뇨증    \"소변량이 많아졌어요\"   이년전        -"
            ]
          },
          "metadata": {
            "tags": []
          },
          "execution_count": 16
        }
      ]
    },
    {
      "cell_type": "code",
      "metadata": {
        "colab": {
          "base_uri": "https://localhost:8080/"
        },
        "id": "8vj_bYea35jg",
        "outputId": "121bea5a-6c3e-4f66-abaf-c4abe821cf28"
      },
      "source": [
        "len(data['level2'].unique())"
      ],
      "execution_count": 17,
      "outputs": [
        {
          "output_type": "execute_result",
          "data": {
            "text/plain": [
              "27"
            ]
          },
          "metadata": {
            "tags": []
          },
          "execution_count": 17
        }
      ]
    },
    {
      "cell_type": "code",
      "metadata": {
        "colab": {
          "base_uri": "https://localhost:8080/"
        },
        "id": "UZnk4kpCdzgc",
        "outputId": "d938e3db-0081-479a-d25d-daad65f3291c"
      },
      "source": [
        "a = pd.DataFrame(data['level2'].value_counts().reset_index().values, columns=[\"disease\", \"counts\"])\n",
        "a['disease']"
      ],
      "execution_count": 18,
      "outputs": [
        {
          "output_type": "execute_result",
          "data": {
            "text/plain": [
              "0             황달\n",
              "1             토혈\n",
              "2           호흡곤란\n",
              "3       월경이상/월경통\n",
              "4          급성 복통\n",
              "5     목 통증/허리 통증\n",
              "6          관절 통증\n",
              "7       유방통/유방덩이\n",
              "8           가슴통증\n",
              "9             실신\n",
              "10        붉은색 소변\n",
              "11         배뇨 이상\n",
              "12            기침\n",
              "13            구토\n",
              "14          두근거림\n",
              "15    소화불량/만성 복통\n",
              "16            객혈\n",
              "17          피부발진\n",
              "18            핍뇨\n",
              "19            설사\n",
              "20           고혈압\n",
              "21            혈변\n",
              "22           다뇨증\n",
              "23        콧물/코막힘\n",
              "24         소변찔끔증\n",
              "25         질 분비물\n",
              "26            변비\n",
              "Name: disease, dtype: object"
            ]
          },
          "metadata": {
            "tags": []
          },
          "execution_count": 18
        }
      ]
    },
    {
      "cell_type": "markdown",
      "metadata": {
        "id": "GMntd1POTb-q"
      },
      "source": [
        "## 2) Change Nan"
      ]
    },
    {
      "cell_type": "code",
      "metadata": {
        "id": "xPCWPFWWTkCK"
      },
      "source": [
        "data = data.fillna('-')"
      ],
      "execution_count": 19,
      "outputs": []
    },
    {
      "cell_type": "code",
      "metadata": {
        "id": "2fp0xOy2TbpD"
      },
      "source": [
        "def to_nan(x):\n",
        "  if(x == '-'):\n",
        "    x = ''\n",
        "  elif(x == '아니오'):\n",
        "    x = ''\n",
        "  elif(x == '아뇨'):\n",
        "    x = ''\n",
        "  elif(x == '몰라요'):\n",
        "    x = ''\n",
        "  elif(x == '모릅니다'):\n",
        "    x = ''\n",
        "  elif(x == '모름'):\n",
        "    x = ''\n",
        "  elif(x == '아뇨'):\n",
        "    x = ''\n",
        "  elif(x == '아뇨'):\n",
        "    x = ''\n",
        "  elif(x == '없습니다'):\n",
        "    x = ''\n",
        "  elif(x == '없어요'):\n",
        "    x = ''\n",
        "  elif(x == '없음'):\n",
        "    x = ''\n",
        "  elif(x == '.'):\n",
        "    x = ''\n",
        "  return x"
      ],
      "execution_count": 20,
      "outputs": []
    },
    {
      "cell_type": "code",
      "metadata": {
        "id": "FKKIswaUTgst"
      },
      "source": [
        "for i in range(len(data.columns)):\n",
        "    data[data.columns[i]] = data.apply(lambda x : to_nan(x[data.columns[i]]) , axis = 1 )"
      ],
      "execution_count": 21,
      "outputs": []
    },
    {
      "cell_type": "markdown",
      "metadata": {
        "id": "Q3lF0LEGu1AY"
      },
      "source": [
        "## 3) Make a sentence"
      ]
    },
    {
      "cell_type": "code",
      "metadata": {
        "colab": {
          "base_uri": "https://localhost:8080/",
          "height": 80
        },
        "id": "p8wlGBG8uz__",
        "outputId": "45c758b3-c4da-48fd-a68f-3b5c3832f272"
      },
      "source": [
        "data['All'] = data['Chief complaint'] + '. ' + data['Onset'] + '. ' + data['Location']\n",
        "data.sample()"
      ],
      "execution_count": 22,
      "outputs": [
        {
          "output_type": "execute_result",
          "data": {
            "text/html": [
              "<div>\n",
              "<style scoped>\n",
              "    .dataframe tbody tr th:only-of-type {\n",
              "        vertical-align: middle;\n",
              "    }\n",
              "\n",
              "    .dataframe tbody tr th {\n",
              "        vertical-align: top;\n",
              "    }\n",
              "\n",
              "    .dataframe thead th {\n",
              "        text-align: right;\n",
              "    }\n",
              "</style>\n",
              "<table border=\"1\" class=\"dataframe\">\n",
              "  <thead>\n",
              "    <tr style=\"text-align: right;\">\n",
              "      <th></th>\n",
              "      <th>level2</th>\n",
              "      <th>Chief complaint</th>\n",
              "      <th>Onset</th>\n",
              "      <th>Location</th>\n",
              "      <th>All</th>\n",
              "    </tr>\n",
              "  </thead>\n",
              "  <tbody>\n",
              "    <tr>\n",
              "      <th>1957</th>\n",
              "      <td>황달</td>\n",
              "      <td>눈이 노랗게 됐어요</td>\n",
              "      <td>3일전</td>\n",
              "      <td>얼굴, 눈</td>\n",
              "      <td>눈이 노랗게 됐어요. 3일전. 얼굴, 눈</td>\n",
              "    </tr>\n",
              "  </tbody>\n",
              "</table>\n",
              "</div>"
            ],
            "text/plain": [
              "     level2 Chief complaint Onset Location                     All\n",
              "1957     황달      눈이 노랗게 됐어요   3일전    얼굴, 눈  눈이 노랗게 됐어요. 3일전. 얼굴, 눈"
            ]
          },
          "metadata": {
            "tags": []
          },
          "execution_count": 22
        }
      ]
    },
    {
      "cell_type": "markdown",
      "metadata": {
        "id": "shEnQc3wuPc2"
      },
      "source": [
        "## 4) Check spelling"
      ]
    },
    {
      "cell_type": "code",
      "metadata": {
        "colab": {
          "base_uri": "https://localhost:8080/"
        },
        "id": "y0dKx4u-uhY-",
        "outputId": "80a37748-db5a-4eea-c828-c67ea5abc601"
      },
      "source": [
        "!pip install git+https://github.com/ssut/py-hanspell.git"
      ],
      "execution_count": 23,
      "outputs": [
        {
          "output_type": "stream",
          "text": [
            "Collecting git+https://github.com/ssut/py-hanspell.git\n",
            "  Cloning https://github.com/ssut/py-hanspell.git to /tmp/pip-req-build-falgwwcq\n",
            "  Running command git clone -q https://github.com/ssut/py-hanspell.git /tmp/pip-req-build-falgwwcq\n",
            "Requirement already satisfied: requests in /usr/local/lib/python3.7/dist-packages (from py-hanspell==1.1) (2.23.0)\n",
            "Requirement already satisfied: idna<3,>=2.5 in /usr/local/lib/python3.7/dist-packages (from requests->py-hanspell==1.1) (2.10)\n",
            "Requirement already satisfied: certifi>=2017.4.17 in /usr/local/lib/python3.7/dist-packages (from requests->py-hanspell==1.1) (2020.12.5)\n",
            "Requirement already satisfied: chardet<4,>=3.0.2 in /usr/local/lib/python3.7/dist-packages (from requests->py-hanspell==1.1) (3.0.4)\n",
            "Requirement already satisfied: urllib3!=1.25.0,!=1.25.1,<1.26,>=1.21.1 in /usr/local/lib/python3.7/dist-packages (from requests->py-hanspell==1.1) (1.24.3)\n",
            "Building wheels for collected packages: py-hanspell\n",
            "  Building wheel for py-hanspell (setup.py) ... \u001b[?25l\u001b[?25hdone\n",
            "  Created wheel for py-hanspell: filename=py_hanspell-1.1-cp37-none-any.whl size=4854 sha256=1465a3de196e43741f7c303f9369c97213aa916656c656aaf85ecbe107f8b6bd\n",
            "  Stored in directory: /tmp/pip-ephem-wheel-cache-lcmq5629/wheels/0a/25/d1/e5e96476dbb1c318cc26c992dd493394fe42b0c204b3e65588\n",
            "Successfully built py-hanspell\n",
            "Installing collected packages: py-hanspell\n",
            "Successfully installed py-hanspell-1.1\n"
          ],
          "name": "stdout"
        }
      ]
    },
    {
      "cell_type": "code",
      "metadata": {
        "colab": {
          "base_uri": "https://localhost:8080/",
          "height": 638,
          "referenced_widgets": [
            "991edee8188e4aad902efce65f97a97f",
            "874bce68809d4d2b8e85e524f86a02fa",
            "f1a0eabd6c514ee0964b84ff01c57127",
            "df8632e5a0974ec9b838b688ea702035",
            "0456ad68e8df4bd1b43c8ee3c879ed4f",
            "969a92756c024b998f591c3cc8bb4e6b",
            "cf3c1bbf2b044ac3b9bc4d5bc2e06c31",
            "c1ee46c102874782bd92daa067ad6666"
          ]
        },
        "id": "BC33xdtCvN2K",
        "outputId": "18afe841-b5fe-4eb6-90d5-acc74cd5e671"
      },
      "source": [
        "from hanspell import spell_checker\n",
        "from tqdm.notebook import tqdm\n",
        "\n",
        "data['checked'] = ''\n",
        "for i in tqdm(range(len(data))):\n",
        "  data['checked'][i] = spell_checker.check(data['All'][i]).as_dict()['checked'] \n",
        "data"
      ],
      "execution_count": 24,
      "outputs": [
        {
          "output_type": "display_data",
          "data": {
            "application/vnd.jupyter.widget-view+json": {
              "model_id": "991edee8188e4aad902efce65f97a97f",
              "version_minor": 0,
              "version_major": 2
            },
            "text/plain": [
              "HBox(children=(FloatProgress(value=0.0, max=2370.0), HTML(value='')))"
            ]
          },
          "metadata": {
            "tags": []
          }
        },
        {
          "output_type": "stream",
          "text": [
            "\n"
          ],
          "name": "stdout"
        },
        {
          "output_type": "execute_result",
          "data": {
            "text/html": [
              "<div>\n",
              "<style scoped>\n",
              "    .dataframe tbody tr th:only-of-type {\n",
              "        vertical-align: middle;\n",
              "    }\n",
              "\n",
              "    .dataframe tbody tr th {\n",
              "        vertical-align: top;\n",
              "    }\n",
              "\n",
              "    .dataframe thead th {\n",
              "        text-align: right;\n",
              "    }\n",
              "</style>\n",
              "<table border=\"1\" class=\"dataframe\">\n",
              "  <thead>\n",
              "    <tr style=\"text-align: right;\">\n",
              "      <th></th>\n",
              "      <th>level2</th>\n",
              "      <th>Chief complaint</th>\n",
              "      <th>Onset</th>\n",
              "      <th>Location</th>\n",
              "      <th>All</th>\n",
              "      <th>checked</th>\n",
              "    </tr>\n",
              "  </thead>\n",
              "  <tbody>\n",
              "    <tr>\n",
              "      <th>0</th>\n",
              "      <td>급성 복통</td>\n",
              "      <td>배가 아파요</td>\n",
              "      <td>1일전</td>\n",
              "      <td>명치 부위</td>\n",
              "      <td>배가 아파요. 1일전. 명치 부위</td>\n",
              "      <td>배가 아파요. 1일 전. 명치 부위</td>\n",
              "    </tr>\n",
              "    <tr>\n",
              "      <th>1</th>\n",
              "      <td>급성 복통</td>\n",
              "      <td>갑자기 배가 너무 아파요</td>\n",
              "      <td>오늘 새벽</td>\n",
              "      <td>명치에서 시작해 현재 복부 전체에 통증</td>\n",
              "      <td>갑자기 배가 너무 아파요. 오늘 새벽. 명치에서 시작해 현재 복부 전체에 통증</td>\n",
              "      <td>갑자기 배가 너무 아파요. 오늘 새벽. 명치에서 시작해 현재 복부 전체에 통증</td>\n",
              "    </tr>\n",
              "    <tr>\n",
              "      <th>2</th>\n",
              "      <td>급성 복통</td>\n",
              "      <td>속이 쓰려요</td>\n",
              "      <td>1달전</td>\n",
              "      <td>명치 부위</td>\n",
              "      <td>속이 쓰려요. 1달전. 명치 부위</td>\n",
              "      <td>속이 쓰려요. 1달 전. 명치 부위</td>\n",
              "    </tr>\n",
              "    <tr>\n",
              "      <th>3</th>\n",
              "      <td>급성 복통</td>\n",
              "      <td>속이 쓰려요</td>\n",
              "      <td>2달전</td>\n",
              "      <td>명치부위</td>\n",
              "      <td>속이 쓰려요. 2달전. 명치부위</td>\n",
              "      <td>속이 쓰려요. 2달 전. 명치 부위</td>\n",
              "    </tr>\n",
              "    <tr>\n",
              "      <th>4</th>\n",
              "      <td>급성 복통</td>\n",
              "      <td>배가 아파요</td>\n",
              "      <td>1시간전</td>\n",
              "      <td>명치부위</td>\n",
              "      <td>배가 아파요. 1시간전. 명치부위</td>\n",
              "      <td>배가 아파요. 1시간 전. 명치 부위</td>\n",
              "    </tr>\n",
              "    <tr>\n",
              "      <th>...</th>\n",
              "      <td>...</td>\n",
              "      <td>...</td>\n",
              "      <td>...</td>\n",
              "      <td>...</td>\n",
              "      <td>...</td>\n",
              "      <td>...</td>\n",
              "    </tr>\n",
              "    <tr>\n",
              "      <th>2365</th>\n",
              "      <td>토혈</td>\n",
              "      <td>피를 토했어요</td>\n",
              "      <td></td>\n",
              "      <td></td>\n",
              "      <td>피를 토했어요. .</td>\n",
              "      <td>피를 토했어요. .</td>\n",
              "    </tr>\n",
              "    <tr>\n",
              "      <th>2366</th>\n",
              "      <td>토혈</td>\n",
              "      <td>피를 토했어요</td>\n",
              "      <td></td>\n",
              "      <td></td>\n",
              "      <td>피를 토했어요. .</td>\n",
              "      <td>피를 토했어요. .</td>\n",
              "    </tr>\n",
              "    <tr>\n",
              "      <th>2367</th>\n",
              "      <td>토혈</td>\n",
              "      <td>피를 토했어요</td>\n",
              "      <td></td>\n",
              "      <td></td>\n",
              "      <td>피를 토했어요. .</td>\n",
              "      <td>피를 토했어요. .</td>\n",
              "    </tr>\n",
              "    <tr>\n",
              "      <th>2368</th>\n",
              "      <td>토혈</td>\n",
              "      <td>피 토했어요</td>\n",
              "      <td></td>\n",
              "      <td></td>\n",
              "      <td>피 토했어요. .</td>\n",
              "      <td>피 토했어요. .</td>\n",
              "    </tr>\n",
              "    <tr>\n",
              "      <th>2369</th>\n",
              "      <td>토혈</td>\n",
              "      <td>피 토했어요</td>\n",
              "      <td></td>\n",
              "      <td></td>\n",
              "      <td>피 토했어요. .</td>\n",
              "      <td>피 토했어요. .</td>\n",
              "    </tr>\n",
              "  </tbody>\n",
              "</table>\n",
              "<p>2370 rows × 6 columns</p>\n",
              "</div>"
            ],
            "text/plain": [
              "     level2 Chief complaint  Onset               Location  \\\n",
              "0     급성 복통          배가 아파요    1일전                  명치 부위   \n",
              "1     급성 복통   갑자기 배가 너무 아파요  오늘 새벽  명치에서 시작해 현재 복부 전체에 통증   \n",
              "2     급성 복통          속이 쓰려요    1달전                  명치 부위   \n",
              "3     급성 복통          속이 쓰려요    2달전                  명치부위    \n",
              "4     급성 복통          배가 아파요   1시간전                   명치부위   \n",
              "...     ...             ...    ...                    ...   \n",
              "2365     토혈         피를 토했어요                                 \n",
              "2366     토혈         피를 토했어요                                 \n",
              "2367     토혈         피를 토했어요                                 \n",
              "2368     토혈          피 토했어요                                 \n",
              "2369     토혈          피 토했어요                                 \n",
              "\n",
              "                                              All  \\\n",
              "0                              배가 아파요. 1일전. 명치 부위   \n",
              "1     갑자기 배가 너무 아파요. 오늘 새벽. 명치에서 시작해 현재 복부 전체에 통증   \n",
              "2                              속이 쓰려요. 1달전. 명치 부위   \n",
              "3                              속이 쓰려요. 2달전. 명치부위    \n",
              "4                              배가 아파요. 1시간전. 명치부위   \n",
              "...                                           ...   \n",
              "2365                                  피를 토했어요. .    \n",
              "2366                                  피를 토했어요. .    \n",
              "2367                                  피를 토했어요. .    \n",
              "2368                                   피 토했어요. .    \n",
              "2369                                   피 토했어요. .    \n",
              "\n",
              "                                          checked  \n",
              "0                             배가 아파요. 1일 전. 명치 부위  \n",
              "1     갑자기 배가 너무 아파요. 오늘 새벽. 명치에서 시작해 현재 복부 전체에 통증  \n",
              "2                             속이 쓰려요. 1달 전. 명치 부위  \n",
              "3                             속이 쓰려요. 2달 전. 명치 부위  \n",
              "4                            배가 아파요. 1시간 전. 명치 부위  \n",
              "...                                           ...  \n",
              "2365                                  피를 토했어요. .   \n",
              "2366                                  피를 토했어요. .   \n",
              "2367                                  피를 토했어요. .   \n",
              "2368                                   피 토했어요. .   \n",
              "2369                                   피 토했어요. .   \n",
              "\n",
              "[2370 rows x 6 columns]"
            ]
          },
          "metadata": {
            "tags": []
          },
          "execution_count": 24
        }
      ]
    },
    {
      "cell_type": "code",
      "metadata": {
        "id": "xNZojIZb1T_C"
      },
      "source": [
        ""
      ],
      "execution_count": 24,
      "outputs": []
    },
    {
      "cell_type": "markdown",
      "metadata": {
        "id": "Te69yuoUs69W"
      },
      "source": [
        "## 5) Erase stopwords using konlpy"
      ]
    },
    {
      "cell_type": "code",
      "metadata": {
        "colab": {
          "base_uri": "https://localhost:8080/"
        },
        "id": "bcJRG1SLs6Qn",
        "outputId": "01a74f8a-aeb4-412e-bb86-231945ca7a79"
      },
      "source": [
        "!pip install konlpy\n",
        "import konlpy.tag\n",
        "okt = konlpy.tag.Okt() # 객체 생성"
      ],
      "execution_count": 25,
      "outputs": [
        {
          "output_type": "stream",
          "text": [
            "Collecting konlpy\n",
            "\u001b[?25l  Downloading https://files.pythonhosted.org/packages/85/0e/f385566fec837c0b83f216b2da65db9997b35dd675e107752005b7d392b1/konlpy-0.5.2-py2.py3-none-any.whl (19.4MB)\n",
            "\u001b[K     |████████████████████████████████| 19.4MB 1.2MB/s \n",
            "\u001b[?25hCollecting beautifulsoup4==4.6.0\n",
            "\u001b[?25l  Downloading https://files.pythonhosted.org/packages/9e/d4/10f46e5cfac773e22707237bfcd51bbffeaf0a576b0a847ec7ab15bd7ace/beautifulsoup4-4.6.0-py3-none-any.whl (86kB)\n",
            "\u001b[K     |████████████████████████████████| 92kB 8.2MB/s \n",
            "\u001b[?25hCollecting JPype1>=0.7.0\n",
            "\u001b[?25l  Downloading https://files.pythonhosted.org/packages/cd/a5/9781e2ef4ca92d09912c4794642c1653aea7607f473e156cf4d423a881a1/JPype1-1.2.1-cp37-cp37m-manylinux2010_x86_64.whl (457kB)\n",
            "\u001b[K     |████████████████████████████████| 460kB 39.7MB/s \n",
            "\u001b[?25hRequirement already satisfied: lxml>=4.1.0 in /usr/local/lib/python3.7/dist-packages (from konlpy) (4.2.6)\n",
            "Requirement already satisfied: numpy>=1.6 in /usr/local/lib/python3.7/dist-packages (from konlpy) (1.19.5)\n",
            "Collecting colorama\n",
            "  Downloading https://files.pythonhosted.org/packages/44/98/5b86278fbbf250d239ae0ecb724f8572af1c91f4a11edf4d36a206189440/colorama-0.4.4-py2.py3-none-any.whl\n",
            "Requirement already satisfied: tweepy>=3.7.0 in /usr/local/lib/python3.7/dist-packages (from konlpy) (3.10.0)\n",
            "Requirement already satisfied: typing-extensions; python_version < \"3.8\" in /usr/local/lib/python3.7/dist-packages (from JPype1>=0.7.0->konlpy) (3.7.4.3)\n",
            "Requirement already satisfied: requests[socks]>=2.11.1 in /usr/local/lib/python3.7/dist-packages (from tweepy>=3.7.0->konlpy) (2.23.0)\n",
            "Requirement already satisfied: requests-oauthlib>=0.7.0 in /usr/local/lib/python3.7/dist-packages (from tweepy>=3.7.0->konlpy) (1.3.0)\n",
            "Requirement already satisfied: six>=1.10.0 in /usr/local/lib/python3.7/dist-packages (from tweepy>=3.7.0->konlpy) (1.15.0)\n",
            "Requirement already satisfied: certifi>=2017.4.17 in /usr/local/lib/python3.7/dist-packages (from requests[socks]>=2.11.1->tweepy>=3.7.0->konlpy) (2020.12.5)\n",
            "Requirement already satisfied: chardet<4,>=3.0.2 in /usr/local/lib/python3.7/dist-packages (from requests[socks]>=2.11.1->tweepy>=3.7.0->konlpy) (3.0.4)\n",
            "Requirement already satisfied: idna<3,>=2.5 in /usr/local/lib/python3.7/dist-packages (from requests[socks]>=2.11.1->tweepy>=3.7.0->konlpy) (2.10)\n",
            "Requirement already satisfied: urllib3!=1.25.0,!=1.25.1,<1.26,>=1.21.1 in /usr/local/lib/python3.7/dist-packages (from requests[socks]>=2.11.1->tweepy>=3.7.0->konlpy) (1.24.3)\n",
            "Requirement already satisfied: PySocks!=1.5.7,>=1.5.6; extra == \"socks\" in /usr/local/lib/python3.7/dist-packages (from requests[socks]>=2.11.1->tweepy>=3.7.0->konlpy) (1.7.1)\n",
            "Requirement already satisfied: oauthlib>=3.0.0 in /usr/local/lib/python3.7/dist-packages (from requests-oauthlib>=0.7.0->tweepy>=3.7.0->konlpy) (3.1.0)\n",
            "Installing collected packages: beautifulsoup4, JPype1, colorama, konlpy\n",
            "  Found existing installation: beautifulsoup4 4.6.3\n",
            "    Uninstalling beautifulsoup4-4.6.3:\n",
            "      Successfully uninstalled beautifulsoup4-4.6.3\n",
            "Successfully installed JPype1-1.2.1 beautifulsoup4-4.6.0 colorama-0.4.4 konlpy-0.5.2\n"
          ],
          "name": "stdout"
        }
      ]
    },
    {
      "cell_type": "code",
      "metadata": {
        "id": "dqz4eN-StHe8"
      },
      "source": [
        "stopwords = ['의', '가', '이', '은', '들', '는', '좀', '잘', '걍', '과', '도', '을',\n",
        "             '를', '으로', '자', '에', '와', '하다', '요', '다', '.', ',']"
      ],
      "execution_count": 26,
      "outputs": []
    },
    {
      "cell_type": "code",
      "metadata": {
        "id": "O_bVunfMtHTD"
      },
      "source": [
        "import re\n",
        "\n",
        "def erase_stopwords(text):\n",
        "  X_train =[]\n",
        "  temp_x = okt.morphs(text, stem=True)\n",
        "  #print(temp_x)\n",
        "  temp_x = [word for word in temp_x if not word in stopwords]\n",
        "  temp_x = re.findall(r'\\w+', str(temp_x))\n",
        "  X_train.append(temp_x)\n",
        "  #print(X_train)\n",
        "  temp_x = ' '.join(map(str, X_train))\n",
        "  \n",
        "  return ' '.join(re.findall(r'\\w+', str(temp_x)))"
      ],
      "execution_count": 27,
      "outputs": []
    },
    {
      "cell_type": "code",
      "metadata": {
        "id": "xGKPfK7gyEDd"
      },
      "source": [
        "data['checked'] = data.apply(lambda x : erase_stopwords(x['checked']) , axis = 1 )"
      ],
      "execution_count": 28,
      "outputs": []
    },
    {
      "cell_type": "markdown",
      "metadata": {
        "id": "r-wopB242rKD"
      },
      "source": [
        "# 2. Generate feature\n",
        "https://datascience.stackexchange.com/questions/74688/how-to-use-multiple-text-features-for-nlp-classifier"
      ]
    },
    {
      "cell_type": "code",
      "metadata": {
        "id": "W14fohrMMrxG"
      },
      "source": [
        "data_level2 = data.pop('level2')"
      ],
      "execution_count": 29,
      "outputs": []
    },
    {
      "cell_type": "code",
      "metadata": {
        "id": "7hRUNfxPmOj7"
      },
      "source": [
        "from sklearn.model_selection import train_test_split\n",
        "\n",
        "ori_X_train, ori_X_test, ori_y_train, ori_y_test = train_test_split(data, data_level2, random_state = 0)"
      ],
      "execution_count": 30,
      "outputs": []
    },
    {
      "cell_type": "code",
      "metadata": {
        "colab": {
          "base_uri": "https://localhost:8080/",
          "height": 487
        },
        "id": "8EiM2ZLgt1Rr",
        "outputId": "8e915545-94d4-4335-ec9f-eca5e959a3ad"
      },
      "source": [
        "ori_X_train"
      ],
      "execution_count": 31,
      "outputs": [
        {
          "output_type": "execute_result",
          "data": {
            "text/html": [
              "<div>\n",
              "<style scoped>\n",
              "    .dataframe tbody tr th:only-of-type {\n",
              "        vertical-align: middle;\n",
              "    }\n",
              "\n",
              "    .dataframe tbody tr th {\n",
              "        vertical-align: top;\n",
              "    }\n",
              "\n",
              "    .dataframe thead th {\n",
              "        text-align: right;\n",
              "    }\n",
              "</style>\n",
              "<table border=\"1\" class=\"dataframe\">\n",
              "  <thead>\n",
              "    <tr style=\"text-align: right;\">\n",
              "      <th></th>\n",
              "      <th>Chief complaint</th>\n",
              "      <th>Onset</th>\n",
              "      <th>Location</th>\n",
              "      <th>All</th>\n",
              "      <th>checked</th>\n",
              "    </tr>\n",
              "  </thead>\n",
              "  <tbody>\n",
              "    <tr>\n",
              "      <th>596</th>\n",
              "      <td>피부 발진</td>\n",
              "      <td>3개월전</td>\n",
              "      <td>피부</td>\n",
              "      <td>피부 발진. 3개월전. 피부</td>\n",
              "      <td>피부 발진 3 개월 전 피부</td>\n",
              "    </tr>\n",
              "    <tr>\n",
              "      <th>77</th>\n",
              "      <td>배가 아파요</td>\n",
              "      <td>2일전</td>\n",
              "      <td>우측복부</td>\n",
              "      <td>배가 아파요 . 2일전. 우측복부</td>\n",
              "      <td>배 아프다 2일 전 우측 복부</td>\n",
              "    </tr>\n",
              "    <tr>\n",
              "      <th>2156</th>\n",
              "      <td>피를 토했어요</td>\n",
              "      <td>6시간 전</td>\n",
              "      <td></td>\n",
              "      <td>피를 토했어요. 6시간 전.</td>\n",
              "      <td>피 토 6시간 전</td>\n",
              "    </tr>\n",
              "    <tr>\n",
              "      <th>393</th>\n",
              "      <td>얼굴이 노래요</td>\n",
              "      <td>2일전</td>\n",
              "      <td></td>\n",
              "      <td>얼굴이 노래요. 2일전.</td>\n",
              "      <td>얼굴 노래 2일 전</td>\n",
              "    </tr>\n",
              "    <tr>\n",
              "      <th>2180</th>\n",
              "      <td>피 토했어요</td>\n",
              "      <td>5시간 전</td>\n",
              "      <td></td>\n",
              "      <td>피 토했어요. 5시간 전.</td>\n",
              "      <td>피 토 5시간 전</td>\n",
              "    </tr>\n",
              "    <tr>\n",
              "      <th>...</th>\n",
              "      <td>...</td>\n",
              "      <td>...</td>\n",
              "      <td>...</td>\n",
              "      <td>...</td>\n",
              "      <td>...</td>\n",
              "    </tr>\n",
              "    <tr>\n",
              "      <th>1033</th>\n",
              "      <td>걸으면 숨이 많이 차요</td>\n",
              "      <td>3달전</td>\n",
              "      <td></td>\n",
              "      <td>걸으면 숨이 많이 차요. 3달전.</td>\n",
              "      <td>걸다 숨 많이 차요 3 달 전</td>\n",
              "    </tr>\n",
              "    <tr>\n",
              "      <th>1731</th>\n",
              "      <td>얼굴이 노래요</td>\n",
              "      <td>한달전</td>\n",
              "      <td>얼굴, 사지</td>\n",
              "      <td>얼굴이 노래요. 한달전. 얼굴, 사지</td>\n",
              "      <td>얼굴 노래 달 전 얼굴 사지</td>\n",
              "    </tr>\n",
              "    <tr>\n",
              "      <th>763</th>\n",
              "      <td>\"소변이 붉어요\"</td>\n",
              "      <td>어제 아침</td>\n",
              "      <td></td>\n",
              "      <td>\"소변이 붉어요\". 어제 아침.</td>\n",
              "      <td>소변 붉다 어제 아침</td>\n",
              "    </tr>\n",
              "    <tr>\n",
              "      <th>835</th>\n",
              "      <td>\"자주 소변이 새요\"</td>\n",
              "      <td>7년 전부터 조금씩 서서히 발생</td>\n",
              "      <td></td>\n",
              "      <td>\"자주 소변이 새요\". 7년 전부터 조금씩 서서히 발생.</td>\n",
              "      <td>자주 소변 새 7년 전 부터 조금씩 서서히 발생</td>\n",
              "    </tr>\n",
              "    <tr>\n",
              "      <th>1653</th>\n",
              "      <td>눈이 노랗게 됐어요</td>\n",
              "      <td>3시간 전</td>\n",
              "      <td>눈(흰자)</td>\n",
              "      <td>눈이 노랗게 됐어요. 3시간 전. 눈(흰자)</td>\n",
              "      <td>눈 노랗다 돼다 3시간 전 눈 흰자</td>\n",
              "    </tr>\n",
              "  </tbody>\n",
              "</table>\n",
              "<p>1777 rows × 5 columns</p>\n",
              "</div>"
            ],
            "text/plain": [
              "     Chief complaint              Onset Location  \\\n",
              "596            피부 발진               3개월전       피부   \n",
              "77           배가 아파요                 2일전     우측복부   \n",
              "2156         피를 토했어요              6시간 전            \n",
              "393          얼굴이 노래요                2일전            \n",
              "2180          피 토했어요              5시간 전            \n",
              "...              ...                ...      ...   \n",
              "1033    걸으면 숨이 많이 차요                3달전            \n",
              "1731         얼굴이 노래요                한달전   얼굴, 사지   \n",
              "763        \"소변이 붉어요\"              어제 아침            \n",
              "835      \"자주 소변이 새요\"  7년 전부터 조금씩 서서히 발생            \n",
              "1653      눈이 노랗게 됐어요              3시간 전    눈(흰자)   \n",
              "\n",
              "                                   All                     checked  \n",
              "596                    피부 발진. 3개월전. 피부             피부 발진 3 개월 전 피부  \n",
              "77                  배가 아파요 . 2일전. 우측복부            배 아프다 2일 전 우측 복부  \n",
              "2156                  피를 토했어요. 6시간 전.                    피 토 6시간 전  \n",
              "393                     얼굴이 노래요. 2일전.                   얼굴 노래 2일 전  \n",
              "2180                   피 토했어요. 5시간 전.                    피 토 5시간 전  \n",
              "...                                ...                         ...  \n",
              "1033               걸으면 숨이 많이 차요. 3달전.             걸다 숨 많이 차요 3 달 전  \n",
              "1731              얼굴이 노래요. 한달전. 얼굴, 사지             얼굴 노래 달 전 얼굴 사지  \n",
              "763                 \"소변이 붉어요\". 어제 아침.                  소변 붉다 어제 아침  \n",
              "835   \"자주 소변이 새요\". 7년 전부터 조금씩 서서히 발생.   자주 소변 새 7년 전 부터 조금씩 서서히 발생  \n",
              "1653          눈이 노랗게 됐어요. 3시간 전. 눈(흰자)         눈 노랗다 돼다 3시간 전 눈 흰자  \n",
              "\n",
              "[1777 rows x 5 columns]"
            ]
          },
          "metadata": {
            "tags": []
          },
          "execution_count": 31
        }
      ]
    },
    {
      "cell_type": "code",
      "metadata": {
        "id": "7w9QGtCoknqZ"
      },
      "source": [
        "from sklearn.feature_extraction.text import TfidfVectorizer\n",
        "\n",
        "vectorizer = TfidfVectorizer()\n",
        "X_train_tfidf = vectorizer.fit_transform(ori_X_train['checked'])\n",
        "\n",
        "# for test\n",
        "X_test_tfidf = vectorizer.transform(ori_X_test['checked'])"
      ],
      "execution_count": 32,
      "outputs": []
    },
    {
      "cell_type": "code",
      "metadata": {
        "colab": {
          "base_uri": "https://localhost:8080/"
        },
        "id": "ejLOT3BpsAeR",
        "outputId": "824f9e25-553f-4b59-9b65-9150478bc368"
      },
      "source": [
        "data_level2.value_counts()"
      ],
      "execution_count": 33,
      "outputs": [
        {
          "output_type": "execute_result",
          "data": {
            "text/plain": [
              "황달            495\n",
              "토혈            400\n",
              "호흡곤란          120\n",
              "월경이상/월경통      100\n",
              "급성 복통          95\n",
              "목 통증/허리 통증     80\n",
              "관절 통증          75\n",
              "유방통/유방덩이       70\n",
              "가슴통증           66\n",
              "실신             65\n",
              "붉은색 소변         60\n",
              "배뇨 이상          60\n",
              "기침             60\n",
              "구토             60\n",
              "두근거림           55\n",
              "소화불량/만성 복통     55\n",
              "객혈             50\n",
              "피부발진           50\n",
              "핍뇨             50\n",
              "설사             45\n",
              "고혈압            43\n",
              "혈변             40\n",
              "다뇨증            40\n",
              "콧물/코막힘         40\n",
              "소변찔끔증          36\n",
              "질 분비물          30\n",
              "변비             30\n",
              "Name: level2, dtype: int64"
            ]
          },
          "metadata": {
            "tags": []
          },
          "execution_count": 33
        }
      ]
    },
    {
      "cell_type": "markdown",
      "metadata": {
        "id": "A49focVK0vUn"
      },
      "source": [
        "# Model"
      ]
    },
    {
      "cell_type": "code",
      "metadata": {
        "colab": {
          "base_uri": "https://localhost:8080/"
        },
        "id": "FXaXElNOpjM2",
        "outputId": "240c0565-90f5-4487-8c30-0baa465e97ea"
      },
      "source": [
        "from sklearn.naive_bayes import MultinomialNB # 다중 Naive Bayes 분류기\n",
        "from sklearn.ensemble import RandomForestClassifier\n",
        "#from sklearn.ensemble import GradientBoostingClassifier\n",
        "from sklearn.model_selection import GridSearchCV\n",
        "from sklearn.metrics import accuracy_score\n",
        "\n",
        "param_grid = {\n",
        "    'max_depth': [45, 50, 60, 70],\n",
        "    'n_estimators': [20, 50, 100],\n",
        "    'min_samples_split': [0.01, 0.05, 0.1],\n",
        "}\n",
        "\n",
        "clf = RandomForestClassifier(random_state=0, class_weight=\"balanced\")\n",
        "\n",
        "grid = GridSearchCV(clf, param_grid=param_grid, cv=3, refit=True)\n",
        "\n",
        "grid.fit(X_train_tfidf, ori_y_train)\n",
        "\n",
        "print('GridSearchCV best parameters:', grid.best_params_)\n",
        "print('GridSearchCV best acc: {0:.2f}'.format(grid.best_score_))\n",
        "\n",
        "estimator = grid.best_estimator_\n",
        "pred_labels = estimator.predict(X_test_tfidf)\n",
        "\n",
        "#clf = RandomForestClassifier(max_depth=60, random_state=0)\n",
        "#clf = GradientBoostingClassifier(n_estimators=100, learning_rate=1.0,\n",
        "#                                 max_depth=30, random_state=0)\n",
        "\n",
        "#ml_model = nb.fit(X_train_tfidf, ori_y_train) # 학습\n",
        "#ml_model = clf.fit(X_train_tfidf, ori_y_train) # 학습\n",
        "#train_pred_labels = ml_model.predict(X_train_tfidf) # 학습된 모델로 예측\n",
        "#pred_labels = ml_model.predict(X_test_tfidf) # 학습된 모델로 예측\n",
        "\n",
        "#print('Number of misclassified diseased of train data : {} out of {}'.format((train_pred_labels != ori_y_train).sum(), len(ori_y_train)))\n",
        "#print('Accuracy train : %.2f' % accuracy_score(ori_y_train, train_pred_labels))\n",
        "\n",
        "print('Number of misclassified diseased of test data : {} out of {}'.format((pred_labels != ori_y_test).sum(), len(ori_y_test)))\n",
        "print('Accuracy test : %.2f' % accuracy_score(ori_y_test, pred_labels))"
      ],
      "execution_count": 34,
      "outputs": [
        {
          "output_type": "stream",
          "text": [
            "GridSearchCV best parameters: {'max_depth': 60, 'min_samples_split': 0.01, 'n_estimators': 100}\n",
            "GridSearchCV best acc: 0.97\n",
            "Number of misclassified diseased of test data : 19 out of 593\n",
            "Accuracy test : 0.97\n"
          ],
          "name": "stdout"
        }
      ]
    },
    {
      "cell_type": "code",
      "metadata": {
        "id": "CYZrjRe3svmI"
      },
      "source": [
        "#location 제외\n",
        "\n",
        "#class weight\n",
        "#GridSearchCV best parameters: {'max_depth': 60, 'min_samples_split': 0.01, 'n_estimators': 50}\n",
        "#GridSearchCV best acc: 0.97\n",
        "#Number of misclassified diseased of test data : 33 out of 563\n",
        "#Accuracy test : 0.94\n",
        "#top_k_result: 0.9840"
      ],
      "execution_count": 35,
      "outputs": []
    },
    {
      "cell_type": "code",
      "metadata": {
        "id": "lkSAOg2ttsxI"
      },
      "source": [
        "test_dummies = pd.get_dummies(ori_y_test)"
      ],
      "execution_count": 36,
      "outputs": []
    },
    {
      "cell_type": "code",
      "metadata": {
        "id": "WfUf9H-NtskP"
      },
      "source": [
        "def top_k_hitrate(predicted_proba, n=2):\n",
        "\n",
        "  eval_metric = []\n",
        "  top_k_result = tf.math.top_k(predicted_proba, k=n, sorted=True)\n",
        "  for i in range(len(top_k_result[1])):\n",
        "    first = top_k_result[1][i][0]\n",
        "    second = top_k_result[1][i][1]\n",
        "#    third = top_k_result[1][i][2]\n",
        "\n",
        "    if ori_y_test.iloc[i] in (test_dummies.columns[first],\n",
        "                              test_dummies.columns[second]):\n",
        "#                              test_dummies.columns[third]):\n",
        "      eval_metric.append(1)\n",
        "    else:\n",
        "      eval_metric.append(0)\n",
        "\n",
        "  return np.mean(eval_metric)"
      ],
      "execution_count": 37,
      "outputs": []
    },
    {
      "cell_type": "code",
      "metadata": {
        "colab": {
          "base_uri": "https://localhost:8080/"
        },
        "id": "ULsDxnkHNsD0",
        "outputId": "7be1145d-6ffe-4f7c-995f-11e1368bc59e"
      },
      "source": [
        "print(\"top_k_result: {:.4f}\".format(top_k_hitrate(estimator.predict_proba(X_test_tfidf), n=2)))"
      ],
      "execution_count": 38,
      "outputs": [
        {
          "output_type": "stream",
          "text": [
            "top_k_result: 0.9949\n"
          ],
          "name": "stdout"
        }
      ]
    },
    {
      "cell_type": "code",
      "metadata": {
        "colab": {
          "base_uri": "https://localhost:8080/"
        },
        "id": "yZCrx82xPS9o",
        "outputId": "95693aea-dcd7-4ab2-d84c-22f03ee318d3"
      },
      "source": [
        "tf.math.top_k(estimator.predict_proba(X_test_tfidf), k=2)"
      ],
      "execution_count": 39,
      "outputs": [
        {
          "output_type": "execute_result",
          "data": {
            "text/plain": [
              "TopKV2(values=<tf.Tensor: shape=(593, 2), dtype=float64, numpy=\n",
              "array([[0.97172474, 0.01310454],\n",
              "       [0.87823167, 0.02846205],\n",
              "       [0.96368616, 0.03258159],\n",
              "       ...,\n",
              "       [1.        , 0.        ],\n",
              "       [0.77210034, 0.16185442],\n",
              "       [0.76581544, 0.15882421]])>, indices=<tf.Tensor: shape=(593, 2), dtype=int32, numpy=\n",
              "array([[22, 17],\n",
              "       [ 3,  0],\n",
              "       [24,  7],\n",
              "       ...,\n",
              "       [ 2,  0],\n",
              "       [ 9,  3],\n",
              "       [18,  0]], dtype=int32)>)"
            ]
          },
          "metadata": {
            "tags": []
          },
          "execution_count": 39
        }
      ]
    },
    {
      "cell_type": "code",
      "metadata": {
        "colab": {
          "base_uri": "https://localhost:8080/",
          "height": 638
        },
        "id": "26NafWHZuAS1",
        "outputId": "5794fda5-4c41-4ce3-c3b5-6b23d8e057b7"
      },
      "source": [
        "ori_y_test = np.asarray(ori_y_test)\n",
        "misclassified = np.where(ori_y_test != estimator.predict(X_test_tfidf))\n",
        "\n",
        "pd.concat([pd.DataFrame(ori_y_test[misclassified], columns=[\"True value\"]),\n",
        "          pd.DataFrame(estimator.predict(X_test_tfidf)[misclassified], columns=[\"Predict\"]),\n",
        "           pd.DataFrame(ori_X_test['All'].iloc[misclassified]).reset_index(drop=True)],\n",
        "          axis=1)"
      ],
      "execution_count": 40,
      "outputs": [
        {
          "output_type": "execute_result",
          "data": {
            "text/html": [
              "<div>\n",
              "<style scoped>\n",
              "    .dataframe tbody tr th:only-of-type {\n",
              "        vertical-align: middle;\n",
              "    }\n",
              "\n",
              "    .dataframe tbody tr th {\n",
              "        vertical-align: top;\n",
              "    }\n",
              "\n",
              "    .dataframe thead th {\n",
              "        text-align: right;\n",
              "    }\n",
              "</style>\n",
              "<table border=\"1\" class=\"dataframe\">\n",
              "  <thead>\n",
              "    <tr style=\"text-align: right;\">\n",
              "      <th></th>\n",
              "      <th>True value</th>\n",
              "      <th>Predict</th>\n",
              "      <th>All</th>\n",
              "    </tr>\n",
              "  </thead>\n",
              "  <tbody>\n",
              "    <tr>\n",
              "      <th>0</th>\n",
              "      <td>관절 통증</td>\n",
              "      <td>목 통증/허리 통증</td>\n",
              "      <td>허리 아파요. 2년전. 허리</td>\n",
              "    </tr>\n",
              "    <tr>\n",
              "      <th>1</th>\n",
              "      <td>유방통/유방덩이</td>\n",
              "      <td>가슴통증</td>\n",
              "      <td>오른쪽 가슴이 아파요. 한달 반 전. 오른쪽</td>\n",
              "    </tr>\n",
              "    <tr>\n",
              "      <th>2</th>\n",
              "      <td>급성 복통</td>\n",
              "      <td>소화불량/만성 복통</td>\n",
              "      <td>속이 쓰려요. 1주전. 배꼽주변</td>\n",
              "    </tr>\n",
              "    <tr>\n",
              "      <th>3</th>\n",
              "      <td>객혈</td>\n",
              "      <td>토혈</td>\n",
              "      <td>피를 토했어요. 2시간전.</td>\n",
              "    </tr>\n",
              "    <tr>\n",
              "      <th>4</th>\n",
              "      <td>배뇨 이상</td>\n",
              "      <td>소변찔끔증</td>\n",
              "      <td>\"소변이 자주 마려워요\". 약 6개월 전부터 서서히 시작됨. 종이컵 1잔 분량/회</td>\n",
              "    </tr>\n",
              "    <tr>\n",
              "      <th>5</th>\n",
              "      <td>급성 복통</td>\n",
              "      <td>관절 통증</td>\n",
              "      <td>갑자기 배가 너무 아파요. 오늘 새벽. 명치에서 시작해 현재 복부 전체에 통증</td>\n",
              "    </tr>\n",
              "    <tr>\n",
              "      <th>6</th>\n",
              "      <td>월경이상/월경통</td>\n",
              "      <td>토혈</td>\n",
              "      <td>질에서 피가 나와요. 7시간 전.</td>\n",
              "    </tr>\n",
              "    <tr>\n",
              "      <th>7</th>\n",
              "      <td>토혈</td>\n",
              "      <td>객혈</td>\n",
              "      <td>피 토했어요. 2일 전.</td>\n",
              "    </tr>\n",
              "    <tr>\n",
              "      <th>8</th>\n",
              "      <td>목 통증/허리 통증</td>\n",
              "      <td>관절 통증</td>\n",
              "      <td>허리 아파요. 3년전. 허리</td>\n",
              "    </tr>\n",
              "    <tr>\n",
              "      <th>9</th>\n",
              "      <td>급성 복통</td>\n",
              "      <td>소화불량/만성 복통</td>\n",
              "      <td>속이 쓰려요. 1일전. 배꼽주면</td>\n",
              "    </tr>\n",
              "    <tr>\n",
              "      <th>10</th>\n",
              "      <td>관절 통증</td>\n",
              "      <td>목 통증/허리 통증</td>\n",
              "      <td>허리 아파요. 2일전. 허리</td>\n",
              "    </tr>\n",
              "    <tr>\n",
              "      <th>11</th>\n",
              "      <td>급성 복통</td>\n",
              "      <td>소화불량/만성 복통</td>\n",
              "      <td>배가 아파요. 3시간전. 상복부</td>\n",
              "    </tr>\n",
              "    <tr>\n",
              "      <th>12</th>\n",
              "      <td>두근거림</td>\n",
              "      <td>토혈</td>\n",
              "      <td>심장이 쿵 해요. 5일 전.</td>\n",
              "    </tr>\n",
              "    <tr>\n",
              "      <th>13</th>\n",
              "      <td>붉은색 소변</td>\n",
              "      <td>토혈</td>\n",
              "      <td>\"혈뇨가 나와요\". 오늘 아침.</td>\n",
              "    </tr>\n",
              "    <tr>\n",
              "      <th>14</th>\n",
              "      <td>급성 복통</td>\n",
              "      <td>소화불량/만성 복통</td>\n",
              "      <td>배가 아파요. 1시간전. 명치부위</td>\n",
              "    </tr>\n",
              "    <tr>\n",
              "      <th>15</th>\n",
              "      <td>급성 복통</td>\n",
              "      <td>소화불량/만성 복통</td>\n",
              "      <td>배가 아파요. 1주전. 우상복부</td>\n",
              "    </tr>\n",
              "    <tr>\n",
              "      <th>16</th>\n",
              "      <td>토혈</td>\n",
              "      <td>월경이상/월경통</td>\n",
              "      <td>토에서 피가 나와요. 6시간 전.</td>\n",
              "    </tr>\n",
              "    <tr>\n",
              "      <th>17</th>\n",
              "      <td>토혈</td>\n",
              "      <td>월경이상/월경통</td>\n",
              "      <td>토에서 피가 나와요. 하루 전.</td>\n",
              "    </tr>\n",
              "    <tr>\n",
              "      <th>18</th>\n",
              "      <td>급성 복통</td>\n",
              "      <td>소화불량/만성 복통</td>\n",
              "      <td>배가 아파요 . 1주전. 우상복부</td>\n",
              "    </tr>\n",
              "  </tbody>\n",
              "</table>\n",
              "</div>"
            ],
            "text/plain": [
              "    True value     Predict                                            All\n",
              "0        관절 통증  목 통증/허리 통증                                허리 아파요. 2년전. 허리\n",
              "1     유방통/유방덩이        가슴통증                       오른쪽 가슴이 아파요. 한달 반 전. 오른쪽\n",
              "2        급성 복통  소화불량/만성 복통                              속이 쓰려요. 1주전. 배꼽주변\n",
              "3           객혈          토혈                                피를 토했어요. 2시간전. \n",
              "4        배뇨 이상       소변찔끔증  \"소변이 자주 마려워요\". 약 6개월 전부터 서서히 시작됨. 종이컵 1잔 분량/회\n",
              "5        급성 복통       관절 통증    갑자기 배가 너무 아파요. 오늘 새벽. 명치에서 시작해 현재 복부 전체에 통증\n",
              "6     월경이상/월경통          토혈                            질에서 피가 나와요. 7시간 전. \n",
              "7           토혈          객혈                                 피 토했어요. 2일 전. \n",
              "8   목 통증/허리 통증       관절 통증                                허리 아파요. 3년전. 허리\n",
              "9        급성 복통  소화불량/만성 복통                              속이 쓰려요. 1일전. 배꼽주면\n",
              "10       관절 통증  목 통증/허리 통증                                허리 아파요. 2일전. 허리\n",
              "11       급성 복통  소화불량/만성 복통                              배가 아파요. 3시간전. 상복부\n",
              "12        두근거림          토혈                               심장이 쿵 해요. 5일 전. \n",
              "13      붉은색 소변          토혈                             \"혈뇨가 나와요\". 오늘 아침. \n",
              "14       급성 복통  소화불량/만성 복통                             배가 아파요. 1시간전. 명치부위\n",
              "15       급성 복통  소화불량/만성 복통                              배가 아파요. 1주전. 우상복부\n",
              "16          토혈    월경이상/월경통                            토에서 피가 나와요. 6시간 전. \n",
              "17          토혈    월경이상/월경통                             토에서 피가 나와요. 하루 전. \n",
              "18       급성 복통  소화불량/만성 복통                             배가 아파요 . 1주전. 우상복부"
            ]
          },
          "metadata": {
            "tags": []
          },
          "execution_count": 40
        }
      ]
    },
    {
      "cell_type": "markdown",
      "metadata": {
        "id": "tuQIruH70rNN"
      },
      "source": [
        "# Save Models"
      ]
    },
    {
      "cell_type": "code",
      "metadata": {
        "id": "ZX9hnoSFzQc5"
      },
      "source": [
        "# Save ML model\n",
        "import pickle\n",
        "\n",
        "with open('level2_estimator.pkl', 'wb') as file:\n",
        "    pickle.dump(estimator, file)\n",
        "\n",
        "with open(\"level2_dummies.txt\", \"wb\") as fp:\n",
        "  pickle.dump(pd.get_dummies(a['disease']).columns, fp)\n",
        "\n",
        "with open(\"level2_tfidf_vectorizer.pkl\", 'wb') as fw:\n",
        "     pickle.dump(vectorizer, fw)"
      ],
      "execution_count": 41,
      "outputs": []
    },
    {
      "cell_type": "markdown",
      "metadata": {
        "id": "so3UkMYH1bBr"
      },
      "source": [
        "# For test"
      ]
    },
    {
      "cell_type": "code",
      "metadata": {
        "id": "b6pf-JGWzQJp"
      },
      "source": [
        "import pickle\n",
        "\n",
        "with open('level2_tfidf_vectorizer.pkl', 'rb') as b:\n",
        "    tfidf = pickle.load(b)\n",
        "\n",
        "with open('level2_estimator.pkl', 'rb') as c:\n",
        "    load_model = pickle.load(c)\n",
        "\n",
        "with open('level2_dummies.txt', 'rb') as d:\n",
        "    dummies = pickle.load(d)"
      ],
      "execution_count": 42,
      "outputs": []
    },
    {
      "cell_type": "code",
      "metadata": {
        "colab": {
          "base_uri": "https://localhost:8080/",
          "height": 80
        },
        "id": "Yt8JJQZG1ayg",
        "outputId": "f9b49879-56bd-42bd-997c-6396871b2641"
      },
      "source": [
        "test_df = {'Chief complaint': '속이 자주 쓰려요',\n",
        "           'Onset' : '일주일전',\n",
        "           'Location': '명치'}\n",
        "\n",
        "new_data = pd.DataFrame([test_df])\n",
        "new_data"
      ],
      "execution_count": 43,
      "outputs": [
        {
          "output_type": "execute_result",
          "data": {
            "text/html": [
              "<div>\n",
              "<style scoped>\n",
              "    .dataframe tbody tr th:only-of-type {\n",
              "        vertical-align: middle;\n",
              "    }\n",
              "\n",
              "    .dataframe tbody tr th {\n",
              "        vertical-align: top;\n",
              "    }\n",
              "\n",
              "    .dataframe thead th {\n",
              "        text-align: right;\n",
              "    }\n",
              "</style>\n",
              "<table border=\"1\" class=\"dataframe\">\n",
              "  <thead>\n",
              "    <tr style=\"text-align: right;\">\n",
              "      <th></th>\n",
              "      <th>Chief complaint</th>\n",
              "      <th>Onset</th>\n",
              "      <th>Location</th>\n",
              "    </tr>\n",
              "  </thead>\n",
              "  <tbody>\n",
              "    <tr>\n",
              "      <th>0</th>\n",
              "      <td>속이 자주 쓰려요</td>\n",
              "      <td>일주일전</td>\n",
              "      <td>명치</td>\n",
              "    </tr>\n",
              "  </tbody>\n",
              "</table>\n",
              "</div>"
            ],
            "text/plain": [
              "  Chief complaint Onset Location\n",
              "0       속이 자주 쓰려요  일주일전       명치"
            ]
          },
          "metadata": {
            "tags": []
          },
          "execution_count": 43
        }
      ]
    },
    {
      "cell_type": "code",
      "metadata": {
        "id": "oBJD5RFKVFre"
      },
      "source": [
        "for i in range(len(new_data.columns)):\n",
        "    new_data[new_data.columns[i]] = new_data.apply(lambda x : to_nan(x[new_data.columns[i]]) , axis = 1 )"
      ],
      "execution_count": 44,
      "outputs": []
    },
    {
      "cell_type": "code",
      "metadata": {
        "id": "lrK5aReESqvA"
      },
      "source": [
        "new_data['All'] = new_data['Chief complaint'] + '. ' + new_data['Onset'] + '. ' + new_data['Location']"
      ],
      "execution_count": 45,
      "outputs": []
    },
    {
      "cell_type": "code",
      "metadata": {
        "id": "-gEqfb6Jyge9"
      },
      "source": [
        "new_data['All'] = spell_checker.check(new_data['All']).as_dict()['checked'] "
      ],
      "execution_count": 46,
      "outputs": []
    },
    {
      "cell_type": "code",
      "metadata": {
        "colab": {
          "base_uri": "https://localhost:8080/",
          "height": 80
        },
        "id": "AoV9agwhaXDr",
        "outputId": "c844f578-a749-4568-a041-52616e3429ed"
      },
      "source": [
        "new_data"
      ],
      "execution_count": 47,
      "outputs": [
        {
          "output_type": "execute_result",
          "data": {
            "text/html": [
              "<div>\n",
              "<style scoped>\n",
              "    .dataframe tbody tr th:only-of-type {\n",
              "        vertical-align: middle;\n",
              "    }\n",
              "\n",
              "    .dataframe tbody tr th {\n",
              "        vertical-align: top;\n",
              "    }\n",
              "\n",
              "    .dataframe thead th {\n",
              "        text-align: right;\n",
              "    }\n",
              "</style>\n",
              "<table border=\"1\" class=\"dataframe\">\n",
              "  <thead>\n",
              "    <tr style=\"text-align: right;\">\n",
              "      <th></th>\n",
              "      <th>Chief complaint</th>\n",
              "      <th>Onset</th>\n",
              "      <th>Location</th>\n",
              "      <th>All</th>\n",
              "    </tr>\n",
              "  </thead>\n",
              "  <tbody>\n",
              "    <tr>\n",
              "      <th>0</th>\n",
              "      <td>속이 자주 쓰려요</td>\n",
              "      <td>일주일전</td>\n",
              "      <td>명치</td>\n",
              "      <td>속이 자주 쓰려요. 일주일 전. 명치</td>\n",
              "    </tr>\n",
              "  </tbody>\n",
              "</table>\n",
              "</div>"
            ],
            "text/plain": [
              "  Chief complaint Onset Location                   All\n",
              "0       속이 자주 쓰려요  일주일전       명치  속이 자주 쓰려요. 일주일 전. 명치"
            ]
          },
          "metadata": {
            "tags": []
          },
          "execution_count": 47
        }
      ]
    },
    {
      "cell_type": "code",
      "metadata": {
        "id": "4zwDpk413oik"
      },
      "source": [
        "new_data['All'] = new_data.apply(lambda x : erase_stopwords(x['All']) , axis = 1 )"
      ],
      "execution_count": 48,
      "outputs": []
    },
    {
      "cell_type": "code",
      "metadata": {
        "id": "ygvxVcyNSxfg"
      },
      "source": [
        "test_data = tfidf.transform(new_data['All'])"
      ],
      "execution_count": 49,
      "outputs": []
    },
    {
      "cell_type": "code",
      "metadata": {
        "id": "8F7VCg6mVsP_"
      },
      "source": [
        "top_k_result = tf.math.top_k(load_model.predict_proba(test_data), k=2, sorted=True)"
      ],
      "execution_count": 50,
      "outputs": []
    },
    {
      "cell_type": "code",
      "metadata": {
        "id": "N3s5MvM0V9z7"
      },
      "source": [
        "first = top_k_result[1][0][0], top_k_result.values.numpy()[0][0]\n",
        "second = top_k_result[1][0][1], top_k_result.values.numpy()[0][1]\n",
        "#third = top_k_result[1][0][2], top_k_result.values.numpy()[0][2]"
      ],
      "execution_count": 51,
      "outputs": []
    },
    {
      "cell_type": "code",
      "metadata": {
        "colab": {
          "base_uri": "https://localhost:8080/"
        },
        "id": "kJbF2XOX4NOM",
        "outputId": "bc53c324-4331-4475-d8bd-d2df6364da4b"
      },
      "source": [
        "first[1] - second[1]"
      ],
      "execution_count": 52,
      "outputs": [
        {
          "output_type": "execute_result",
          "data": {
            "text/plain": [
              "0.2212794658980266"
            ]
          },
          "metadata": {
            "tags": []
          },
          "execution_count": 52
        }
      ]
    },
    {
      "cell_type": "code",
      "metadata": {
        "colab": {
          "base_uri": "https://localhost:8080/"
        },
        "id": "_9D4BiIQVx1w",
        "outputId": "8e5fbec3-fbce-48b5-e824-4ae882384e77"
      },
      "source": [
        "if (first[1] - second[1] < 0.1):\n",
        "  print(dummies[first[0]],':', round(first[1]*100, 2),\"%\")\n",
        "  print(dummies[second[0]],':', round(second[1]*100, 2),\"%\")\n",
        "else:\n",
        "  print(dummies[first[0]],':', round(first[1]*100, 2),\"%\")"
      ],
      "execution_count": 53,
      "outputs": [
        {
          "output_type": "stream",
          "text": [
            "소화불량/만성 복통 : 51.14 %\n"
          ],
          "name": "stdout"
        }
      ]
    },
    {
      "cell_type": "code",
      "metadata": {
        "id": "5h3lDVzeV0V-",
        "colab": {
          "base_uri": "https://localhost:8080/"
        },
        "outputId": "6376fa6f-18d5-436a-b816-e413cd6fd2ac"
      },
      "source": [
        "with open('level2_dummies.txt', 'rb') as d:\n",
        "    dummies = pickle.load(d)\n",
        "dummies"
      ],
      "execution_count": 54,
      "outputs": [
        {
          "output_type": "execute_result",
          "data": {
            "text/plain": [
              "Index(['가슴통증', '객혈', '고혈압', '관절 통증', '구토', '급성 복통', '기침', '다뇨증', '두근거림',\n",
              "       '목 통증/허리 통증', '배뇨 이상', '변비', '붉은색 소변', '설사', '소변찔끔증', '소화불량/만성 복통',\n",
              "       '실신', '월경이상/월경통', '유방통/유방덩이', '질 분비물', '콧물/코막힘', '토혈', '피부발진', '핍뇨',\n",
              "       '혈변', '호흡곤란', '황달'],\n",
              "      dtype='object')"
            ]
          },
          "metadata": {
            "tags": []
          },
          "execution_count": 54
        }
      ]
    },
    {
      "cell_type": "code",
      "metadata": {
        "id": "NVBVkJflpa_0"
      },
      "source": [
        ""
      ],
      "execution_count": null,
      "outputs": []
    }
  ]
}