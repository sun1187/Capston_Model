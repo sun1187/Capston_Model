{
  "nbformat": 4,
  "nbformat_minor": 0,
  "metadata": {
    "colab": {
      "name": "ver6_disease_predict(5_17data).ipynb",
      "provenance": [],
      "collapsed_sections": [],
      "toc_visible": true
    },
    "kernelspec": {
      "display_name": "Python 3",
      "language": "python",
      "name": "python3"
    },
    "language_info": {
      "codemirror_mode": {
        "name": "ipython",
        "version": 3
      },
      "file_extension": ".py",
      "mimetype": "text/x-python",
      "name": "python",
      "nbconvert_exporter": "python",
      "pygments_lexer": "ipython3",
      "version": "3.8.5"
    },
    "widgets": {
      "application/vnd.jupyter.widget-state+json": {
        "1e19a9ed00d34c16aabb16d2ce839fee": {
          "model_module": "@jupyter-widgets/controls",
          "model_name": "HBoxModel",
          "state": {
            "_view_name": "HBoxView",
            "_dom_classes": [],
            "_model_name": "HBoxModel",
            "_view_module": "@jupyter-widgets/controls",
            "_model_module_version": "1.5.0",
            "_view_count": null,
            "_view_module_version": "1.5.0",
            "box_style": "",
            "layout": "IPY_MODEL_5cc7b44b3ff5436c8feddba148aa6c5e",
            "_model_module": "@jupyter-widgets/controls",
            "children": [
              "IPY_MODEL_9bb221833e214e44a969bfbc9cc873e4",
              "IPY_MODEL_52dd2a1fd5c841d184751f4d651333e9"
            ]
          }
        },
        "5cc7b44b3ff5436c8feddba148aa6c5e": {
          "model_module": "@jupyter-widgets/base",
          "model_name": "LayoutModel",
          "state": {
            "_view_name": "LayoutView",
            "grid_template_rows": null,
            "right": null,
            "justify_content": null,
            "_view_module": "@jupyter-widgets/base",
            "overflow": null,
            "_model_module_version": "1.2.0",
            "_view_count": null,
            "flex_flow": null,
            "width": null,
            "min_width": null,
            "border": null,
            "align_items": null,
            "bottom": null,
            "_model_module": "@jupyter-widgets/base",
            "top": null,
            "grid_column": null,
            "overflow_y": null,
            "overflow_x": null,
            "grid_auto_flow": null,
            "grid_area": null,
            "grid_template_columns": null,
            "flex": null,
            "_model_name": "LayoutModel",
            "justify_items": null,
            "grid_row": null,
            "max_height": null,
            "align_content": null,
            "visibility": null,
            "align_self": null,
            "height": null,
            "min_height": null,
            "padding": null,
            "grid_auto_rows": null,
            "grid_gap": null,
            "max_width": null,
            "order": null,
            "_view_module_version": "1.2.0",
            "grid_template_areas": null,
            "object_position": null,
            "object_fit": null,
            "grid_auto_columns": null,
            "margin": null,
            "display": null,
            "left": null
          }
        },
        "9bb221833e214e44a969bfbc9cc873e4": {
          "model_module": "@jupyter-widgets/controls",
          "model_name": "FloatProgressModel",
          "state": {
            "_view_name": "ProgressView",
            "style": "IPY_MODEL_974eb9a0dc07487ea720dc0034e57c30",
            "_dom_classes": [],
            "description": "100%",
            "_model_name": "FloatProgressModel",
            "bar_style": "success",
            "max": 2215,
            "_view_module": "@jupyter-widgets/controls",
            "_model_module_version": "1.5.0",
            "value": 2215,
            "_view_count": null,
            "_view_module_version": "1.5.0",
            "orientation": "horizontal",
            "min": 0,
            "description_tooltip": null,
            "_model_module": "@jupyter-widgets/controls",
            "layout": "IPY_MODEL_bf258d9462d4493a8b9499186c333406"
          }
        },
        "52dd2a1fd5c841d184751f4d651333e9": {
          "model_module": "@jupyter-widgets/controls",
          "model_name": "HTMLModel",
          "state": {
            "_view_name": "HTMLView",
            "style": "IPY_MODEL_de02b1741ebb4d679d6e6ea597e110f8",
            "_dom_classes": [],
            "description": "",
            "_model_name": "HTMLModel",
            "placeholder": "​",
            "_view_module": "@jupyter-widgets/controls",
            "_model_module_version": "1.5.0",
            "value": " 2215/2215 [07:00&lt;00:00,  5.27it/s]",
            "_view_count": null,
            "_view_module_version": "1.5.0",
            "description_tooltip": null,
            "_model_module": "@jupyter-widgets/controls",
            "layout": "IPY_MODEL_15dcec064f0f4d7e97ee554c94d758db"
          }
        },
        "974eb9a0dc07487ea720dc0034e57c30": {
          "model_module": "@jupyter-widgets/controls",
          "model_name": "ProgressStyleModel",
          "state": {
            "_view_name": "StyleView",
            "_model_name": "ProgressStyleModel",
            "description_width": "initial",
            "_view_module": "@jupyter-widgets/base",
            "_model_module_version": "1.5.0",
            "_view_count": null,
            "_view_module_version": "1.2.0",
            "bar_color": null,
            "_model_module": "@jupyter-widgets/controls"
          }
        },
        "bf258d9462d4493a8b9499186c333406": {
          "model_module": "@jupyter-widgets/base",
          "model_name": "LayoutModel",
          "state": {
            "_view_name": "LayoutView",
            "grid_template_rows": null,
            "right": null,
            "justify_content": null,
            "_view_module": "@jupyter-widgets/base",
            "overflow": null,
            "_model_module_version": "1.2.0",
            "_view_count": null,
            "flex_flow": null,
            "width": null,
            "min_width": null,
            "border": null,
            "align_items": null,
            "bottom": null,
            "_model_module": "@jupyter-widgets/base",
            "top": null,
            "grid_column": null,
            "overflow_y": null,
            "overflow_x": null,
            "grid_auto_flow": null,
            "grid_area": null,
            "grid_template_columns": null,
            "flex": null,
            "_model_name": "LayoutModel",
            "justify_items": null,
            "grid_row": null,
            "max_height": null,
            "align_content": null,
            "visibility": null,
            "align_self": null,
            "height": null,
            "min_height": null,
            "padding": null,
            "grid_auto_rows": null,
            "grid_gap": null,
            "max_width": null,
            "order": null,
            "_view_module_version": "1.2.0",
            "grid_template_areas": null,
            "object_position": null,
            "object_fit": null,
            "grid_auto_columns": null,
            "margin": null,
            "display": null,
            "left": null
          }
        },
        "de02b1741ebb4d679d6e6ea597e110f8": {
          "model_module": "@jupyter-widgets/controls",
          "model_name": "DescriptionStyleModel",
          "state": {
            "_view_name": "StyleView",
            "_model_name": "DescriptionStyleModel",
            "description_width": "",
            "_view_module": "@jupyter-widgets/base",
            "_model_module_version": "1.5.0",
            "_view_count": null,
            "_view_module_version": "1.2.0",
            "_model_module": "@jupyter-widgets/controls"
          }
        },
        "15dcec064f0f4d7e97ee554c94d758db": {
          "model_module": "@jupyter-widgets/base",
          "model_name": "LayoutModel",
          "state": {
            "_view_name": "LayoutView",
            "grid_template_rows": null,
            "right": null,
            "justify_content": null,
            "_view_module": "@jupyter-widgets/base",
            "overflow": null,
            "_model_module_version": "1.2.0",
            "_view_count": null,
            "flex_flow": null,
            "width": null,
            "min_width": null,
            "border": null,
            "align_items": null,
            "bottom": null,
            "_model_module": "@jupyter-widgets/base",
            "top": null,
            "grid_column": null,
            "overflow_y": null,
            "overflow_x": null,
            "grid_auto_flow": null,
            "grid_area": null,
            "grid_template_columns": null,
            "flex": null,
            "_model_name": "LayoutModel",
            "justify_items": null,
            "grid_row": null,
            "max_height": null,
            "align_content": null,
            "visibility": null,
            "align_self": null,
            "height": null,
            "min_height": null,
            "padding": null,
            "grid_auto_rows": null,
            "grid_gap": null,
            "max_width": null,
            "order": null,
            "_view_module_version": "1.2.0",
            "grid_template_areas": null,
            "object_position": null,
            "object_fit": null,
            "grid_auto_columns": null,
            "margin": null,
            "display": null,
            "left": null
          }
        },
        "05181140741f4aeeb04b127c589d58dd": {
          "model_module": "@jupyter-widgets/controls",
          "model_name": "HBoxModel",
          "state": {
            "_view_name": "HBoxView",
            "_dom_classes": [],
            "_model_name": "HBoxModel",
            "_view_module": "@jupyter-widgets/controls",
            "_model_module_version": "1.5.0",
            "_view_count": null,
            "_view_module_version": "1.5.0",
            "box_style": "",
            "layout": "IPY_MODEL_0d30de501a3e417091cd272b42a6f32b",
            "_model_module": "@jupyter-widgets/controls",
            "children": [
              "IPY_MODEL_222532930cad4b0d8c6d98365fcf8493",
              "IPY_MODEL_0cbb06b4adf743cdb4b2c4705ac1e75b"
            ]
          }
        },
        "0d30de501a3e417091cd272b42a6f32b": {
          "model_module": "@jupyter-widgets/base",
          "model_name": "LayoutModel",
          "state": {
            "_view_name": "LayoutView",
            "grid_template_rows": null,
            "right": null,
            "justify_content": null,
            "_view_module": "@jupyter-widgets/base",
            "overflow": null,
            "_model_module_version": "1.2.0",
            "_view_count": null,
            "flex_flow": null,
            "width": null,
            "min_width": null,
            "border": null,
            "align_items": null,
            "bottom": null,
            "_model_module": "@jupyter-widgets/base",
            "top": null,
            "grid_column": null,
            "overflow_y": null,
            "overflow_x": null,
            "grid_auto_flow": null,
            "grid_area": null,
            "grid_template_columns": null,
            "flex": null,
            "_model_name": "LayoutModel",
            "justify_items": null,
            "grid_row": null,
            "max_height": null,
            "align_content": null,
            "visibility": null,
            "align_self": null,
            "height": null,
            "min_height": null,
            "padding": null,
            "grid_auto_rows": null,
            "grid_gap": null,
            "max_width": null,
            "order": null,
            "_view_module_version": "1.2.0",
            "grid_template_areas": null,
            "object_position": null,
            "object_fit": null,
            "grid_auto_columns": null,
            "margin": null,
            "display": null,
            "left": null
          }
        },
        "222532930cad4b0d8c6d98365fcf8493": {
          "model_module": "@jupyter-widgets/controls",
          "model_name": "FloatProgressModel",
          "state": {
            "_view_name": "ProgressView",
            "style": "IPY_MODEL_173833db813a4161b1b2e6d58cb66ba7",
            "_dom_classes": [],
            "description": "100%",
            "_model_name": "FloatProgressModel",
            "bar_style": "success",
            "max": 2215,
            "_view_module": "@jupyter-widgets/controls",
            "_model_module_version": "1.5.0",
            "value": 2215,
            "_view_count": null,
            "_view_module_version": "1.5.0",
            "orientation": "horizontal",
            "min": 0,
            "description_tooltip": null,
            "_model_module": "@jupyter-widgets/controls",
            "layout": "IPY_MODEL_935fe28b161b4ee7925e0c7a52d80469"
          }
        },
        "0cbb06b4adf743cdb4b2c4705ac1e75b": {
          "model_module": "@jupyter-widgets/controls",
          "model_name": "HTMLModel",
          "state": {
            "_view_name": "HTMLView",
            "style": "IPY_MODEL_d5188554a99548c3b7827e79ef4d6368",
            "_dom_classes": [],
            "description": "",
            "_model_name": "HTMLModel",
            "placeholder": "​",
            "_view_module": "@jupyter-widgets/controls",
            "_model_module_version": "1.5.0",
            "value": " 2215/2215 [00:00&lt;00:00, 4950.24it/s]",
            "_view_count": null,
            "_view_module_version": "1.5.0",
            "description_tooltip": null,
            "_model_module": "@jupyter-widgets/controls",
            "layout": "IPY_MODEL_79b9fa8704994509bf72cacfc2dfec1d"
          }
        },
        "173833db813a4161b1b2e6d58cb66ba7": {
          "model_module": "@jupyter-widgets/controls",
          "model_name": "ProgressStyleModel",
          "state": {
            "_view_name": "StyleView",
            "_model_name": "ProgressStyleModel",
            "description_width": "initial",
            "_view_module": "@jupyter-widgets/base",
            "_model_module_version": "1.5.0",
            "_view_count": null,
            "_view_module_version": "1.2.0",
            "bar_color": null,
            "_model_module": "@jupyter-widgets/controls"
          }
        },
        "935fe28b161b4ee7925e0c7a52d80469": {
          "model_module": "@jupyter-widgets/base",
          "model_name": "LayoutModel",
          "state": {
            "_view_name": "LayoutView",
            "grid_template_rows": null,
            "right": null,
            "justify_content": null,
            "_view_module": "@jupyter-widgets/base",
            "overflow": null,
            "_model_module_version": "1.2.0",
            "_view_count": null,
            "flex_flow": null,
            "width": null,
            "min_width": null,
            "border": null,
            "align_items": null,
            "bottom": null,
            "_model_module": "@jupyter-widgets/base",
            "top": null,
            "grid_column": null,
            "overflow_y": null,
            "overflow_x": null,
            "grid_auto_flow": null,
            "grid_area": null,
            "grid_template_columns": null,
            "flex": null,
            "_model_name": "LayoutModel",
            "justify_items": null,
            "grid_row": null,
            "max_height": null,
            "align_content": null,
            "visibility": null,
            "align_self": null,
            "height": null,
            "min_height": null,
            "padding": null,
            "grid_auto_rows": null,
            "grid_gap": null,
            "max_width": null,
            "order": null,
            "_view_module_version": "1.2.0",
            "grid_template_areas": null,
            "object_position": null,
            "object_fit": null,
            "grid_auto_columns": null,
            "margin": null,
            "display": null,
            "left": null
          }
        },
        "d5188554a99548c3b7827e79ef4d6368": {
          "model_module": "@jupyter-widgets/controls",
          "model_name": "DescriptionStyleModel",
          "state": {
            "_view_name": "StyleView",
            "_model_name": "DescriptionStyleModel",
            "description_width": "",
            "_view_module": "@jupyter-widgets/base",
            "_model_module_version": "1.5.0",
            "_view_count": null,
            "_view_module_version": "1.2.0",
            "_model_module": "@jupyter-widgets/controls"
          }
        },
        "79b9fa8704994509bf72cacfc2dfec1d": {
          "model_module": "@jupyter-widgets/base",
          "model_name": "LayoutModel",
          "state": {
            "_view_name": "LayoutView",
            "grid_template_rows": null,
            "right": null,
            "justify_content": null,
            "_view_module": "@jupyter-widgets/base",
            "overflow": null,
            "_model_module_version": "1.2.0",
            "_view_count": null,
            "flex_flow": null,
            "width": null,
            "min_width": null,
            "border": null,
            "align_items": null,
            "bottom": null,
            "_model_module": "@jupyter-widgets/base",
            "top": null,
            "grid_column": null,
            "overflow_y": null,
            "overflow_x": null,
            "grid_auto_flow": null,
            "grid_area": null,
            "grid_template_columns": null,
            "flex": null,
            "_model_name": "LayoutModel",
            "justify_items": null,
            "grid_row": null,
            "max_height": null,
            "align_content": null,
            "visibility": null,
            "align_self": null,
            "height": null,
            "min_height": null,
            "padding": null,
            "grid_auto_rows": null,
            "grid_gap": null,
            "max_width": null,
            "order": null,
            "_view_module_version": "1.2.0",
            "grid_template_areas": null,
            "object_position": null,
            "object_fit": null,
            "grid_auto_columns": null,
            "margin": null,
            "display": null,
            "left": null
          }
        },
        "52128df5e150490aac8200b337bb9611": {
          "model_module": "@jupyter-widgets/controls",
          "model_name": "HBoxModel",
          "state": {
            "_view_name": "HBoxView",
            "_dom_classes": [],
            "_model_name": "HBoxModel",
            "_view_module": "@jupyter-widgets/controls",
            "_model_module_version": "1.5.0",
            "_view_count": null,
            "_view_module_version": "1.5.0",
            "box_style": "",
            "layout": "IPY_MODEL_88622b2cc27047509fe543d6933c4b48",
            "_model_module": "@jupyter-widgets/controls",
            "children": [
              "IPY_MODEL_3a5b7b973e0c4aea91a7e1bd00ba3f34",
              "IPY_MODEL_440fb64bc1ed4ade9bda748e4d546e4b"
            ]
          }
        },
        "88622b2cc27047509fe543d6933c4b48": {
          "model_module": "@jupyter-widgets/base",
          "model_name": "LayoutModel",
          "state": {
            "_view_name": "LayoutView",
            "grid_template_rows": null,
            "right": null,
            "justify_content": null,
            "_view_module": "@jupyter-widgets/base",
            "overflow": null,
            "_model_module_version": "1.2.0",
            "_view_count": null,
            "flex_flow": null,
            "width": null,
            "min_width": null,
            "border": null,
            "align_items": null,
            "bottom": null,
            "_model_module": "@jupyter-widgets/base",
            "top": null,
            "grid_column": null,
            "overflow_y": null,
            "overflow_x": null,
            "grid_auto_flow": null,
            "grid_area": null,
            "grid_template_columns": null,
            "flex": null,
            "_model_name": "LayoutModel",
            "justify_items": null,
            "grid_row": null,
            "max_height": null,
            "align_content": null,
            "visibility": null,
            "align_self": null,
            "height": null,
            "min_height": null,
            "padding": null,
            "grid_auto_rows": null,
            "grid_gap": null,
            "max_width": null,
            "order": null,
            "_view_module_version": "1.2.0",
            "grid_template_areas": null,
            "object_position": null,
            "object_fit": null,
            "grid_auto_columns": null,
            "margin": null,
            "display": null,
            "left": null
          }
        },
        "3a5b7b973e0c4aea91a7e1bd00ba3f34": {
          "model_module": "@jupyter-widgets/controls",
          "model_name": "FloatProgressModel",
          "state": {
            "_view_name": "ProgressView",
            "style": "IPY_MODEL_061bd4eb72ed40b79a7264bb7bc5ee9f",
            "_dom_classes": [],
            "description": "100%",
            "_model_name": "FloatProgressModel",
            "bar_style": "success",
            "max": 2215,
            "_view_module": "@jupyter-widgets/controls",
            "_model_module_version": "1.5.0",
            "value": 2215,
            "_view_count": null,
            "_view_module_version": "1.5.0",
            "orientation": "horizontal",
            "min": 0,
            "description_tooltip": null,
            "_model_module": "@jupyter-widgets/controls",
            "layout": "IPY_MODEL_ada8fdd00e5047afa1bea89b5dbf330a"
          }
        },
        "440fb64bc1ed4ade9bda748e4d546e4b": {
          "model_module": "@jupyter-widgets/controls",
          "model_name": "HTMLModel",
          "state": {
            "_view_name": "HTMLView",
            "style": "IPY_MODEL_771950b690164d22b2cd2d5a4de3be08",
            "_dom_classes": [],
            "description": "",
            "_model_name": "HTMLModel",
            "placeholder": "​",
            "_view_module": "@jupyter-widgets/controls",
            "_model_module_version": "1.5.0",
            "value": " 2215/2215 [00:00&lt;00:00, 4550.01it/s]",
            "_view_count": null,
            "_view_module_version": "1.5.0",
            "description_tooltip": null,
            "_model_module": "@jupyter-widgets/controls",
            "layout": "IPY_MODEL_1658ccd341404f44b2095e082cc6124e"
          }
        },
        "061bd4eb72ed40b79a7264bb7bc5ee9f": {
          "model_module": "@jupyter-widgets/controls",
          "model_name": "ProgressStyleModel",
          "state": {
            "_view_name": "StyleView",
            "_model_name": "ProgressStyleModel",
            "description_width": "initial",
            "_view_module": "@jupyter-widgets/base",
            "_model_module_version": "1.5.0",
            "_view_count": null,
            "_view_module_version": "1.2.0",
            "bar_color": null,
            "_model_module": "@jupyter-widgets/controls"
          }
        },
        "ada8fdd00e5047afa1bea89b5dbf330a": {
          "model_module": "@jupyter-widgets/base",
          "model_name": "LayoutModel",
          "state": {
            "_view_name": "LayoutView",
            "grid_template_rows": null,
            "right": null,
            "justify_content": null,
            "_view_module": "@jupyter-widgets/base",
            "overflow": null,
            "_model_module_version": "1.2.0",
            "_view_count": null,
            "flex_flow": null,
            "width": null,
            "min_width": null,
            "border": null,
            "align_items": null,
            "bottom": null,
            "_model_module": "@jupyter-widgets/base",
            "top": null,
            "grid_column": null,
            "overflow_y": null,
            "overflow_x": null,
            "grid_auto_flow": null,
            "grid_area": null,
            "grid_template_columns": null,
            "flex": null,
            "_model_name": "LayoutModel",
            "justify_items": null,
            "grid_row": null,
            "max_height": null,
            "align_content": null,
            "visibility": null,
            "align_self": null,
            "height": null,
            "min_height": null,
            "padding": null,
            "grid_auto_rows": null,
            "grid_gap": null,
            "max_width": null,
            "order": null,
            "_view_module_version": "1.2.0",
            "grid_template_areas": null,
            "object_position": null,
            "object_fit": null,
            "grid_auto_columns": null,
            "margin": null,
            "display": null,
            "left": null
          }
        },
        "771950b690164d22b2cd2d5a4de3be08": {
          "model_module": "@jupyter-widgets/controls",
          "model_name": "DescriptionStyleModel",
          "state": {
            "_view_name": "StyleView",
            "_model_name": "DescriptionStyleModel",
            "description_width": "",
            "_view_module": "@jupyter-widgets/base",
            "_model_module_version": "1.5.0",
            "_view_count": null,
            "_view_module_version": "1.2.0",
            "_model_module": "@jupyter-widgets/controls"
          }
        },
        "1658ccd341404f44b2095e082cc6124e": {
          "model_module": "@jupyter-widgets/base",
          "model_name": "LayoutModel",
          "state": {
            "_view_name": "LayoutView",
            "grid_template_rows": null,
            "right": null,
            "justify_content": null,
            "_view_module": "@jupyter-widgets/base",
            "overflow": null,
            "_model_module_version": "1.2.0",
            "_view_count": null,
            "flex_flow": null,
            "width": null,
            "min_width": null,
            "border": null,
            "align_items": null,
            "bottom": null,
            "_model_module": "@jupyter-widgets/base",
            "top": null,
            "grid_column": null,
            "overflow_y": null,
            "overflow_x": null,
            "grid_auto_flow": null,
            "grid_area": null,
            "grid_template_columns": null,
            "flex": null,
            "_model_name": "LayoutModel",
            "justify_items": null,
            "grid_row": null,
            "max_height": null,
            "align_content": null,
            "visibility": null,
            "align_self": null,
            "height": null,
            "min_height": null,
            "padding": null,
            "grid_auto_rows": null,
            "grid_gap": null,
            "max_width": null,
            "order": null,
            "_view_module_version": "1.2.0",
            "grid_template_areas": null,
            "object_position": null,
            "object_fit": null,
            "grid_auto_columns": null,
            "margin": null,
            "display": null,
            "left": null
          }
        },
        "8f1510ab376b486394ff16d45c0c7af8": {
          "model_module": "@jupyter-widgets/controls",
          "model_name": "HBoxModel",
          "state": {
            "_view_name": "HBoxView",
            "_dom_classes": [],
            "_model_name": "HBoxModel",
            "_view_module": "@jupyter-widgets/controls",
            "_model_module_version": "1.5.0",
            "_view_count": null,
            "_view_module_version": "1.5.0",
            "box_style": "",
            "layout": "IPY_MODEL_075f8c19d5a940e280c7a009a3d29642",
            "_model_module": "@jupyter-widgets/controls",
            "children": [
              "IPY_MODEL_762cc17fe0fb43ccb4f25b4f23afaf2f",
              "IPY_MODEL_5a545f54f92b41e08eeb1002b206a0eb"
            ]
          }
        },
        "075f8c19d5a940e280c7a009a3d29642": {
          "model_module": "@jupyter-widgets/base",
          "model_name": "LayoutModel",
          "state": {
            "_view_name": "LayoutView",
            "grid_template_rows": null,
            "right": null,
            "justify_content": null,
            "_view_module": "@jupyter-widgets/base",
            "overflow": null,
            "_model_module_version": "1.2.0",
            "_view_count": null,
            "flex_flow": null,
            "width": null,
            "min_width": null,
            "border": null,
            "align_items": null,
            "bottom": null,
            "_model_module": "@jupyter-widgets/base",
            "top": null,
            "grid_column": null,
            "overflow_y": null,
            "overflow_x": null,
            "grid_auto_flow": null,
            "grid_area": null,
            "grid_template_columns": null,
            "flex": null,
            "_model_name": "LayoutModel",
            "justify_items": null,
            "grid_row": null,
            "max_height": null,
            "align_content": null,
            "visibility": null,
            "align_self": null,
            "height": null,
            "min_height": null,
            "padding": null,
            "grid_auto_rows": null,
            "grid_gap": null,
            "max_width": null,
            "order": null,
            "_view_module_version": "1.2.0",
            "grid_template_areas": null,
            "object_position": null,
            "object_fit": null,
            "grid_auto_columns": null,
            "margin": null,
            "display": null,
            "left": null
          }
        },
        "762cc17fe0fb43ccb4f25b4f23afaf2f": {
          "model_module": "@jupyter-widgets/controls",
          "model_name": "FloatProgressModel",
          "state": {
            "_view_name": "ProgressView",
            "style": "IPY_MODEL_0bbd2292e514453881d0b31824e81222",
            "_dom_classes": [],
            "description": "100%",
            "_model_name": "FloatProgressModel",
            "bar_style": "success",
            "max": 2215,
            "_view_module": "@jupyter-widgets/controls",
            "_model_module_version": "1.5.0",
            "value": 2215,
            "_view_count": null,
            "_view_module_version": "1.5.0",
            "orientation": "horizontal",
            "min": 0,
            "description_tooltip": null,
            "_model_module": "@jupyter-widgets/controls",
            "layout": "IPY_MODEL_718d7b30b1824098a7719c35a4d81780"
          }
        },
        "5a545f54f92b41e08eeb1002b206a0eb": {
          "model_module": "@jupyter-widgets/controls",
          "model_name": "HTMLModel",
          "state": {
            "_view_name": "HTMLView",
            "style": "IPY_MODEL_deb65bbc823e47b189c71bfdc7e6099a",
            "_dom_classes": [],
            "description": "",
            "_model_name": "HTMLModel",
            "placeholder": "​",
            "_view_module": "@jupyter-widgets/controls",
            "_model_module_version": "1.5.0",
            "value": " 2215/2215 [01:33&lt;00:00, 23.68it/s]",
            "_view_count": null,
            "_view_module_version": "1.5.0",
            "description_tooltip": null,
            "_model_module": "@jupyter-widgets/controls",
            "layout": "IPY_MODEL_7ab2566c2f334be394a20a55edc1448c"
          }
        },
        "0bbd2292e514453881d0b31824e81222": {
          "model_module": "@jupyter-widgets/controls",
          "model_name": "ProgressStyleModel",
          "state": {
            "_view_name": "StyleView",
            "_model_name": "ProgressStyleModel",
            "description_width": "initial",
            "_view_module": "@jupyter-widgets/base",
            "_model_module_version": "1.5.0",
            "_view_count": null,
            "_view_module_version": "1.2.0",
            "bar_color": null,
            "_model_module": "@jupyter-widgets/controls"
          }
        },
        "718d7b30b1824098a7719c35a4d81780": {
          "model_module": "@jupyter-widgets/base",
          "model_name": "LayoutModel",
          "state": {
            "_view_name": "LayoutView",
            "grid_template_rows": null,
            "right": null,
            "justify_content": null,
            "_view_module": "@jupyter-widgets/base",
            "overflow": null,
            "_model_module_version": "1.2.0",
            "_view_count": null,
            "flex_flow": null,
            "width": null,
            "min_width": null,
            "border": null,
            "align_items": null,
            "bottom": null,
            "_model_module": "@jupyter-widgets/base",
            "top": null,
            "grid_column": null,
            "overflow_y": null,
            "overflow_x": null,
            "grid_auto_flow": null,
            "grid_area": null,
            "grid_template_columns": null,
            "flex": null,
            "_model_name": "LayoutModel",
            "justify_items": null,
            "grid_row": null,
            "max_height": null,
            "align_content": null,
            "visibility": null,
            "align_self": null,
            "height": null,
            "min_height": null,
            "padding": null,
            "grid_auto_rows": null,
            "grid_gap": null,
            "max_width": null,
            "order": null,
            "_view_module_version": "1.2.0",
            "grid_template_areas": null,
            "object_position": null,
            "object_fit": null,
            "grid_auto_columns": null,
            "margin": null,
            "display": null,
            "left": null
          }
        },
        "deb65bbc823e47b189c71bfdc7e6099a": {
          "model_module": "@jupyter-widgets/controls",
          "model_name": "DescriptionStyleModel",
          "state": {
            "_view_name": "StyleView",
            "_model_name": "DescriptionStyleModel",
            "description_width": "",
            "_view_module": "@jupyter-widgets/base",
            "_model_module_version": "1.5.0",
            "_view_count": null,
            "_view_module_version": "1.2.0",
            "_model_module": "@jupyter-widgets/controls"
          }
        },
        "7ab2566c2f334be394a20a55edc1448c": {
          "model_module": "@jupyter-widgets/base",
          "model_name": "LayoutModel",
          "state": {
            "_view_name": "LayoutView",
            "grid_template_rows": null,
            "right": null,
            "justify_content": null,
            "_view_module": "@jupyter-widgets/base",
            "overflow": null,
            "_model_module_version": "1.2.0",
            "_view_count": null,
            "flex_flow": null,
            "width": null,
            "min_width": null,
            "border": null,
            "align_items": null,
            "bottom": null,
            "_model_module": "@jupyter-widgets/base",
            "top": null,
            "grid_column": null,
            "overflow_y": null,
            "overflow_x": null,
            "grid_auto_flow": null,
            "grid_area": null,
            "grid_template_columns": null,
            "flex": null,
            "_model_name": "LayoutModel",
            "justify_items": null,
            "grid_row": null,
            "max_height": null,
            "align_content": null,
            "visibility": null,
            "align_self": null,
            "height": null,
            "min_height": null,
            "padding": null,
            "grid_auto_rows": null,
            "grid_gap": null,
            "max_width": null,
            "order": null,
            "_view_module_version": "1.2.0",
            "grid_template_areas": null,
            "object_position": null,
            "object_fit": null,
            "grid_auto_columns": null,
            "margin": null,
            "display": null,
            "left": null
          }
        },
        "c2a9733db4254fc2a8b79c977ab040e3": {
          "model_module": "@jupyter-widgets/controls",
          "model_name": "HBoxModel",
          "state": {
            "_view_name": "HBoxView",
            "_dom_classes": [],
            "_model_name": "HBoxModel",
            "_view_module": "@jupyter-widgets/controls",
            "_model_module_version": "1.5.0",
            "_view_count": null,
            "_view_module_version": "1.5.0",
            "box_style": "",
            "layout": "IPY_MODEL_d21fedd65e6f4c1c9a725e9cf32ca9b5",
            "_model_module": "@jupyter-widgets/controls",
            "children": [
              "IPY_MODEL_b7d65224d4524ef3bf22a7fbb110dffb",
              "IPY_MODEL_770fa3e133394267a079ea587b285316"
            ]
          }
        },
        "d21fedd65e6f4c1c9a725e9cf32ca9b5": {
          "model_module": "@jupyter-widgets/base",
          "model_name": "LayoutModel",
          "state": {
            "_view_name": "LayoutView",
            "grid_template_rows": null,
            "right": null,
            "justify_content": null,
            "_view_module": "@jupyter-widgets/base",
            "overflow": null,
            "_model_module_version": "1.2.0",
            "_view_count": null,
            "flex_flow": null,
            "width": null,
            "min_width": null,
            "border": null,
            "align_items": null,
            "bottom": null,
            "_model_module": "@jupyter-widgets/base",
            "top": null,
            "grid_column": null,
            "overflow_y": null,
            "overflow_x": null,
            "grid_auto_flow": null,
            "grid_area": null,
            "grid_template_columns": null,
            "flex": null,
            "_model_name": "LayoutModel",
            "justify_items": null,
            "grid_row": null,
            "max_height": null,
            "align_content": null,
            "visibility": null,
            "align_self": null,
            "height": null,
            "min_height": null,
            "padding": null,
            "grid_auto_rows": null,
            "grid_gap": null,
            "max_width": null,
            "order": null,
            "_view_module_version": "1.2.0",
            "grid_template_areas": null,
            "object_position": null,
            "object_fit": null,
            "grid_auto_columns": null,
            "margin": null,
            "display": null,
            "left": null
          }
        },
        "b7d65224d4524ef3bf22a7fbb110dffb": {
          "model_module": "@jupyter-widgets/controls",
          "model_name": "FloatProgressModel",
          "state": {
            "_view_name": "ProgressView",
            "style": "IPY_MODEL_a0f8fe07f8fc40e982cc8df144e29141",
            "_dom_classes": [],
            "description": "Downloading: 100%",
            "_model_name": "FloatProgressModel",
            "bar_style": "success",
            "max": 344240,
            "_view_module": "@jupyter-widgets/controls",
            "_model_module_version": "1.5.0",
            "value": 344240,
            "_view_count": null,
            "_view_module_version": "1.5.0",
            "orientation": "horizontal",
            "min": 0,
            "description_tooltip": null,
            "_model_module": "@jupyter-widgets/controls",
            "layout": "IPY_MODEL_5438d352c4f04d65a9f953404023a28c"
          }
        },
        "770fa3e133394267a079ea587b285316": {
          "model_module": "@jupyter-widgets/controls",
          "model_name": "HTMLModel",
          "state": {
            "_view_name": "HTMLView",
            "style": "IPY_MODEL_bb6125b4566549aeb4aa97abda59d8e3",
            "_dom_classes": [],
            "description": "",
            "_model_name": "HTMLModel",
            "placeholder": "​",
            "_view_module": "@jupyter-widgets/controls",
            "_model_module_version": "1.5.0",
            "value": " 344k/344k [00:02&lt;00:00, 162kB/s]",
            "_view_count": null,
            "_view_module_version": "1.5.0",
            "description_tooltip": null,
            "_model_module": "@jupyter-widgets/controls",
            "layout": "IPY_MODEL_09c65b6d8ea041aba956c875979a82f4"
          }
        },
        "a0f8fe07f8fc40e982cc8df144e29141": {
          "model_module": "@jupyter-widgets/controls",
          "model_name": "ProgressStyleModel",
          "state": {
            "_view_name": "StyleView",
            "_model_name": "ProgressStyleModel",
            "description_width": "initial",
            "_view_module": "@jupyter-widgets/base",
            "_model_module_version": "1.5.0",
            "_view_count": null,
            "_view_module_version": "1.2.0",
            "bar_color": null,
            "_model_module": "@jupyter-widgets/controls"
          }
        },
        "5438d352c4f04d65a9f953404023a28c": {
          "model_module": "@jupyter-widgets/base",
          "model_name": "LayoutModel",
          "state": {
            "_view_name": "LayoutView",
            "grid_template_rows": null,
            "right": null,
            "justify_content": null,
            "_view_module": "@jupyter-widgets/base",
            "overflow": null,
            "_model_module_version": "1.2.0",
            "_view_count": null,
            "flex_flow": null,
            "width": null,
            "min_width": null,
            "border": null,
            "align_items": null,
            "bottom": null,
            "_model_module": "@jupyter-widgets/base",
            "top": null,
            "grid_column": null,
            "overflow_y": null,
            "overflow_x": null,
            "grid_auto_flow": null,
            "grid_area": null,
            "grid_template_columns": null,
            "flex": null,
            "_model_name": "LayoutModel",
            "justify_items": null,
            "grid_row": null,
            "max_height": null,
            "align_content": null,
            "visibility": null,
            "align_self": null,
            "height": null,
            "min_height": null,
            "padding": null,
            "grid_auto_rows": null,
            "grid_gap": null,
            "max_width": null,
            "order": null,
            "_view_module_version": "1.2.0",
            "grid_template_areas": null,
            "object_position": null,
            "object_fit": null,
            "grid_auto_columns": null,
            "margin": null,
            "display": null,
            "left": null
          }
        },
        "bb6125b4566549aeb4aa97abda59d8e3": {
          "model_module": "@jupyter-widgets/controls",
          "model_name": "DescriptionStyleModel",
          "state": {
            "_view_name": "StyleView",
            "_model_name": "DescriptionStyleModel",
            "description_width": "",
            "_view_module": "@jupyter-widgets/base",
            "_model_module_version": "1.5.0",
            "_view_count": null,
            "_view_module_version": "1.2.0",
            "_model_module": "@jupyter-widgets/controls"
          }
        },
        "09c65b6d8ea041aba956c875979a82f4": {
          "model_module": "@jupyter-widgets/base",
          "model_name": "LayoutModel",
          "state": {
            "_view_name": "LayoutView",
            "grid_template_rows": null,
            "right": null,
            "justify_content": null,
            "_view_module": "@jupyter-widgets/base",
            "overflow": null,
            "_model_module_version": "1.2.0",
            "_view_count": null,
            "flex_flow": null,
            "width": null,
            "min_width": null,
            "border": null,
            "align_items": null,
            "bottom": null,
            "_model_module": "@jupyter-widgets/base",
            "top": null,
            "grid_column": null,
            "overflow_y": null,
            "overflow_x": null,
            "grid_auto_flow": null,
            "grid_area": null,
            "grid_template_columns": null,
            "flex": null,
            "_model_name": "LayoutModel",
            "justify_items": null,
            "grid_row": null,
            "max_height": null,
            "align_content": null,
            "visibility": null,
            "align_self": null,
            "height": null,
            "min_height": null,
            "padding": null,
            "grid_auto_rows": null,
            "grid_gap": null,
            "max_width": null,
            "order": null,
            "_view_module_version": "1.2.0",
            "grid_template_areas": null,
            "object_position": null,
            "object_fit": null,
            "grid_auto_columns": null,
            "margin": null,
            "display": null,
            "left": null
          }
        },
        "791d3398e1f545d3bf2752ef472758cb": {
          "model_module": "@jupyter-widgets/controls",
          "model_name": "HBoxModel",
          "state": {
            "_view_name": "HBoxView",
            "_dom_classes": [],
            "_model_name": "HBoxModel",
            "_view_module": "@jupyter-widgets/controls",
            "_model_module_version": "1.5.0",
            "_view_count": null,
            "_view_module_version": "1.5.0",
            "box_style": "",
            "layout": "IPY_MODEL_90429fc1f3ed452494e1f5f89b390fe5",
            "_model_module": "@jupyter-widgets/controls",
            "children": [
              "IPY_MODEL_bf8c3fe78e3946edae2ba21f5a5447fe",
              "IPY_MODEL_26a0c070be9542fbb618b883ec52c7cd"
            ]
          }
        },
        "90429fc1f3ed452494e1f5f89b390fe5": {
          "model_module": "@jupyter-widgets/base",
          "model_name": "LayoutModel",
          "state": {
            "_view_name": "LayoutView",
            "grid_template_rows": null,
            "right": null,
            "justify_content": null,
            "_view_module": "@jupyter-widgets/base",
            "overflow": null,
            "_model_module_version": "1.2.0",
            "_view_count": null,
            "flex_flow": null,
            "width": null,
            "min_width": null,
            "border": null,
            "align_items": null,
            "bottom": null,
            "_model_module": "@jupyter-widgets/base",
            "top": null,
            "grid_column": null,
            "overflow_y": null,
            "overflow_x": null,
            "grid_auto_flow": null,
            "grid_area": null,
            "grid_template_columns": null,
            "flex": null,
            "_model_name": "LayoutModel",
            "justify_items": null,
            "grid_row": null,
            "max_height": null,
            "align_content": null,
            "visibility": null,
            "align_self": null,
            "height": null,
            "min_height": null,
            "padding": null,
            "grid_auto_rows": null,
            "grid_gap": null,
            "max_width": null,
            "order": null,
            "_view_module_version": "1.2.0",
            "grid_template_areas": null,
            "object_position": null,
            "object_fit": null,
            "grid_auto_columns": null,
            "margin": null,
            "display": null,
            "left": null
          }
        },
        "bf8c3fe78e3946edae2ba21f5a5447fe": {
          "model_module": "@jupyter-widgets/controls",
          "model_name": "FloatProgressModel",
          "state": {
            "_view_name": "ProgressView",
            "style": "IPY_MODEL_d82100907f7745458e2766c8593d61b7",
            "_dom_classes": [],
            "description": "Downloading: 100%",
            "_model_name": "FloatProgressModel",
            "bar_style": "success",
            "max": 153,
            "_view_module": "@jupyter-widgets/controls",
            "_model_module_version": "1.5.0",
            "value": 153,
            "_view_count": null,
            "_view_module_version": "1.5.0",
            "orientation": "horizontal",
            "min": 0,
            "description_tooltip": null,
            "_model_module": "@jupyter-widgets/controls",
            "layout": "IPY_MODEL_6bf9cb8482a645f3a715eec721b75ae6"
          }
        },
        "26a0c070be9542fbb618b883ec52c7cd": {
          "model_module": "@jupyter-widgets/controls",
          "model_name": "HTMLModel",
          "state": {
            "_view_name": "HTMLView",
            "style": "IPY_MODEL_749c88f54306471191ae64ae31d0f5dd",
            "_dom_classes": [],
            "description": "",
            "_model_name": "HTMLModel",
            "placeholder": "​",
            "_view_module": "@jupyter-widgets/controls",
            "_model_module_version": "1.5.0",
            "value": " 153/153 [00:00&lt;00:00, 237B/s]",
            "_view_count": null,
            "_view_module_version": "1.5.0",
            "description_tooltip": null,
            "_model_module": "@jupyter-widgets/controls",
            "layout": "IPY_MODEL_20a3fe4ddc11464795e8b4e836a04f8b"
          }
        },
        "d82100907f7745458e2766c8593d61b7": {
          "model_module": "@jupyter-widgets/controls",
          "model_name": "ProgressStyleModel",
          "state": {
            "_view_name": "StyleView",
            "_model_name": "ProgressStyleModel",
            "description_width": "initial",
            "_view_module": "@jupyter-widgets/base",
            "_model_module_version": "1.5.0",
            "_view_count": null,
            "_view_module_version": "1.2.0",
            "bar_color": null,
            "_model_module": "@jupyter-widgets/controls"
          }
        },
        "6bf9cb8482a645f3a715eec721b75ae6": {
          "model_module": "@jupyter-widgets/base",
          "model_name": "LayoutModel",
          "state": {
            "_view_name": "LayoutView",
            "grid_template_rows": null,
            "right": null,
            "justify_content": null,
            "_view_module": "@jupyter-widgets/base",
            "overflow": null,
            "_model_module_version": "1.2.0",
            "_view_count": null,
            "flex_flow": null,
            "width": null,
            "min_width": null,
            "border": null,
            "align_items": null,
            "bottom": null,
            "_model_module": "@jupyter-widgets/base",
            "top": null,
            "grid_column": null,
            "overflow_y": null,
            "overflow_x": null,
            "grid_auto_flow": null,
            "grid_area": null,
            "grid_template_columns": null,
            "flex": null,
            "_model_name": "LayoutModel",
            "justify_items": null,
            "grid_row": null,
            "max_height": null,
            "align_content": null,
            "visibility": null,
            "align_self": null,
            "height": null,
            "min_height": null,
            "padding": null,
            "grid_auto_rows": null,
            "grid_gap": null,
            "max_width": null,
            "order": null,
            "_view_module_version": "1.2.0",
            "grid_template_areas": null,
            "object_position": null,
            "object_fit": null,
            "grid_auto_columns": null,
            "margin": null,
            "display": null,
            "left": null
          }
        },
        "749c88f54306471191ae64ae31d0f5dd": {
          "model_module": "@jupyter-widgets/controls",
          "model_name": "DescriptionStyleModel",
          "state": {
            "_view_name": "StyleView",
            "_model_name": "DescriptionStyleModel",
            "description_width": "",
            "_view_module": "@jupyter-widgets/base",
            "_model_module_version": "1.5.0",
            "_view_count": null,
            "_view_module_version": "1.2.0",
            "_model_module": "@jupyter-widgets/controls"
          }
        },
        "20a3fe4ddc11464795e8b4e836a04f8b": {
          "model_module": "@jupyter-widgets/base",
          "model_name": "LayoutModel",
          "state": {
            "_view_name": "LayoutView",
            "grid_template_rows": null,
            "right": null,
            "justify_content": null,
            "_view_module": "@jupyter-widgets/base",
            "overflow": null,
            "_model_module_version": "1.2.0",
            "_view_count": null,
            "flex_flow": null,
            "width": null,
            "min_width": null,
            "border": null,
            "align_items": null,
            "bottom": null,
            "_model_module": "@jupyter-widgets/base",
            "top": null,
            "grid_column": null,
            "overflow_y": null,
            "overflow_x": null,
            "grid_auto_flow": null,
            "grid_area": null,
            "grid_template_columns": null,
            "flex": null,
            "_model_name": "LayoutModel",
            "justify_items": null,
            "grid_row": null,
            "max_height": null,
            "align_content": null,
            "visibility": null,
            "align_self": null,
            "height": null,
            "min_height": null,
            "padding": null,
            "grid_auto_rows": null,
            "grid_gap": null,
            "max_width": null,
            "order": null,
            "_view_module_version": "1.2.0",
            "grid_template_areas": null,
            "object_position": null,
            "object_fit": null,
            "grid_auto_columns": null,
            "margin": null,
            "display": null,
            "left": null
          }
        },
        "6429c4820080401abe546e83dac95250": {
          "model_module": "@jupyter-widgets/controls",
          "model_name": "HBoxModel",
          "state": {
            "_view_name": "HBoxView",
            "_dom_classes": [],
            "_model_name": "HBoxModel",
            "_view_module": "@jupyter-widgets/controls",
            "_model_module_version": "1.5.0",
            "_view_count": null,
            "_view_module_version": "1.5.0",
            "box_style": "",
            "layout": "IPY_MODEL_cef1f081e9a6471b85178fc73759cd31",
            "_model_module": "@jupyter-widgets/controls",
            "children": [
              "IPY_MODEL_e7b1d13336e94ab9847353ac02c0484f",
              "IPY_MODEL_093fdbc08e7f4c31adf0e73d7bd846bc"
            ]
          }
        },
        "cef1f081e9a6471b85178fc73759cd31": {
          "model_module": "@jupyter-widgets/base",
          "model_name": "LayoutModel",
          "state": {
            "_view_name": "LayoutView",
            "grid_template_rows": null,
            "right": null,
            "justify_content": null,
            "_view_module": "@jupyter-widgets/base",
            "overflow": null,
            "_model_module_version": "1.2.0",
            "_view_count": null,
            "flex_flow": null,
            "width": null,
            "min_width": null,
            "border": null,
            "align_items": null,
            "bottom": null,
            "_model_module": "@jupyter-widgets/base",
            "top": null,
            "grid_column": null,
            "overflow_y": null,
            "overflow_x": null,
            "grid_auto_flow": null,
            "grid_area": null,
            "grid_template_columns": null,
            "flex": null,
            "_model_name": "LayoutModel",
            "justify_items": null,
            "grid_row": null,
            "max_height": null,
            "align_content": null,
            "visibility": null,
            "align_self": null,
            "height": null,
            "min_height": null,
            "padding": null,
            "grid_auto_rows": null,
            "grid_gap": null,
            "max_width": null,
            "order": null,
            "_view_module_version": "1.2.0",
            "grid_template_areas": null,
            "object_position": null,
            "object_fit": null,
            "grid_auto_columns": null,
            "margin": null,
            "display": null,
            "left": null
          }
        },
        "e7b1d13336e94ab9847353ac02c0484f": {
          "model_module": "@jupyter-widgets/controls",
          "model_name": "FloatProgressModel",
          "state": {
            "_view_name": "ProgressView",
            "style": "IPY_MODEL_cdc94bd165dc4204b455fe3cff3b4c28",
            "_dom_classes": [],
            "description": "Downloading: 100%",
            "_model_name": "FloatProgressModel",
            "bar_style": "success",
            "max": 363,
            "_view_module": "@jupyter-widgets/controls",
            "_model_module_version": "1.5.0",
            "value": 363,
            "_view_count": null,
            "_view_module_version": "1.5.0",
            "orientation": "horizontal",
            "min": 0,
            "description_tooltip": null,
            "_model_module": "@jupyter-widgets/controls",
            "layout": "IPY_MODEL_b4fc56f3ddf64bb09b435ff6d0295466"
          }
        },
        "093fdbc08e7f4c31adf0e73d7bd846bc": {
          "model_module": "@jupyter-widgets/controls",
          "model_name": "HTMLModel",
          "state": {
            "_view_name": "HTMLView",
            "style": "IPY_MODEL_bd6f44825bd0492aae047636faee538f",
            "_dom_classes": [],
            "description": "",
            "_model_name": "HTMLModel",
            "placeholder": "​",
            "_view_module": "@jupyter-widgets/controls",
            "_model_module_version": "1.5.0",
            "value": " 363/363 [00:00&lt;00:00, 3.83kB/s]",
            "_view_count": null,
            "_view_module_version": "1.5.0",
            "description_tooltip": null,
            "_model_module": "@jupyter-widgets/controls",
            "layout": "IPY_MODEL_d4f98eaa9bf949f7bbfccd9187fbfa70"
          }
        },
        "cdc94bd165dc4204b455fe3cff3b4c28": {
          "model_module": "@jupyter-widgets/controls",
          "model_name": "ProgressStyleModel",
          "state": {
            "_view_name": "StyleView",
            "_model_name": "ProgressStyleModel",
            "description_width": "initial",
            "_view_module": "@jupyter-widgets/base",
            "_model_module_version": "1.5.0",
            "_view_count": null,
            "_view_module_version": "1.2.0",
            "bar_color": null,
            "_model_module": "@jupyter-widgets/controls"
          }
        },
        "b4fc56f3ddf64bb09b435ff6d0295466": {
          "model_module": "@jupyter-widgets/base",
          "model_name": "LayoutModel",
          "state": {
            "_view_name": "LayoutView",
            "grid_template_rows": null,
            "right": null,
            "justify_content": null,
            "_view_module": "@jupyter-widgets/base",
            "overflow": null,
            "_model_module_version": "1.2.0",
            "_view_count": null,
            "flex_flow": null,
            "width": null,
            "min_width": null,
            "border": null,
            "align_items": null,
            "bottom": null,
            "_model_module": "@jupyter-widgets/base",
            "top": null,
            "grid_column": null,
            "overflow_y": null,
            "overflow_x": null,
            "grid_auto_flow": null,
            "grid_area": null,
            "grid_template_columns": null,
            "flex": null,
            "_model_name": "LayoutModel",
            "justify_items": null,
            "grid_row": null,
            "max_height": null,
            "align_content": null,
            "visibility": null,
            "align_self": null,
            "height": null,
            "min_height": null,
            "padding": null,
            "grid_auto_rows": null,
            "grid_gap": null,
            "max_width": null,
            "order": null,
            "_view_module_version": "1.2.0",
            "grid_template_areas": null,
            "object_position": null,
            "object_fit": null,
            "grid_auto_columns": null,
            "margin": null,
            "display": null,
            "left": null
          }
        },
        "bd6f44825bd0492aae047636faee538f": {
          "model_module": "@jupyter-widgets/controls",
          "model_name": "DescriptionStyleModel",
          "state": {
            "_view_name": "StyleView",
            "_model_name": "DescriptionStyleModel",
            "description_width": "",
            "_view_module": "@jupyter-widgets/base",
            "_model_module_version": "1.5.0",
            "_view_count": null,
            "_view_module_version": "1.2.0",
            "_model_module": "@jupyter-widgets/controls"
          }
        },
        "d4f98eaa9bf949f7bbfccd9187fbfa70": {
          "model_module": "@jupyter-widgets/base",
          "model_name": "LayoutModel",
          "state": {
            "_view_name": "LayoutView",
            "grid_template_rows": null,
            "right": null,
            "justify_content": null,
            "_view_module": "@jupyter-widgets/base",
            "overflow": null,
            "_model_module_version": "1.2.0",
            "_view_count": null,
            "flex_flow": null,
            "width": null,
            "min_width": null,
            "border": null,
            "align_items": null,
            "bottom": null,
            "_model_module": "@jupyter-widgets/base",
            "top": null,
            "grid_column": null,
            "overflow_y": null,
            "overflow_x": null,
            "grid_auto_flow": null,
            "grid_area": null,
            "grid_template_columns": null,
            "flex": null,
            "_model_name": "LayoutModel",
            "justify_items": null,
            "grid_row": null,
            "max_height": null,
            "align_content": null,
            "visibility": null,
            "align_self": null,
            "height": null,
            "min_height": null,
            "padding": null,
            "grid_auto_rows": null,
            "grid_gap": null,
            "max_width": null,
            "order": null,
            "_view_module_version": "1.2.0",
            "grid_template_areas": null,
            "object_position": null,
            "object_fit": null,
            "grid_auto_columns": null,
            "margin": null,
            "display": null,
            "left": null
          }
        }
      }
    },
    "accelerator": "GPU"
  },
  "cells": [
    {
      "cell_type": "code",
      "metadata": {
        "id": "9IA8qpskaVT8"
      },
      "source": [
        "import pandas as pd\n",
        "import numpy as np\n",
        "import tensorflow as tf\n",
        "tf.random.set_seed(42)\n",
        "\n",
        "pd.set_option('display.max_columns', 500) "
      ],
      "execution_count": 1,
      "outputs": []
    },
    {
      "cell_type": "markdown",
      "metadata": {
        "id": "RVT6iKNhQ6i0"
      },
      "source": [
        "# Load Data: DB1(2020.5.17).xlsx"
      ]
    },
    {
      "cell_type": "code",
      "metadata": {
        "id": "Eqq8aSwOUEcy"
      },
      "source": [
        "#data_jaun = pd.read_excel('DB1(2020.5.17).xlsx', sheet_name = 'digestive(jaundice)')\n",
        "#data_hemate = pd.read_excel('DB1(2020.5.17).xlsx', sheet_name = 'hematemesis(digestive)')\n",
        "#data_Folie_Nerve = pd.read_excel('DB1(2020.5.17).xlsx', sheet_name = 'Folie_Nerve')\n",
        "#data_musculoskeletal = pd.read_excel('DB1(2020.5.17).xlsx', sheet_name = 'musculoskeletal')\n",
        "#data_kidney = pd.read_excel('DB1(2020.5.17).xlsx', sheet_name = 'kidney')\n",
        "#data_respiratory = pd.read_excel('DB1(2020.5.17).xlsx', sheet_name = 'respiratory')\n",
        "#data_circulator1 = pd.read_excel('DB1(2020.5.17).xlsx', sheet_name = 'circulator1')\n",
        "#data_circulator2 = pd.read_excel('DB1(2020.5.17).xlsx', sheet_name = 'Circulator2')\n",
        "#data_para = pd.read_excel('DB1(2020.5.17).xlsx', sheet_name = 'Para_Female_Child')\n",
        "#data_digestive = pd.read_excel('DB1(2020.5.17).xlsx', sheet_name = 'digestive')\n",
        "#others = pd.read_excel('결측치db.xls', sheet_name='Sheet2')"
      ],
      "execution_count": 2,
      "outputs": []
    },
    {
      "cell_type": "code",
      "metadata": {
        "id": "Xbz8GXDeHHaj"
      },
      "source": [
        "data_jaun = pd.read_excel('DB1(2020.5.17)_add_less_5.xlsx', sheet_name = 'digestive(jaundice)')\n",
        "data_hemate = pd.read_excel('DB1(2020.5.17)_add_less_5.xlsx', sheet_name = 'hematemesis(digestive)')\n",
        "#data_Folie_Nerve = pd.read_excel('DB1(2020.5.17).xlsx', sheet_name = 'Folie_Nerve')\n",
        "data_musculoskeletal = pd.read_excel('DB1(2020.5.17)_add_less_5.xlsx', sheet_name = 'musculoskeletal')\n",
        "data_kidney = pd.read_excel('DB1(2020.5.17)_add_less_5.xlsx', sheet_name = 'kidney')\n",
        "data_respiratory = pd.read_excel('DB1(2020.5.17)_add_less_5.xlsx', sheet_name = 'respiratory')\n",
        "data_circulator1 = pd.read_excel('DB1(2020.5.17)_add_less_5.xlsx', sheet_name = 'circulator1')\n",
        "data_circulator2 = pd.read_excel('DB1(2020.5.17)_add_less_5.xlsx', sheet_name = 'Circulator2')\n",
        "data_para = pd.read_excel('DB1(2020.5.17)_add_less_5.xlsx', sheet_name = 'Para_Female_Child')\n",
        "data_digestive = pd.read_excel('DB1(2020.5.17)_add_less_5.xlsx', sheet_name = 'digestive')\n",
        "#others = pd.read_excel('결측치db.xls', sheet_name='Sheet2')"
      ],
      "execution_count": 3,
      "outputs": []
    },
    {
      "cell_type": "markdown",
      "metadata": {
        "id": "RoLbHC7vRGew"
      },
      "source": [
        "# 1. Preprocessing"
      ]
    },
    {
      "cell_type": "markdown",
      "metadata": {
        "id": "iZZcnNXBKlHb"
      },
      "source": [
        "## 0) Select columns and fill diseases"
      ]
    },
    {
      "cell_type": "code",
      "metadata": {
        "id": "D0CoLQiww8_h"
      },
      "source": [
        "def organize_data(df):\n",
        "  df.columns = df.iloc[0]\n",
        "  df = df[1:]\n",
        "  df = df.iloc[:, 6:]\n",
        "  df['level5/diagnosis'] = df['level5/diagnosis'].fillna(method='ffill') \n",
        "  df.drop('No.case', axis=1, inplace=True)\n",
        "\n",
        "  return df"
      ],
      "execution_count": 4,
      "outputs": []
    },
    {
      "cell_type": "code",
      "metadata": {
        "id": "jOzjEnC_xKFc"
      },
      "source": [
        "data_digestive = organize_data(data_digestive)\n",
        "data_musculoskeletal = organize_data(data_musculoskeletal)\n",
        "data_kidney = organize_data(data_kidney)\n",
        "data_respiratory = organize_data(data_respiratory)\n",
        "data_para = organize_data(data_para)\n",
        "#data_Folie_Nerve = organize_data(data_Folie_Nerve)\n",
        "data_circulator1 = organize_data(data_circulator1)\n",
        "data_circulator1 = data_circulator1.iloc[:, :21]\n",
        "\n",
        "data_circulator2 = data_circulator2.iloc[:, 1:]\n",
        "data_circulator2['진단 질병'] = data_circulator2['진단 질병'].fillna(method='ffill')\n",
        "data_circulator2.drop('No.case', axis=1, inplace=True) "
      ],
      "execution_count": 5,
      "outputs": []
    },
    {
      "cell_type": "code",
      "metadata": {
        "id": "x9U1e1J62wqw"
      },
      "source": [
        "data_hemate = organize_data(data_hemate)\n",
        "data_jaun = organize_data(data_jaun)\n",
        "\n",
        "data_hemate['Level1'] = 'hematemesis(digestive)'\n",
        "data_jaun['Level1'] = 'digestive(jaundice)'"
      ],
      "execution_count": 6,
      "outputs": []
    },
    {
      "cell_type": "code",
      "metadata": {
        "id": "2SdFyRewaAMa"
      },
      "source": [
        "data_digestive['Level1'] = 'digestive'\n",
        "data_musculoskeletal['Level1'] = 'musculoskeletal'\n",
        "data_kidney['Level1'] = 'kidney'\n",
        "data_respiratory['Level1'] = 'respiratory'\n",
        "data_para['Level1'] = 'para'\n",
        "data_circulator1['Level1'] = 'circulator1'\n",
        "data_circulator2['Level1'] = 'circulator2'"
      ],
      "execution_count": 7,
      "outputs": []
    },
    {
      "cell_type": "code",
      "metadata": {
        "colab": {
          "base_uri": "https://localhost:8080/"
        },
        "id": "zle4FdXxzH8p",
        "outputId": "427d1638-2a91-4a5f-b604-62258467753f"
      },
      "source": [
        "print(data_hemate.shape)\n",
        "print(data_jaun.shape)\n",
        "print(data_digestive.shape)\n",
        "print(data_musculoskeletal.shape)\n",
        "print(data_kidney.shape)\n",
        "print(data_respiratory.shape)\n",
        "print(data_para.shape)\n",
        "#print(data_Folie_Nerve.shape)\n",
        "print(data_circulator1.shape)\n",
        "print(data_circulator2.shape)"
      ],
      "execution_count": 8,
      "outputs": [
        {
          "output_type": "stream",
          "text": [
            "(360, 22)\n",
            "(440, 22)\n",
            "(421, 22)\n",
            "(205, 22)\n",
            "(246, 22)\n",
            "(205, 22)\n",
            "(355, 22)\n",
            "(305, 22)\n",
            "(218, 22)\n"
          ],
          "name": "stdout"
        }
      ]
    },
    {
      "cell_type": "code",
      "metadata": {
        "colab": {
          "base_uri": "https://localhost:8080/",
          "height": 134
        },
        "id": "gEMR9X_T0MnP",
        "outputId": "ab26cebe-6605-4544-915a-b739a95fddbe"
      },
      "source": [
        "data_circulator2.columns = data_circulator1.columns\n",
        "\n",
        "data = pd.concat([data_digestive, data_musculoskeletal, data_kidney,\n",
        "                  data_respiratory, data_circulator1, #data_Folie_Nerve,\n",
        "                  data_circulator2, data_para, data_jaun, data_hemate], axis=0)\n",
        "data.sample()"
      ],
      "execution_count": 9,
      "outputs": [
        {
          "output_type": "execute_result",
          "data": {
            "text/html": [
              "<div>\n",
              "<style scoped>\n",
              "    .dataframe tbody tr th:only-of-type {\n",
              "        vertical-align: middle;\n",
              "    }\n",
              "\n",
              "    .dataframe tbody tr th {\n",
              "        vertical-align: top;\n",
              "    }\n",
              "\n",
              "    .dataframe thead th {\n",
              "        text-align: right;\n",
              "    }\n",
              "</style>\n",
              "<table border=\"1\" class=\"dataframe\">\n",
              "  <thead>\n",
              "    <tr style=\"text-align: right;\">\n",
              "      <th></th>\n",
              "      <th>level5/diagnosis</th>\n",
              "      <th>Chief complaint</th>\n",
              "      <th>Sex</th>\n",
              "      <th>Age</th>\n",
              "      <th>Height</th>\n",
              "      <th>Weight</th>\n",
              "      <th>Onset</th>\n",
              "      <th>Location</th>\n",
              "      <th>Duration</th>\n",
              "      <th>Course</th>\n",
              "      <th>Experience</th>\n",
              "      <th>Character</th>\n",
              "      <th>Associated Sx.</th>\n",
              "      <th>Factor</th>\n",
              "      <th>Event</th>\n",
              "      <th>약물 투약력</th>\n",
              "      <th>사회력</th>\n",
              "      <th>가족력</th>\n",
              "      <th>외상력</th>\n",
              "      <th>과거력</th>\n",
              "      <th>여성력</th>\n",
              "      <th>Level1</th>\n",
              "    </tr>\n",
              "  </thead>\n",
              "  <tbody>\n",
              "    <tr>\n",
              "      <th>342</th>\n",
              "      <td>Constitutional delay</td>\n",
              "      <td>NaN</td>\n",
              "      <td>NaN</td>\n",
              "      <td>NaN</td>\n",
              "      <td>NaN</td>\n",
              "      <td>NaN</td>\n",
              "      <td>NaN</td>\n",
              "      <td>NaN</td>\n",
              "      <td>NaN</td>\n",
              "      <td>NaN</td>\n",
              "      <td>NaN</td>\n",
              "      <td>NaN</td>\n",
              "      <td>NaN</td>\n",
              "      <td>NaN</td>\n",
              "      <td>NaN</td>\n",
              "      <td>NaN</td>\n",
              "      <td>NaN</td>\n",
              "      <td>NaN</td>\n",
              "      <td>NaN</td>\n",
              "      <td>NaN</td>\n",
              "      <td>NaN</td>\n",
              "      <td>para</td>\n",
              "    </tr>\n",
              "  </tbody>\n",
              "</table>\n",
              "</div>"
            ],
            "text/plain": [
              "0        level5/diagnosis Chief complaint  Sex  Age Height Weight Onset  \\\n",
              "342  Constitutional delay             NaN  NaN  NaN    NaN    NaN   NaN   \n",
              "\n",
              "0   Location Duration Course Experience Character Associated Sx. Factor Event  \\\n",
              "342      NaN      NaN    NaN        NaN       NaN            NaN    NaN   NaN   \n",
              "\n",
              "0   약물 투약력  사회력  가족력  외상력  과거력  여성력 Level1  \n",
              "342    NaN  NaN  NaN  NaN  NaN  NaN   para  "
            ]
          },
          "metadata": {
            "tags": []
          },
          "execution_count": 9
        }
      ]
    },
    {
      "cell_type": "code",
      "metadata": {
        "colab": {
          "base_uri": "https://localhost:8080/",
          "height": 219
        },
        "id": "KoDiLuSSFquj",
        "outputId": "d1430cc7-b867-425f-8559-639e6ec8f0fe"
      },
      "source": [
        "nan_data = pd.read_excel('at_least_10_nan_data.xlsx', sheet_name = 'Sheet1')\n",
        "nan_data.drop('Unnamed: 0', inplace=True, axis=1)\n",
        "nan_data.head(1)"
      ],
      "execution_count": 10,
      "outputs": [
        {
          "output_type": "execute_result",
          "data": {
            "text/html": [
              "<div>\n",
              "<style scoped>\n",
              "    .dataframe tbody tr th:only-of-type {\n",
              "        vertical-align: middle;\n",
              "    }\n",
              "\n",
              "    .dataframe tbody tr th {\n",
              "        vertical-align: top;\n",
              "    }\n",
              "\n",
              "    .dataframe thead th {\n",
              "        text-align: right;\n",
              "    }\n",
              "</style>\n",
              "<table border=\"1\" class=\"dataframe\">\n",
              "  <thead>\n",
              "    <tr style=\"text-align: right;\">\n",
              "      <th></th>\n",
              "      <th>level5/diagnosis</th>\n",
              "      <th>Chief complaint</th>\n",
              "      <th>Sex</th>\n",
              "      <th>Age</th>\n",
              "      <th>Height</th>\n",
              "      <th>Weight</th>\n",
              "      <th>Onset</th>\n",
              "      <th>Location</th>\n",
              "      <th>Duration</th>\n",
              "      <th>Course</th>\n",
              "      <th>Experience</th>\n",
              "      <th>Character</th>\n",
              "      <th>Associated Sx.</th>\n",
              "      <th>Factor</th>\n",
              "      <th>Event</th>\n",
              "      <th>약물 투약력</th>\n",
              "      <th>사회력</th>\n",
              "      <th>가족력</th>\n",
              "      <th>외상력</th>\n",
              "      <th>과거력</th>\n",
              "      <th>여성력</th>\n",
              "      <th>Level1</th>\n",
              "    </tr>\n",
              "  </thead>\n",
              "  <tbody>\n",
              "    <tr>\n",
              "      <th>0</th>\n",
              "      <td>Reflux esophagitis</td>\n",
              "      <td>피 토했어요</td>\n",
              "      <td>여자</td>\n",
              "      <td>40</td>\n",
              "      <td>165</td>\n",
              "      <td>65.0</td>\n",
              "      <td>2달전</td>\n",
              "      <td>NaN</td>\n",
              "      <td>NaN</td>\n",
              "      <td>비슷함</td>\n",
              "      <td>처음</td>\n",
              "      <td>붉은색, 덩어리(-), 음식물(-)</td>\n",
              "      <td>복통, 기침</td>\n",
              "      <td>NaN</td>\n",
              "      <td>특이사항 없음</td>\n",
              "      <td>NaN</td>\n",
              "      <td>NaN</td>\n",
              "      <td>NaN</td>\n",
              "      <td>NaN</td>\n",
              "      <td>NaN</td>\n",
              "      <td>정상 월경주기</td>\n",
              "      <td>digestive</td>\n",
              "    </tr>\n",
              "  </tbody>\n",
              "</table>\n",
              "</div>"
            ],
            "text/plain": [
              "     level5/diagnosis Chief complaint Sex Age Height  Weight Onset Location  \\\n",
              "0  Reflux esophagitis          피 토했어요  여자  40    165    65.0   2달전      NaN   \n",
              "\n",
              "  Duration Course Experience            Character Associated Sx. Factor  \\\n",
              "0      NaN    비슷함         처음  붉은색, 덩어리(-), 음식물(-)         복통, 기침    NaN   \n",
              "\n",
              "     Event 약물 투약력  사회력  가족력  외상력  과거력      여성력     Level1  \n",
              "0  특이사항 없음    NaN  NaN  NaN  NaN  NaN  정상 월경주기  digestive  "
            ]
          },
          "metadata": {
            "tags": []
          },
          "execution_count": 10
        }
      ]
    },
    {
      "cell_type": "code",
      "metadata": {
        "colab": {
          "base_uri": "https://localhost:8080/"
        },
        "id": "Z0UUTyNuGMsj",
        "outputId": "b0dffdb8-3c0c-4c80-e558-1d8c73415bd6"
      },
      "source": [
        "print(data.shape)\n",
        "data = pd.concat([data, nan_data], axis=0)\n",
        "print(data.shape)"
      ],
      "execution_count": 11,
      "outputs": [
        {
          "output_type": "stream",
          "text": [
            "(2755, 22)\n",
            "(2953, 22)\n"
          ],
          "name": "stdout"
        }
      ]
    },
    {
      "cell_type": "code",
      "metadata": {
        "id": "W-gVtdAEGMNc"
      },
      "source": [
        ""
      ],
      "execution_count": 11,
      "outputs": []
    },
    {
      "cell_type": "markdown",
      "metadata": {
        "id": "aayyq2tF1gFs"
      },
      "source": [
        "## 1) Drop rows if more than half are nan"
      ]
    },
    {
      "cell_type": "code",
      "metadata": {
        "id": "xnj87S0m2VMo"
      },
      "source": [
        "data = data.fillna('-')"
      ],
      "execution_count": 12,
      "outputs": []
    },
    {
      "cell_type": "code",
      "metadata": {
        "id": "ACrBKPgT2LQw"
      },
      "source": [
        "def to_nan(x):\n",
        "  if(x == '-'):\n",
        "    x = np.nan\n",
        "  if(x == '(-)'):\n",
        "    x = np.nan\n",
        "  if(x=='없음'):\n",
        "    x = np.nan\n",
        "  if(x=='특이사항 없음'):\n",
        "    x = np.nan\n",
        "  if(x=='이상 없음'):\n",
        "    x = np.nan\n",
        "  if(x=='.'):\n",
        "    x = np.nan\n",
        "    \n",
        "  return x"
      ],
      "execution_count": 13,
      "outputs": []
    },
    {
      "cell_type": "code",
      "metadata": {
        "id": "W8-jl6BB2SuP"
      },
      "source": [
        "for i in range(len(data.columns)):\n",
        "    data[data.columns[i]] = data.apply(lambda x : to_nan(x[data.columns[i]]) , axis = 1 )"
      ],
      "execution_count": 14,
      "outputs": []
    },
    {
      "cell_type": "code",
      "metadata": {
        "colab": {
          "base_uri": "https://localhost:8080/"
        },
        "id": "8m45ZTcu1Mug",
        "outputId": "a6210416-ac95-488d-c9cb-bfe57232784a"
      },
      "source": [
        "print('Before', data.shape)\n",
        "data.dropna(thresh = data.shape[1]/2, axis = 0, inplace = True)\n",
        "print('After', data.shape)"
      ],
      "execution_count": 15,
      "outputs": [
        {
          "output_type": "stream",
          "text": [
            "Before (2953, 22)\n",
            "After (2238, 22)\n"
          ],
          "name": "stdout"
        }
      ]
    },
    {
      "cell_type": "code",
      "metadata": {
        "id": "j9-gM2TK6Vjv"
      },
      "source": [
        "data.reset_index(drop=True, inplace=True)"
      ],
      "execution_count": 16,
      "outputs": []
    },
    {
      "cell_type": "code",
      "metadata": {
        "colab": {
          "base_uri": "https://localhost:8080/"
        },
        "id": "l3qRGPPB05-5",
        "outputId": "ebfa7e5c-d739-4086-f13c-bd7c5d8496ff"
      },
      "source": [
        "print(data.shape)\n",
        "print(data['level5/diagnosis'].value_counts())"
      ],
      "execution_count": 17,
      "outputs": [
        {
          "output_type": "stream",
          "text": [
            "(2238, 22)\n",
            "Rupture of esophageal varices     100\n",
            "Acute cholecystitis                50\n",
            "Gastric ulcer / duodenal ulcer     50\n",
            "Chronic pancreatitis               50\n",
            "Esophageal cancer                  50\n",
            "                                 ... \n",
            "Chronic renal failure               1\n",
            "Drug-induced tachycardia            1\n",
            "  Use of hormonal drugs             1\n",
            "Transient ischemic attack           1\n",
            "intraducal papilloma                1\n",
            "Name: level5/diagnosis, Length: 289, dtype: int64\n"
          ],
          "name": "stdout"
        }
      ]
    },
    {
      "cell_type": "code",
      "metadata": {
        "id": "BOk6Euw_dSzF"
      },
      "source": [
        "#idx_num = data[data['Height'].isnull()].index\n",
        "#data = data.drop(idx_num)"
      ],
      "execution_count": 18,
      "outputs": []
    },
    {
      "cell_type": "code",
      "metadata": {
        "id": "LbQYmVhIKsyq"
      },
      "source": [
        ""
      ],
      "execution_count": 18,
      "outputs": []
    },
    {
      "cell_type": "markdown",
      "metadata": {
        "id": "dTXoHVP4RJkE"
      },
      "source": [
        "## 2) Change Nan to blank text"
      ]
    },
    {
      "cell_type": "code",
      "metadata": {
        "id": "dt3ThlnBfsQs"
      },
      "source": [
        "data = data.fillna('-')"
      ],
      "execution_count": 19,
      "outputs": []
    },
    {
      "cell_type": "code",
      "metadata": {
        "id": "uXfGSN-8mouO"
      },
      "source": [
        "def to_nan(x):\n",
        "  if(x == '-'):\n",
        "    x = ''\n",
        "  elif(x == '아니오'):\n",
        "    x = ''\n",
        "  elif(x == '아뇨'):\n",
        "    x = ''\n",
        "  elif(x == '몰라요'):\n",
        "    x = ''\n",
        "  elif(x == '모릅니다'):\n",
        "    x = ''\n",
        "  elif(x == '모름'):\n",
        "    x = ''\n",
        "  elif(x == '아뇨'):\n",
        "    x = ''\n",
        "  elif(x == '아뇨'):\n",
        "    x = ''\n",
        "  elif(x == '.'):\n",
        "    x = ''    \n",
        "  return x"
      ],
      "execution_count": 20,
      "outputs": []
    },
    {
      "cell_type": "code",
      "metadata": {
        "id": "RCMQCxldmoix"
      },
      "source": [
        "for i in range(len(data.columns)):\n",
        "    data[data.columns[i]] = data.apply(lambda x : to_nan(x[data.columns[i]]) , axis = 1 )"
      ],
      "execution_count": 21,
      "outputs": []
    },
    {
      "cell_type": "code",
      "metadata": {
        "colab": {
          "base_uri": "https://localhost:8080/"
        },
        "id": "dNz9DxwI17Rm",
        "outputId": "b1dd9e2c-5a4e-4276-bac7-857a3cd53c1c"
      },
      "source": [
        "print(data.shape)"
      ],
      "execution_count": 22,
      "outputs": [
        {
          "output_type": "stream",
          "text": [
            "(2238, 22)\n"
          ],
          "name": "stdout"
        }
      ]
    },
    {
      "cell_type": "markdown",
      "metadata": {
        "id": "2KvyK8gz3fjh"
      },
      "source": [
        "## 3) Check Target Data, Disease"
      ]
    },
    {
      "cell_type": "code",
      "metadata": {
        "colab": {
          "base_uri": "https://localhost:8080/"
        },
        "id": "fyGrH-By36ja",
        "outputId": "3c301f13-04ae-492f-b55c-831b6b9d3f47"
      },
      "source": [
        "data['level5/diagnosis'].value_counts()"
      ],
      "execution_count": 23,
      "outputs": [
        {
          "output_type": "execute_result",
          "data": {
            "text/plain": [
              "Rupture of esophageal varices     100\n",
              "Acute cholecystitis                50\n",
              "Gastric ulcer / duodenal ulcer     50\n",
              "Chronic pancreatitis               50\n",
              "Esophageal cancer                  50\n",
              "                                 ... \n",
              "Chronic renal failure               1\n",
              "Drug-induced tachycardia            1\n",
              "  Use of hormonal drugs             1\n",
              "Transient ischemic attack           1\n",
              "intraducal papilloma                1\n",
              "Name: level5/diagnosis, Length: 289, dtype: int64"
            ]
          },
          "metadata": {
            "tags": []
          },
          "execution_count": 23
        }
      ]
    },
    {
      "cell_type": "code",
      "metadata": {
        "colab": {
          "base_uri": "https://localhost:8080/"
        },
        "id": "M-y09EPr3fFi",
        "outputId": "166406dc-5855-42ad-9ffa-7292c512a277"
      },
      "source": [
        "len(data['level5/diagnosis'].unique())"
      ],
      "execution_count": 24,
      "outputs": [
        {
          "output_type": "execute_result",
          "data": {
            "text/plain": [
              "289"
            ]
          },
          "metadata": {
            "tags": []
          },
          "execution_count": 24
        }
      ]
    },
    {
      "cell_type": "markdown",
      "metadata": {
        "id": "mh7Cfaw33m2a"
      },
      "source": [
        "### Organize differently expressed diseases to the same expression diseases"
      ]
    },
    {
      "cell_type": "code",
      "metadata": {
        "colab": {
          "base_uri": "https://localhost:8080/",
          "height": 204
        },
        "id": "e_AZUkd23iSv",
        "outputId": "4d2c7e84-84ad-4fe4-9062-e7d71ab1b159"
      },
      "source": [
        "disease_kor = pd.read_excel('ver6_new_words.xlsx', sheet_name = '질병')\n",
        "disease_kor = disease_kor[['level5/diagnosis', '번역']]\n",
        "disease_kor.head()"
      ],
      "execution_count": 25,
      "outputs": [
        {
          "output_type": "execute_result",
          "data": {
            "text/html": [
              "<div>\n",
              "<style scoped>\n",
              "    .dataframe tbody tr th:only-of-type {\n",
              "        vertical-align: middle;\n",
              "    }\n",
              "\n",
              "    .dataframe tbody tr th {\n",
              "        vertical-align: top;\n",
              "    }\n",
              "\n",
              "    .dataframe thead th {\n",
              "        text-align: right;\n",
              "    }\n",
              "</style>\n",
              "<table border=\"1\" class=\"dataframe\">\n",
              "  <thead>\n",
              "    <tr style=\"text-align: right;\">\n",
              "      <th></th>\n",
              "      <th>level5/diagnosis</th>\n",
              "      <th>번역</th>\n",
              "    </tr>\n",
              "  </thead>\n",
              "  <tbody>\n",
              "    <tr>\n",
              "      <th>0</th>\n",
              "      <td>Pseudoparathyroidism</td>\n",
              "      <td>가성 부갑상선 기능 저하증</td>\n",
              "    </tr>\n",
              "    <tr>\n",
              "      <th>1</th>\n",
              "      <td>Familial hypercholesterolemia</td>\n",
              "      <td>가족성 고콜레스테롤혈증</td>\n",
              "    </tr>\n",
              "    <tr>\n",
              "      <th>2</th>\n",
              "      <td>Familial short stature</td>\n",
              "      <td>가족형 저신장증</td>\n",
              "    </tr>\n",
              "    <tr>\n",
              "      <th>3</th>\n",
              "      <td>hepatitis</td>\n",
              "      <td>간염</td>\n",
              "    </tr>\n",
              "    <tr>\n",
              "      <th>4</th>\n",
              "      <td>Interstitial lung disease (ILD)</td>\n",
              "      <td>간질성 폐질환</td>\n",
              "    </tr>\n",
              "  </tbody>\n",
              "</table>\n",
              "</div>"
            ],
            "text/plain": [
              "                  level5/diagnosis              번역\n",
              "0             Pseudoparathyroidism  가성 부갑상선 기능 저하증\n",
              "1    Familial hypercholesterolemia    가족성 고콜레스테롤혈증\n",
              "2           Familial short stature        가족형 저신장증\n",
              "3                        hepatitis              간염\n",
              "4  Interstitial lung disease (ILD)         간질성 폐질환"
            ]
          },
          "metadata": {
            "tags": []
          },
          "execution_count": 25
        }
      ]
    },
    {
      "cell_type": "code",
      "metadata": {
        "colab": {
          "base_uri": "https://localhost:8080/",
          "height": 185
        },
        "id": "-JLpBUwl3kkr",
        "outputId": "019351f0-7a78-43ff-c682-2e203cabe721"
      },
      "source": [
        "data = pd.merge(data, disease_kor, how='left',on='level5/diagnosis')\n",
        "data = data.drop_duplicates()\n",
        "data.reset_index(drop=True, inplace=True)\n",
        "\n",
        "data['번역'].fillna(data['level5/diagnosis'], inplace=True)\n",
        "data['level5/diagnosis'] = data['번역']\n",
        "data.drop('번역', axis=1, inplace=True)\n",
        "data.sample()"
      ],
      "execution_count": 26,
      "outputs": [
        {
          "output_type": "execute_result",
          "data": {
            "text/html": [
              "<div>\n",
              "<style scoped>\n",
              "    .dataframe tbody tr th:only-of-type {\n",
              "        vertical-align: middle;\n",
              "    }\n",
              "\n",
              "    .dataframe tbody tr th {\n",
              "        vertical-align: top;\n",
              "    }\n",
              "\n",
              "    .dataframe thead th {\n",
              "        text-align: right;\n",
              "    }\n",
              "</style>\n",
              "<table border=\"1\" class=\"dataframe\">\n",
              "  <thead>\n",
              "    <tr style=\"text-align: right;\">\n",
              "      <th></th>\n",
              "      <th>level5/diagnosis</th>\n",
              "      <th>Chief complaint</th>\n",
              "      <th>Sex</th>\n",
              "      <th>Age</th>\n",
              "      <th>Height</th>\n",
              "      <th>Weight</th>\n",
              "      <th>Onset</th>\n",
              "      <th>Location</th>\n",
              "      <th>Duration</th>\n",
              "      <th>Course</th>\n",
              "      <th>Experience</th>\n",
              "      <th>Character</th>\n",
              "      <th>Associated Sx.</th>\n",
              "      <th>Factor</th>\n",
              "      <th>Event</th>\n",
              "      <th>약물 투약력</th>\n",
              "      <th>사회력</th>\n",
              "      <th>가족력</th>\n",
              "      <th>외상력</th>\n",
              "      <th>과거력</th>\n",
              "      <th>여성력</th>\n",
              "      <th>Level1</th>\n",
              "    </tr>\n",
              "  </thead>\n",
              "  <tbody>\n",
              "    <tr>\n",
              "      <th>538</th>\n",
              "      <td>척추 종양</td>\n",
              "      <td>목 아파요</td>\n",
              "      <td>여자</td>\n",
              "      <td>61</td>\n",
              "      <td>162</td>\n",
              "      <td>53</td>\n",
              "      <td>3개월전</td>\n",
              "      <td>목</td>\n",
              "      <td>하루종일</td>\n",
              "      <td>심해짐</td>\n",
              "      <td>처음</td>\n",
              "      <td>뻐근한 통증</td>\n",
              "      <td>체중 감소</td>\n",
              "      <td></td>\n",
              "      <td></td>\n",
              "      <td></td>\n",
              "      <td></td>\n",
              "      <td></td>\n",
              "      <td></td>\n",
              "      <td></td>\n",
              "      <td></td>\n",
              "      <td>musculoskeletal</td>\n",
              "    </tr>\n",
              "  </tbody>\n",
              "</table>\n",
              "</div>"
            ],
            "text/plain": [
              "    level5/diagnosis Chief complaint Sex Age Height Weight Onset Location  \\\n",
              "538            척추 종양           목 아파요  여자  61    162     53  3개월전        목   \n",
              "\n",
              "    Duration Course Experience Character Associated Sx. Factor Event 약물 투약력  \\\n",
              "538     하루종일    심해짐         처음    뻐근한 통증          체중 감소                       \n",
              "\n",
              "    사회력 가족력 외상력 과거력 여성력           Level1  \n",
              "538                      musculoskeletal  "
            ]
          },
          "metadata": {
            "tags": []
          },
          "execution_count": 26
        }
      ]
    },
    {
      "cell_type": "code",
      "metadata": {
        "colab": {
          "base_uri": "https://localhost:8080/"
        },
        "id": "MVTUU3gW3rFV",
        "outputId": "5f5c203f-cedd-4bd5-8541-311ff2b01b06"
      },
      "source": [
        "print(data.shape)\n",
        "#print(disease_kor.shape)\n",
        "#print(a.shape)"
      ],
      "execution_count": 27,
      "outputs": [
        {
          "output_type": "stream",
          "text": [
            "(2222, 22)\n"
          ],
          "name": "stdout"
        }
      ]
    },
    {
      "cell_type": "code",
      "metadata": {
        "id": "93NpVUM-3rxP"
      },
      "source": [
        "#ind = data[data['level5/diagnosis'] == 'Gastritis, gastric ulcer, duodenal ulcer'].index\n",
        "#data.loc[ind, data.columns[0]] = 'Gastric ulcer / duodenal ulcer'\n",
        "#data[data['level5/diagnosis'] == 'Gastric ulcer / duodenal ulcer']\n",
        "\n",
        "#ind = data[data['level5/diagnosis'] == 'Irritable bowel syndrome (IBS)'].index\n",
        "#data.loc[ind, data.columns[0]] = 'Irritable bowel syndrome'\n",
        "\n",
        "#ind = data[data['level5/diagnosis'] == 'Irritable Bowel Syndrome (IBS)'].index\n",
        "#data.loc[ind, data.columns[0]] = 'Irritable bowel syndrome'"
      ],
      "execution_count": 28,
      "outputs": []
    },
    {
      "cell_type": "markdown",
      "metadata": {
        "id": "0IFjEFXutZU5"
      },
      "source": [
        "- Change some disease names in Circulator2"
      ]
    },
    {
      "cell_type": "code",
      "metadata": {
        "id": "NB9dRoxctTYA"
      },
      "source": [
        "idx = data[data['level5/diagnosis'] == '공황장애 / 과다환기증후군'].index#['level5/diagnosis'] = '공황장애'\n",
        "data.loc[idx, 'level5/diagnosis'] = '공황장애'\n",
        "\n",
        "idx = data[data['level5/diagnosis'] == '소화성궤양'].index\n",
        "data.loc[idx, 'level5/diagnosis'] = '소화성 궤양'\n",
        "\n",
        "idx = data[data['level5/diagnosis'] == '기립성 저혈압(혈량저하증 동반되어 있을 수)'].index\n",
        "data.loc[idx, 'level5/diagnosis'] = '기립성 저혈압(혈량저하증 동반 가능)'\n",
        "\n",
        "idx = data[data['level5/diagnosis'] == '대동맥박리'].index\n",
        "data.loc[idx, 'level5/diagnosis'] = '대동맥 박리'\n",
        "\n",
        "idx = data[data['level5/diagnosis'] == '역류성식도염'].index\n",
        "data.loc[idx, 'level5/diagnosis'] = '역류성 식도염'\n",
        "\n",
        "idx = data[data['level5/diagnosis'] == '거미막하출혈(SAH)'].index\n",
        "data.loc[idx, 'level5/diagnosis'] = '지주막하 출혈'\n",
        "\n",
        "idx = data[data['level5/diagnosis'] == '과다환기증'].index # 원문: Panic disorder / hyperventilation syndrome\n",
        "data.loc[idx, 'level5/diagnosis'] = '공황장애'\n",
        "\n",
        "idx = data[data['level5/diagnosis'] == '판막 질환(AR, MR 등)'].index\n",
        "data.loc[idx, 'level5/diagnosis'] = '판막 질환'\n",
        "\n",
        "idx = data[data['level5/diagnosis'] == '폐경후증후군'].index\n",
        "data.loc[idx, 'level5/diagnosis'] = '폐경증후군'\n",
        "\n",
        "idx = data[data['level5/diagnosis'] == '폐경증후군(폐경)'].index\n",
        "data.loc[idx, 'level5/diagnosis'] = '폐경증후군'\n",
        "\n",
        "idx = data[data['level5/diagnosis'] == '마주신경성 실신'].index\n",
        "data.loc[idx, 'level5/diagnosis'] = '미주신경성 실신'"
      ],
      "execution_count": 29,
      "outputs": []
    },
    {
      "cell_type": "code",
      "metadata": {
        "colab": {
          "base_uri": "https://localhost:8080/"
        },
        "id": "8vj_bYea35jg",
        "outputId": "5074f135-fa48-41ac-fd26-81124dd9a743"
      },
      "source": [
        "len(data['level5/diagnosis'].unique())"
      ],
      "execution_count": 30,
      "outputs": [
        {
          "output_type": "execute_result",
          "data": {
            "text/plain": [
              "227"
            ]
          },
          "metadata": {
            "tags": []
          },
          "execution_count": 30
        }
      ]
    },
    {
      "cell_type": "markdown",
      "metadata": {
        "id": "ECoRD3tB2uyt"
      },
      "source": [
        "### Drop disease which has less than 5 cases"
      ]
    },
    {
      "cell_type": "code",
      "metadata": {
        "id": "QWgfj_GuLEeo",
        "outputId": "ca85ea6c-a81c-4377-e2bd-6aa4f3e30ec1",
        "colab": {
          "base_uri": "https://localhost:8080/",
          "height": 111
        }
      },
      "source": [
        "target_counts = data['level5/diagnosis'].value_counts().reset_index()\n",
        "target_counts.columns = ['Disease', 'counts']\n",
        "target_counts = target_counts[target_counts['counts'] < 5]\n",
        "target_counts"
      ],
      "execution_count": 31,
      "outputs": [
        {
          "output_type": "execute_result",
          "data": {
            "text/html": [
              "<div>\n",
              "<style scoped>\n",
              "    .dataframe tbody tr th:only-of-type {\n",
              "        vertical-align: middle;\n",
              "    }\n",
              "\n",
              "    .dataframe tbody tr th {\n",
              "        vertical-align: top;\n",
              "    }\n",
              "\n",
              "    .dataframe thead th {\n",
              "        text-align: right;\n",
              "    }\n",
              "</style>\n",
              "<table border=\"1\" class=\"dataframe\">\n",
              "  <thead>\n",
              "    <tr style=\"text-align: right;\">\n",
              "      <th></th>\n",
              "      <th>Disease</th>\n",
              "      <th>counts</th>\n",
              "    </tr>\n",
              "  </thead>\n",
              "  <tbody>\n",
              "    <tr>\n",
              "      <th>225</th>\n",
              "      <td>신증후군</td>\n",
              "      <td>4</td>\n",
              "    </tr>\n",
              "    <tr>\n",
              "      <th>226</th>\n",
              "      <td>갈색세포종</td>\n",
              "      <td>3</td>\n",
              "    </tr>\n",
              "  </tbody>\n",
              "</table>\n",
              "</div>"
            ],
            "text/plain": [
              "    Disease  counts\n",
              "225    신증후군       4\n",
              "226   갈색세포종       3"
            ]
          },
          "metadata": {
            "tags": []
          },
          "execution_count": 31
        }
      ]
    },
    {
      "cell_type": "code",
      "metadata": {
        "colab": {
          "base_uri": "https://localhost:8080/",
          "height": 419
        },
        "id": "Mvxwq30133w3",
        "outputId": "aff99879-be94-437e-a4b5-89122dcb0990"
      },
      "source": [
        "target_counts = data['level5/diagnosis'].value_counts().reset_index()\n",
        "target_counts.columns = ['Disease', 'counts']\n",
        "target_counts = target_counts[target_counts['counts'] >= 5]\n",
        "target_counts"
      ],
      "execution_count": 32,
      "outputs": [
        {
          "output_type": "execute_result",
          "data": {
            "text/html": [
              "<div>\n",
              "<style scoped>\n",
              "    .dataframe tbody tr th:only-of-type {\n",
              "        vertical-align: middle;\n",
              "    }\n",
              "\n",
              "    .dataframe tbody tr th {\n",
              "        vertical-align: top;\n",
              "    }\n",
              "\n",
              "    .dataframe thead th {\n",
              "        text-align: right;\n",
              "    }\n",
              "</style>\n",
              "<table border=\"1\" class=\"dataframe\">\n",
              "  <thead>\n",
              "    <tr style=\"text-align: right;\">\n",
              "      <th></th>\n",
              "      <th>Disease</th>\n",
              "      <th>counts</th>\n",
              "    </tr>\n",
              "  </thead>\n",
              "  <tbody>\n",
              "    <tr>\n",
              "      <th>0</th>\n",
              "      <td>식도 정맥류 파열</td>\n",
              "      <td>100</td>\n",
              "    </tr>\n",
              "    <tr>\n",
              "      <th>1</th>\n",
              "      <td>소화성 궤양</td>\n",
              "      <td>95</td>\n",
              "    </tr>\n",
              "    <tr>\n",
              "      <th>2</th>\n",
              "      <td>역류성 식도염</td>\n",
              "      <td>64</td>\n",
              "    </tr>\n",
              "    <tr>\n",
              "      <th>3</th>\n",
              "      <td>식도암</td>\n",
              "      <td>50</td>\n",
              "    </tr>\n",
              "    <tr>\n",
              "      <th>4</th>\n",
              "      <td>급성 간염</td>\n",
              "      <td>50</td>\n",
              "    </tr>\n",
              "    <tr>\n",
              "      <th>...</th>\n",
              "      <td>...</td>\n",
              "      <td>...</td>\n",
              "    </tr>\n",
              "    <tr>\n",
              "      <th>220</th>\n",
              "      <td>칸디다 질염</td>\n",
              "      <td>5</td>\n",
              "    </tr>\n",
              "    <tr>\n",
              "      <th>221</th>\n",
              "      <td>간질성 폐질환</td>\n",
              "      <td>5</td>\n",
              "    </tr>\n",
              "    <tr>\n",
              "      <th>222</th>\n",
              "      <td>감염성 기침</td>\n",
              "      <td>5</td>\n",
              "    </tr>\n",
              "    <tr>\n",
              "      <th>223</th>\n",
              "      <td>미주신경성 실신</td>\n",
              "      <td>5</td>\n",
              "    </tr>\n",
              "    <tr>\n",
              "      <th>224</th>\n",
              "      <td>폐색전증</td>\n",
              "      <td>5</td>\n",
              "    </tr>\n",
              "  </tbody>\n",
              "</table>\n",
              "<p>225 rows × 2 columns</p>\n",
              "</div>"
            ],
            "text/plain": [
              "       Disease  counts\n",
              "0    식도 정맥류 파열     100\n",
              "1       소화성 궤양      95\n",
              "2      역류성 식도염      64\n",
              "3          식도암      50\n",
              "4        급성 간염      50\n",
              "..         ...     ...\n",
              "220     칸디다 질염       5\n",
              "221    간질성 폐질환       5\n",
              "222     감염성 기침       5\n",
              "223   미주신경성 실신       5\n",
              "224       폐색전증       5\n",
              "\n",
              "[225 rows x 2 columns]"
            ]
          },
          "metadata": {
            "tags": []
          },
          "execution_count": 32
        }
      ]
    },
    {
      "cell_type": "code",
      "metadata": {
        "id": "tiRR5YfN4tqk"
      },
      "source": [
        "data = data[data['level5/diagnosis'].isin(target_counts['Disease'])]\n",
        "data.reset_index(drop=True, inplace=True)"
      ],
      "execution_count": 33,
      "outputs": []
    },
    {
      "cell_type": "code",
      "metadata": {
        "colab": {
          "base_uri": "https://localhost:8080/"
        },
        "id": "6wLkElY24PwD",
        "outputId": "9382573b-133b-4b1c-acef-740ec617400c"
      },
      "source": [
        "print(data.shape)\n",
        "print(data['level5/diagnosis'].value_counts())"
      ],
      "execution_count": 34,
      "outputs": [
        {
          "output_type": "stream",
          "text": [
            "(2215, 22)\n",
            "식도 정맥류 파열    100\n",
            "소화성 궤양        95\n",
            "역류성 식도염       64\n",
            "식도암           50\n",
            "급성 간염         50\n",
            "            ... \n",
            "간질성 폐질환        5\n",
            "감염성 기침         5\n",
            "미주신경성 실신       5\n",
            "요붕증            5\n",
            "크론병            5\n",
            "Name: level5/diagnosis, Length: 225, dtype: int64\n"
          ],
          "name": "stdout"
        }
      ]
    },
    {
      "cell_type": "markdown",
      "metadata": {
        "id": "_1-vtamTGRY0"
      },
      "source": [
        "## 4) Calculate BMI and define Obesity with Weight and Height\n",
        "- https://www.tongyeong.go.kr/health/01635/01898/01902.web"
      ]
    },
    {
      "cell_type": "code",
      "metadata": {
        "id": "gqdxZjPf4eEq"
      },
      "source": [
        "# Correct Height error\n",
        "idx = data[data['Height'] == '58세 여성이 소변을 자주 보고 소변을 참기 어려우며 소변 누러 화장실을 가면 미처 속옷을 내리기도 전에 소변이 흘러나오는 증상이 4년 이상 지속되어 내원하였다. 기침을 하면 소변이 약간 새며,밤에 자다가도 소변이 마려워 3번 정도 깬다고 한다. 소변이 속옷에 묻어 냄새 및 회음부 주위 피부염이 발생하며 상기 증상으로 사회생활도 힘들다고 한다. 특이 과거력은 없다.'].index\n",
        "data.loc[idx, 'Height'] = ''\n",
        "#print(data['Height'].iloc[850])\n",
        "#data['Height'].iloc[850]=''\n",
        "#print(data['Height'].iloc[850])"
      ],
      "execution_count": 35,
      "outputs": []
    },
    {
      "cell_type": "code",
      "metadata": {
        "id": "FIF1aqZa202m"
      },
      "source": [
        "data['Height'] = data['Height'].replace('', '0')\n",
        "data['Weight'] = data['Weight'].replace('', '0')\n",
        "\n",
        "data['Height'] = data['Height'].astype('int')\n",
        "data['Weight'] = data['Weight'].astype('int')"
      ],
      "execution_count": 36,
      "outputs": []
    },
    {
      "cell_type": "code",
      "metadata": {
        "id": "1euw05cSHBbT"
      },
      "source": [
        "data['BMI'] = data['Weight'] / (data['Height']/100)**2\n",
        "data['BMI'].fillna(-1, inplace=True)"
      ],
      "execution_count": 37,
      "outputs": []
    },
    {
      "cell_type": "code",
      "metadata": {
        "id": "dL1pgmlhGtYg"
      },
      "source": [
        "def define_obesity(x):\n",
        "  if x < 0:\n",
        "    return '알 수 없음'\n",
        "  elif x < 20.0:\n",
        "    return '저체중'\n",
        "  elif x <= 24.0:\n",
        "    return '정상'\n",
        "  elif x <= 29.0:\n",
        "    return '과체중'\n",
        "  else:\n",
        "    return '비만'\n",
        "\n",
        "data['Obesity'] = data.apply(lambda x : define_obesity(x['BMI']), axis=1)"
      ],
      "execution_count": 38,
      "outputs": []
    },
    {
      "cell_type": "markdown",
      "metadata": {
        "id": "ucG31DqiRw7e"
      },
      "source": [
        "## 5) Change Age to Groups of Age"
      ]
    },
    {
      "cell_type": "code",
      "metadata": {
        "id": "s5nd4pXhktrG"
      },
      "source": [
        "data['Age'] = data['Age'].astype(str)"
      ],
      "execution_count": 39,
      "outputs": []
    },
    {
      "cell_type": "code",
      "metadata": {
        "id": "QEVOOgGwBQ7q"
      },
      "source": [
        "import re\n",
        "# Infant/Child's Grouping Reference: https://www.doctorsnews.co.kr/news/articleView.html?idxno=20917&replyAll=&reply_sc_order_by=I\n",
        "\n",
        "def replace_age(x):\n",
        "\n",
        "  if ('개월' in x) or ('달' in x) or ('개월' in x):\n",
        "    #print(x)\n",
        "    month_age = int(re.findall(\"\\d+\", x)[0])*4\n",
        "    x = '생후 ' + str(month_age) + '주'\n",
        "  \n",
        "  if ('주' in x):\n",
        "     week_age = int(re.findall(\"\\d+\", x)[0])\n",
        "     if week_age <= 4:\n",
        "       x = '신생아' # 태어나서 1개월까지(newborn)\n",
        "     elif week_age <= 4*12:\n",
        "       x = '영아' # 태어나서 1년까지(infant)\n",
        "     else:\n",
        "       x = '유아' # 만 1세부터 6세까지(child)\n",
        "  else:\n",
        "     x = x.replace('세', '')\n",
        "     x = x[:2]\n",
        "     x = int(x)#.astype(int)\n",
        "     x = str(x//10*10)+'s'\n",
        "\n",
        "  return x\n",
        "\n",
        "data['Age'] = data.apply(lambda x : replace_age(x['Age']), axis=1)"
      ],
      "execution_count": 40,
      "outputs": []
    },
    {
      "cell_type": "code",
      "metadata": {
        "colab": {
          "base_uri": "https://localhost:8080/"
        },
        "id": "F_tVm5zc-LtC",
        "outputId": "b97a8372-8aa5-42ce-cd97-2a82ad015e9e"
      },
      "source": [
        "data['Age']"
      ],
      "execution_count": 41,
      "outputs": [
        {
          "output_type": "execute_result",
          "data": {
            "text/plain": [
              "0       50s\n",
              "1       30s\n",
              "2       70s\n",
              "3       10s\n",
              "4       60s\n",
              "       ... \n",
              "2210    50s\n",
              "2211    30s\n",
              "2212    60s\n",
              "2213    60s\n",
              "2214    10s\n",
              "Name: Age, Length: 2215, dtype: object"
            ]
          },
          "metadata": {
            "tags": []
          },
          "execution_count": 41
        }
      ]
    },
    {
      "cell_type": "markdown",
      "metadata": {
        "id": "GZBPjslh_yH4"
      },
      "source": [
        "## 6) Arrange Sex"
      ]
    },
    {
      "cell_type": "code",
      "metadata": {
        "colab": {
          "base_uri": "https://localhost:8080/"
        },
        "id": "eevlBAV6_6MU",
        "outputId": "de36310f-6bed-4ff5-8922-4997ae2289f1"
      },
      "source": [
        "data['Sex'].value_counts()"
      ],
      "execution_count": 42,
      "outputs": [
        {
          "output_type": "execute_result",
          "data": {
            "text/plain": [
              "남자      829\n",
              "여자      691\n",
              "남성      139\n",
              "여성      130\n",
              "F       129\n",
              "M        92\n",
              "남자       79\n",
              "여자       63\n",
              "남성       45\n",
              "여자       15\n",
              "          3\n",
              "Name: Sex, dtype: int64"
            ]
          },
          "metadata": {
            "tags": []
          },
          "execution_count": 42
        }
      ]
    },
    {
      "cell_type": "code",
      "metadata": {
        "id": "7y9lvNQdADvJ"
      },
      "source": [
        "def organize_sex(x):\n",
        "  x = x.replace('F', '여자')\n",
        "  x = x.replace('M', '남자')\n",
        "  x = x.replace('여성', '여자')\n",
        "  x = x.replace('남성', '남자')\n",
        "  #x = x.lstrip()\n",
        "  x = x.replace('여자 ', '여자')\n",
        "  x = x.replace('여자  ', '여자')\n",
        "  x = x.replace('남자 ', '남자')\n",
        "  x = x.replace('남성 ', '남자')\n",
        "\n",
        "  return x\n",
        "\n",
        "data['Sex'] = organize_sex(data['Sex'])"
      ],
      "execution_count": 43,
      "outputs": []
    },
    {
      "cell_type": "code",
      "metadata": {
        "colab": {
          "base_uri": "https://localhost:8080/"
        },
        "id": "6lvfgVj8AnX3",
        "outputId": "3563d596-b657-4357-e4b7-edcb07545f35"
      },
      "source": [
        "data['Sex'].value_counts()"
      ],
      "execution_count": 44,
      "outputs": [
        {
          "output_type": "execute_result",
          "data": {
            "text/plain": [
              "남자    1184\n",
              "여자    1028\n",
              "         3\n",
              "Name: Sex, dtype: int64"
            ]
          },
          "metadata": {
            "tags": []
          },
          "execution_count": 44
        }
      ]
    },
    {
      "cell_type": "markdown",
      "metadata": {
        "id": "jxb7NNY9S_XR"
      },
      "source": [
        "## 7) Remove Negative values(-)"
      ]
    },
    {
      "cell_type": "code",
      "metadata": {
        "colab": {
          "base_uri": "https://localhost:8080/"
        },
        "id": "WpN5QW9BiqJ_",
        "outputId": "d3124d0e-5c8a-4142-b43c-50f0409b8b1b"
      },
      "source": [
        "data.columns[10:21]"
      ],
      "execution_count": 45,
      "outputs": [
        {
          "output_type": "execute_result",
          "data": {
            "text/plain": [
              "Index(['Experience', 'Character', 'Associated Sx.', 'Factor', 'Event',\n",
              "       '약물 투약력', '사회력', '가족력', '외상력', '과거력', '여성력'],\n",
              "      dtype='object')"
            ]
          },
          "metadata": {
            "tags": []
          },
          "execution_count": 45
        }
      ]
    },
    {
      "cell_type": "code",
      "metadata": {
        "id": "CWmPwmnVpv36"
      },
      "source": [
        "#k = data.copy()"
      ],
      "execution_count": 46,
      "outputs": []
    },
    {
      "cell_type": "code",
      "metadata": {
        "id": "U8QBmvRSpUya"
      },
      "source": [
        "# since regex doesn't support '+', change '+' to '#'\n",
        "def to_new_positive_value(x):\n",
        "  if('+' in x):\n",
        "    x = x.replace('+', '#')#np.nan\n",
        "    \n",
        "  return x\n",
        "\n",
        "for m in data.columns[10:21]: #'Experience', 'Character', 'Associated Sx.', 'Factor', 'Event', '약물 투약력', '사회력', '가족력', '외상력', '과거력', '여성력']\n",
        "  data[m] = data.apply(lambda x : to_new_positive_value(x[m]) , axis = 1 )"
      ],
      "execution_count": 47,
      "outputs": []
    },
    {
      "cell_type": "code",
      "metadata": {
        "id": "DRUc2iGTDKGN"
      },
      "source": [
        "idx = data[data['Associated Sx.'] == '발열(#, 4주 전) 가래(#), 기침(#), 체중변화 (#, -4kg/2개월)'].index\n",
        "data.loc[idx, 'Associated Sx.'] = '발열(#, 4주 전), 가래(#), 기침(#), 체중변화 (#, -4kg/2개월)'\n",
        "\n",
        "idx = data[data['사회력'] == '술(#주) 흡연(#), 과식(#), 지방식(#)'].index\n",
        "data.loc[idx, '사회력'] = '술(#주), 흡연(#), 과식(#), 지방식(#)'"
      ],
      "execution_count": 48,
      "outputs": []
    },
    {
      "cell_type": "code",
      "metadata": {
        "colab": {
          "base_uri": "https://localhost:8080/",
          "height": 54
        },
        "id": "scPvjjjQ2m_I",
        "outputId": "f4c33384-d5de-401a-a72c-f871e2dbd400"
      },
      "source": [
        "data['Associated Sx.'][0]"
      ],
      "execution_count": 49,
      "outputs": [
        {
          "output_type": "execute_result",
          "data": {
            "application/vnd.google.colaboratory.intrinsic+json": {
              "type": "string"
            },
            "text/plain": [
              "'[전신] 발열 / 식은땀 / 체중 감소 / 오한/ 피로감(-/-/-/-/-), [소화기] 구역 / 구토 / 식욕 부진 / 변비 / 설사(-/#, 2회 흰 물만 나옴 /-/-/-), 속쓰림, 혈변(-), [응급] 어지러움 / 갈증 / 소변량 감소 / 호흡곤란(#/#/#/-)'"
            ]
          },
          "metadata": {
            "tags": []
          },
          "execution_count": 49
        }
      ]
    },
    {
      "cell_type": "code",
      "metadata": {
        "id": "xduze-Iy-4sD"
      },
      "source": [
        "def remove_negative_values(x):\n",
        "  \n",
        "  #print('x',x,'1')\n",
        "  # 1. To extract texts from brackets: (-/#, 2회 흰 물만 나옴 /-/-/-).\n",
        "  brackets = re.findall('\\((.*?)\\)', x) # ['-/-/-/-/-', '-/#, 2회 흰 물만 나옴 /-/-/-', '-', '#/#/#/-']\n",
        "  for i in range(len(brackets)):\n",
        "    n = brackets[i].split('/') # ['-', '#, 2회 흰 물만 나옴 ', '-', '-', '-']\n",
        "\n",
        "    for j in range(len(n)):\n",
        "      if len(n[j])>1:\n",
        "        tmp_str = n[j][2:] #  Behind '#, ' --> ' 2회 흰 물만 나옴 '\n",
        "        if len(re.findall('\\#', n[j]))==0: # '(#) (지금 복용 중)'\n",
        "          n[j]=''\n",
        "        else:\n",
        "          n[j] = '#'   \n",
        "        x = x.replace(brackets[i],'/'.join(n)) # Drawback: doesn't contain texts which was in brackets\n",
        "\n",
        "  #if len(re.findall(r\"(\\d+)-?(\\d+)\", x)) > 0: # 하루 4-5회\n",
        "  #  x = x.replace('-', '~')\n",
        "\n",
        "  # 2. To remove negative values\n",
        "  splited_x = x.split(',')\n",
        "  for i in range(len(splited_x)):\n",
        "    if ('및' in splited_x[i]):\n",
        "      splited_x = x.split(',') and x.split('및')\n",
        "      break\n",
        "\n",
        "  #print(splited_x)\n",
        "  for i in range(len(splited_x)):\n",
        "    ne_or_po = re.findall('-|#',splited_x[i]) #.index('') ['#', '#', '#', '-']\n",
        "    sym = splited_x[i].split('/') # [' [응급] 어지러움 ', ' 갈증 ', ' 소변량 감소 ', ' 호흡곤란(#', '#', '#', '-)']\n",
        "\n",
        "    only_positive = \"\"\n",
        "    #print(ne_or_po)\n",
        "    for j in range(len(ne_or_po)):\n",
        "      if ne_or_po[j] != '-':\n",
        "        only_positive += sym[j]\n",
        "\n",
        "      splited_x[i] = only_positive\n",
        "        #print('@fin_splited_x', splited_x[i])\n",
        "  x = (',').join(splited_x)\n",
        "  #print('@@fin_x', x)\n",
        "\n",
        "  return x\n",
        "\n",
        "#def remove_negative_values(x):\n",
        "#  tmp = x.split(',')\n",
        "#  for i in range(len(tmp)):\n",
        "#    if ('-' in tmp[i]):\n",
        "#      tmp[i] = ''\n",
        "#  x = ''.join(tmp)\n",
        "#  return x\n",
        "#for i in range(len(data.columns)):\n",
        "#    data[data.columns[i]] = data.apply(lambda x : remove_negative_values(x[data.columns[i]]) , axis = 1 )"
      ],
      "execution_count": 50,
      "outputs": []
    },
    {
      "cell_type": "code",
      "metadata": {
        "id": "KF1tB3V-jHiJ"
      },
      "source": [
        "for m in data.columns[10:21]: #'Experience', 'Character', 'Associated Sx.', 'Factor', 'Event', '약물 투약력', '사회력', '가족력', '외상력', '과거력', '여성력']\n",
        "  data[m] = data.apply(lambda x : remove_negative_values(x[m]) , axis = 1 )"
      ],
      "execution_count": 51,
      "outputs": []
    },
    {
      "cell_type": "code",
      "metadata": {
        "colab": {
          "base_uri": "https://localhost:8080/",
          "height": 37
        },
        "id": "ZKqJN73iMcEz",
        "outputId": "1350f34f-f87e-40f4-9a5c-03eadc8b6bcd"
      },
      "source": [
        "data['Associated Sx.'][0]"
      ],
      "execution_count": 52,
      "outputs": [
        {
          "output_type": "execute_result",
          "data": {
            "application/vnd.google.colaboratory.intrinsic+json": {
              "type": "string"
            },
            "text/plain": [
              "', 구토 , 속쓰림,, [응급] 어지러움  갈증  소변량 감소 '"
            ]
          },
          "metadata": {
            "tags": []
          },
          "execution_count": 52
        }
      ]
    },
    {
      "cell_type": "code",
      "metadata": {
        "id": "af_TL8BUkYBh"
      },
      "source": [
        "def to_ori_new_positive_value(x):\n",
        "  if('#' in x):\n",
        "    x = x.replace('#', '+')#np.nan\n",
        "    \n",
        "  return x\n",
        "\n",
        "for m in data.columns[10:21]: #'Experience', 'Character', 'Associated Sx.', 'Factor', 'Event', '약물 투약력', '사회력', '가족력', '외상력', '과거력', '여성력']\n",
        "  data[m] = data.apply(lambda x : to_ori_new_positive_value(x[m]) , axis = 1 )"
      ],
      "execution_count": 53,
      "outputs": []
    },
    {
      "cell_type": "markdown",
      "metadata": {
        "id": "o9bs7Z0vAMfg"
      },
      "source": [
        "## 8) NRS scores to text"
      ]
    },
    {
      "cell_type": "code",
      "metadata": {
        "id": "GaYD2D8JAL6U"
      },
      "source": [
        "#NRS 5점\n",
        "#NRS: 5\n",
        "#NRS 4~6 / NRS : 4~6"
      ],
      "execution_count": 54,
      "outputs": []
    },
    {
      "cell_type": "code",
      "metadata": {
        "id": "0MBZMNg-BxVP"
      },
      "source": [
        "def NRS_to_text(text):\n",
        "\n",
        "  a = re.findall('NRS.*?점', text) #NRS 5점\n",
        "  if len(a) == 0:\n",
        "    a = re.findall('NRS.*?\\d~\\d', text) #NRS 4~6 / NRS : 4~6\n",
        "  if len(a) == 0:\n",
        "    a = re.findall('NRS.*?\\d', text) #NRS: 5\n",
        "  \n",
        "  try:\n",
        "    t = re.findall('[0-9]+', a[0])\n",
        "\n",
        "    if (len(t) == 2):\n",
        "      score = (int(t[0])+int(t[1]))/ 2\n",
        "    else:\n",
        "      score = int(t[0])\n",
        "\n",
        "    if score >= 7:\n",
        "      to_text = '심함'\n",
        "    elif score >= 4:\n",
        "      to_text = '중간'\n",
        "    else:\n",
        "      to_text = '약함'\n",
        "\n",
        "    text = text.replace(a[0], to_text)\n",
        "  \n",
        "  except:\n",
        "    pass\n",
        "\n",
        "  return text"
      ],
      "execution_count": 55,
      "outputs": []
    },
    {
      "cell_type": "code",
      "metadata": {
        "colab": {
          "base_uri": "https://localhost:8080/",
          "height": 37
        },
        "id": "CP0incS_Jb4J",
        "outputId": "8743b3e1-49e0-4618-e567-db26c830e40b"
      },
      "source": [
        "#text = '뻐근한 통증, NRS : 1~6, 등이랑 목으로 뻗침'\n",
        "text = '뻐근한 통증dd, NRS : 1~6, 등이랑 목으로 뻗침'\n",
        "\n",
        "NRS_to_text(text)"
      ],
      "execution_count": 56,
      "outputs": [
        {
          "output_type": "execute_result",
          "data": {
            "application/vnd.google.colaboratory.intrinsic+json": {
              "type": "string"
            },
            "text/plain": [
              "'뻐근한 통증dd, 약함, 등이랑 목으로 뻗침'"
            ]
          },
          "metadata": {
            "tags": []
          },
          "execution_count": 56
        }
      ]
    },
    {
      "cell_type": "code",
      "metadata": {
        "id": "tiniSaf8MttI"
      },
      "source": [
        "#data[data['Character'] == '쥐어짜는 느낌의 통증, NRS 7점, 턱과 목쪽으로 방사되는 통증, 왼팔로도 통증이 뻗치는 듯한 느낌 있음']\n",
        "#data.iloc[872]['Character']"
      ],
      "execution_count": 57,
      "outputs": []
    },
    {
      "cell_type": "code",
      "metadata": {
        "id": "JqFkhihRGWqo"
      },
      "source": [
        "for m in data.columns[10:21]: #'Experience', 'Character', 'Associated Sx.', 'Factor', 'Event', '약물 투약력', '사회력', '가족력', '외상력', '과거력', '여성력']\n",
        "  data[m] = data.apply(lambda x : NRS_to_text(x[m]) , axis = 1 )"
      ],
      "execution_count": 58,
      "outputs": []
    },
    {
      "cell_type": "code",
      "metadata": {
        "id": "IL6_1GIiKx0R"
      },
      "source": [
        "#data.iloc[872]['Character']"
      ],
      "execution_count": 59,
      "outputs": []
    },
    {
      "cell_type": "markdown",
      "metadata": {
        "id": "FSGj6oU4P7-C"
      },
      "source": [
        "## 9-1) Make a sentence"
      ]
    },
    {
      "cell_type": "code",
      "metadata": {
        "id": "9B4q5VibQujl"
      },
      "source": [
        "data['All'] = (data['Chief complaint'].map(str) +'. '+ data['Age'].map(str) + '. '+\n",
        "                data['Sex'].map(str) + '. '+\n",
        "                data['Onset'].map(str) + '. '+ data['Location'].map(str) + '. ' +\n",
        "                data['Duration'].map(str) + '. ' + data['Course'].map(str) + '. ' +\n",
        "                data['Experience'].map(str) + '. ' + data['Character'].map(str) + '. ' +\n",
        "                data['Associated Sx.'].map(str)+'. '+ data['Factor'].map(str) + '. ' +\n",
        "                data['Event'].map(str) + '. ' + data['약물 투약력'].map(str) + '. ' +\n",
        "                data['사회력'].map(str) + '. ' + data['가족력'].map(str) + '. ' +\n",
        "                data['외상력'].map(str) + '. ' + data['과거력'].map(str) + '. ' +\n",
        "                data['여성력'].map(str) + '. ' + data['Obesity']).apply(lambda row: row.strip())"
      ],
      "execution_count": 60,
      "outputs": []
    },
    {
      "cell_type": "code",
      "metadata": {
        "colab": {
          "base_uri": "https://localhost:8080/"
        },
        "id": "fDU-IdlEQ2cO",
        "outputId": "030f6155-ff8a-430d-96fc-135d13535aa7"
      },
      "source": [
        "data['All']"
      ],
      "execution_count": 61,
      "outputs": [
        {
          "output_type": "execute_result",
          "data": {
            "text/plain": [
              "0       배가 아파요. 50s. 남자. 1일전. 명치 부위. 지속. 심해짐. 이전에도 3차례...\n",
              "1       갑자기 배가 너무 아파요. 30s. 남자. 오늘 새벽. 명치에서 시작해 현재 복부 ...\n",
              "2       속이 쓰려요. 70s. 여자. 1달전. 명치 부위. 지속. 심해짐. . 속이 쓰림,...\n",
              "3       속이 쓰려요. 10s. 남자. 2달전. 명치부위 . 지속. 심해짐. . 명치부위 압...\n",
              "4       배가 아파요. 60s. 남자. 1시간전. 명치부위. 지속. 심해짐. . 명치 부위가...\n",
              "                              ...                        \n",
              "2210    콜레스테롤이 높대요. 50s. 남자. 1개월 전. . . . 처음. . 피곤, 식욕...\n",
              "2211    콜레스테롤이 높대요. 30s. 여자. 1주 전. . . . 처음. . 체중변화(/1...\n",
              "2212    콜레스테롤이 높대요. 60s. 여자. 1개월 전. . . . 처음. . . . . ...\n",
              "2213    콜레스테롤이 높대요. 60s. 여자. 3개월 전. . . . 처음. . . . . ...\n",
              "2214    생리를 안해요. 10s. 여자. 처음부터. . . . 처음. 초경 안옴. 턱이 짧음...\n",
              "Name: All, Length: 2215, dtype: object"
            ]
          },
          "metadata": {
            "tags": []
          },
          "execution_count": 61
        }
      ]
    },
    {
      "cell_type": "markdown",
      "metadata": {
        "id": "nzv64Hxg-fiL"
      },
      "source": [
        "## 9) Check spelling"
      ]
    },
    {
      "cell_type": "code",
      "metadata": {
        "id": "rqlUDisI-lzT"
      },
      "source": [
        "def manual_spelling(x):\n",
        "  # Need to update more!!\n",
        "  x = x.replace('Live(', 'Liver(')\n",
        "  x = x.replace('혈번', '혈변')\n",
        "  x = x.replace('[회수] 회 / 일', '')\n",
        "  x = x.replace('ㅊ음', '처음')\n",
        "  x = x.replace('위엄', '위염')\n",
        "  x = x.replace('소회기', '소화기')\n",
        "  x = x.replace('소화쉐양', '소화궤양')\n",
        "  x = x.replace('무릅', '무릎')\n",
        "  x = x.replace('성광계', '성관계')\n",
        "  x = x.replace('게속', '계속')\n",
        "  x = x.replace('느김', '느낌')\n",
        "  x = x.replace('불규칙하', '불규칙한')\n",
        "  x = x.replace('뻗뻗', '뻣뻣')\n",
        "  x = x.replace('부움', '부음')\n",
        "  x = x.replace('피료', '피로')\n",
        "  x = x.replace('들이마쉴', '들이마실')\n",
        "  x = x.replace('(Olodaterol)', '')\n",
        "  x = x.replace('체충', '체중')\n",
        "  x = x.replace('속옥', '속옷')\n",
        "  x = x.replace('아이업음', '아이없음')\n",
        "  x = x.replace('재왕절개', '제왕절개')\n",
        "  x = x.replace('얄', '열')\n",
        "  x = x.replace('연 (', '열 (')\n",
        "  x = x.replace('가끔식', '가끔씩')\n",
        "  x = x.replace('붙성교', '성교')\n",
        "  x = x.replace('월경량와', '월경량과')\n",
        "  x = x.replace('호ㅡㅂ음', '호흡음')\n",
        "  x = x.replace('오료계', '요로계')\n",
        "  x = x.replace('분철성', '분출성')\n",
        "  return x"
      ],
      "execution_count": 62,
      "outputs": []
    },
    {
      "cell_type": "code",
      "metadata": {
        "id": "Y0UB6aXf_JW1"
      },
      "source": [
        "#for m in data.columns[6:21]: #'Experience', 'Character', 'Associated Sx.', 'Factor', 'Event', '약물 투약력', '사회력', '가족력', '외상력', '과거력', '여성력']\n",
        "#  data[m] = data.apply(lambda x : manual_spelling(x[m]) , axis = 1 )\n",
        "data['All'] = manual_spelling(data['All'])"
      ],
      "execution_count": 63,
      "outputs": []
    },
    {
      "cell_type": "code",
      "metadata": {
        "colab": {
          "base_uri": "https://localhost:8080/"
        },
        "id": "CRjP3xSz_OnF",
        "outputId": "6e1f9365-9989-450a-ca5c-de3a20dacafc"
      },
      "source": [
        "!pip install git+https://github.com/ssut/py-hanspell.git"
      ],
      "execution_count": 64,
      "outputs": [
        {
          "output_type": "stream",
          "text": [
            "Collecting git+https://github.com/ssut/py-hanspell.git\n",
            "  Cloning https://github.com/ssut/py-hanspell.git to /tmp/pip-req-build-r44vzpk1\n",
            "  Running command git clone -q https://github.com/ssut/py-hanspell.git /tmp/pip-req-build-r44vzpk1\n",
            "Requirement already satisfied: requests in /usr/local/lib/python3.7/dist-packages (from py-hanspell==1.1) (2.23.0)\n",
            "Requirement already satisfied: idna<3,>=2.5 in /usr/local/lib/python3.7/dist-packages (from requests->py-hanspell==1.1) (2.10)\n",
            "Requirement already satisfied: certifi>=2017.4.17 in /usr/local/lib/python3.7/dist-packages (from requests->py-hanspell==1.1) (2020.12.5)\n",
            "Requirement already satisfied: urllib3!=1.25.0,!=1.25.1,<1.26,>=1.21.1 in /usr/local/lib/python3.7/dist-packages (from requests->py-hanspell==1.1) (1.24.3)\n",
            "Requirement already satisfied: chardet<4,>=3.0.2 in /usr/local/lib/python3.7/dist-packages (from requests->py-hanspell==1.1) (3.0.4)\n",
            "Building wheels for collected packages: py-hanspell\n",
            "  Building wheel for py-hanspell (setup.py) ... \u001b[?25l\u001b[?25hdone\n",
            "  Created wheel for py-hanspell: filename=py_hanspell-1.1-cp37-none-any.whl size=4854 sha256=64292efe3c54c92b9f4fc78a8ab5b006be2b3b6b5906417336886bae744020c8\n",
            "  Stored in directory: /tmp/pip-ephem-wheel-cache-9vx0z4ac/wheels/0a/25/d1/e5e96476dbb1c318cc26c992dd493394fe42b0c204b3e65588\n",
            "Successfully built py-hanspell\n",
            "Installing collected packages: py-hanspell\n",
            "Successfully installed py-hanspell-1.1\n"
          ],
          "name": "stdout"
        }
      ]
    },
    {
      "cell_type": "code",
      "metadata": {
        "colab": {
          "base_uri": "https://localhost:8080/"
        },
        "id": "kKp-SkQaRMcl",
        "outputId": "8ce7c29b-7031-4238-cd61-0d106adbd59e"
      },
      "source": [
        "data['All']"
      ],
      "execution_count": 65,
      "outputs": [
        {
          "output_type": "execute_result",
          "data": {
            "text/plain": [
              "0       배가 아파요. 50s. 남자. 1일전. 명치 부위. 지속. 심해짐. 이전에도 3차례...\n",
              "1       갑자기 배가 너무 아파요. 30s. 남자. 오늘 새벽. 명치에서 시작해 현재 복부 ...\n",
              "2       속이 쓰려요. 70s. 여자. 1달전. 명치 부위. 지속. 심해짐. . 속이 쓰림,...\n",
              "3       속이 쓰려요. 10s. 남자. 2달전. 명치부위 . 지속. 심해짐. . 명치부위 압...\n",
              "4       배가 아파요. 60s. 남자. 1시간전. 명치부위. 지속. 심해짐. . 명치 부위가...\n",
              "                              ...                        \n",
              "2210    콜레스테롤이 높대요. 50s. 남자. 1개월 전. . . . 처음. . 피곤, 식욕...\n",
              "2211    콜레스테롤이 높대요. 30s. 여자. 1주 전. . . . 처음. . 체중변화(/1...\n",
              "2212    콜레스테롤이 높대요. 60s. 여자. 1개월 전. . . . 처음. . . . . ...\n",
              "2213    콜레스테롤이 높대요. 60s. 여자. 3개월 전. . . . 처음. . . . . ...\n",
              "2214    생리를 안해요. 10s. 여자. 처음부터. . . . 처음. 초경 안옴. 턱이 짧음...\n",
              "Name: All, Length: 2215, dtype: object"
            ]
          },
          "metadata": {
            "tags": []
          },
          "execution_count": 65
        }
      ]
    },
    {
      "cell_type": "code",
      "metadata": {
        "id": "gHeQH8Iz_ODt"
      },
      "source": [
        "from tqdm.notebook import tqdm\n",
        "from hanspell import spell_checker\n",
        "\n",
        "def spelling_check(text):\n",
        "  #print(text)\n",
        "  result = spell_checker.check(text) \n",
        "  \n",
        "  return result.as_dict()['checked'] "
      ],
      "execution_count": 66,
      "outputs": []
    },
    {
      "cell_type": "code",
      "metadata": {
        "colab": {
          "base_uri": "https://localhost:8080/",
          "height": 171,
          "referenced_widgets": [
            "1e19a9ed00d34c16aabb16d2ce839fee",
            "5cc7b44b3ff5436c8feddba148aa6c5e",
            "9bb221833e214e44a969bfbc9cc873e4",
            "52dd2a1fd5c841d184751f4d651333e9",
            "974eb9a0dc07487ea720dc0034e57c30",
            "bf258d9462d4493a8b9499186c333406",
            "de02b1741ebb4d679d6e6ea597e110f8",
            "15dcec064f0f4d7e97ee554c94d758db"
          ]
        },
        "id": "HDQb4E59_JPh",
        "outputId": "c3eaf29b-e460-437c-e8d7-0209fd0e182a"
      },
      "source": [
        "for i in tqdm(range(len(data))):\n",
        "  data['All'][i] = spelling_check(data['All'][i])"
      ],
      "execution_count": 67,
      "outputs": [
        {
          "output_type": "display_data",
          "data": {
            "application/vnd.jupyter.widget-view+json": {
              "model_id": "1e19a9ed00d34c16aabb16d2ce839fee",
              "version_minor": 0,
              "version_major": 2
            },
            "text/plain": [
              "HBox(children=(FloatProgress(value=0.0, max=2215.0), HTML(value='')))"
            ]
          },
          "metadata": {
            "tags": []
          }
        },
        {
          "output_type": "stream",
          "text": [
            "/usr/local/lib/python3.7/dist-packages/ipykernel_launcher.py:2: SettingWithCopyWarning: \n",
            "A value is trying to be set on a copy of a slice from a DataFrame\n",
            "\n",
            "See the caveats in the documentation: https://pandas.pydata.org/pandas-docs/stable/user_guide/indexing.html#returning-a-view-versus-a-copy\n",
            "  \n"
          ],
          "name": "stderr"
        },
        {
          "output_type": "stream",
          "text": [
            "\n"
          ],
          "name": "stdout"
        }
      ]
    },
    {
      "cell_type": "code",
      "metadata": {
        "colab": {
          "base_uri": "https://localhost:8080/"
        },
        "id": "76jJfymm_Ipc",
        "outputId": "f3af861b-bb46-4382-b998-82133085713b"
      },
      "source": [
        "data['All']"
      ],
      "execution_count": 68,
      "outputs": [
        {
          "output_type": "execute_result",
          "data": {
            "text/plain": [
              "0       배가 아파요. 50s. 남자. 1일 전. 명치 부위. 지속. 심해짐. 이전에도 3차...\n",
              "1       갑자기 배가 너무 아파요. 30s. 남자. 오늘 새벽. 명치에서 시작해 현재 복부 ...\n",
              "2       속이 쓰려요. 70s. 여자. 1달 전. 명치 부위. 지속. 심해짐. . 속이 쓰림...\n",
              "3       속이 쓰려요. 10s. 남자. 2달 전. 명치 부위. 지속. 심해짐. . 명치 부위...\n",
              "4       배가 아파요. 60s. 남자. 1시간 전. 명치 부위. 지속. 심해짐. . 명치 부...\n",
              "                              ...                        \n",
              "2210    콜레스테롤이 높대요. 50s. 남자. 1개월 전. . . . 처음. . 피곤, 식욕...\n",
              "2211    콜레스테롤이 높대요. 30s. 여자. 1주 전. . . . 처음. . 체중 변화(/...\n",
              "2212    콜레스테롤이 높대요. 60s. 여자. 1개월 전. . . . 처음. . . . . ...\n",
              "2213    콜레스테롤이 높대요. 60s. 여자. 3개월 전. . . . 처음. . . . . ...\n",
              "2214    생리를 안 해요. 10s. 여자. 처음부터. . . . 처음. 초경 안 옴. 턱이 ...\n",
              "Name: All, Length: 2215, dtype: object"
            ]
          },
          "metadata": {
            "tags": []
          },
          "execution_count": 68
        }
      ]
    },
    {
      "cell_type": "markdown",
      "metadata": {
        "id": "ICjeQ0nC-mk7"
      },
      "source": [
        "## 10) Change English words to Korean"
      ]
    },
    {
      "cell_type": "code",
      "metadata": {
        "id": "UHC3Dsf--pI9"
      },
      "source": [
        "def replace_eng_to_kor(x):\n",
        "  # Need to update more!!\n",
        "  x = x.replace('Liver', '간염')\n",
        "  x = x.replace('Hepatitis', '간염')\n",
        "  x = x.replace('DM', '당뇨')\n",
        "  x = x.replace('TBc', '결핵')\n",
        "  x = x.replace('TB', '결핵')\n",
        "  x = x.replace('HTN', '고혈압')\n",
        "  x = x.replace('Dyslipidemia', '이상지질혈증')\n",
        "  x = x.replace('dyslipidemia', '이상지질혈증')\n",
        "  x = x.replace('소염진통제(NSAIDs)', '소염진통제')\n",
        "  x = x.replace('NSAIDs', '소염진통제')\n",
        "  x = x.replace('NSAID', '소염진통제')\n",
        "  x = x.replace('LMP', '마지막 월경')\n",
        "  x = x.replace(\"Murphy's sign\", '숨을 들이쉬는 동안 오른쪽 갈비뼈 밑 인근 부위를 만지면 통증이 생기는 증상')\n",
        "  x = x.replace('Valsartan', '고혈압약')\n",
        "  x = x.replace('고혈압약(amlodipine)', '고혈압약')\n",
        "  x = x.replace('항고혈압제(Amlodipine)', '고혈압약')\n",
        "  x = x.replace('Amlodipine', '고혈압약')\n",
        "  x = x.replace('amlodipine', '고혈압약')\n",
        "  x = x.replace('Metformin', '비구아니드 계열의 경구용 혈당강하제, 제2형 당뇨병에 사용')\n",
        "  x = x.replace('BID', '하루에 2번')\n",
        "  x = x.replace('Bid', '하루에 2번')\n",
        "  x = x.replace('ciprofloxacin', '항생제')\n",
        "  x = x.replace('QD', '하루에 한번')\n",
        "  x = x.replace('우울증약(SSRI)', '우울증약')\n",
        "  x = x.replace('SSRI', '우울증약')\n",
        "  x = x.replace('1T', '1알')\n",
        "  x = x.replace('FAP', '가족성 용종증')\n",
        "  x = x.replace('COPD', '만성 폐쇄성 폐질환')\n",
        "  x = x.replace('Roux-Y op', '위우회술')\n",
        "  x = x.replace('terminal ileum', '직장과 결장 및 소장의 마지막 일부')\n",
        "  x = x.replace('Hyperlipidemia', '고지혈증')\n",
        "  x = x.replace('혈압강하제(CCB, ACEi)', '혈압강하제')\n",
        "  x = x.replace('C-sec', '제왕절개')\n",
        "  x = x.replace('Non-smoking, Non-Alcohol', '술 담배 안함')\n",
        "  x = x.replace('F / U / N / D / H / I / S', '빈뇨/절박뇨/야뇨/배뇨통/배뇨지연/요실금/소변줄기 변화')\n",
        "  \n",
        "  return x"
      ],
      "execution_count": 69,
      "outputs": []
    },
    {
      "cell_type": "code",
      "metadata": {
        "colab": {
          "base_uri": "https://localhost:8080/",
          "height": 171,
          "referenced_widgets": [
            "05181140741f4aeeb04b127c589d58dd",
            "0d30de501a3e417091cd272b42a6f32b",
            "222532930cad4b0d8c6d98365fcf8493",
            "0cbb06b4adf743cdb4b2c4705ac1e75b",
            "173833db813a4161b1b2e6d58cb66ba7",
            "935fe28b161b4ee7925e0c7a52d80469",
            "d5188554a99548c3b7827e79ef4d6368",
            "79b9fa8704994509bf72cacfc2dfec1d"
          ]
        },
        "id": "8uy8I4aT_k7X",
        "outputId": "571019c6-89e3-4f67-858c-8526623ddb62"
      },
      "source": [
        "#for m in data.columns[10:21]: #'Experience', 'Character', 'Associated Sx.', 'Factor', 'Event', '약물 투약력', '사회력', '가족력', '외상력', '과거력', '여성력']\n",
        "#  data[m] = data.apply(lambda x : replace_eng_to_kor(x[m]) , axis = 1 )\n",
        "\n",
        "for i in tqdm(range(len(data))):\n",
        "  data['All'][i] = replace_eng_to_kor(data['All'][i])"
      ],
      "execution_count": 70,
      "outputs": [
        {
          "output_type": "display_data",
          "data": {
            "application/vnd.jupyter.widget-view+json": {
              "model_id": "05181140741f4aeeb04b127c589d58dd",
              "version_minor": 0,
              "version_major": 2
            },
            "text/plain": [
              "HBox(children=(FloatProgress(value=0.0, max=2215.0), HTML(value='')))"
            ]
          },
          "metadata": {
            "tags": []
          }
        },
        {
          "output_type": "stream",
          "text": [
            "/usr/local/lib/python3.7/dist-packages/ipykernel_launcher.py:5: SettingWithCopyWarning: \n",
            "A value is trying to be set on a copy of a slice from a DataFrame\n",
            "\n",
            "See the caveats in the documentation: https://pandas.pydata.org/pandas-docs/stable/user_guide/indexing.html#returning-a-view-versus-a-copy\n",
            "  \"\"\"\n"
          ],
          "name": "stderr"
        },
        {
          "output_type": "stream",
          "text": [
            "\n"
          ],
          "name": "stdout"
        }
      ]
    },
    {
      "cell_type": "markdown",
      "metadata": {
        "id": "6tyPShL0-p5o"
      },
      "source": [
        "## 11) Change difficuly words to easy words"
      ]
    },
    {
      "cell_type": "code",
      "metadata": {
        "id": "XTnS5DpO-tjb"
      },
      "source": [
        "def replace_diffi_to_easy(x):\n",
        "  # Need to update more!!\n",
        "  if x=='지속' or x=='지속 ' or x=='지속됨':\n",
        "      x = '하루종일'\n",
        "  x = x.replace('복압 배뇨', '소변을 볼 때 힘을 줘야함')#kidney\n",
        "  x = x.replace('샅통증', '사타구니 통증')\n",
        "  x = x.replace('다갈', '몹시 갈증이 남')\n",
        "  x = x.replace('다음', '몹시 갈증이 나 물을 많이 마심')\n",
        "  x = x.replace('다뇨', '소변량 증가')\n",
        "  x = x.replace('뒷무직', '잔변감')\n",
        "  x = x.replace('요의', '오줌이 마려운 느낌')\n",
        "  x = x.replace('급성 요폐', '소변이 마려운데 힘줘도 안 나옴')\n",
        "  x = x.replace('점적뇨', '소변 후 오줌이 몇 방울씩 속옷에 묻어남')\n",
        "  x = x.replace('두부 외상', '머리를 다침')\n",
        "  x = x.replace('두부 타격', '머리를 다침')\n",
        "  x = x.replace('섬망', '환각, 초조함, 떨림')\n",
        "\n",
        "  x = x.replace('복장뼈아래', '가슴 중앙 아래')#digestive\n",
        "  x = x.replace('방사통', '퍼지는 통증')\n",
        "  x = x.replace('반동압통', '눌렀다 떼면 아픔')\n",
        "  x = x.replace('반발압통', '눌렀다 떼면 아픔')\n",
        "  x = x.replace('압통점', '누르면 아픔')\n",
        "  x = x.replace('압통', '누르면 아픔')\n",
        "  x = x.replace('장음 감소', '장의 운동 소리가 감소')\n",
        "  x = x.replace('장음감소', '장의 운동 소리가 감소')\n",
        "  x = x.replace('장음 소실', '장의 운동 소리가 감소')\n",
        "  x = x.replace('장음 증가', '장의 운동 소리가 증가')\n",
        "  x = x.replace('장음증가', '장의 운동 소리가 증가')\n",
        "  x = x.replace('박동성 종괴', '두근거리는 멍울, 혹')\n",
        "  x = x.replace('종괴', '멍울, 혹')\n",
        "  x = x.replace('덩이', '멍울, 혹')\n",
        "  x = x.replace('두덩뼈', '골반뼈 중 일부')\n",
        "  x = x.replace('공막', '흰자, 눈')\n",
        "  x = x.replace('혈액응고지연', '피가 안멈춰요')\n",
        "  x = x.replace('인두통', '목이 아픔')\n",
        "  x = x.replace('항문 열상', '항문이 찢어져서 생긴 상처')\n",
        "  x = x.replace('후중감(tenesmus)', '잔변감')\n",
        "  x = x.replace('경부강직', '목근육이 굳어서 머리를 앞으로 구부릴 수 없음')\n",
        "  x = x.replace('조음장애', '발음장애')\n",
        "  x = x.replace('구음장애', '말하기 어려움')\n",
        "  x = x.replace('추위불내성', '추위를 견디지 못함')\n",
        "  x = x.replace('추위 불내성', '추위를 견디지 못함')\n",
        "  x = x.replace('더위불내성', '더위를 견디지 못함')\n",
        "  x = x.replace('더위 불내성', '더위를 견디지 못함')\n",
        "  x = x.replace('야간발한', '밤에 땀이 남')\n",
        "  x = x.replace('야간 발한', '밤에 땀이 남')\n",
        "  x = x.replace('발한과다', '땀이 많이 남')\n",
        "  x = x.replace('전신발한', '온몸에 땀이 남')\n",
        "  x = x.replace('발한', '땀이 남')\n",
        "  x = x.replace('와파린', '항응고제')\n",
        "  x = x.replace('경추', '목')\n",
        "  x = x.replace('요추', '허리')\n",
        "  x = x.replace('폴립', '종양, 용종')\n",
        "  x = x.replace('의식 소실', '의식 없어짐')\n",
        "  x = x.replace('의식소실', '의식 없어짐')\n",
        "  x = x.replace('황달 소실', '황달 없어짐')\n",
        "  x = x.replace('유지', '비슷')\n",
        "  x = x.replace('우상복부', '오른쪽 윗배')\n",
        "  x = x.replace('우하복부', '오른쪽 아랫배')\n",
        "  x = x.replace('우측복부', '오른쪽 배')\n",
        "  x = x.replace('좌측복부', '왼쪽 배')\n",
        "  x = x.replace('좌하복부', '왼쪽 아랫배')\n",
        "  x = x.replace('좌상복부', '왼쪽 윗배')\n",
        "  x = x.replace('하복부통', '아랫배 통증')\n",
        "  x = x.replace('상복부', '윗배')\n",
        "  x = x.replace('하복부', '아랫배')\n",
        "  x = x.replace('심계항진', '심장이 계속 두근거려요')\n",
        "  x = x.replace('분출성', '뿜어나오는 구토')\n",
        "  x = x.replace('홍반', '붉은 반점')\n",
        "\n",
        "\n",
        "\n",
        "  x = x.replace('작열감', '화끈거림')#musculoskeletal\n",
        "  x = x.replace('광과민성', '빛에 민감')\n",
        "  x = x.replace('간헐적', '주기적으로')#respiratory\n",
        "  x = x.replace('간간히', '가끔씩')\n",
        "  x = x.replace('혈성 콧물', '피가 섞인 콧물')\n",
        "  x = x.replace('인후통', '목구멍이 아픔')\n",
        "  x = x.replace('객혈', '피가 섞인 가래')\n",
        "  x = x.replace('객담', '가래')\n",
        "\n",
        "  #오목부종 오목 부종 안면부종 다리부종 하지부종 음낭부종 얼굴부종\n",
        "\n",
        "\n",
        "  x = x.replace('편마비', '한 쪽 마비')#circulator2\n",
        "  x = x.replace('메티마졸', '갑상선기능항진증 약')\n",
        "  x = x.replace('희발월경', '월경, 생리 주기가 길다') \n",
        "  x = x.replace('측면', '옆')\n",
        "  x = x.replace('무월경', '월경 안함')\n",
        "  x = x.replace('지방식', '기름진 음식')\n",
        "  x = x.replace('위약', '쇠약')\n",
        "  x = x.replace('쇠약감', '힘이 없음')\n",
        "  x = x.replace('동공산대', '동공 확대')\n",
        "\n",
        "\n",
        "\n",
        "  x = x.replace('성교통', '성관계를 할 때 통증')#Para_Female_Child\n",
        "  x = x.replace('성교', '성관계')\n",
        "  x = x.replace('회음부', '성기')\n",
        "  x = x.replace('외음부', '성기')\n",
        "  x = x.replace('초경(-)', '초경 안함')\n",
        "  x = x.replace('초경 전', '초경 안함')\n",
        "\n",
        "  x = x.replace('오심', '구역감')#digestive(jaundice)\n",
        "  x = x.replace('소양증', '가려움증')\n",
        "  x = x.replace('쓰리다', '속쓰림')#hematemesis(digestive)\n",
        "  return x"
      ],
      "execution_count": 71,
      "outputs": []
    },
    {
      "cell_type": "code",
      "metadata": {
        "colab": {
          "base_uri": "https://localhost:8080/",
          "height": 171,
          "referenced_widgets": [
            "52128df5e150490aac8200b337bb9611",
            "88622b2cc27047509fe543d6933c4b48",
            "3a5b7b973e0c4aea91a7e1bd00ba3f34",
            "440fb64bc1ed4ade9bda748e4d546e4b",
            "061bd4eb72ed40b79a7264bb7bc5ee9f",
            "ada8fdd00e5047afa1bea89b5dbf330a",
            "771950b690164d22b2cd2d5a4de3be08",
            "1658ccd341404f44b2095e082cc6124e"
          ]
        },
        "id": "PgJWCuxv_zH-",
        "outputId": "4aa8b2fc-7770-4d69-b990-9aa1167d7d66"
      },
      "source": [
        "# for m in data.columns[10:21]: #'Experience', 'Character', 'Associated Sx.', 'Factor', 'Event', '약물 투약력', '사회력', '가족력', '외상력', '과거력', '여성력']\n",
        "#  data[m] = data.apply(lambda x : replace_diffi_to_easy(x[m]) , axis = 1 )\n",
        "\n",
        "for i in tqdm(range(len(data))):\n",
        "  data['All'][i] = replace_diffi_to_easy(data['All'][i])"
      ],
      "execution_count": 72,
      "outputs": [
        {
          "output_type": "display_data",
          "data": {
            "application/vnd.jupyter.widget-view+json": {
              "model_id": "52128df5e150490aac8200b337bb9611",
              "version_minor": 0,
              "version_major": 2
            },
            "text/plain": [
              "HBox(children=(FloatProgress(value=0.0, max=2215.0), HTML(value='')))"
            ]
          },
          "metadata": {
            "tags": []
          }
        },
        {
          "output_type": "stream",
          "text": [
            "/usr/local/lib/python3.7/dist-packages/ipykernel_launcher.py:5: SettingWithCopyWarning: \n",
            "A value is trying to be set on a copy of a slice from a DataFrame\n",
            "\n",
            "See the caveats in the documentation: https://pandas.pydata.org/pandas-docs/stable/user_guide/indexing.html#returning-a-view-versus-a-copy\n",
            "  \"\"\"\n"
          ],
          "name": "stderr"
        },
        {
          "output_type": "stream",
          "text": [
            "\n"
          ],
          "name": "stdout"
        }
      ]
    },
    {
      "cell_type": "code",
      "metadata": {
        "colab": {
          "base_uri": "https://localhost:8080/"
        },
        "id": "ePO1bqJ6nmbo",
        "outputId": "650be975-2842-4aac-fb00-fbb419c3cb47"
      },
      "source": [
        "data.info()"
      ],
      "execution_count": 73,
      "outputs": [
        {
          "output_type": "stream",
          "text": [
            "<class 'pandas.core.frame.DataFrame'>\n",
            "RangeIndex: 2215 entries, 0 to 2214\n",
            "Data columns (total 25 columns):\n",
            " #   Column            Non-Null Count  Dtype  \n",
            "---  ------            --------------  -----  \n",
            " 0   level5/diagnosis  2215 non-null   object \n",
            " 1   Chief complaint   2215 non-null   object \n",
            " 2   Sex               2215 non-null   object \n",
            " 3   Age               2215 non-null   object \n",
            " 4   Height            2215 non-null   int64  \n",
            " 5   Weight            2215 non-null   int64  \n",
            " 6   Onset             2215 non-null   object \n",
            " 7   Location          2215 non-null   object \n",
            " 8   Duration          2215 non-null   object \n",
            " 9   Course            2215 non-null   object \n",
            " 10  Experience        2215 non-null   object \n",
            " 11  Character         2215 non-null   object \n",
            " 12  Associated Sx.    2215 non-null   object \n",
            " 13  Factor            2215 non-null   object \n",
            " 14  Event             2215 non-null   object \n",
            " 15  약물 투약력            2215 non-null   object \n",
            " 16  사회력               2215 non-null   object \n",
            " 17  가족력               2215 non-null   object \n",
            " 18  외상력               2215 non-null   object \n",
            " 19  과거력               2215 non-null   object \n",
            " 20  여성력               2215 non-null   object \n",
            " 21  Level1            2215 non-null   object \n",
            " 22  BMI               2215 non-null   float64\n",
            " 23  Obesity           2215 non-null   object \n",
            " 24  All               2215 non-null   object \n",
            "dtypes: float64(1), int64(2), object(22)\n",
            "memory usage: 432.7+ KB\n"
          ],
          "name": "stdout"
        }
      ]
    },
    {
      "cell_type": "markdown",
      "metadata": {
        "id": "pAwodiAbBslb"
      },
      "source": [
        "## 12) Erase stopwords using konlpy"
      ]
    },
    {
      "cell_type": "code",
      "metadata": {
        "colab": {
          "base_uri": "https://localhost:8080/"
        },
        "id": "UBBFuZku7GSH",
        "outputId": "502849b2-5caf-4d74-8d4f-f6b81bad6231"
      },
      "source": [
        "!pip install konlpy\n",
        "import konlpy.tag\n",
        "okt = konlpy.tag.Okt() # 객체 생성"
      ],
      "execution_count": 74,
      "outputs": [
        {
          "output_type": "stream",
          "text": [
            "Collecting konlpy\n",
            "\u001b[?25l  Downloading https://files.pythonhosted.org/packages/85/0e/f385566fec837c0b83f216b2da65db9997b35dd675e107752005b7d392b1/konlpy-0.5.2-py2.py3-none-any.whl (19.4MB)\n",
            "\u001b[K     |████████████████████████████████| 19.4MB 156kB/s \n",
            "\u001b[?25hCollecting beautifulsoup4==4.6.0\n",
            "\u001b[?25l  Downloading https://files.pythonhosted.org/packages/9e/d4/10f46e5cfac773e22707237bfcd51bbffeaf0a576b0a847ec7ab15bd7ace/beautifulsoup4-4.6.0-py3-none-any.whl (86kB)\n",
            "\u001b[K     |████████████████████████████████| 92kB 13.2MB/s \n",
            "\u001b[?25hRequirement already satisfied: numpy>=1.6 in /usr/local/lib/python3.7/dist-packages (from konlpy) (1.19.5)\n",
            "Requirement already satisfied: tweepy>=3.7.0 in /usr/local/lib/python3.7/dist-packages (from konlpy) (3.10.0)\n",
            "Requirement already satisfied: lxml>=4.1.0 in /usr/local/lib/python3.7/dist-packages (from konlpy) (4.2.6)\n",
            "Collecting colorama\n",
            "  Downloading https://files.pythonhosted.org/packages/44/98/5b86278fbbf250d239ae0ecb724f8572af1c91f4a11edf4d36a206189440/colorama-0.4.4-py2.py3-none-any.whl\n",
            "Collecting JPype1>=0.7.0\n",
            "\u001b[?25l  Downloading https://files.pythonhosted.org/packages/cd/a5/9781e2ef4ca92d09912c4794642c1653aea7607f473e156cf4d423a881a1/JPype1-1.2.1-cp37-cp37m-manylinux2010_x86_64.whl (457kB)\n",
            "\u001b[K     |████████████████████████████████| 460kB 54.0MB/s \n",
            "\u001b[?25hRequirement already satisfied: requests-oauthlib>=0.7.0 in /usr/local/lib/python3.7/dist-packages (from tweepy>=3.7.0->konlpy) (1.3.0)\n",
            "Requirement already satisfied: requests[socks]>=2.11.1 in /usr/local/lib/python3.7/dist-packages (from tweepy>=3.7.0->konlpy) (2.23.0)\n",
            "Requirement already satisfied: six>=1.10.0 in /usr/local/lib/python3.7/dist-packages (from tweepy>=3.7.0->konlpy) (1.15.0)\n",
            "Requirement already satisfied: typing-extensions; python_version < \"3.8\" in /usr/local/lib/python3.7/dist-packages (from JPype1>=0.7.0->konlpy) (3.7.4.3)\n",
            "Requirement already satisfied: oauthlib>=3.0.0 in /usr/local/lib/python3.7/dist-packages (from requests-oauthlib>=0.7.0->tweepy>=3.7.0->konlpy) (3.1.0)\n",
            "Requirement already satisfied: chardet<4,>=3.0.2 in /usr/local/lib/python3.7/dist-packages (from requests[socks]>=2.11.1->tweepy>=3.7.0->konlpy) (3.0.4)\n",
            "Requirement already satisfied: urllib3!=1.25.0,!=1.25.1,<1.26,>=1.21.1 in /usr/local/lib/python3.7/dist-packages (from requests[socks]>=2.11.1->tweepy>=3.7.0->konlpy) (1.24.3)\n",
            "Requirement already satisfied: certifi>=2017.4.17 in /usr/local/lib/python3.7/dist-packages (from requests[socks]>=2.11.1->tweepy>=3.7.0->konlpy) (2020.12.5)\n",
            "Requirement already satisfied: idna<3,>=2.5 in /usr/local/lib/python3.7/dist-packages (from requests[socks]>=2.11.1->tweepy>=3.7.0->konlpy) (2.10)\n",
            "Requirement already satisfied: PySocks!=1.5.7,>=1.5.6; extra == \"socks\" in /usr/local/lib/python3.7/dist-packages (from requests[socks]>=2.11.1->tweepy>=3.7.0->konlpy) (1.7.1)\n",
            "Installing collected packages: beautifulsoup4, colorama, JPype1, konlpy\n",
            "  Found existing installation: beautifulsoup4 4.6.3\n",
            "    Uninstalling beautifulsoup4-4.6.3:\n",
            "      Successfully uninstalled beautifulsoup4-4.6.3\n",
            "Successfully installed JPype1-1.2.1 beautifulsoup4-4.6.0 colorama-0.4.4 konlpy-0.5.2\n"
          ],
          "name": "stdout"
        }
      ]
    },
    {
      "cell_type": "code",
      "metadata": {
        "id": "N5KvQyEm7Mae"
      },
      "source": [
        "stopwords = ['의', '가', '이', '은', '들', '는', '좀', '잘', '걍', '과', '도', '을'\n",
        "             '를', '으로', '자', '에', '와', '하다', '요', '다', '.', ',']"
      ],
      "execution_count": 75,
      "outputs": []
    },
    {
      "cell_type": "code",
      "metadata": {
        "id": "mMtcgL0O9DRs"
      },
      "source": [
        "def erase_stopwords(text):\n",
        "  X_train =[]\n",
        "  temp_x = okt.morphs(text, stem=True)\n",
        "  #print(temp_x)\n",
        "  temp_x = [word for word in temp_x if not word in stopwords]\n",
        "  temp_x = re.findall(r'\\w+', str(temp_x))\n",
        "  X_train.append(temp_x)\n",
        "  #print(X_train)\n",
        "  temp_x = ' '.join(map(str, X_train))\n",
        "  \n",
        "  return ' '.join(re.findall(r'\\w+', str(temp_x)))"
      ],
      "execution_count": 76,
      "outputs": []
    },
    {
      "cell_type": "code",
      "metadata": {
        "id": "5j20uFQ07ftJ",
        "colab": {
          "base_uri": "https://localhost:8080/",
          "height": 171,
          "referenced_widgets": [
            "8f1510ab376b486394ff16d45c0c7af8",
            "075f8c19d5a940e280c7a009a3d29642",
            "762cc17fe0fb43ccb4f25b4f23afaf2f",
            "5a545f54f92b41e08eeb1002b206a0eb",
            "0bbd2292e514453881d0b31824e81222",
            "718d7b30b1824098a7719c35a4d81780",
            "deb65bbc823e47b189c71bfdc7e6099a",
            "7ab2566c2f334be394a20a55edc1448c"
          ]
        },
        "outputId": "a720d436-cd2c-48f8-eb3e-620b950cf7be"
      },
      "source": [
        "#for m in data.columns[10:21]: #'Experience', 'Character', 'Associated Sx.', 'Factor', 'Event', '약물 투약력', '사회력', '가족력', '외상력', '과거력', '여성력']\n",
        "#  data[m] = data.apply(lambda x : erase_stopwords(x[m]) , axis = 1 )\n",
        "\n",
        "#data['Chief complaint'] = data.apply(lambda x : erase_stopwords(x['Chief complaint']) , axis = 1 )\n",
        "\n",
        "for i in tqdm(range(len(data))):\n",
        "  data['All'][i] = erase_stopwords(data['All'][i])"
      ],
      "execution_count": 77,
      "outputs": [
        {
          "output_type": "display_data",
          "data": {
            "application/vnd.jupyter.widget-view+json": {
              "model_id": "8f1510ab376b486394ff16d45c0c7af8",
              "version_minor": 0,
              "version_major": 2
            },
            "text/plain": [
              "HBox(children=(FloatProgress(value=0.0, max=2215.0), HTML(value='')))"
            ]
          },
          "metadata": {
            "tags": []
          }
        },
        {
          "output_type": "stream",
          "text": [
            "/usr/local/lib/python3.7/dist-packages/ipykernel_launcher.py:7: SettingWithCopyWarning: \n",
            "A value is trying to be set on a copy of a slice from a DataFrame\n",
            "\n",
            "See the caveats in the documentation: https://pandas.pydata.org/pandas-docs/stable/user_guide/indexing.html#returning-a-view-versus-a-copy\n",
            "  import sys\n"
          ],
          "name": "stderr"
        },
        {
          "output_type": "stream",
          "text": [
            "\n"
          ],
          "name": "stdout"
        }
      ]
    },
    {
      "cell_type": "code",
      "metadata": {
        "id": "APyDCMlYVIre"
      },
      "source": [
        "#data.to_csv('processed_DB_5.17.csv', encoding='utf-8-sig')"
      ],
      "execution_count": 80,
      "outputs": []
    },
    {
      "cell_type": "code",
      "metadata": {
        "id": "zw67iehFkXyL"
      },
      "source": [
        "#import pandas as pd\n",
        "\n",
        "#data = pd.read_csv('processed_DB_5.17.csv')\n",
        "#data.drop('Unnamed: 0', axis=1, inplace=True)\n",
        "#data.fillna('', inplace=True)\n",
        "#data"
      ],
      "execution_count": 82,
      "outputs": []
    },
    {
      "cell_type": "markdown",
      "metadata": {
        "id": "r-wopB242rKD"
      },
      "source": [
        "# 2. Select features\n",
        "https://datascience.stackexchange.com/questions/74688/how-to-use-multiple-text-features-for-nlp-classifier"
      ]
    },
    {
      "cell_type": "code",
      "metadata": {
        "id": "mHtgZ5lBTpGf"
      },
      "source": [
        "women_data = data.copy()"
      ],
      "execution_count": 83,
      "outputs": []
    },
    {
      "cell_type": "code",
      "metadata": {
        "id": "F5JFCxB2ntnI"
      },
      "source": [
        "men_data = data[data['Level1'] != 'para']\n",
        "men_data = men_data[men_data['level5/diagnosis'] != '폐경증후군']\n",
        "men_data = men_data[men_data['level5/diagnosis'] != '폐경에 의한 고혈압']"
      ],
      "execution_count": 84,
      "outputs": []
    },
    {
      "cell_type": "code",
      "metadata": {
        "colab": {
          "base_uri": "https://localhost:8080/"
        },
        "id": "ynFUQJxzV9bW",
        "outputId": "705a9ffe-b2ba-4db1-ff0d-7cd8f8896215"
      },
      "source": [
        "print(len(women_data))\n",
        "print(len(men_data))"
      ],
      "execution_count": 85,
      "outputs": [
        {
          "output_type": "stream",
          "text": [
            "2215\n",
            "2000\n"
          ],
          "name": "stdout"
        }
      ]
    },
    {
      "cell_type": "code",
      "metadata": {
        "id": "7w9QGtCoknqZ"
      },
      "source": [
        "women_train = women_data.copy()\n",
        "men_train = men_data.copy()"
      ],
      "execution_count": 86,
      "outputs": []
    },
    {
      "cell_type": "code",
      "metadata": {
        "colab": {
          "base_uri": "https://localhost:8080/",
          "height": 204
        },
        "id": "qQMstUcKm4jA",
        "outputId": "711dfd86-6c52-41d4-c5ec-ecbcd7273fcb"
      },
      "source": [
        "from io import StringIO\n",
        "col = ['level5/diagnosis', 'All']#, 'Height', 'Weight']\n",
        "women_df = women_train[col]\n",
        "men_df = men_train[col]\n",
        "\n",
        "women_df = women_df[pd.notnull(women_df['All'])]\n",
        "men_df = men_df[pd.notnull(men_df['All'])]\n",
        "\n",
        "#df['category_id'] = df['level5/diagnosis'].factorize()[0]\n",
        "#category_id_df = df[['level5/diagnosis', 'category_id']].drop_duplicates().sort_values('category_id')\n",
        "#category_to_id = dict(category_id_df.values)\n",
        "#id_to_category = dict(category_id_df[['category_id', 'level5/diagnosis']].values)\n",
        "\n",
        "men_df.head()"
      ],
      "execution_count": 87,
      "outputs": [
        {
          "output_type": "execute_result",
          "data": {
            "text/html": [
              "<div>\n",
              "<style scoped>\n",
              "    .dataframe tbody tr th:only-of-type {\n",
              "        vertical-align: middle;\n",
              "    }\n",
              "\n",
              "    .dataframe tbody tr th {\n",
              "        vertical-align: top;\n",
              "    }\n",
              "\n",
              "    .dataframe thead th {\n",
              "        text-align: right;\n",
              "    }\n",
              "</style>\n",
              "<table border=\"1\" class=\"dataframe\">\n",
              "  <thead>\n",
              "    <tr style=\"text-align: right;\">\n",
              "      <th></th>\n",
              "      <th>level5/diagnosis</th>\n",
              "      <th>All</th>\n",
              "    </tr>\n",
              "  </thead>\n",
              "  <tbody>\n",
              "    <tr>\n",
              "      <th>0</th>\n",
              "      <td>소화성 궤양</td>\n",
              "      <td>배 아프다 50 s 남자 1일 전 명치 부위 지속 심해지다 이전 에도 3 차례 통증...</td>\n",
              "    </tr>\n",
              "    <tr>\n",
              "      <th>1</th>\n",
              "      <td>소화성 궤양</td>\n",
              "      <td>갑자기 배 너무 아프다 30 s 남자 오늘 새벽 명치 에서 시작 현재 복부 전체 통...</td>\n",
              "    </tr>\n",
              "    <tr>\n",
              "      <th>2</th>\n",
              "      <td>소화성 궤양</td>\n",
              "      <td>속이다 쓰리다 70 s 여자 1 달 전 명치 부위 지속 심해지다 속이다 쓰리다 약하...</td>\n",
              "    </tr>\n",
              "    <tr>\n",
              "      <th>3</th>\n",
              "      <td>소화성 궤양</td>\n",
              "      <td>속이다 쓰리다 10 s 남자 2 달 전 명치 부위 지속 심해지다 명치 부위 누르다 ...</td>\n",
              "    </tr>\n",
              "    <tr>\n",
              "      <th>4</th>\n",
              "      <td>소화성 궤양</td>\n",
              "      <td>배 아프다 60 s 남자 1시간 전 명치 부위 지속 심해지다 명치 부위 아프다 쓰리...</td>\n",
              "    </tr>\n",
              "  </tbody>\n",
              "</table>\n",
              "</div>"
            ],
            "text/plain": [
              "  level5/diagnosis                                                All\n",
              "0           소화성 궤양  배 아프다 50 s 남자 1일 전 명치 부위 지속 심해지다 이전 에도 3 차례 통증...\n",
              "1           소화성 궤양  갑자기 배 너무 아프다 30 s 남자 오늘 새벽 명치 에서 시작 현재 복부 전체 통...\n",
              "2           소화성 궤양  속이다 쓰리다 70 s 여자 1 달 전 명치 부위 지속 심해지다 속이다 쓰리다 약하...\n",
              "3           소화성 궤양  속이다 쓰리다 10 s 남자 2 달 전 명치 부위 지속 심해지다 명치 부위 누르다 ...\n",
              "4           소화성 궤양  배 아프다 60 s 남자 1시간 전 명치 부위 지속 심해지다 명치 부위 아프다 쓰리..."
            ]
          },
          "metadata": {
            "tags": []
          },
          "execution_count": 87
        }
      ]
    },
    {
      "cell_type": "code",
      "metadata": {
        "id": "zisLGC7WpidT"
      },
      "source": [
        "#df.to_csv('digestive.csv', index=False)"
      ],
      "execution_count": 88,
      "outputs": []
    },
    {
      "cell_type": "code",
      "metadata": {
        "id": "7hRUNfxPmOj7"
      },
      "source": [
        "from sklearn.model_selection import train_test_split\n",
        "\n",
        "w_ori_X_train, w_ori_X_test, w_ori_y_train, w_ori_y_test = train_test_split(women_df, women_df['level5/diagnosis'], random_state = 0)\n",
        "m_ori_X_train, m_ori_X_test, m_ori_y_train, m_ori_y_test = train_test_split(men_df, men_df['level5/diagnosis'], random_state = 0)"
      ],
      "execution_count": 89,
      "outputs": []
    },
    {
      "cell_type": "code",
      "metadata": {
        "id": "FXaXElNOpjM2"
      },
      "source": [
        "#!pip3 install tensorflow_addons"
      ],
      "execution_count": 90,
      "outputs": []
    },
    {
      "cell_type": "markdown",
      "metadata": {
        "id": "C0Aid4qSYQhr"
      },
      "source": [
        "# Tokenizer: LMKor"
      ]
    },
    {
      "cell_type": "code",
      "metadata": {
        "colab": {
          "base_uri": "https://localhost:8080/"
        },
        "id": "g8_Dlt2PYTaF",
        "outputId": "7f426e32-bf3c-4754-e124-0063a6cebdf2"
      },
      "source": [
        "#!pip install kobert_transformers\n",
        "#!pip install sentencepiece\n",
        "!pip install transformers"
      ],
      "execution_count": 91,
      "outputs": [
        {
          "output_type": "stream",
          "text": [
            "Collecting transformers\n",
            "\u001b[?25l  Downloading https://files.pythonhosted.org/packages/d5/43/cfe4ee779bbd6a678ac6a97c5a5cdeb03c35f9eaebbb9720b036680f9a2d/transformers-4.6.1-py3-none-any.whl (2.2MB)\n",
            "\u001b[K     |████████████████████████████████| 2.3MB 7.2MB/s \n",
            "\u001b[?25hRequirement already satisfied: requests in /usr/local/lib/python3.7/dist-packages (from transformers) (2.23.0)\n",
            "Requirement already satisfied: tqdm>=4.27 in /usr/local/lib/python3.7/dist-packages (from transformers) (4.41.1)\n",
            "Collecting tokenizers<0.11,>=0.10.1\n",
            "\u001b[?25l  Downloading https://files.pythonhosted.org/packages/d4/e2/df3543e8ffdab68f5acc73f613de9c2b155ac47f162e725dcac87c521c11/tokenizers-0.10.3-cp37-cp37m-manylinux_2_5_x86_64.manylinux1_x86_64.manylinux_2_12_x86_64.manylinux2010_x86_64.whl (3.3MB)\n",
            "\u001b[K     |████████████████████████████████| 3.3MB 36.3MB/s \n",
            "\u001b[?25hRequirement already satisfied: packaging in /usr/local/lib/python3.7/dist-packages (from transformers) (20.9)\n",
            "Requirement already satisfied: numpy>=1.17 in /usr/local/lib/python3.7/dist-packages (from transformers) (1.19.5)\n",
            "Collecting huggingface-hub==0.0.8\n",
            "  Downloading https://files.pythonhosted.org/packages/a1/88/7b1e45720ecf59c6c6737ff332f41c955963090a18e72acbcbeac6b25e86/huggingface_hub-0.0.8-py3-none-any.whl\n",
            "Requirement already satisfied: importlib-metadata; python_version < \"3.8\" in /usr/local/lib/python3.7/dist-packages (from transformers) (4.0.1)\n",
            "Requirement already satisfied: regex!=2019.12.17 in /usr/local/lib/python3.7/dist-packages (from transformers) (2019.12.20)\n",
            "Collecting sacremoses\n",
            "\u001b[?25l  Downloading https://files.pythonhosted.org/packages/75/ee/67241dc87f266093c533a2d4d3d69438e57d7a90abb216fa076e7d475d4a/sacremoses-0.0.45-py3-none-any.whl (895kB)\n",
            "\u001b[K     |████████████████████████████████| 901kB 44.4MB/s \n",
            "\u001b[?25hRequirement already satisfied: filelock in /usr/local/lib/python3.7/dist-packages (from transformers) (3.0.12)\n",
            "Requirement already satisfied: certifi>=2017.4.17 in /usr/local/lib/python3.7/dist-packages (from requests->transformers) (2020.12.5)\n",
            "Requirement already satisfied: idna<3,>=2.5 in /usr/local/lib/python3.7/dist-packages (from requests->transformers) (2.10)\n",
            "Requirement already satisfied: urllib3!=1.25.0,!=1.25.1,<1.26,>=1.21.1 in /usr/local/lib/python3.7/dist-packages (from requests->transformers) (1.24.3)\n",
            "Requirement already satisfied: chardet<4,>=3.0.2 in /usr/local/lib/python3.7/dist-packages (from requests->transformers) (3.0.4)\n",
            "Requirement already satisfied: pyparsing>=2.0.2 in /usr/local/lib/python3.7/dist-packages (from packaging->transformers) (2.4.7)\n",
            "Requirement already satisfied: typing-extensions>=3.6.4; python_version < \"3.8\" in /usr/local/lib/python3.7/dist-packages (from importlib-metadata; python_version < \"3.8\"->transformers) (3.7.4.3)\n",
            "Requirement already satisfied: zipp>=0.5 in /usr/local/lib/python3.7/dist-packages (from importlib-metadata; python_version < \"3.8\"->transformers) (3.4.1)\n",
            "Requirement already satisfied: joblib in /usr/local/lib/python3.7/dist-packages (from sacremoses->transformers) (1.0.1)\n",
            "Requirement already satisfied: click in /usr/local/lib/python3.7/dist-packages (from sacremoses->transformers) (7.1.2)\n",
            "Requirement already satisfied: six in /usr/local/lib/python3.7/dist-packages (from sacremoses->transformers) (1.15.0)\n",
            "Installing collected packages: tokenizers, huggingface-hub, sacremoses, transformers\n",
            "Successfully installed huggingface-hub-0.0.8 sacremoses-0.0.45 tokenizers-0.10.3 transformers-4.6.1\n"
          ],
          "name": "stdout"
        }
      ]
    },
    {
      "cell_type": "code",
      "metadata": {
        "colab": {
          "base_uri": "https://localhost:8080/",
          "height": 201,
          "referenced_widgets": [
            "c2a9733db4254fc2a8b79c977ab040e3",
            "d21fedd65e6f4c1c9a725e9cf32ca9b5",
            "b7d65224d4524ef3bf22a7fbb110dffb",
            "770fa3e133394267a079ea587b285316",
            "a0f8fe07f8fc40e982cc8df144e29141",
            "5438d352c4f04d65a9f953404023a28c",
            "bb6125b4566549aeb4aa97abda59d8e3",
            "09c65b6d8ea041aba956c875979a82f4",
            "791d3398e1f545d3bf2752ef472758cb",
            "90429fc1f3ed452494e1f5f89b390fe5",
            "bf8c3fe78e3946edae2ba21f5a5447fe",
            "26a0c070be9542fbb618b883ec52c7cd",
            "d82100907f7745458e2766c8593d61b7",
            "6bf9cb8482a645f3a715eec721b75ae6",
            "749c88f54306471191ae64ae31d0f5dd",
            "20a3fe4ddc11464795e8b4e836a04f8b",
            "6429c4820080401abe546e83dac95250",
            "cef1f081e9a6471b85178fc73759cd31",
            "e7b1d13336e94ab9847353ac02c0484f",
            "093fdbc08e7f4c31adf0e73d7bd846bc",
            "cdc94bd165dc4204b455fe3cff3b4c28",
            "b4fc56f3ddf64bb09b435ff6d0295466",
            "bd6f44825bd0492aae047636faee538f",
            "d4f98eaa9bf949f7bbfccd9187fbfa70"
          ]
        },
        "id": "LrUIDUtGT4ds",
        "outputId": "763fa208-fe6a-4da0-9941-31b6da2e9e0d"
      },
      "source": [
        "# funnel: https://github.com/kiyoungkim1/LMkor\n",
        "from transformers import FunnelTokenizerFast, FunnelModel\n",
        "tokenizer_funnel = FunnelTokenizerFast.from_pretrained(\"kykim/funnel-kor-base\")\n",
        "tokenizer_funnel"
      ],
      "execution_count": 92,
      "outputs": [
        {
          "output_type": "display_data",
          "data": {
            "application/vnd.jupyter.widget-view+json": {
              "model_id": "c2a9733db4254fc2a8b79c977ab040e3",
              "version_minor": 0,
              "version_major": 2
            },
            "text/plain": [
              "HBox(children=(FloatProgress(value=0.0, description='Downloading', max=344240.0, style=ProgressStyle(descripti…"
            ]
          },
          "metadata": {
            "tags": []
          }
        },
        {
          "output_type": "stream",
          "text": [
            "\n"
          ],
          "name": "stdout"
        },
        {
          "output_type": "display_data",
          "data": {
            "application/vnd.jupyter.widget-view+json": {
              "model_id": "791d3398e1f545d3bf2752ef472758cb",
              "version_minor": 0,
              "version_major": 2
            },
            "text/plain": [
              "HBox(children=(FloatProgress(value=0.0, description='Downloading', max=153.0, style=ProgressStyle(description_…"
            ]
          },
          "metadata": {
            "tags": []
          }
        },
        {
          "output_type": "stream",
          "text": [
            "\n"
          ],
          "name": "stdout"
        },
        {
          "output_type": "display_data",
          "data": {
            "application/vnd.jupyter.widget-view+json": {
              "model_id": "6429c4820080401abe546e83dac95250",
              "version_minor": 0,
              "version_major": 2
            },
            "text/plain": [
              "HBox(children=(FloatProgress(value=0.0, description='Downloading', max=363.0, style=ProgressStyle(description_…"
            ]
          },
          "metadata": {
            "tags": []
          }
        },
        {
          "output_type": "stream",
          "text": [
            "\n"
          ],
          "name": "stdout"
        },
        {
          "output_type": "execute_result",
          "data": {
            "text/plain": [
              "PreTrainedTokenizerFast(name_or_path='kykim/funnel-kor-base', vocab_size=42000, model_max_len=512, is_fast=True, padding_side='right', special_tokens={'bos_token': '<s>', 'eos_token': '</s>', 'unk_token': '<unk>', 'sep_token': '<sep>', 'pad_token': '<pad>', 'cls_token': '<cls>', 'mask_token': '<mask>'})"
            ]
          },
          "metadata": {
            "tags": []
          },
          "execution_count": 92
        }
      ]
    },
    {
      "cell_type": "code",
      "metadata": {
        "id": "NRrtSg1JyKZQ"
      },
      "source": [
        "#!pip install konlpy\n",
        "#import konlpy.tag\n",
        "#okt = konlpy.tag.Okt() # 객체 생성\n",
        "\n",
        "#stopwords = ['의', '가', '이', '은', '들', '는', '좀', '잘', '걍', '과', '도', '을'\n",
        "#             '를', '으로', '자', '에', '와', '한', '하다', '요']"
      ],
      "execution_count": 93,
      "outputs": []
    },
    {
      "cell_type": "code",
      "metadata": {
        "id": "v9OAGljJbVlN"
      },
      "source": [
        "def only_letters_num(x):\n",
        "  #x = okt.morphs(x, stem=True)\n",
        "  #x = [word for word in x if not word in stopwords]\n",
        "  return ' '.join(re.findall(r'\\w+', str(x)))"
      ],
      "execution_count": 94,
      "outputs": []
    },
    {
      "cell_type": "code",
      "metadata": {
        "id": "sqkCqWORZgTo"
      },
      "source": [
        "import re\n",
        "\n",
        "w_ori_X_train2 = w_ori_X_train.copy()\n",
        "w_ori_X_test2 = w_ori_X_test.copy()\n",
        "\n",
        "w_ori_X_train2['All'] = w_ori_X_train.apply(lambda x : only_letters_num(x['All']) , axis = 1 )\n",
        "w_ori_X_test2['All'] = w_ori_X_test.apply(lambda x : only_letters_num(x['All']) , axis = 1 )\n",
        "\n",
        "w_document_bert_train = [\"[CLS] \" + str(s) + \" [SEP]\" for s in w_ori_X_train2['All']]\n",
        "w_document_bert_test = [\"[CLS] \" + str(s) + \" [SEP]\" for s in w_ori_X_test2['All']]\n",
        "\n",
        "w_ko_tokenized_texts_train = [tokenizer_funnel.tokenize(s) for s in w_document_bert_train]\n",
        "w_ko_tokenized_texts_test = [tokenizer_funnel.tokenize(s) for s in w_document_bert_test]\n",
        "\n",
        "##############\n",
        "m_ori_X_train2 = m_ori_X_train.copy()\n",
        "m_ori_X_test2 = m_ori_X_test.copy()\n",
        "\n",
        "m_ori_X_train2['All'] = m_ori_X_train.apply(lambda x : only_letters_num(x['All']) , axis = 1 )\n",
        "m_ori_X_test2['All'] = m_ori_X_test.apply(lambda x : only_letters_num(x['All']) , axis = 1 )\n",
        "\n",
        "m_document_bert_train = [\"[CLS] \" + str(s) + \" [SEP]\" for s in m_ori_X_train2['All']]\n",
        "m_document_bert_test = [\"[CLS] \" + str(s) + \" [SEP]\" for s in m_ori_X_test2['All']]\n",
        "\n",
        "m_ko_tokenized_texts_train = [tokenizer_funnel.tokenize(s) for s in m_document_bert_train]\n",
        "m_ko_tokenized_texts_test = [tokenizer_funnel.tokenize(s) for s in m_document_bert_test]"
      ],
      "execution_count": 95,
      "outputs": []
    },
    {
      "cell_type": "code",
      "metadata": {
        "colab": {
          "base_uri": "https://localhost:8080/"
        },
        "id": "cdmCVFxeyqYe",
        "outputId": "02d68fd7-7f95-4830-8734-7e7184cc2133"
      },
      "source": [
        "print(w_ori_X_train['All'][0])\n",
        "print(w_ori_X_train2['All'][0])"
      ],
      "execution_count": 96,
      "outputs": [
        {
          "output_type": "stream",
          "text": [
            "배 아프다 50 s 남자 1일 전 명치 부위 지속 심해지다 이전 에도 3 차례 통증 이번 보다 약하다 칼 로 찢기다 듯 한 통증 심하다 퍼지다 통증 등 퍼지다 구토 속 쓰리다 응급 어지러움 갈증 소 변량 감소 자세 따르다 변화 오른쪽 돌 아누 우 면 완화 반듯이 누우 면 악화 술 1 주일 6 7 번 하루 소주 2 3 병 담배 30 갑년 식사 매우 불규칙 직업 포클레인 조종수 과체중\n",
            "배 아프다 50 s 남자 1일 전 명치 부위 지속 심해지다 이전 에도 3 차례 통증 이번 보다 약하다 칼 로 찢기다 듯 한 통증 심하다 퍼지다 통증 등 퍼지다 구토 속 쓰리다 응급 어지러움 갈증 소 변량 감소 자세 따르다 변화 오른쪽 돌 아누 우 면 완화 반듯이 누우 면 악화 술 1 주일 6 7 번 하루 소주 2 3 병 담배 30 갑년 식사 매우 불규칙 직업 포클레인 조종수 과체중\n"
          ],
          "name": "stdout"
        }
      ]
    },
    {
      "cell_type": "code",
      "metadata": {
        "colab": {
          "base_uri": "https://localhost:8080/"
        },
        "id": "OO1NYsSekUWW",
        "outputId": "1d608c06-761b-4eb8-e963-7d8d85637fa6"
      },
      "source": [
        "print(max(len(l) for l in w_ko_tokenized_texts_train))\n",
        "print(max(len(l) for l in m_ko_tokenized_texts_train))"
      ],
      "execution_count": 97,
      "outputs": [
        {
          "output_type": "stream",
          "text": [
            "162\n",
            "162\n"
          ],
          "name": "stdout"
        }
      ]
    },
    {
      "cell_type": "code",
      "metadata": {
        "id": "tRe3kJoFaPkQ"
      },
      "source": [
        "from keras.preprocessing.text import Tokenizer\n",
        "\n",
        "w_max_words = 1800 #Choose only 1800 words which has high frequency\n",
        "w_tokenizer = Tokenizer(num_words = w_max_words)\n",
        "w_tokenizer.fit_on_texts(w_ko_tokenized_texts_train)\n",
        "\n",
        "w_X_train_sequence = w_tokenizer.texts_to_sequences(w_ko_tokenized_texts_train)\n",
        "w_X_test_sequence = w_tokenizer.texts_to_sequences(w_ko_tokenized_texts_test)\n",
        "\n",
        "w_y_train_dummies = pd.get_dummies(women_df['level5/diagnosis']).loc[w_ori_X_train.index]\n",
        "w_y_test_dummies = pd.get_dummies(women_df['level5/diagnosis']).loc[w_ori_X_test.index]\n",
        "\n",
        "from keras.preprocessing.sequence import pad_sequences\n",
        "w_max_len = max(len(l) for l in w_ko_tokenized_texts_train)\n",
        "w_X_train_sequence = pad_sequences(w_X_train_sequence, maxlen=w_max_len)\n",
        "w_X_test_sequence = pad_sequences(w_X_test_sequence, maxlen=w_max_len)\n",
        "\n",
        "###############\n",
        "m_max_words = 1600\n",
        "m_tokenizer = Tokenizer(num_words = m_max_words)\n",
        "m_tokenizer.fit_on_texts(m_ko_tokenized_texts_train)\n",
        "\n",
        "m_X_train_sequence = m_tokenizer.texts_to_sequences(m_ko_tokenized_texts_train)\n",
        "m_X_test_sequence = m_tokenizer.texts_to_sequences(m_ko_tokenized_texts_test)\n",
        "\n",
        "m_y_train_dummies = pd.get_dummies(men_df['level5/diagnosis']).loc[m_ori_X_train.index]\n",
        "m_y_test_dummies = pd.get_dummies(men_df['level5/diagnosis']).loc[m_ori_X_test.index]\n",
        "\n",
        "m_max_len = max(len(l) for l in m_ko_tokenized_texts_train)\n",
        "m_X_train_sequence = pad_sequences(m_X_train_sequence, maxlen=m_max_len)\n",
        "m_X_test_sequence = pad_sequences(m_X_test_sequence, maxlen=m_max_len)"
      ],
      "execution_count": 128,
      "outputs": []
    },
    {
      "cell_type": "code",
      "metadata": {
        "colab": {
          "base_uri": "https://localhost:8080/"
        },
        "id": "R7S4tSBBdDyA",
        "outputId": "7886ec47-d726-4458-a267-6efedfb9e796"
      },
      "source": [
        "print(len(w_y_train_dummies.columns))\n",
        "print(len(m_y_test_dummies.columns))"
      ],
      "execution_count": 129,
      "outputs": [
        {
          "output_type": "stream",
          "text": [
            "225\n",
            "193\n"
          ],
          "name": "stdout"
        }
      ]
    },
    {
      "cell_type": "code",
      "metadata": {
        "colab": {
          "base_uri": "https://localhost:8080/"
        },
        "id": "Nn0nfGfWGnlq",
        "outputId": "09d0e61c-299b-4dbe-b715-b05e95b379cc"
      },
      "source": [
        "print(len(w_tokenizer.index_word) + 1)\n",
        "print(len(w_tokenizer.word_counts))\n",
        "\n",
        "print(len(m_tokenizer.index_word) + 1)\n",
        "print(len(m_tokenizer.word_counts))"
      ],
      "execution_count": 130,
      "outputs": [
        {
          "output_type": "stream",
          "text": [
            "1829\n",
            "1828\n",
            "1670\n",
            "1669\n"
          ],
          "name": "stdout"
        }
      ]
    },
    {
      "cell_type": "code",
      "metadata": {
        "colab": {
          "base_uri": "https://localhost:8080/"
        },
        "id": "Oc6gpU8pttUr",
        "outputId": "e88e7c29-6b24-43da-ef29-0eaa1d90a12a"
      },
      "source": [
        "print(w_tokenizer.num_words)\n",
        "print(m_tokenizer.num_words)"
      ],
      "execution_count": 131,
      "outputs": [
        {
          "output_type": "stream",
          "text": [
            "1800\n",
            "1600\n"
          ],
          "name": "stdout"
        }
      ]
    },
    {
      "cell_type": "code",
      "metadata": {
        "colab": {
          "base_uri": "https://localhost:8080/"
        },
        "id": "FykI7JSRY0MO",
        "outputId": "08b25654-5d8b-4d57-cd00-b59f7de04e4b"
      },
      "source": [
        "print(w_max_len)\n",
        "print(m_max_len)"
      ],
      "execution_count": 132,
      "outputs": [
        {
          "output_type": "stream",
          "text": [
            "162\n",
            "162\n"
          ],
          "name": "stdout"
        }
      ]
    },
    {
      "cell_type": "code",
      "metadata": {
        "colab": {
          "base_uri": "https://localhost:8080/"
        },
        "id": "1WkzXKFFF0HB",
        "outputId": "68b5b9da-88cf-414b-dc9c-ae353f08ef1d"
      },
      "source": [
        "print(len(women_df['level5/diagnosis'].unique()))\n",
        "print(len(men_df['level5/diagnosis'].unique()))"
      ],
      "execution_count": 133,
      "outputs": [
        {
          "output_type": "stream",
          "text": [
            "225\n",
            "193\n"
          ],
          "name": "stdout"
        }
      ]
    },
    {
      "cell_type": "markdown",
      "metadata": {
        "id": "qDY_XRkgmmgA"
      },
      "source": [
        "# class weight"
      ]
    },
    {
      "cell_type": "code",
      "metadata": {
        "id": "f5YTS-PmmpEQ"
      },
      "source": [
        "from sklearn.utils import class_weight\n",
        "import numpy as np\n",
        "\n",
        "class_weights = class_weight.compute_class_weight('balanced',\n",
        "                                                 np.unique(women_df['level5/diagnosis']),\n",
        "                                                 women_df['level5/diagnosis'])\n",
        "\n",
        "w_class_weights = dict(enumerate(class_weights))"
      ],
      "execution_count": 134,
      "outputs": []
    },
    {
      "cell_type": "code",
      "metadata": {
        "id": "jl418l0vrLAK"
      },
      "source": [
        "from sklearn.utils import class_weight\n",
        "import numpy as np\n",
        "\n",
        "class_weights = class_weight.compute_class_weight('balanced',\n",
        "                                                 np.unique(men_df['level5/diagnosis']),\n",
        "                                                 men_df['level5/diagnosis'])\n",
        "\n",
        "m_class_weights = dict(enumerate(class_weights))"
      ],
      "execution_count": 135,
      "outputs": []
    },
    {
      "cell_type": "markdown",
      "metadata": {
        "id": "7h1H3_p3Bm0e"
      },
      "source": [
        "# Model"
      ]
    },
    {
      "cell_type": "markdown",
      "metadata": {
        "id": "ra4Hrsjtbqn0"
      },
      "source": [
        "## Multi (LSTM + Conv) _W"
      ]
    },
    {
      "cell_type": "code",
      "metadata": {
        "id": "vjo8aZCX_fxK"
      },
      "source": [
        "def w_top_k_hitrate(predicted_proba, n=2):\n",
        "\n",
        "  eval_metric = []\n",
        "  top_k_result = tf.math.top_k(predicted_proba, k=n, sorted=True)\n",
        "  for i in range(len(top_k_result[1])):\n",
        "    first = top_k_result[1][i][0]\n",
        "    second = top_k_result[1][i][1]\n",
        "    third = top_k_result[1][i][2]\n",
        "\n",
        "    if w_ori_X_test['level5/diagnosis'].values[i] in (w_y_test_dummies.columns[first],\n",
        "                                                      w_y_test_dummies.columns[second],\n",
        "                                                      w_y_test_dummies.columns[third]):\n",
        "      eval_metric.append(1)\n",
        "    else:\n",
        "      eval_metric.append(0)\n",
        "\n",
        "  return np.mean(eval_metric)"
      ],
      "execution_count": 136,
      "outputs": []
    },
    {
      "cell_type": "code",
      "metadata": {
        "colab": {
          "base_uri": "https://localhost:8080/"
        },
        "id": "oCENR6zr-t1T",
        "outputId": "f28a19fc-d297-4c8a-e98f-559f04da1c28"
      },
      "source": [
        "from keras.preprocessing.sequence import pad_sequences\n",
        "from keras.layers import Activation, Conv2D, Input, Embedding, Reshape, MaxPool1D, Concatenate, Flatten, Dropout, Dense, Conv1D\n",
        "from keras.layers import MaxPool1D, BatchNormalization, SimpleRNN, MaxPooling1D\n",
        "from keras.models import Model\n",
        "from keras.layers import Embedding, Dense, LSTM, GlobalMaxPooling1D, Dropout, Conv1D, Bidirectional\n",
        "from keras.models import Sequential, load_model, save_model\n",
        "import tensorflow as tf\n",
        "from keras.callbacks import EarlyStopping, ModelCheckpoint\n",
        "\n",
        "w_VOCAB_SIZE = len(w_tokenizer.index_word) + 1\n",
        "num_filters = 512\n",
        "filter_sizes = [5, 7, 9]\n",
        "\n",
        "inputs = Input(shape=(w_max_len,), dtype='int32')\n",
        "embedding = Embedding(w_VOCAB_SIZE, 1000)(inputs) #800하면 top_k가 0.01높지만 나머지는 0.01낮다.\n",
        "print(embedding.shape)\n",
        "\n",
        "lstm_1 = LSTM(512, dropout=0.3, return_sequences=True)(embedding)\n",
        "lstm_2 = LSTM(512, dropout=0.3, return_sequences=True)(embedding)\n",
        "lstm_3 = LSTM(512, dropout=0.3, return_sequences=True)(embedding)\n",
        "\n",
        "lstm_maxpool_0 = MaxPooling1D(pool_size=4)(lstm_1)\n",
        "lstm_maxpool_1 = MaxPooling1D(pool_size=4)(lstm_2)\n",
        "lstm_maxpool_2 = MaxPooling1D(pool_size=4)(lstm_3)\n",
        "\n",
        "n_conv_0 = Conv1D(num_filters, kernel_size=(filter_sizes[0]),\n",
        "                padding='valid', activation='relu')(lstm_maxpool_0)\n",
        "n_conv_1 = Conv1D(num_filters, kernel_size=(filter_sizes[1]),\n",
        "                padding='valid', activation='relu')(lstm_maxpool_1)\n",
        "n_conv_2 = Conv1D(num_filters, kernel_size=(filter_sizes[2]),\n",
        "                padding='valid', activation='relu')(lstm_maxpool_2)\n",
        "\n",
        "#MaxPool1D\n",
        "n_maxpool_0 = GlobalMaxPooling1D()(n_conv_0)\n",
        "n_maxpool_1 = GlobalMaxPooling1D()(n_conv_1)\n",
        "n_maxpool_2 = GlobalMaxPooling1D()(n_conv_2)\n",
        "\n",
        "##############\n",
        "conv_0 = Conv1D(num_filters, kernel_size=(filter_sizes[0]),\n",
        "                padding='valid', activation='relu')(embedding)\n",
        "conv_1 = Conv1D(num_filters, kernel_size=(filter_sizes[1]),\n",
        "                padding='valid', activation='relu')(embedding)\n",
        "conv_2 = Conv1D(num_filters, kernel_size=(filter_sizes[2]),\n",
        "                padding='valid', activation='relu')(embedding)\n",
        "\n",
        "#MaxPool1D\n",
        "maxpool_0 = GlobalMaxPooling1D()(conv_0)\n",
        "maxpool_1 = GlobalMaxPooling1D()(conv_1)\n",
        "maxpool_2 = GlobalMaxPooling1D()(conv_2)\n",
        "################\n",
        "\n",
        "concatenated = Concatenate(axis=1)([maxpool_0, maxpool_1, maxpool_2,\n",
        "                                    n_maxpool_0, n_maxpool_1, n_maxpool_2])\n",
        "flatten_layer = Flatten()(concatenated)\n",
        "dropout_layer1 = Dropout(0.5)(flatten_layer)\n",
        "\n",
        "dense_layer3 = Dense(units=2400, activation='relu')(dropout_layer1)\n",
        "dropout_layer4 = Dropout(0.5)(dense_layer3)\n",
        "\n",
        "dense_layer4 = Dense(units=800, activation='relu')(dropout_layer4)\n",
        "dropout_layer5 = Dropout(0.5)(dense_layer4)\n",
        "\n",
        "output = Dense(units=len(women_df['level5/diagnosis'].unique()),\n",
        "               activation='softmax')(dropout_layer5)\n",
        "\n",
        "w_model = Model(inputs=inputs, outputs=output)\n",
        "\n",
        "w_model.compile(optimizer='adam', loss='categorical_crossentropy',\n",
        "                metrics=['accuracy',\n",
        "                         tf.keras.metrics.Precision(name='precision')])\n",
        "\n",
        "history = w_model.fit(w_X_train_sequence, w_y_train_dummies, epochs=100,\n",
        "                      batch_size = 512, class_weight = w_class_weights,\n",
        "                      validation_split=0.2)"
      ],
      "execution_count": 146,
      "outputs": [
        {
          "output_type": "stream",
          "text": [
            "(None, 162, 1000)\n",
            "Epoch 1/100\n",
            "3/3 [==============================] - 15s 3s/step - loss: 5.4358 - accuracy: 0.0042 - precision: 0.0000e+00 - val_loss: 5.4625 - val_accuracy: 0.0000e+00 - val_precision: 0.0000e+00\n",
            "Epoch 2/100\n",
            "3/3 [==============================] - 7s 2s/step - loss: 5.5644 - accuracy: 0.0101 - precision: 0.0000e+00 - val_loss: 5.4863 - val_accuracy: 0.0120 - val_precision: 0.0000e+00\n",
            "Epoch 3/100\n",
            "3/3 [==============================] - 7s 2s/step - loss: 5.4341 - accuracy: 0.0057 - precision: 0.0000e+00 - val_loss: 5.4589 - val_accuracy: 0.0030 - val_precision: 0.0000e+00\n",
            "Epoch 4/100\n",
            "3/3 [==============================] - 8s 2s/step - loss: 5.4234 - accuracy: 0.0091 - precision: 0.0000e+00 - val_loss: 5.4530 - val_accuracy: 0.0030 - val_precision: 0.0000e+00\n",
            "Epoch 5/100\n",
            "3/3 [==============================] - 8s 2s/step - loss: 5.4396 - accuracy: 0.0061 - precision: 0.0000e+00 - val_loss: 5.4667 - val_accuracy: 0.0120 - val_precision: 0.0000e+00\n",
            "Epoch 6/100\n",
            "3/3 [==============================] - 8s 2s/step - loss: 5.3272 - accuracy: 0.0096 - precision: 0.0000e+00 - val_loss: 5.4324 - val_accuracy: 0.0060 - val_precision: 0.0000e+00\n",
            "Epoch 7/100\n",
            "3/3 [==============================] - 7s 2s/step - loss: 5.2678 - accuracy: 0.0198 - precision: 0.0000e+00 - val_loss: 5.4034 - val_accuracy: 0.0090 - val_precision: 0.0000e+00\n",
            "Epoch 8/100\n",
            "3/3 [==============================] - 7s 2s/step - loss: 5.1986 - accuracy: 0.0235 - precision: 0.0000e+00 - val_loss: 5.3704 - val_accuracy: 0.0300 - val_precision: 0.0000e+00\n",
            "Epoch 9/100\n",
            "3/3 [==============================] - 7s 2s/step - loss: 5.1020 - accuracy: 0.0271 - precision: 0.0000e+00 - val_loss: 5.3204 - val_accuracy: 0.0270 - val_precision: 0.0000e+00\n",
            "Epoch 10/100\n",
            "3/3 [==============================] - 7s 2s/step - loss: 5.0343 - accuracy: 0.0466 - precision: 0.0000e+00 - val_loss: 5.2811 - val_accuracy: 0.0360 - val_precision: 0.0000e+00\n",
            "Epoch 11/100\n",
            "3/3 [==============================] - 7s 2s/step - loss: 4.8029 - accuracy: 0.0651 - precision: 0.0000e+00 - val_loss: 5.1799 - val_accuracy: 0.0601 - val_precision: 0.0000e+00\n",
            "Epoch 12/100\n",
            "3/3 [==============================] - 7s 2s/step - loss: 4.6404 - accuracy: 0.0927 - precision: 0.1667 - val_loss: 5.0006 - val_accuracy: 0.1351 - val_precision: 1.0000\n",
            "Epoch 13/100\n",
            "3/3 [==============================] - 7s 2s/step - loss: 4.4137 - accuracy: 0.1169 - precision: 1.0000 - val_loss: 4.8303 - val_accuracy: 0.1381 - val_precision: 1.0000\n",
            "Epoch 14/100\n",
            "3/3 [==============================] - 7s 2s/step - loss: 4.0801 - accuracy: 0.1505 - precision: 0.9730 - val_loss: 4.6221 - val_accuracy: 0.1682 - val_precision: 0.9111\n",
            "Epoch 15/100\n",
            "3/3 [==============================] - 7s 2s/step - loss: 3.7978 - accuracy: 0.1902 - precision: 0.9378 - val_loss: 4.3231 - val_accuracy: 0.2583 - val_precision: 0.9266\n",
            "Epoch 16/100\n",
            "3/3 [==============================] - 7s 2s/step - loss: 3.4749 - accuracy: 0.2437 - precision: 0.9099 - val_loss: 3.9365 - val_accuracy: 0.3694 - val_precision: 0.9190\n",
            "Epoch 17/100\n",
            "3/3 [==============================] - 7s 2s/step - loss: 3.1986 - accuracy: 0.3139 - precision: 0.9231 - val_loss: 3.5502 - val_accuracy: 0.4444 - val_precision: 0.9088\n",
            "Epoch 18/100\n",
            "3/3 [==============================] - 7s 2s/step - loss: 2.7121 - accuracy: 0.3554 - precision: 0.9040 - val_loss: 3.1566 - val_accuracy: 0.4805 - val_precision: 0.9061\n",
            "Epoch 19/100\n",
            "3/3 [==============================] - 7s 2s/step - loss: 2.4172 - accuracy: 0.4507 - precision: 0.8955 - val_loss: 2.8142 - val_accuracy: 0.4715 - val_precision: 0.8973\n",
            "Epoch 20/100\n",
            "3/3 [==============================] - 7s 2s/step - loss: 2.1393 - accuracy: 0.4833 - precision: 0.8932 - val_loss: 2.4323 - val_accuracy: 0.5015 - val_precision: 0.8938\n",
            "Epoch 21/100\n",
            "3/3 [==============================] - 7s 2s/step - loss: 1.7703 - accuracy: 0.5486 - precision: 0.8922 - val_loss: 2.1037 - val_accuracy: 0.5405 - val_precision: 0.8927\n",
            "Epoch 22/100\n",
            "3/3 [==============================] - 7s 2s/step - loss: 1.5040 - accuracy: 0.6040 - precision: 0.8939 - val_loss: 1.8757 - val_accuracy: 0.5796 - val_precision: 0.8963\n",
            "Epoch 23/100\n",
            "3/3 [==============================] - 7s 2s/step - loss: 1.3171 - accuracy: 0.6397 - precision: 0.8963 - val_loss: 1.7201 - val_accuracy: 0.5976 - val_precision: 0.8917\n",
            "Epoch 24/100\n",
            "3/3 [==============================] - 7s 2s/step - loss: 1.1147 - accuracy: 0.6827 - precision: 0.8924 - val_loss: 1.6002 - val_accuracy: 0.6096 - val_precision: 0.8913\n",
            "Epoch 25/100\n",
            "3/3 [==============================] - 7s 2s/step - loss: 1.0075 - accuracy: 0.7150 - precision: 0.8923 - val_loss: 1.4997 - val_accuracy: 0.6306 - val_precision: 0.8922\n",
            "Epoch 26/100\n",
            "3/3 [==============================] - 7s 2s/step - loss: 0.8130 - accuracy: 0.7500 - precision: 0.8950 - val_loss: 1.3865 - val_accuracy: 0.6396 - val_precision: 0.8960\n",
            "Epoch 27/100\n",
            "3/3 [==============================] - 7s 2s/step - loss: 0.7394 - accuracy: 0.7719 - precision: 0.8961 - val_loss: 1.2920 - val_accuracy: 0.6577 - val_precision: 0.8966\n",
            "Epoch 28/100\n",
            "3/3 [==============================] - 7s 2s/step - loss: 0.5958 - accuracy: 0.8069 - precision: 0.8986 - val_loss: 1.2542 - val_accuracy: 0.6757 - val_precision: 0.8979\n",
            "Epoch 29/100\n",
            "3/3 [==============================] - 7s 2s/step - loss: 0.4730 - accuracy: 0.8313 - precision: 0.9006 - val_loss: 1.2266 - val_accuracy: 0.7027 - val_precision: 0.9000\n",
            "Epoch 30/100\n",
            "3/3 [==============================] - 7s 2s/step - loss: 0.4425 - accuracy: 0.8678 - precision: 0.9028 - val_loss: 1.1435 - val_accuracy: 0.7327 - val_precision: 0.9029\n",
            "Epoch 31/100\n",
            "3/3 [==============================] - 7s 2s/step - loss: 0.4191 - accuracy: 0.8520 - precision: 0.9044 - val_loss: 1.0629 - val_accuracy: 0.7357 - val_precision: 0.9039\n",
            "Epoch 32/100\n",
            "3/3 [==============================] - 7s 2s/step - loss: 0.3370 - accuracy: 0.8856 - precision: 0.9057 - val_loss: 1.0358 - val_accuracy: 0.7538 - val_precision: 0.9062\n",
            "Epoch 33/100\n",
            "3/3 [==============================] - 7s 2s/step - loss: 0.3142 - accuracy: 0.9049 - precision: 0.9081 - val_loss: 1.0308 - val_accuracy: 0.7508 - val_precision: 0.9077\n",
            "Epoch 34/100\n",
            "3/3 [==============================] - 7s 2s/step - loss: 0.2981 - accuracy: 0.8850 - precision: 0.9093 - val_loss: 1.0628 - val_accuracy: 0.7387 - val_precision: 0.9100\n",
            "Epoch 35/100\n",
            "3/3 [==============================] - 7s 2s/step - loss: 0.2838 - accuracy: 0.9126 - precision: 0.9118 - val_loss: 1.0859 - val_accuracy: 0.7267 - val_precision: 0.9116\n",
            "Epoch 36/100\n",
            "3/3 [==============================] - 7s 2s/step - loss: 0.2606 - accuracy: 0.9085 - precision: 0.9129 - val_loss: 1.0577 - val_accuracy: 0.7538 - val_precision: 0.9131\n",
            "Epoch 37/100\n",
            "3/3 [==============================] - 7s 2s/step - loss: 0.1963 - accuracy: 0.9309 - precision: 0.9149 - val_loss: 1.0273 - val_accuracy: 0.7447 - val_precision: 0.9147\n",
            "Epoch 38/100\n",
            "3/3 [==============================] - 7s 2s/step - loss: 0.2199 - accuracy: 0.9346 - precision: 0.9161 - val_loss: 1.0563 - val_accuracy: 0.7568 - val_precision: 0.9162\n",
            "Epoch 39/100\n",
            "3/3 [==============================] - 7s 2s/step - loss: 0.1557 - accuracy: 0.9521 - precision: 0.9181 - val_loss: 1.0983 - val_accuracy: 0.7598 - val_precision: 0.9181\n",
            "Epoch 40/100\n",
            "3/3 [==============================] - 7s 2s/step - loss: 0.1659 - accuracy: 0.9427 - precision: 0.9196 - val_loss: 1.0784 - val_accuracy: 0.7538 - val_precision: 0.9195\n",
            "Epoch 41/100\n",
            "3/3 [==============================] - 7s 2s/step - loss: 0.1291 - accuracy: 0.9593 - precision: 0.9211 - val_loss: 1.0368 - val_accuracy: 0.7598 - val_precision: 0.9214\n",
            "Epoch 42/100\n",
            "3/3 [==============================] - 7s 2s/step - loss: 0.1268 - accuracy: 0.9598 - precision: 0.9230 - val_loss: 1.0045 - val_accuracy: 0.7658 - val_precision: 0.9231\n",
            "Epoch 43/100\n",
            "3/3 [==============================] - 7s 2s/step - loss: 0.1234 - accuracy: 0.9604 - precision: 0.9243 - val_loss: 0.9957 - val_accuracy: 0.7628 - val_precision: 0.9242\n",
            "Epoch 44/100\n",
            "3/3 [==============================] - 7s 2s/step - loss: 0.0921 - accuracy: 0.9616 - precision: 0.9253 - val_loss: 0.9759 - val_accuracy: 0.7658 - val_precision: 0.9254\n",
            "Epoch 45/100\n",
            "3/3 [==============================] - 7s 2s/step - loss: 0.1020 - accuracy: 0.9730 - precision: 0.9268 - val_loss: 0.9594 - val_accuracy: 0.7838 - val_precision: 0.9269\n",
            "Epoch 46/100\n",
            "3/3 [==============================] - 7s 2s/step - loss: 0.0965 - accuracy: 0.9663 - precision: 0.9280 - val_loss: 0.9691 - val_accuracy: 0.7778 - val_precision: 0.9280\n",
            "Epoch 47/100\n",
            "3/3 [==============================] - 7s 2s/step - loss: 0.0719 - accuracy: 0.9772 - precision: 0.9291 - val_loss: 0.9951 - val_accuracy: 0.7808 - val_precision: 0.9292\n",
            "Epoch 48/100\n",
            "3/3 [==============================] - 7s 2s/step - loss: 0.0955 - accuracy: 0.9766 - precision: 0.9304 - val_loss: 1.0071 - val_accuracy: 0.7808 - val_precision: 0.9303\n",
            "Epoch 49/100\n",
            "3/3 [==============================] - 7s 2s/step - loss: 0.0614 - accuracy: 0.9767 - precision: 0.9313 - val_loss: 0.9968 - val_accuracy: 0.7868 - val_precision: 0.9314\n",
            "Epoch 50/100\n",
            "3/3 [==============================] - 7s 2s/step - loss: 0.0560 - accuracy: 0.9838 - precision: 0.9325 - val_loss: 0.9998 - val_accuracy: 0.7868 - val_precision: 0.9326\n",
            "Epoch 51/100\n",
            "3/3 [==============================] - 7s 2s/step - loss: 0.0682 - accuracy: 0.9776 - precision: 0.9336 - val_loss: 1.0021 - val_accuracy: 0.7838 - val_precision: 0.9334\n",
            "Epoch 52/100\n",
            "3/3 [==============================] - 7s 2s/step - loss: 0.0523 - accuracy: 0.9820 - precision: 0.9344 - val_loss: 0.9983 - val_accuracy: 0.7838 - val_precision: 0.9343\n",
            "Epoch 53/100\n",
            "3/3 [==============================] - 7s 2s/step - loss: 0.0663 - accuracy: 0.9855 - precision: 0.9352 - val_loss: 0.9991 - val_accuracy: 0.7808 - val_precision: 0.9350\n",
            "Epoch 54/100\n",
            "3/3 [==============================] - 7s 2s/step - loss: 0.0577 - accuracy: 0.9859 - precision: 0.9359 - val_loss: 1.0032 - val_accuracy: 0.7838 - val_precision: 0.9358\n",
            "Epoch 55/100\n",
            "3/3 [==============================] - 7s 2s/step - loss: 0.0427 - accuracy: 0.9883 - precision: 0.9367 - val_loss: 1.0030 - val_accuracy: 0.7988 - val_precision: 0.9366\n",
            "Epoch 56/100\n",
            "3/3 [==============================] - 7s 2s/step - loss: 0.0430 - accuracy: 0.9895 - precision: 0.9375 - val_loss: 1.0074 - val_accuracy: 0.7988 - val_precision: 0.9374\n",
            "Epoch 57/100\n",
            "3/3 [==============================] - 7s 2s/step - loss: 0.0417 - accuracy: 0.9905 - precision: 0.9383 - val_loss: 0.9909 - val_accuracy: 0.7928 - val_precision: 0.9382\n",
            "Epoch 58/100\n",
            "3/3 [==============================] - 7s 2s/step - loss: 0.0493 - accuracy: 0.9861 - precision: 0.9390 - val_loss: 0.9982 - val_accuracy: 0.7958 - val_precision: 0.9388\n",
            "Epoch 59/100\n",
            "3/3 [==============================] - 7s 2s/step - loss: 0.0441 - accuracy: 0.9858 - precision: 0.9395 - val_loss: 1.0131 - val_accuracy: 0.7958 - val_precision: 0.9393\n",
            "Epoch 60/100\n",
            "3/3 [==============================] - 7s 2s/step - loss: 0.0789 - accuracy: 0.9847 - precision: 0.9400 - val_loss: 1.0510 - val_accuracy: 0.7868 - val_precision: 0.9398\n",
            "Epoch 61/100\n",
            "3/3 [==============================] - 7s 2s/step - loss: 0.0400 - accuracy: 0.9911 - precision: 0.9405 - val_loss: 1.0902 - val_accuracy: 0.7688 - val_precision: 0.9403\n",
            "Epoch 62/100\n",
            "3/3 [==============================] - 7s 2s/step - loss: 0.0568 - accuracy: 0.9851 - precision: 0.9409 - val_loss: 1.0962 - val_accuracy: 0.7808 - val_precision: 0.9408\n",
            "Epoch 63/100\n",
            "3/3 [==============================] - 7s 2s/step - loss: 0.0449 - accuracy: 0.9874 - precision: 0.9414 - val_loss: 1.0989 - val_accuracy: 0.7838 - val_precision: 0.9412\n",
            "Epoch 64/100\n",
            "3/3 [==============================] - 7s 2s/step - loss: 0.0400 - accuracy: 0.9871 - precision: 0.9418 - val_loss: 1.0990 - val_accuracy: 0.7838 - val_precision: 0.9417\n",
            "Epoch 65/100\n",
            "3/3 [==============================] - 7s 2s/step - loss: 0.0410 - accuracy: 0.9850 - precision: 0.9423 - val_loss: 1.0918 - val_accuracy: 0.7898 - val_precision: 0.9421\n",
            "Epoch 66/100\n",
            "3/3 [==============================] - 7s 2s/step - loss: 0.0352 - accuracy: 0.9904 - precision: 0.9427 - val_loss: 1.0810 - val_accuracy: 0.7928 - val_precision: 0.9426\n",
            "Epoch 67/100\n",
            "3/3 [==============================] - 7s 2s/step - loss: 0.0315 - accuracy: 0.9905 - precision: 0.9431 - val_loss: 1.0656 - val_accuracy: 0.7988 - val_precision: 0.9430\n",
            "Epoch 68/100\n",
            "3/3 [==============================] - 7s 2s/step - loss: 0.0282 - accuracy: 0.9890 - precision: 0.9435 - val_loss: 1.0697 - val_accuracy: 0.8048 - val_precision: 0.9434\n",
            "Epoch 69/100\n",
            "3/3 [==============================] - 7s 2s/step - loss: 0.0298 - accuracy: 0.9899 - precision: 0.9439 - val_loss: 1.1045 - val_accuracy: 0.7808 - val_precision: 0.9437\n",
            "Epoch 70/100\n",
            "3/3 [==============================] - 7s 2s/step - loss: 0.0248 - accuracy: 0.9956 - precision: 0.9443 - val_loss: 1.1315 - val_accuracy: 0.7808 - val_precision: 0.9443\n",
            "Epoch 71/100\n",
            "3/3 [==============================] - 7s 2s/step - loss: 0.0318 - accuracy: 0.9929 - precision: 0.9448 - val_loss: 1.1316 - val_accuracy: 0.7898 - val_precision: 0.9447\n",
            "Epoch 72/100\n",
            "3/3 [==============================] - 7s 2s/step - loss: 0.0476 - accuracy: 0.9880 - precision: 0.9451 - val_loss: 1.1294 - val_accuracy: 0.7928 - val_precision: 0.9450\n",
            "Epoch 73/100\n",
            "3/3 [==============================] - 7s 2s/step - loss: 0.0298 - accuracy: 0.9957 - precision: 0.9455 - val_loss: 1.1394 - val_accuracy: 0.7748 - val_precision: 0.9453\n",
            "Epoch 74/100\n",
            "3/3 [==============================] - 7s 2s/step - loss: 0.0252 - accuracy: 0.9936 - precision: 0.9458 - val_loss: 1.1474 - val_accuracy: 0.7778 - val_precision: 0.9457\n",
            "Epoch 75/100\n",
            "3/3 [==============================] - 7s 2s/step - loss: 0.0330 - accuracy: 0.9938 - precision: 0.9461 - val_loss: 1.1183 - val_accuracy: 0.7748 - val_precision: 0.9459\n",
            "Epoch 76/100\n",
            "3/3 [==============================] - 7s 2s/step - loss: 0.0280 - accuracy: 0.9910 - precision: 0.9464 - val_loss: 1.0939 - val_accuracy: 0.7898 - val_precision: 0.9463\n",
            "Epoch 77/100\n",
            "3/3 [==============================] - 7s 2s/step - loss: 0.0219 - accuracy: 0.9957 - precision: 0.9467 - val_loss: 1.0870 - val_accuracy: 0.8018 - val_precision: 0.9466\n",
            "Epoch 78/100\n",
            "3/3 [==============================] - 7s 2s/step - loss: 0.0229 - accuracy: 0.9958 - precision: 0.9471 - val_loss: 1.0904 - val_accuracy: 0.8018 - val_precision: 0.9470\n",
            "Epoch 79/100\n",
            "3/3 [==============================] - 7s 2s/step - loss: 0.0247 - accuracy: 0.9928 - precision: 0.9474 - val_loss: 1.1083 - val_accuracy: 0.7958 - val_precision: 0.9473\n",
            "Epoch 80/100\n",
            "3/3 [==============================] - 7s 2s/step - loss: 0.0240 - accuracy: 0.9936 - precision: 0.9477 - val_loss: 1.1088 - val_accuracy: 0.7808 - val_precision: 0.9475\n",
            "Epoch 81/100\n",
            "3/3 [==============================] - 7s 2s/step - loss: 0.0236 - accuracy: 0.9923 - precision: 0.9479 - val_loss: 1.1102 - val_accuracy: 0.7808 - val_precision: 0.9477\n",
            "Epoch 82/100\n",
            "3/3 [==============================] - 7s 2s/step - loss: 0.0301 - accuracy: 0.9964 - precision: 0.9481 - val_loss: 1.1047 - val_accuracy: 0.7898 - val_precision: 0.9480\n",
            "Epoch 83/100\n",
            "3/3 [==============================] - 7s 2s/step - loss: 0.0206 - accuracy: 0.9948 - precision: 0.9484 - val_loss: 1.0943 - val_accuracy: 0.7988 - val_precision: 0.9482\n",
            "Epoch 84/100\n",
            "3/3 [==============================] - 7s 2s/step - loss: 0.0184 - accuracy: 0.9959 - precision: 0.9486 - val_loss: 1.0824 - val_accuracy: 0.8048 - val_precision: 0.9485\n",
            "Epoch 85/100\n",
            "3/3 [==============================] - 7s 2s/step - loss: 0.0132 - accuracy: 0.9976 - precision: 0.9489 - val_loss: 1.0763 - val_accuracy: 0.8048 - val_precision: 0.9488\n",
            "Epoch 86/100\n",
            "3/3 [==============================] - 7s 2s/step - loss: 0.0380 - accuracy: 0.9900 - precision: 0.9492 - val_loss: 1.0942 - val_accuracy: 0.8018 - val_precision: 0.9491\n",
            "Epoch 87/100\n",
            "3/3 [==============================] - 7s 2s/step - loss: 0.0266 - accuracy: 0.9931 - precision: 0.9494 - val_loss: 1.1117 - val_accuracy: 0.7898 - val_precision: 0.9493\n",
            "Epoch 88/100\n",
            "3/3 [==============================] - 7s 2s/step - loss: 0.0223 - accuracy: 0.9934 - precision: 0.9497 - val_loss: 1.1309 - val_accuracy: 0.7928 - val_precision: 0.9495\n",
            "Epoch 89/100\n",
            "3/3 [==============================] - 7s 2s/step - loss: 0.0228 - accuracy: 0.9950 - precision: 0.9499 - val_loss: 1.1769 - val_accuracy: 0.7778 - val_precision: 0.9497\n",
            "Epoch 90/100\n",
            "3/3 [==============================] - 7s 2s/step - loss: 0.0201 - accuracy: 0.9975 - precision: 0.9500 - val_loss: 1.2164 - val_accuracy: 0.7868 - val_precision: 0.9499\n",
            "Epoch 91/100\n",
            "3/3 [==============================] - 7s 2s/step - loss: 0.0166 - accuracy: 0.9973 - precision: 0.9502 - val_loss: 1.2205 - val_accuracy: 0.7808 - val_precision: 0.9501\n",
            "Epoch 92/100\n",
            "3/3 [==============================] - 7s 2s/step - loss: 0.0185 - accuracy: 0.9949 - precision: 0.9504 - val_loss: 1.1875 - val_accuracy: 0.7808 - val_precision: 0.9502\n",
            "Epoch 93/100\n",
            "3/3 [==============================] - 7s 2s/step - loss: 0.0178 - accuracy: 0.9976 - precision: 0.9506 - val_loss: 1.1727 - val_accuracy: 0.7808 - val_precision: 0.9504\n",
            "Epoch 94/100\n",
            "3/3 [==============================] - 7s 2s/step - loss: 0.0193 - accuracy: 0.9965 - precision: 0.9508 - val_loss: 1.1726 - val_accuracy: 0.7898 - val_precision: 0.9507\n",
            "Epoch 95/100\n",
            "3/3 [==============================] - 7s 2s/step - loss: 0.0150 - accuracy: 0.9955 - precision: 0.9510 - val_loss: 1.1710 - val_accuracy: 0.7928 - val_precision: 0.9508\n",
            "Epoch 96/100\n",
            "3/3 [==============================] - 7s 2s/step - loss: 0.0171 - accuracy: 0.9942 - precision: 0.9511 - val_loss: 1.1643 - val_accuracy: 0.7868 - val_precision: 0.9510\n",
            "Epoch 97/100\n",
            "3/3 [==============================] - 7s 2s/step - loss: 0.0172 - accuracy: 0.9967 - precision: 0.9513 - val_loss: 1.1565 - val_accuracy: 0.7958 - val_precision: 0.9512\n",
            "Epoch 98/100\n",
            "3/3 [==============================] - 7s 2s/step - loss: 0.0187 - accuracy: 0.9979 - precision: 0.9515 - val_loss: 1.1530 - val_accuracy: 0.7988 - val_precision: 0.9514\n",
            "Epoch 99/100\n",
            "3/3 [==============================] - 7s 2s/step - loss: 0.0164 - accuracy: 0.9983 - precision: 0.9517 - val_loss: 1.1450 - val_accuracy: 0.7958 - val_precision: 0.9516\n",
            "Epoch 100/100\n",
            "3/3 [==============================] - 7s 2s/step - loss: 0.0213 - accuracy: 0.9970 - precision: 0.9519 - val_loss: 1.1501 - val_accuracy: 0.7958 - val_precision: 0.9518\n"
          ],
          "name": "stdout"
        }
      ]
    },
    {
      "cell_type": "code",
      "metadata": {
        "colab": {
          "base_uri": "https://localhost:8080/"
        },
        "id": "zDZQlL9T-tPN",
        "outputId": "6e90c157-84bc-4019-f6a8-52b83abfe979"
      },
      "source": [
        "test_result = w_model.evaluate(w_X_test_sequence, w_y_test_dummies)\n",
        "\n",
        "print(\"Accuracy of Test: {:.4f}\".format(test_result[1])) #(TP+TN)/(TP+FN+FP+TN)\n",
        "print(\"Precision of Test: {:.4f}\".format(test_result[2])) #(TP/(TP+FP))\n",
        "#print(\"F1-score of Test: {:.4f}\".format(np.mean(test_result[3])))\n",
        "print(\"top_k_result: {:.4f}\".format(w_top_k_hitrate(w_model.predict(w_X_test_sequence), n=3)))"
      ],
      "execution_count": 147,
      "outputs": [
        {
          "output_type": "stream",
          "text": [
            "18/18 [==============================] - 1s 68ms/step - loss: 1.0912 - accuracy: 0.7978 - precision: 0.9516\n",
            "Accuracy of Test: 0.7978\n",
            "Precision of Test: 0.9516\n",
            "top_k_result: 0.9097\n"
          ],
          "name": "stdout"
        }
      ]
    },
    {
      "cell_type": "code",
      "metadata": {
        "id": "0Y-HXXzGPjZm"
      },
      "source": [
        "#dropout 0.3\n",
        "Accuracy of Test: 0.8195\n",
        "Precision of Test: 0.9523\n",
        "top_k_result: 0.9152\n",
        "\n",
        "#Accuracy of Test: 0.8649\n",
        "#Precision of Test: 0.8894\n",
        "#top_k_result: 0.9272"
      ],
      "execution_count": null,
      "outputs": []
    },
    {
      "cell_type": "code",
      "metadata": {
        "colab": {
          "base_uri": "https://localhost:8080/",
          "height": 473
        },
        "id": "SuAhj8hS_pkL",
        "outputId": "1c613388-09a8-47e9-9119-fa170145c311"
      },
      "source": [
        "top_k_result = tf.math.top_k(w_model.predict(w_X_test_sequence), k=1, sorted=True)\n",
        "first = top_k_result[1]\n",
        "b = w_y_test_dummies.columns[first]\n",
        "\n",
        "w_ori_y_test = np.asarray(w_ori_y_test)\n",
        "\n",
        "compare_result = pd.concat([pd.DataFrame(w_ori_y_test, columns=['True']).reset_index(drop=True),\n",
        "                            pd.DataFrame(b, columns=['predict']).reset_index(drop=True)],\n",
        "                           axis=1)\n",
        "\n",
        "misclassified = np.where(compare_result['True'] != compare_result['predict'])\n",
        "compare_result.iloc[misclassified]"
      ],
      "execution_count": 148,
      "outputs": [
        {
          "output_type": "stream",
          "text": [
            "/usr/local/lib/python3.7/dist-packages/ipykernel_launcher.py:3: FutureWarning: Support for multi-dimensional indexing (e.g. `obj[:, None]`) is deprecated and will be removed in a future version.  Convert to a numpy array before indexing instead.\n",
            "  This is separate from the ipykernel package so we can avoid doing imports until\n"
          ],
          "name": "stderr"
        },
        {
          "output_type": "execute_result",
          "data": {
            "text/html": [
              "<div>\n",
              "<style scoped>\n",
              "    .dataframe tbody tr th:only-of-type {\n",
              "        vertical-align: middle;\n",
              "    }\n",
              "\n",
              "    .dataframe tbody tr th {\n",
              "        vertical-align: top;\n",
              "    }\n",
              "\n",
              "    .dataframe thead th {\n",
              "        text-align: right;\n",
              "    }\n",
              "</style>\n",
              "<table border=\"1\" class=\"dataframe\">\n",
              "  <thead>\n",
              "    <tr style=\"text-align: right;\">\n",
              "      <th></th>\n",
              "      <th>True</th>\n",
              "      <th>predict</th>\n",
              "    </tr>\n",
              "  </thead>\n",
              "  <tbody>\n",
              "    <tr>\n",
              "      <th>26</th>\n",
              "      <td>커피 / 약물에 의한 요붕증</td>\n",
              "      <td>요폐색 해소 후 요붕증</td>\n",
              "    </tr>\n",
              "    <tr>\n",
              "      <th>27</th>\n",
              "      <td>폐경증후군</td>\n",
              "      <td>발작심실상성 빈맥</td>\n",
              "    </tr>\n",
              "    <tr>\n",
              "      <th>28</th>\n",
              "      <td>척추관 협착증</td>\n",
              "      <td>연골연화증</td>\n",
              "    </tr>\n",
              "    <tr>\n",
              "      <th>30</th>\n",
              "      <td>폐색전증</td>\n",
              "      <td>대동맥 박리</td>\n",
              "    </tr>\n",
              "    <tr>\n",
              "      <th>35</th>\n",
              "      <td>심부전</td>\n",
              "      <td>악성 고혈암</td>\n",
              "    </tr>\n",
              "    <tr>\n",
              "      <th>...</th>\n",
              "      <td>...</td>\n",
              "      <td>...</td>\n",
              "    </tr>\n",
              "    <tr>\n",
              "      <th>538</th>\n",
              "      <td>담도암 / 췌장 두부암</td>\n",
              "      <td>담관염</td>\n",
              "    </tr>\n",
              "    <tr>\n",
              "      <th>543</th>\n",
              "      <td>폐렴</td>\n",
              "      <td>상기도출혈</td>\n",
              "    </tr>\n",
              "    <tr>\n",
              "      <th>546</th>\n",
              "      <td>약물 / 알콜에 의한 증상</td>\n",
              "      <td>신경인성 방광</td>\n",
              "    </tr>\n",
              "    <tr>\n",
              "      <th>547</th>\n",
              "      <td>유방낭종</td>\n",
              "      <td>섬유 낭종성 질환</td>\n",
              "    </tr>\n",
              "    <tr>\n",
              "      <th>552</th>\n",
              "      <td>골반염</td>\n",
              "      <td>난소 염전</td>\n",
              "    </tr>\n",
              "  </tbody>\n",
              "</table>\n",
              "<p>112 rows × 2 columns</p>\n",
              "</div>"
            ],
            "text/plain": [
              "                True       predict\n",
              "26   커피 / 약물에 의한 요붕증  요폐색 해소 후 요붕증\n",
              "27             폐경증후군     발작심실상성 빈맥\n",
              "28           척추관 협착증         연골연화증\n",
              "30              폐색전증        대동맥 박리\n",
              "35               심부전        악성 고혈암\n",
              "..               ...           ...\n",
              "538     담도암 / 췌장 두부암           담관염\n",
              "543               폐렴         상기도출혈\n",
              "546   약물 / 알콜에 의한 증상       신경인성 방광\n",
              "547             유방낭종     섬유 낭종성 질환\n",
              "552              골반염         난소 염전\n",
              "\n",
              "[112 rows x 2 columns]"
            ]
          },
          "metadata": {
            "tags": []
          },
          "execution_count": 148
        }
      ]
    },
    {
      "cell_type": "code",
      "metadata": {
        "id": "OOQBd43Rqvlr"
      },
      "source": [
        ""
      ],
      "execution_count": 148,
      "outputs": []
    },
    {
      "cell_type": "markdown",
      "metadata": {
        "id": "bo-h8iRstgMd"
      },
      "source": [
        "## Multi (LSTM -> Conv) _M"
      ]
    },
    {
      "cell_type": "code",
      "metadata": {
        "id": "vqHPtQu_AAWp"
      },
      "source": [
        "def m_top_k_hitrate(predicted_proba, n=2):\n",
        "\n",
        "  eval_metric = []\n",
        "  top_k_result = tf.math.top_k(predicted_proba, k=n, sorted=True)\n",
        "  for i in range(len(top_k_result[1])):\n",
        "    first = top_k_result[1][i][0]\n",
        "    second = top_k_result[1][i][1]\n",
        "    third = top_k_result[1][i][2]\n",
        "\n",
        "    if m_ori_X_test['level5/diagnosis'].values[i] in (m_y_test_dummies.columns[first],\n",
        "                                                      m_y_test_dummies.columns[second],\n",
        "                                                      m_y_test_dummies.columns[third]):\n",
        "      eval_metric.append(1)\n",
        "    else:\n",
        "      eval_metric.append(0)\n",
        "\n",
        "  return np.mean(eval_metric)"
      ],
      "execution_count": 149,
      "outputs": []
    },
    {
      "cell_type": "code",
      "metadata": {
        "id": "fTShM1-MSjEO",
        "colab": {
          "base_uri": "https://localhost:8080/"
        },
        "outputId": "7227785b-ca79-4762-bdfa-1c861c2e5897"
      },
      "source": [
        "from keras.layers import MaxPooling1D\n",
        "m_VOCAB_SIZE = len(m_tokenizer.index_word) + 1\n",
        "num_filters = 512\n",
        "filter_sizes = [5, 7, 9]\n",
        "\n",
        "inputs = Input(shape=(m_max_len,), dtype='int32')\n",
        "embedding = Embedding(m_VOCAB_SIZE, 1000)(inputs) #800하면 top_k가 0.01높지만 나머지는 0.01낮다.\n",
        "print(embedding.shape)\n",
        "\n",
        "#lstm_1 = LSTM(512, dropout=0.2, return_sequences=True)(embedding)\n",
        "#lstm_2 = LSTM(512, dropout=0.2, return_sequences=True)(embedding)\n",
        "#lstm_3 = LSTM(512, dropout=0.2, return_sequences=True)(embedding)\n",
        "\n",
        "lstm_1 = LSTM(512, dropout=0.3, return_sequences=True)(embedding)\n",
        "lstm_2 = LSTM(512, dropout=0.3, return_sequences=True)(embedding)\n",
        "lstm_3 = LSTM(512, dropout=0.3, return_sequences=True)(embedding)\n",
        "\n",
        "lstm_maxpool_0 = MaxPooling1D(pool_size=4)(lstm_1)\n",
        "lstm_maxpool_1 = MaxPooling1D(pool_size=4)(lstm_2)\n",
        "lstm_maxpool_2 = MaxPooling1D(pool_size=4)(lstm_3)\n",
        "\n",
        "n_conv_0 = Conv1D(num_filters, kernel_size=(filter_sizes[0]),\n",
        "                padding='valid', activation='relu')(lstm_maxpool_0)\n",
        "n_conv_1 = Conv1D(num_filters, kernel_size=(filter_sizes[1]),\n",
        "                padding='valid', activation='relu')(lstm_maxpool_1)\n",
        "n_conv_2 = Conv1D(num_filters, kernel_size=(filter_sizes[2]),\n",
        "                padding='valid', activation='relu')(lstm_maxpool_2)\n",
        "\n",
        "#MaxPool1D\n",
        "n_maxpool_0 = GlobalMaxPooling1D()(n_conv_0)\n",
        "n_maxpool_1 = GlobalMaxPooling1D()(n_conv_1)\n",
        "n_maxpool_2 = GlobalMaxPooling1D()(n_conv_2)\n",
        "\n",
        "##############\n",
        "conv_0 = Conv1D(num_filters, kernel_size=(filter_sizes[0]),\n",
        "                padding='valid', activation='relu')(embedding)\n",
        "conv_1 = Conv1D(num_filters, kernel_size=(filter_sizes[1]),\n",
        "                padding='valid', activation='relu')(embedding)\n",
        "conv_2 = Conv1D(num_filters, kernel_size=(filter_sizes[2]),\n",
        "                padding='valid', activation='relu')(embedding)\n",
        "\n",
        "#MaxPool1D\n",
        "maxpool_0 = GlobalMaxPooling1D()(conv_0)\n",
        "maxpool_1 = GlobalMaxPooling1D()(conv_1)\n",
        "maxpool_2 = GlobalMaxPooling1D()(conv_2)\n",
        "################\n",
        "\n",
        "concatenated = Concatenate(axis=1)([maxpool_0, maxpool_1, maxpool_2,\n",
        "                                    n_maxpool_0, n_maxpool_1, n_maxpool_2])\n",
        "flatten_layer = Flatten()(concatenated)\n",
        "dropout_layer1 = Dropout(0.5)(flatten_layer)\n",
        "\n",
        "dense_layer3 = Dense(units=2400, activation='relu')(dropout_layer1)\n",
        "dropout_layer4 = Dropout(0.5)(dense_layer3)\n",
        "\n",
        "dense_layer4 = Dense(units=800, activation='relu')(dropout_layer4)\n",
        "dropout_layer5 = Dropout(0.5)(dense_layer4)\n",
        "\n",
        "output = Dense(units=len(men_df['level5/diagnosis'].unique()),\n",
        "               activation='softmax')(dropout_layer5)\n",
        "\n",
        "m_model = Model(inputs=inputs, outputs=output)\n",
        "\n",
        "m_model.compile(optimizer='adam', loss='categorical_crossentropy',\n",
        "                metrics=['accuracy',\n",
        "                         tf.keras.metrics.Precision(name='precision')])\n",
        "\n",
        "history = m_model.fit(m_X_train_sequence, m_y_train_dummies, epochs=100,\n",
        "                      batch_size = 216, class_weight = m_class_weights,\n",
        "                      validation_split=0.2)"
      ],
      "execution_count": null,
      "outputs": [
        {
          "output_type": "stream",
          "text": [
            "(None, 162, 1000)\n",
            "Epoch 1/100\n",
            "6/6 [==============================] - 17s 2s/step - loss: 5.2993 - accuracy: 0.0024 - precision: 0.0000e+00 - val_loss: 5.2782 - val_accuracy: 0.0000e+00 - val_precision: 0.0000e+00\n",
            "Epoch 2/100\n",
            "6/6 [==============================] - 7s 1s/step - loss: 5.2997 - accuracy: 0.0134 - precision: 0.0000e+00 - val_loss: 5.2946 - val_accuracy: 0.0033 - val_precision: 0.0000e+00\n",
            "Epoch 3/100\n",
            "6/6 [==============================] - 7s 1s/step - loss: 5.1048 - accuracy: 0.0066 - precision: 0.0000e+00 - val_loss: 5.2573 - val_accuracy: 0.0067 - val_precision: 0.0000e+00\n",
            "Epoch 4/100\n",
            "6/6 [==============================] - 7s 1s/step - loss: 5.1912 - accuracy: 0.0053 - precision: 0.0000e+00 - val_loss: 5.2626 - val_accuracy: 0.0033 - val_precision: 0.0000e+00\n",
            "Epoch 5/100\n",
            "6/6 [==============================] - 7s 1s/step - loss: 5.0714 - accuracy: 0.0097 - precision: 0.0000e+00 - val_loss: 5.2434 - val_accuracy: 0.0033 - val_precision: 0.0000e+00\n",
            "Epoch 6/100\n",
            "6/6 [==============================] - 7s 1s/step - loss: 5.1227 - accuracy: 0.0193 - precision: 0.0000e+00 - val_loss: 5.2321 - val_accuracy: 0.0233 - val_precision: 0.0000e+00\n",
            "Epoch 7/100\n",
            "6/6 [==============================] - 7s 1s/step - loss: 4.8968 - accuracy: 0.0375 - precision: 0.0000e+00 - val_loss: 5.1654 - val_accuracy: 0.0233 - val_precision: 0.0000e+00\n",
            "Epoch 8/100\n",
            "6/6 [==============================] - 7s 1s/step - loss: 4.8143 - accuracy: 0.0540 - precision: 0.3952 - val_loss: 4.9957 - val_accuracy: 0.0667 - val_precision: 1.0000\n",
            "Epoch 9/100\n",
            "6/6 [==============================] - 7s 1s/step - loss: 4.5197 - accuracy: 0.0995 - precision: 1.0000 - val_loss: 4.8172 - val_accuracy: 0.1033 - val_precision: 1.0000\n",
            "Epoch 10/100\n",
            "6/6 [==============================] - 7s 1s/step - loss: 4.0002 - accuracy: 0.1435 - precision: 0.9962 - val_loss: 4.4555 - val_accuracy: 0.1667 - val_precision: 0.9740\n",
            "Epoch 11/100\n",
            "6/6 [==============================] - 7s 1s/step - loss: 3.6740 - accuracy: 0.1998 - precision: 0.9678 - val_loss: 3.9877 - val_accuracy: 0.3100 - val_precision: 0.9330\n",
            "Epoch 12/100\n",
            "6/6 [==============================] - 7s 1s/step - loss: 3.0646 - accuracy: 0.2845 - precision: 0.9122 - val_loss: 3.3929 - val_accuracy: 0.4200 - val_precision: 0.8758\n",
            "Epoch 13/100\n",
            "6/6 [==============================] - 7s 1s/step - loss: 2.4867 - accuracy: 0.3664 - precision: 0.8687 - val_loss: 2.9114 - val_accuracy: 0.4767 - val_precision: 0.8623\n",
            "Epoch 14/100\n",
            "6/6 [==============================] - 7s 1s/step - loss: 2.1903 - accuracy: 0.4593 - precision: 0.8641 - val_loss: 2.4497 - val_accuracy: 0.4833 - val_precision: 0.8653\n",
            "Epoch 15/100\n",
            "6/6 [==============================] - 7s 1s/step - loss: 1.8059 - accuracy: 0.5451 - precision: 0.8696 - val_loss: 2.0671 - val_accuracy: 0.5800 - val_precision: 0.8713\n",
            "Epoch 16/100\n",
            "6/6 [==============================] - 7s 1s/step - loss: 1.3607 - accuracy: 0.6145 - precision: 0.8755 - val_loss: 1.7681 - val_accuracy: 0.6333 - val_precision: 0.8795\n",
            "Epoch 17/100\n",
            "6/6 [==============================] - 7s 1s/step - loss: 1.1502 - accuracy: 0.6774 - precision: 0.8813 - val_loss: 1.6390 - val_accuracy: 0.6100 - val_precision: 0.8807\n",
            "Epoch 18/100\n",
            "6/6 [==============================] - 7s 1s/step - loss: 0.9285 - accuracy: 0.7372 - precision: 0.8818 - val_loss: 1.5347 - val_accuracy: 0.6567 - val_precision: 0.8802\n",
            "Epoch 19/100\n",
            "6/6 [==============================] - 7s 1s/step - loss: 0.8061 - accuracy: 0.7793 - precision: 0.8821 - val_loss: 1.3916 - val_accuracy: 0.6767 - val_precision: 0.8835\n",
            "Epoch 20/100\n",
            "6/6 [==============================] - 7s 1s/step - loss: 0.5917 - accuracy: 0.8246 - precision: 0.8871 - val_loss: 1.2689 - val_accuracy: 0.7167 - val_precision: 0.8891\n",
            "Epoch 21/100\n",
            "6/6 [==============================] - 7s 1s/step - loss: 0.5897 - accuracy: 0.8485 - precision: 0.8905 - val_loss: 1.2608 - val_accuracy: 0.7100 - val_precision: 0.8909\n",
            "Epoch 22/100\n",
            "6/6 [==============================] - 7s 1s/step - loss: 0.4434 - accuracy: 0.8545 - precision: 0.8927 - val_loss: 1.2178 - val_accuracy: 0.7233 - val_precision: 0.8940\n",
            "Epoch 23/100\n",
            "6/6 [==============================] - 7s 1s/step - loss: 0.4107 - accuracy: 0.8701 - precision: 0.8960 - val_loss: 1.1650 - val_accuracy: 0.7300 - val_precision: 0.8972\n",
            "Epoch 24/100\n",
            "6/6 [==============================] - 7s 1s/step - loss: 0.3206 - accuracy: 0.9037 - precision: 0.8996 - val_loss: 1.1359 - val_accuracy: 0.7400 - val_precision: 0.9011\n",
            "Epoch 25/100\n",
            "6/6 [==============================] - 7s 1s/step - loss: 0.2642 - accuracy: 0.9065 - precision: 0.9030 - val_loss: 1.2079 - val_accuracy: 0.7300 - val_precision: 0.9043\n",
            "Epoch 26/100\n",
            "6/6 [==============================] - 7s 1s/step - loss: 0.2044 - accuracy: 0.9428 - precision: 0.9065 - val_loss: 1.1886 - val_accuracy: 0.7433 - val_precision: 0.9078\n",
            "Epoch 27/100\n",
            "6/6 [==============================] - 7s 1s/step - loss: 0.1827 - accuracy: 0.9481 - precision: 0.9096 - val_loss: 1.1660 - val_accuracy: 0.7433 - val_precision: 0.9102\n",
            "Epoch 28/100\n",
            "6/6 [==============================] - 7s 1s/step - loss: 0.1737 - accuracy: 0.9466 - precision: 0.9117 - val_loss: 1.1890 - val_accuracy: 0.7400 - val_precision: 0.9129\n",
            "Epoch 29/100\n",
            "6/6 [==============================] - 7s 1s/step - loss: 0.1725 - accuracy: 0.9553 - precision: 0.9142 - val_loss: 1.1307 - val_accuracy: 0.7733 - val_precision: 0.9153\n",
            "Epoch 30/100\n",
            "6/6 [==============================] - 7s 1s/step - loss: 0.1444 - accuracy: 0.9545 - precision: 0.9167 - val_loss: 1.1060 - val_accuracy: 0.7700 - val_precision: 0.9177\n",
            "Epoch 31/100\n",
            "6/6 [==============================] - 7s 1s/step - loss: 0.1296 - accuracy: 0.9547 - precision: 0.9189 - val_loss: 1.1292 - val_accuracy: 0.7533 - val_precision: 0.9198\n",
            "Epoch 32/100\n",
            "6/6 [==============================] - 7s 1s/step - loss: 0.0992 - accuracy: 0.9718 - precision: 0.9212 - val_loss: 1.1924 - val_accuracy: 0.7667 - val_precision: 0.9222\n",
            "Epoch 33/100\n",
            "6/6 [==============================] - 7s 1s/step - loss: 0.0864 - accuracy: 0.9720 - precision: 0.9234 - val_loss: 1.1743 - val_accuracy: 0.7600 - val_precision: 0.9242\n",
            "Epoch 34/100\n",
            "6/6 [==============================] - 7s 1s/step - loss: 0.0937 - accuracy: 0.9715 - precision: 0.9252 - val_loss: 1.1496 - val_accuracy: 0.7700 - val_precision: 0.9258\n",
            "Epoch 35/100\n",
            "6/6 [==============================] - 7s 1s/step - loss: 0.0911 - accuracy: 0.9784 - precision: 0.9269 - val_loss: 1.1834 - val_accuracy: 0.7733 - val_precision: 0.9274\n",
            "Epoch 36/100\n",
            "6/6 [==============================] - 7s 1s/step - loss: 0.0763 - accuracy: 0.9815 - precision: 0.9285 - val_loss: 1.1978 - val_accuracy: 0.7667 - val_precision: 0.9290\n",
            "Epoch 37/100\n",
            "6/6 [==============================] - 7s 1s/step - loss: 0.0806 - accuracy: 0.9807 - precision: 0.9299 - val_loss: 1.1300 - val_accuracy: 0.7933 - val_precision: 0.9304\n",
            "Epoch 38/100\n",
            "6/6 [==============================] - 7s 1s/step - loss: 0.0630 - accuracy: 0.9835 - precision: 0.9312 - val_loss: 1.1511 - val_accuracy: 0.7867 - val_precision: 0.9315\n",
            "Epoch 39/100\n",
            "6/6 [==============================] - 7s 1s/step - loss: 0.0623 - accuracy: 0.9828 - precision: 0.9323 - val_loss: 1.1935 - val_accuracy: 0.8033 - val_precision: 0.9328\n",
            "Epoch 40/100\n",
            "6/6 [==============================] - 7s 1s/step - loss: 0.0646 - accuracy: 0.9799 - precision: 0.9335 - val_loss: 1.1231 - val_accuracy: 0.7867 - val_precision: 0.9340\n",
            "Epoch 41/100\n",
            "6/6 [==============================] - 7s 1s/step - loss: 0.0642 - accuracy: 0.9819 - precision: 0.9347 - val_loss: 1.1856 - val_accuracy: 0.7733 - val_precision: 0.9350\n",
            "Epoch 42/100\n",
            "6/6 [==============================] - 7s 1s/step - loss: 0.0577 - accuracy: 0.9864 - precision: 0.9357 - val_loss: 1.2205 - val_accuracy: 0.7667 - val_precision: 0.9360\n",
            "Epoch 43/100\n",
            "6/6 [==============================] - 7s 1s/step - loss: 0.0447 - accuracy: 0.9885 - precision: 0.9366 - val_loss: 1.1515 - val_accuracy: 0.7933 - val_precision: 0.9369\n",
            "Epoch 44/100\n",
            "6/6 [==============================] - 7s 1s/step - loss: 0.0372 - accuracy: 0.9870 - precision: 0.9375 - val_loss: 1.1646 - val_accuracy: 0.7967 - val_precision: 0.9379\n",
            "Epoch 45/100\n",
            "6/6 [==============================] - 7s 1s/step - loss: 0.0310 - accuracy: 0.9895 - precision: 0.9386 - val_loss: 1.2386 - val_accuracy: 0.7967 - val_precision: 0.9389\n",
            "Epoch 46/100\n",
            "6/6 [==============================] - 7s 1s/step - loss: 0.0375 - accuracy: 0.9904 - precision: 0.9394 - val_loss: 1.2591 - val_accuracy: 0.7900 - val_precision: 0.9397\n",
            "Epoch 47/100\n",
            "6/6 [==============================] - 7s 1s/step - loss: 0.0455 - accuracy: 0.9873 - precision: 0.9402 - val_loss: 1.2896 - val_accuracy: 0.7900 - val_precision: 0.9406\n",
            "Epoch 48/100\n",
            "6/6 [==============================] - 7s 1s/step - loss: 0.0413 - accuracy: 0.9909 - precision: 0.9412 - val_loss: 1.2704 - val_accuracy: 0.7967 - val_precision: 0.9414\n",
            "Epoch 49/100\n",
            "6/6 [==============================] - 7s 1s/step - loss: 0.0336 - accuracy: 0.9879 - precision: 0.9419 - val_loss: 1.2598 - val_accuracy: 0.7967 - val_precision: 0.9422\n",
            "Epoch 50/100\n",
            "6/6 [==============================] - 7s 1s/step - loss: 0.0331 - accuracy: 0.9877 - precision: 0.9427 - val_loss: 1.2673 - val_accuracy: 0.7933 - val_precision: 0.9429\n",
            "Epoch 51/100\n",
            "6/6 [==============================] - 7s 1s/step - loss: 0.0381 - accuracy: 0.9891 - precision: 0.9433 - val_loss: 1.2662 - val_accuracy: 0.7900 - val_precision: 0.9435\n",
            "Epoch 52/100\n",
            "6/6 [==============================] - 7s 1s/step - loss: 0.0331 - accuracy: 0.9910 - precision: 0.9439 - val_loss: 1.2532 - val_accuracy: 0.7800 - val_precision: 0.9441\n",
            "Epoch 53/100\n",
            "6/6 [==============================] - 7s 1s/step - loss: 0.0497 - accuracy: 0.9828 - precision: 0.9445 - val_loss: 1.2366 - val_accuracy: 0.7967 - val_precision: 0.9446\n",
            "Epoch 54/100\n",
            "6/6 [==============================] - 7s 1s/step - loss: 0.0248 - accuracy: 0.9892 - precision: 0.9449 - val_loss: 1.2444 - val_accuracy: 0.7933 - val_precision: 0.9450\n",
            "Epoch 55/100\n",
            "6/6 [==============================] - 7s 1s/step - loss: 0.0495 - accuracy: 0.9870 - precision: 0.9453 - val_loss: 1.2745 - val_accuracy: 0.7867 - val_precision: 0.9455\n",
            "Epoch 56/100\n",
            "6/6 [==============================] - 7s 1s/step - loss: 0.0572 - accuracy: 0.9926 - precision: 0.9458 - val_loss: 1.2900 - val_accuracy: 0.7700 - val_precision: 0.9458\n",
            "Epoch 57/100\n",
            "6/6 [==============================] - 7s 1s/step - loss: 0.0353 - accuracy: 0.9895 - precision: 0.9462 - val_loss: 1.2647 - val_accuracy: 0.7833 - val_precision: 0.9462\n",
            "Epoch 58/100\n",
            "6/6 [==============================] - 7s 1s/step - loss: 0.0477 - accuracy: 0.9923 - precision: 0.9466 - val_loss: 1.2465 - val_accuracy: 0.7800 - val_precision: 0.9466\n",
            "Epoch 59/100\n",
            "6/6 [==============================] - 7s 1s/step - loss: 0.0287 - accuracy: 0.9905 - precision: 0.9469 - val_loss: 1.2993 - val_accuracy: 0.7867 - val_precision: 0.9471\n",
            "Epoch 60/100\n",
            "6/6 [==============================] - 7s 1s/step - loss: 0.0452 - accuracy: 0.9963 - precision: 0.9474 - val_loss: 1.2678 - val_accuracy: 0.8000 - val_precision: 0.9475\n",
            "Epoch 61/100\n",
            "6/6 [==============================] - 7s 1s/step - loss: 0.0327 - accuracy: 0.9905 - precision: 0.9478 - val_loss: 1.2369 - val_accuracy: 0.7933 - val_precision: 0.9479\n",
            "Epoch 62/100\n",
            "6/6 [==============================] - 7s 1s/step - loss: 0.0261 - accuracy: 0.9929 - precision: 0.9482 - val_loss: 1.2167 - val_accuracy: 0.7933 - val_precision: 0.9483\n",
            "Epoch 63/100\n",
            "6/6 [==============================] - 7s 1s/step - loss: 0.0280 - accuracy: 0.9962 - precision: 0.9486 - val_loss: 1.1892 - val_accuracy: 0.8133 - val_precision: 0.9487\n",
            "Epoch 64/100\n",
            "6/6 [==============================] - 7s 1s/step - loss: 0.0215 - accuracy: 0.9971 - precision: 0.9490 - val_loss: 1.2197 - val_accuracy: 0.8067 - val_precision: 0.9491\n",
            "Epoch 65/100\n",
            "6/6 [==============================] - 7s 1s/step - loss: 0.0298 - accuracy: 0.9911 - precision: 0.9494 - val_loss: 1.2616 - val_accuracy: 0.7900 - val_precision: 0.9494\n",
            "Epoch 66/100\n",
            "6/6 [==============================] - 7s 1s/step - loss: 0.0241 - accuracy: 0.9936 - precision: 0.9497 - val_loss: 1.2927 - val_accuracy: 0.7833 - val_precision: 0.9498\n",
            "Epoch 67/100\n",
            "6/6 [==============================] - 7s 1s/step - loss: 0.0237 - accuracy: 0.9960 - precision: 0.9500 - val_loss: 1.2962 - val_accuracy: 0.7933 - val_precision: 0.9501\n",
            "Epoch 68/100\n",
            "6/6 [==============================] - 7s 1s/step - loss: 0.0253 - accuracy: 0.9957 - precision: 0.9504 - val_loss: 1.3009 - val_accuracy: 0.7967 - val_precision: 0.9505\n",
            "Epoch 69/100\n",
            "6/6 [==============================] - 7s 1s/step - loss: 0.0225 - accuracy: 0.9962 - precision: 0.9507 - val_loss: 1.3496 - val_accuracy: 0.7900 - val_precision: 0.9508\n",
            "Epoch 70/100\n",
            "6/6 [==============================] - 7s 1s/step - loss: 0.0214 - accuracy: 0.9928 - precision: 0.9510 - val_loss: 1.3981 - val_accuracy: 0.8033 - val_precision: 0.9511\n",
            "Epoch 71/100\n",
            "6/6 [==============================] - 7s 1s/step - loss: 0.0288 - accuracy: 0.9922 - precision: 0.9513 - val_loss: 1.4202 - val_accuracy: 0.8033 - val_precision: 0.9513\n",
            "Epoch 72/100\n",
            "6/6 [==============================] - 7s 1s/step - loss: 0.0452 - accuracy: 0.9865 - precision: 0.9515 - val_loss: 1.4101 - val_accuracy: 0.7833 - val_precision: 0.9514\n",
            "Epoch 73/100\n",
            "6/6 [==============================] - 7s 1s/step - loss: 0.0376 - accuracy: 0.9903 - precision: 0.9516 - val_loss: 1.3940 - val_accuracy: 0.7800 - val_precision: 0.9515\n",
            "Epoch 74/100\n",
            "6/6 [==============================] - 7s 1s/step - loss: 0.0197 - accuracy: 0.9972 - precision: 0.9518 - val_loss: 1.4146 - val_accuracy: 0.7767 - val_precision: 0.9518\n",
            "Epoch 75/100\n",
            "6/6 [==============================] - 7s 1s/step - loss: 0.0207 - accuracy: 0.9960 - precision: 0.9520 - val_loss: 1.3854 - val_accuracy: 0.7800 - val_precision: 0.9519\n",
            "Epoch 76/100\n",
            "6/6 [==============================] - 7s 1s/step - loss: 0.0370 - accuracy: 0.9962 - precision: 0.9522 - val_loss: 1.3686 - val_accuracy: 0.7767 - val_precision: 0.9521\n",
            "Epoch 77/100\n",
            "6/6 [==============================] - 7s 1s/step - loss: 0.0229 - accuracy: 0.9955 - precision: 0.9523 - val_loss: 1.3877 - val_accuracy: 0.7767 - val_precision: 0.9522\n",
            "Epoch 78/100\n",
            "6/6 [==============================] - 7s 1s/step - loss: 0.0239 - accuracy: 0.9926 - precision: 0.9525 - val_loss: 1.3620 - val_accuracy: 0.7733 - val_precision: 0.9524\n",
            "Epoch 79/100\n",
            "6/6 [==============================] - 7s 1s/step - loss: 0.0179 - accuracy: 0.9969 - precision: 0.9527 - val_loss: 1.3434 - val_accuracy: 0.7867 - val_precision: 0.9526\n",
            "Epoch 80/100\n",
            "6/6 [==============================] - 7s 1s/step - loss: 0.0154 - accuracy: 0.9956 - precision: 0.9528 - val_loss: 1.3471 - val_accuracy: 0.7800 - val_precision: 0.9528\n",
            "Epoch 81/100\n",
            "6/6 [==============================] - 7s 1s/step - loss: 0.0222 - accuracy: 0.9955 - precision: 0.9530 - val_loss: 1.3529 - val_accuracy: 0.7867 - val_precision: 0.9530\n",
            "Epoch 82/100\n",
            "6/6 [==============================] - 7s 1s/step - loss: 0.0198 - accuracy: 0.9949 - precision: 0.9532 - val_loss: 1.3662 - val_accuracy: 0.7900 - val_precision: 0.9532\n",
            "Epoch 83/100\n",
            "6/6 [==============================] - 7s 1s/step - loss: 0.0259 - accuracy: 0.9945 - precision: 0.9534 - val_loss: 1.4006 - val_accuracy: 0.7900 - val_precision: 0.9534\n",
            "Epoch 84/100\n",
            "6/6 [==============================] - 7s 1s/step - loss: 0.0221 - accuracy: 0.9940 - precision: 0.9536 - val_loss: 1.4330 - val_accuracy: 0.7867 - val_precision: 0.9536\n",
            "Epoch 85/100\n",
            "6/6 [==============================] - 7s 1s/step - loss: 0.0180 - accuracy: 0.9954 - precision: 0.9537 - val_loss: 1.4675 - val_accuracy: 0.7800 - val_precision: 0.9537\n",
            "Epoch 86/100\n",
            "6/6 [==============================] - 7s 1s/step - loss: 0.0188 - accuracy: 0.9955 - precision: 0.9539 - val_loss: 1.4065 - val_accuracy: 0.7933 - val_precision: 0.9540\n",
            "Epoch 87/100\n",
            "6/6 [==============================] - 7s 1s/step - loss: 0.0192 - accuracy: 0.9968 - precision: 0.9541 - val_loss: 1.4095 - val_accuracy: 0.7867 - val_precision: 0.9541\n",
            "Epoch 88/100\n",
            "6/6 [==============================] - 7s 1s/step - loss: 0.0185 - accuracy: 0.9949 - precision: 0.9543 - val_loss: 1.3596 - val_accuracy: 0.8067 - val_precision: 0.9543\n",
            "Epoch 89/100\n",
            "6/6 [==============================] - 7s 1s/step - loss: 0.0556 - accuracy: 0.9905 - precision: 0.9544 - val_loss: 1.3961 - val_accuracy: 0.8033 - val_precision: 0.9544\n",
            "Epoch 90/100\n",
            "6/6 [==============================] - 7s 1s/step - loss: 0.0399 - accuracy: 0.9914 - precision: 0.9546 - val_loss: 1.4592 - val_accuracy: 0.8033 - val_precision: 0.9546\n",
            "Epoch 91/100\n",
            "6/6 [==============================] - 7s 1s/step - loss: 0.0226 - accuracy: 0.9962 - precision: 0.9547 - val_loss: 1.4064 - val_accuracy: 0.8033 - val_precision: 0.9547\n",
            "Epoch 92/100\n",
            "6/6 [==============================] - 7s 1s/step - loss: 0.0334 - accuracy: 0.9952 - precision: 0.9549 - val_loss: 1.3107 - val_accuracy: 0.8000 - val_precision: 0.9549\n",
            "Epoch 93/100\n",
            "6/6 [==============================] - 7s 1s/step - loss: 0.0144 - accuracy: 0.9964 - precision: 0.9551 - val_loss: 1.3093 - val_accuracy: 0.7800 - val_precision: 0.9551\n",
            "Epoch 94/100\n",
            "6/6 [==============================] - 7s 1s/step - loss: 0.0166 - accuracy: 0.9960 - precision: 0.9552 - val_loss: 1.3441 - val_accuracy: 0.7867 - val_precision: 0.9552\n",
            "Epoch 95/100\n",
            "6/6 [==============================] - 7s 1s/step - loss: 0.0207 - accuracy: 0.9943 - precision: 0.9553 - val_loss: 1.3930 - val_accuracy: 0.7933 - val_precision: 0.9553\n",
            "Epoch 96/100\n",
            "6/6 [==============================] - 7s 1s/step - loss: 0.0328 - accuracy: 0.9950 - precision: 0.9555 - val_loss: 1.4073 - val_accuracy: 0.8033 - val_precision: 0.9554\n",
            "Epoch 97/100\n",
            "6/6 [==============================] - 7s 1s/step - loss: 0.0241 - accuracy: 0.9938 - precision: 0.9556 - val_loss: 1.3963 - val_accuracy: 0.7900 - val_precision: 0.9556\n",
            "Epoch 98/100\n",
            "6/6 [==============================] - 7s 1s/step - loss: 0.0381 - accuracy: 0.9896 - precision: 0.9557 - val_loss: 1.3799 - val_accuracy: 0.7767 - val_precision: 0.9557\n",
            "Epoch 99/100\n",
            "6/6 [==============================] - 7s 1s/step - loss: 0.0213 - accuracy: 0.9911 - precision: 0.9558 - val_loss: 1.4183 - val_accuracy: 0.7967 - val_precision: 0.9558\n",
            "Epoch 100/100\n",
            "6/6 [==============================] - 7s 1s/step - loss: 0.0179 - accuracy: 0.9961 - precision: 0.9560 - val_loss: 1.4082 - val_accuracy: 0.7933 - val_precision: 0.9559\n"
          ],
          "name": "stdout"
        }
      ]
    },
    {
      "cell_type": "code",
      "metadata": {
        "colab": {
          "base_uri": "https://localhost:8080/"
        },
        "id": "RaiQWndLv4kC",
        "outputId": "354c1774-a357-4cca-c1bf-eeae73777bd8"
      },
      "source": [
        "test_result = m_model.evaluate(m_X_test_sequence, m_y_test_dummies)\n",
        "\n",
        "print(\"Accuracy of Test: {:.4f}\".format(test_result[1])) #(TP+TN)/(TP+FN+FP+TN)\n",
        "print(\"Precision of Test: {:.4f}\".format(test_result[2])) #(TP/(TP+FP))\n",
        "#print(\"F1-score of Test: {:.4f}\".format(np.mean(test_result[3])))\n",
        "print(\"top_k_result: {:.4f}\".format(m_top_k_hitrate(m_model.predict(m_X_test_sequence), n=3)))"
      ],
      "execution_count": 153,
      "outputs": [
        {
          "output_type": "stream",
          "text": [
            "16/16 [==============================] - 1s 71ms/step - loss: 1.0111 - accuracy: 0.8240 - precision: 0.9553\n",
            "Accuracy of Test: 0.8240\n",
            "Precision of Test: 0.9553\n",
            "top_k_result: 0.9060\n"
          ],
          "name": "stdout"
        }
      ]
    },
    {
      "cell_type": "code",
      "metadata": {
        "id": "dp9GoikmASaP",
        "colab": {
          "base_uri": "https://localhost:8080/",
          "height": 473
        },
        "outputId": "9f9bfba9-bf41-4a93-85d9-0d2562e5ab62"
      },
      "source": [
        "top_k_result = tf.math.top_k(m_model.predict(m_X_test_sequence), k=1, sorted=True)\n",
        "first = top_k_result[1]\n",
        "b = m_y_test_dummies.columns[first]\n",
        "\n",
        "m_ori_y_test = np.asarray(m_ori_y_test)\n",
        "\n",
        "compare_result = pd.concat([pd.DataFrame(m_ori_y_test, columns=['True']).reset_index(drop=True),\n",
        "                            pd.DataFrame(b, columns=['predict']).reset_index(drop=True)],\n",
        "                           axis=1)\n",
        "\n",
        "misclassified = np.where(compare_result['True'] != compare_result['predict'])\n",
        "compare_result.iloc[misclassified]"
      ],
      "execution_count": 154,
      "outputs": [
        {
          "output_type": "stream",
          "text": [
            "/usr/local/lib/python3.7/dist-packages/ipykernel_launcher.py:3: FutureWarning: Support for multi-dimensional indexing (e.g. `obj[:, None]`) is deprecated and will be removed in a future version.  Convert to a numpy array before indexing instead.\n",
            "  This is separate from the ipykernel package so we can avoid doing imports until\n"
          ],
          "name": "stderr"
        },
        {
          "output_type": "execute_result",
          "data": {
            "text/html": [
              "<div>\n",
              "<style scoped>\n",
              "    .dataframe tbody tr th:only-of-type {\n",
              "        vertical-align: middle;\n",
              "    }\n",
              "\n",
              "    .dataframe tbody tr th {\n",
              "        vertical-align: top;\n",
              "    }\n",
              "\n",
              "    .dataframe thead th {\n",
              "        text-align: right;\n",
              "    }\n",
              "</style>\n",
              "<table border=\"1\" class=\"dataframe\">\n",
              "  <thead>\n",
              "    <tr style=\"text-align: right;\">\n",
              "      <th></th>\n",
              "      <th>True</th>\n",
              "      <th>predict</th>\n",
              "    </tr>\n",
              "  </thead>\n",
              "  <tbody>\n",
              "    <tr>\n",
              "      <th>8</th>\n",
              "      <td>용혈성 요독증후군</td>\n",
              "      <td>연쇄상구균 감염 후 사구체신염</td>\n",
              "    </tr>\n",
              "    <tr>\n",
              "      <th>9</th>\n",
              "      <td>급성 췌장염</td>\n",
              "      <td>허혈성 대장염</td>\n",
              "    </tr>\n",
              "    <tr>\n",
              "      <th>15</th>\n",
              "      <td>급성 신우신염</td>\n",
              "      <td>연쇄상구균 감염 후 사구체신염</td>\n",
              "    </tr>\n",
              "    <tr>\n",
              "      <th>20</th>\n",
              "      <td>횡문근융해증</td>\n",
              "      <td>요로 감염</td>\n",
              "    </tr>\n",
              "    <tr>\n",
              "      <th>28</th>\n",
              "      <td>목 삠</td>\n",
              "      <td>요추염좌</td>\n",
              "    </tr>\n",
              "    <tr>\n",
              "      <th>...</th>\n",
              "      <td>...</td>\n",
              "      <td>...</td>\n",
              "    </tr>\n",
              "    <tr>\n",
              "      <th>471</th>\n",
              "      <td>소화성 궤양</td>\n",
              "      <td>저혈당</td>\n",
              "    </tr>\n",
              "    <tr>\n",
              "      <th>476</th>\n",
              "      <td>당뇨병</td>\n",
              "      <td>절박성 요실금</td>\n",
              "    </tr>\n",
              "    <tr>\n",
              "      <th>485</th>\n",
              "      <td>난소 염전</td>\n",
              "      <td>자궁외임신</td>\n",
              "    </tr>\n",
              "    <tr>\n",
              "      <th>491</th>\n",
              "      <td>신경 이상에 의한 변비</td>\n",
              "      <td>약물에 의한 변비</td>\n",
              "    </tr>\n",
              "    <tr>\n",
              "      <th>492</th>\n",
              "      <td>역류성 식도염</td>\n",
              "      <td>연골연화증</td>\n",
              "    </tr>\n",
              "  </tbody>\n",
              "</table>\n",
              "<p>88 rows × 2 columns</p>\n",
              "</div>"
            ],
            "text/plain": [
              "             True           predict\n",
              "8       용혈성 요독증후군  연쇄상구균 감염 후 사구체신염\n",
              "9          급성 췌장염           허혈성 대장염\n",
              "15        급성 신우신염  연쇄상구균 감염 후 사구체신염\n",
              "20         횡문근융해증             요로 감염\n",
              "28            목 삠              요추염좌\n",
              "..            ...               ...\n",
              "471        소화성 궤양               저혈당\n",
              "476           당뇨병           절박성 요실금\n",
              "485         난소 염전             자궁외임신\n",
              "491  신경 이상에 의한 변비         약물에 의한 변비\n",
              "492       역류성 식도염             연골연화증\n",
              "\n",
              "[88 rows x 2 columns]"
            ]
          },
          "metadata": {
            "tags": []
          },
          "execution_count": 154
        }
      ]
    },
    {
      "cell_type": "code",
      "metadata": {
        "id": "-A-_QCieAWMY"
      },
      "source": [
        ""
      ],
      "execution_count": 154,
      "outputs": []
    },
    {
      "cell_type": "markdown",
      "metadata": {
        "id": "wBWMuWeMP-Dx"
      },
      "source": [
        "# Save Models"
      ]
    },
    {
      "cell_type": "code",
      "metadata": {
        "id": "Wjdu7itsRHI_"
      },
      "source": [
        "import pickle\n",
        "\n",
        "# Save processed disease names\n",
        "with open(\"ver6_men_diseases.txt\", \"wb\") as fp:\n",
        "  pickle.dump(m_y_test_dummies.columns, fp)\n",
        "\n",
        "with open(\"ver6_women_diseases.txt\", \"wb\") as fp:\n",
        "  pickle.dump(w_y_test_dummies.columns, fp)\n",
        "\n",
        "# Save tokenizer\n",
        "with open('ver6_men_tokenizer.pickle', 'wb') as handle:\n",
        "    pickle.dump(m_tokenizer, handle, protocol=pickle.HIGHEST_PROTOCOL)\n",
        "\n",
        "with open('ver6_women_tokenizer.pickle', 'wb') as handle:\n",
        "    pickle.dump(w_tokenizer, handle, protocol=pickle.HIGHEST_PROTOCOL)\n",
        "\n",
        "# Save ML model\n",
        "#with open('ml_random_forest.pkl', 'wb') as file:\n",
        "#    pickle.dump(ml_model, file)\n",
        "\n",
        "# Save DL model\n",
        "## 1\n",
        "m_model.save('ver6_men_model.h5')\n",
        "w_model.save('ver6_women_model.h5')\n",
        "\n",
        "## 2\n",
        "#model_json = model.to_json()\n",
        "#with open(\"baseline_model.json\", \"w\") as json_file : \n",
        "#    json_file.write(model_json)\n",
        "\n",
        "#model.save_weights(\"baseline_model_weights.h5\")"
      ],
      "execution_count": 155,
      "outputs": []
    },
    {
      "cell_type": "markdown",
      "metadata": {
        "id": "Nh0UWd4ee5h2"
      },
      "source": [
        "# For test"
      ]
    },
    {
      "cell_type": "code",
      "metadata": {
        "colab": {
          "base_uri": "https://localhost:8080/"
        },
        "id": "OkP0YZ44fDd1",
        "outputId": "ee7d0c86-f913-4264-db49-64f00495a4fe"
      },
      "source": [
        "!pip install transformers\n",
        "!pip install konlpy\n",
        "from transformers import FunnelTokenizerFast\n",
        "from keras.preprocessing.text import Tokenizer\n",
        "from keras.preprocessing.sequence import pad_sequences\n",
        "from keras.models import load_model\n",
        "import pickle\n",
        "import konlpy.tag\n",
        "import re"
      ],
      "execution_count": null,
      "outputs": [
        {
          "output_type": "stream",
          "text": [
            "Requirement already satisfied: transformers in /usr/local/lib/python3.7/dist-packages (4.6.1)\n",
            "Requirement already satisfied: filelock in /usr/local/lib/python3.7/dist-packages (from transformers) (3.0.12)\n",
            "Requirement already satisfied: requests in /usr/local/lib/python3.7/dist-packages (from transformers) (2.23.0)\n",
            "Requirement already satisfied: tokenizers<0.11,>=0.10.1 in /usr/local/lib/python3.7/dist-packages (from transformers) (0.10.3)\n",
            "Requirement already satisfied: numpy>=1.17 in /usr/local/lib/python3.7/dist-packages (from transformers) (1.19.5)\n",
            "Requirement already satisfied: tqdm>=4.27 in /usr/local/lib/python3.7/dist-packages (from transformers) (4.41.1)\n",
            "Requirement already satisfied: importlib-metadata; python_version < \"3.8\" in /usr/local/lib/python3.7/dist-packages (from transformers) (4.0.1)\n",
            "Requirement already satisfied: huggingface-hub==0.0.8 in /usr/local/lib/python3.7/dist-packages (from transformers) (0.0.8)\n",
            "Requirement already satisfied: packaging in /usr/local/lib/python3.7/dist-packages (from transformers) (20.9)\n",
            "Requirement already satisfied: regex!=2019.12.17 in /usr/local/lib/python3.7/dist-packages (from transformers) (2019.12.20)\n",
            "Requirement already satisfied: sacremoses in /usr/local/lib/python3.7/dist-packages (from transformers) (0.0.45)\n",
            "Requirement already satisfied: urllib3!=1.25.0,!=1.25.1,<1.26,>=1.21.1 in /usr/local/lib/python3.7/dist-packages (from requests->transformers) (1.24.3)\n",
            "Requirement already satisfied: certifi>=2017.4.17 in /usr/local/lib/python3.7/dist-packages (from requests->transformers) (2020.12.5)\n",
            "Requirement already satisfied: chardet<4,>=3.0.2 in /usr/local/lib/python3.7/dist-packages (from requests->transformers) (3.0.4)\n",
            "Requirement already satisfied: idna<3,>=2.5 in /usr/local/lib/python3.7/dist-packages (from requests->transformers) (2.10)\n",
            "Requirement already satisfied: zipp>=0.5 in /usr/local/lib/python3.7/dist-packages (from importlib-metadata; python_version < \"3.8\"->transformers) (3.4.1)\n",
            "Requirement already satisfied: typing-extensions>=3.6.4; python_version < \"3.8\" in /usr/local/lib/python3.7/dist-packages (from importlib-metadata; python_version < \"3.8\"->transformers) (3.7.4.3)\n",
            "Requirement already satisfied: pyparsing>=2.0.2 in /usr/local/lib/python3.7/dist-packages (from packaging->transformers) (2.4.7)\n",
            "Requirement already satisfied: click in /usr/local/lib/python3.7/dist-packages (from sacremoses->transformers) (8.0.0)\n",
            "Requirement already satisfied: six in /usr/local/lib/python3.7/dist-packages (from sacremoses->transformers) (1.15.0)\n",
            "Requirement already satisfied: joblib in /usr/local/lib/python3.7/dist-packages (from sacremoses->transformers) (1.0.1)\n",
            "Requirement already satisfied: konlpy in /usr/local/lib/python3.7/dist-packages (0.5.2)\n",
            "Requirement already satisfied: tweepy>=3.7.0 in /usr/local/lib/python3.7/dist-packages (from konlpy) (3.10.0)\n",
            "Requirement already satisfied: lxml>=4.1.0 in /usr/local/lib/python3.7/dist-packages (from konlpy) (4.2.6)\n",
            "Requirement already satisfied: beautifulsoup4==4.6.0 in /usr/local/lib/python3.7/dist-packages (from konlpy) (4.6.0)\n",
            "Requirement already satisfied: JPype1>=0.7.0 in /usr/local/lib/python3.7/dist-packages (from konlpy) (1.2.1)\n",
            "Requirement already satisfied: colorama in /usr/local/lib/python3.7/dist-packages (from konlpy) (0.4.4)\n",
            "Requirement already satisfied: numpy>=1.6 in /usr/local/lib/python3.7/dist-packages (from konlpy) (1.19.5)\n",
            "Requirement already satisfied: six>=1.10.0 in /usr/local/lib/python3.7/dist-packages (from tweepy>=3.7.0->konlpy) (1.15.0)\n",
            "Requirement already satisfied: requests-oauthlib>=0.7.0 in /usr/local/lib/python3.7/dist-packages (from tweepy>=3.7.0->konlpy) (1.3.0)\n",
            "Requirement already satisfied: requests[socks]>=2.11.1 in /usr/local/lib/python3.7/dist-packages (from tweepy>=3.7.0->konlpy) (2.23.0)\n",
            "Requirement already satisfied: typing-extensions; python_version < \"3.8\" in /usr/local/lib/python3.7/dist-packages (from JPype1>=0.7.0->konlpy) (3.7.4.3)\n",
            "Requirement already satisfied: oauthlib>=3.0.0 in /usr/local/lib/python3.7/dist-packages (from requests-oauthlib>=0.7.0->tweepy>=3.7.0->konlpy) (3.1.0)\n",
            "Requirement already satisfied: chardet<4,>=3.0.2 in /usr/local/lib/python3.7/dist-packages (from requests[socks]>=2.11.1->tweepy>=3.7.0->konlpy) (3.0.4)\n",
            "Requirement already satisfied: certifi>=2017.4.17 in /usr/local/lib/python3.7/dist-packages (from requests[socks]>=2.11.1->tweepy>=3.7.0->konlpy) (2020.12.5)\n",
            "Requirement already satisfied: urllib3!=1.25.0,!=1.25.1,<1.26,>=1.21.1 in /usr/local/lib/python3.7/dist-packages (from requests[socks]>=2.11.1->tweepy>=3.7.0->konlpy) (1.24.3)\n",
            "Requirement already satisfied: idna<3,>=2.5 in /usr/local/lib/python3.7/dist-packages (from requests[socks]>=2.11.1->tweepy>=3.7.0->konlpy) (2.10)\n",
            "Requirement already satisfied: PySocks!=1.5.7,>=1.5.6; extra == \"socks\" in /usr/local/lib/python3.7/dist-packages (from requests[socks]>=2.11.1->tweepy>=3.7.0->konlpy) (1.7.1)\n"
          ],
          "name": "stdout"
        }
      ]
    },
    {
      "cell_type": "code",
      "metadata": {
        "id": "rnhm5OX0rd7h"
      },
      "source": [
        "def to_nan(x):\n",
        "  if(x == '-'):\n",
        "    x = ''\n",
        "  elif(x == '아니오'):\n",
        "    x = ''\n",
        "  elif(x == '아뇨'):\n",
        "    x = ''\n",
        "  elif(x == '몰라요'):\n",
        "    x = ''\n",
        "  elif(x == '모릅니다'):\n",
        "    x = ''\n",
        "  elif(x == '모름'):\n",
        "    x = ''\n",
        "  elif(x == '아뇨'):\n",
        "    x = ''\n",
        "  elif(x == '없습니다'):\n",
        "    x = ''\n",
        "  elif(x == '없어요'):\n",
        "    x = ''\n",
        "  elif(x == '없음'):\n",
        "    x = ''\n",
        "  elif(x == '.'):\n",
        "    x = ''    \n",
        "  return x\n",
        "\n",
        "def NRS_to_text(text):\n",
        "\n",
        "  a = re.findall('NRS.*?점', text) #NRS 5점\n",
        "  if len(a) == 0:\n",
        "    a = re.findall('NRS.*?\\d~\\d', text) #NRS 4~6 / NRS : 4~6\n",
        "  if len(a) == 0:\n",
        "    a = re.findall('NRS.*?\\d', text) #NRS: 5\n",
        "  \n",
        "  try:\n",
        "    t = re.findall('[0-9]+', a[0])\n",
        "\n",
        "    if (len(t) == 2):\n",
        "      score = (int(t[0])+int(t[1]))/ 2\n",
        "    else:\n",
        "      score = int(t[0])\n",
        "\n",
        "    if score >= 7:\n",
        "      to_text = '심함'\n",
        "    elif score >= 4:\n",
        "      to_text = '중간'\n",
        "    else:\n",
        "      to_text = '약함'\n",
        "\n",
        "    text = text.replace(a[0], to_text)\n",
        "  \n",
        "  except:\n",
        "    pass\n",
        "\n",
        "  return text\n",
        "\n",
        "from hanspell import spell_checker\n",
        "\n",
        "def spelling_check(text):\n",
        "  #print(text)\n",
        "  result = spell_checker.check(text) \n",
        "  \n",
        "  return result.as_dict()['checked'] \n",
        "\n",
        "def define_obesity(x):\n",
        "  if x < 0:\n",
        "    return '알 수 없음'\n",
        "  elif x < 20.0:\n",
        "    return '저체중'\n",
        "  elif x <= 24.0:\n",
        "    return '정상'\n",
        "  elif x <= 29.0:\n",
        "    return '과체중'\n",
        "  else:\n",
        "    return '비만'\n",
        "\n",
        "\n",
        "def only_letters_num(x):\n",
        "  return ' '.join(re.findall(r'\\w+', str(x)))\n",
        "\n",
        "\n",
        "okt = konlpy.tag.Okt() # 객체 생성\n",
        "stopwords = ['의', '가', '이', '은', '들', '는', '좀', '잘', '걍', '과', '도', '을'\n",
        "             '를', '으로', '자', '에', '와', '하다', '요', '다', '.', ',']\n",
        "             \n",
        "def erase_stopwords(text):\n",
        "  temp_x = okt.morphs(text, stem=True)\n",
        "  temp_x = [word for word in temp_x if not word in stopwords]\n",
        "  temp_x = re.findall(r'\\w+', str(temp_x))\n",
        "  temp_x = ' '.join(map(str, temp_x))\n",
        "  \n",
        "  return ' '.join(re.findall(r'\\w+', str(temp_x)))"
      ],
      "execution_count": 156,
      "outputs": []
    },
    {
      "cell_type": "code",
      "metadata": {
        "id": "ZXtWQ-tsfeDw"
      },
      "source": [
        "with open('ver6_men_tokenizer.pickle', 'rb') as handle:\n",
        "    m_tokenizer = pickle.load(handle)\n",
        "\n",
        "m_loaded_model = load_model('ver6_men_model.h5')\n",
        "\n",
        "with open(\"ver6_men_diseases.txt\", \"rb\") as fp:\n",
        "    m_disease_codes = pickle.load(fp)"
      ],
      "execution_count": 157,
      "outputs": []
    },
    {
      "cell_type": "code",
      "metadata": {
        "id": "xCw4GersfAG3"
      },
      "source": [
        "test_df = {\n",
        "  'Height': '180',\n",
        "  'Weight': '75',\n",
        "  'Age': '30s',\n",
        "  'Chief complaint': '배가 아파요',\n",
        "  'Sex': '남자',\n",
        "  'Onset': '1일 전',\n",
        "  'Location': '명치 부위',\n",
        "  'Duration' : '지속',\n",
        "  'Course': '심해짐',\n",
        "  'Experience' : '이전에도 3차례, 통증은 이번보다 약했음',\n",
        "  'Character': '칼로 찢기는 듯한 통증, NRS 8점, 방사통: 등으로 퍼짐',\n",
        "  'Associated Sx.': '구토, 속쓰림, 어지러움, 갈증, 소변량 감소',\n",
        "  'Factor': '오른쪽으로 돌아 누우면 완화',\n",
        "  'Event': '',\n",
        "  '약물 투약력': '',\n",
        "  '사회력': '술: 1주일 6~7번, 식사는 매우 불규칙',\n",
        "  '가족력': '',\n",
        "  '외상력': '',\n",
        "  '과거력': '',\n",
        "  '여성력': ''\n",
        "}\n",
        "\n",
        "data = pd.DataFrame([test_df])"
      ],
      "execution_count": 158,
      "outputs": []
    },
    {
      "cell_type": "code",
      "metadata": {
        "colab": {
          "base_uri": "https://localhost:8080/"
        },
        "id": "CGs84yvXfDK6",
        "outputId": "9dd56952-86fc-47dc-f0ee-a41ecf4a125f"
      },
      "source": [
        "data.values"
      ],
      "execution_count": 159,
      "outputs": [
        {
          "output_type": "execute_result",
          "data": {
            "text/plain": [
              "array([['180', '75', '30s', '배가 아파요', '남자', '1일 전', '명치 부위', '지속', '심해짐',\n",
              "        '이전에도 3차례, 통증은 이번보다 약했음', '칼로 찢기는 듯한 통증, NRS 8점, 방사통: 등으로 퍼짐',\n",
              "        '구토, 속쓰림, 어지러움, 갈증, 소변량 감소', '오른쪽으로 돌아 누우면 완화', '', '',\n",
              "        '술: 1주일 6~7번, 식사는 매우 불규칙', '', '', '', '']], dtype=object)"
            ]
          },
          "metadata": {
            "tags": []
          },
          "execution_count": 159
        }
      ]
    },
    {
      "cell_type": "code",
      "metadata": {
        "colab": {
          "base_uri": "https://localhost:8080/",
          "height": 372
        },
        "id": "aKftgdMq9c3O",
        "outputId": "52fbcfb9-dcfd-4ccd-c918-aa70e1c12ab6"
      },
      "source": [
        "data"
      ],
      "execution_count": 160,
      "outputs": [
        {
          "output_type": "execute_result",
          "data": {
            "text/html": [
              "<div>\n",
              "<style scoped>\n",
              "    .dataframe tbody tr th:only-of-type {\n",
              "        vertical-align: middle;\n",
              "    }\n",
              "\n",
              "    .dataframe tbody tr th {\n",
              "        vertical-align: top;\n",
              "    }\n",
              "\n",
              "    .dataframe thead th {\n",
              "        text-align: right;\n",
              "    }\n",
              "</style>\n",
              "<table border=\"1\" class=\"dataframe\">\n",
              "  <thead>\n",
              "    <tr style=\"text-align: right;\">\n",
              "      <th></th>\n",
              "      <th>Height</th>\n",
              "      <th>Weight</th>\n",
              "      <th>Age</th>\n",
              "      <th>Chief complaint</th>\n",
              "      <th>Sex</th>\n",
              "      <th>Onset</th>\n",
              "      <th>Location</th>\n",
              "      <th>Duration</th>\n",
              "      <th>Course</th>\n",
              "      <th>Experience</th>\n",
              "      <th>Character</th>\n",
              "      <th>Associated Sx.</th>\n",
              "      <th>Factor</th>\n",
              "      <th>Event</th>\n",
              "      <th>약물 투약력</th>\n",
              "      <th>사회력</th>\n",
              "      <th>가족력</th>\n",
              "      <th>외상력</th>\n",
              "      <th>과거력</th>\n",
              "      <th>여성력</th>\n",
              "    </tr>\n",
              "  </thead>\n",
              "  <tbody>\n",
              "    <tr>\n",
              "      <th>0</th>\n",
              "      <td>180</td>\n",
              "      <td>75</td>\n",
              "      <td>30s</td>\n",
              "      <td>배가 아파요</td>\n",
              "      <td>남자</td>\n",
              "      <td>1일 전</td>\n",
              "      <td>명치 부위</td>\n",
              "      <td>지속</td>\n",
              "      <td>심해짐</td>\n",
              "      <td>이전에도 3차례, 통증은 이번보다 약했음</td>\n",
              "      <td>칼로 찢기는 듯한 통증, NRS 8점, 방사통: 등으로 퍼짐</td>\n",
              "      <td>구토, 속쓰림, 어지러움, 갈증, 소변량 감소</td>\n",
              "      <td>오른쪽으로 돌아 누우면 완화</td>\n",
              "      <td></td>\n",
              "      <td></td>\n",
              "      <td>술: 1주일 6~7번, 식사는 매우 불규칙</td>\n",
              "      <td></td>\n",
              "      <td></td>\n",
              "      <td></td>\n",
              "      <td></td>\n",
              "    </tr>\n",
              "  </tbody>\n",
              "</table>\n",
              "</div>"
            ],
            "text/plain": [
              "  Height Weight  Age Chief complaint Sex Onset Location Duration Course  \\\n",
              "0    180     75  30s          배가 아파요  남자  1일 전    명치 부위       지속    심해짐   \n",
              "\n",
              "               Experience                          Character  \\\n",
              "0  이전에도 3차례, 통증은 이번보다 약했음  칼로 찢기는 듯한 통증, NRS 8점, 방사통: 등으로 퍼짐   \n",
              "\n",
              "              Associated Sx.           Factor Event 약물 투약력  \\\n",
              "0  구토, 속쓰림, 어지러움, 갈증, 소변량 감소  오른쪽으로 돌아 누우면 완화                \n",
              "\n",
              "                       사회력 가족력 외상력 과거력 여성력  \n",
              "0  술: 1주일 6~7번, 식사는 매우 불규칙                  "
            ]
          },
          "metadata": {
            "tags": []
          },
          "execution_count": 160
        }
      ]
    },
    {
      "cell_type": "code",
      "metadata": {
        "id": "8mN_MOHMfpeK"
      },
      "source": [
        "# Handle Nan values \n",
        "data = data.fillna('-')\n",
        "\n",
        "for i in range(len(data.columns)):\n",
        "  data[data.columns[i]] = data.apply(lambda x : to_nan(x[data.columns[i]]) , axis = 1 )\n",
        "\n",
        "# Define obesity by calculating BMI with Height and Weight\n",
        "data['Height'] = data['Height'].replace('', '0')\n",
        "data['Weight'] = data['Weight'].replace('', '0')\n",
        "\n",
        "data['Height'] = data['Height'].astype('int')\n",
        "data['Weight'] = data['Weight'].astype('int')\n",
        "\n",
        "data['BMI'] = data['Weight'] / (data['Height']/100)**2\n",
        "data['BMI'].fillna(-1, inplace=True)\n",
        "data['Obesity'] = define_obesity(data['BMI'].values)\n",
        "  \n",
        "# Change Age to Groups of AgeX(-> Since we are going to receive their age as a group_format)\n",
        "data['Age'] = data['Age'].astype(str)"
      ],
      "execution_count": 161,
      "outputs": []
    },
    {
      "cell_type": "code",
      "metadata": {
        "id": "0yaJPBSBgz6k"
      },
      "source": [
        "# Make a sentence\n",
        "data['All'] = (data['Chief complaint'].values +'. '+ data['Age'].values + '. '+\n",
        "                  data['Onset'].values + '. '+ data['Location'].values + '. ' +\n",
        "                  data['Sex'].values + '. '+\n",
        "                  data['Duration'].values + '. ' + data['Course'].values + '. ' +\n",
        "                  data['Experience'].values + '. ' + data['Character'].values + '. ' +\n",
        "                  data['Associated Sx.'].values+'. '+ data['Factor'].values + '. ' +\n",
        "                  data['Event'].values + '. ' + data['약물 투약력'].values + '. ' +\n",
        "                  data['사회력'].values + '. ' + data['가족력'].values + '. ' +\n",
        "                  data['외상력'].values + '. ' + data['과거력'].values + '. ' +\n",
        "                  data['여성력'].values + '. ' + data['Obesity'].values)"
      ],
      "execution_count": 162,
      "outputs": []
    },
    {
      "cell_type": "code",
      "metadata": {
        "colab": {
          "base_uri": "https://localhost:8080/",
          "height": 474
        },
        "id": "-ZJWlJLkKmgS",
        "outputId": "9caf0de7-ae9d-45d4-a94a-657118d6947b"
      },
      "source": [
        "data"
      ],
      "execution_count": 163,
      "outputs": [
        {
          "output_type": "execute_result",
          "data": {
            "text/html": [
              "<div>\n",
              "<style scoped>\n",
              "    .dataframe tbody tr th:only-of-type {\n",
              "        vertical-align: middle;\n",
              "    }\n",
              "\n",
              "    .dataframe tbody tr th {\n",
              "        vertical-align: top;\n",
              "    }\n",
              "\n",
              "    .dataframe thead th {\n",
              "        text-align: right;\n",
              "    }\n",
              "</style>\n",
              "<table border=\"1\" class=\"dataframe\">\n",
              "  <thead>\n",
              "    <tr style=\"text-align: right;\">\n",
              "      <th></th>\n",
              "      <th>Height</th>\n",
              "      <th>Weight</th>\n",
              "      <th>Age</th>\n",
              "      <th>Chief complaint</th>\n",
              "      <th>Sex</th>\n",
              "      <th>Onset</th>\n",
              "      <th>Location</th>\n",
              "      <th>Duration</th>\n",
              "      <th>Course</th>\n",
              "      <th>Experience</th>\n",
              "      <th>Character</th>\n",
              "      <th>Associated Sx.</th>\n",
              "      <th>Factor</th>\n",
              "      <th>Event</th>\n",
              "      <th>약물 투약력</th>\n",
              "      <th>사회력</th>\n",
              "      <th>가족력</th>\n",
              "      <th>외상력</th>\n",
              "      <th>과거력</th>\n",
              "      <th>여성력</th>\n",
              "      <th>BMI</th>\n",
              "      <th>Obesity</th>\n",
              "      <th>All</th>\n",
              "    </tr>\n",
              "  </thead>\n",
              "  <tbody>\n",
              "    <tr>\n",
              "      <th>0</th>\n",
              "      <td>180</td>\n",
              "      <td>75</td>\n",
              "      <td>30s</td>\n",
              "      <td>배가 아파요</td>\n",
              "      <td>남자</td>\n",
              "      <td>1일 전</td>\n",
              "      <td>명치 부위</td>\n",
              "      <td>지속</td>\n",
              "      <td>심해짐</td>\n",
              "      <td>이전에도 3차례, 통증은 이번보다 약했음</td>\n",
              "      <td>칼로 찢기는 듯한 통증, NRS 8점, 방사통: 등으로 퍼짐</td>\n",
              "      <td>구토, 속쓰림, 어지러움, 갈증, 소변량 감소</td>\n",
              "      <td>오른쪽으로 돌아 누우면 완화</td>\n",
              "      <td></td>\n",
              "      <td></td>\n",
              "      <td>술: 1주일 6~7번, 식사는 매우 불규칙</td>\n",
              "      <td></td>\n",
              "      <td></td>\n",
              "      <td></td>\n",
              "      <td></td>\n",
              "      <td>23.148148</td>\n",
              "      <td>정상</td>\n",
              "      <td>배가 아파요. 30s. 1일 전. 명치 부위. 남자. 지속. 심해짐. 이전에도 3차...</td>\n",
              "    </tr>\n",
              "  </tbody>\n",
              "</table>\n",
              "</div>"
            ],
            "text/plain": [
              "   Height  Weight  Age Chief complaint Sex Onset Location Duration Course  \\\n",
              "0     180      75  30s          배가 아파요  남자  1일 전    명치 부위       지속    심해짐   \n",
              "\n",
              "               Experience                          Character  \\\n",
              "0  이전에도 3차례, 통증은 이번보다 약했음  칼로 찢기는 듯한 통증, NRS 8점, 방사통: 등으로 퍼짐   \n",
              "\n",
              "              Associated Sx.           Factor Event 약물 투약력  \\\n",
              "0  구토, 속쓰림, 어지러움, 갈증, 소변량 감소  오른쪽으로 돌아 누우면 완화                \n",
              "\n",
              "                       사회력 가족력 외상력 과거력 여성력        BMI Obesity  \\\n",
              "0  술: 1주일 6~7번, 식사는 매우 불규칙                  23.148148      정상   \n",
              "\n",
              "                                                 All  \n",
              "0  배가 아파요. 30s. 1일 전. 명치 부위. 남자. 지속. 심해짐. 이전에도 3차...  "
            ]
          },
          "metadata": {
            "tags": []
          },
          "execution_count": 163
        }
      ]
    },
    {
      "cell_type": "code",
      "metadata": {
        "id": "3WND1APXKX10"
      },
      "source": [
        "# Change NRS to text\n",
        "data['All'] = NRS_to_text(data['All'].values[0])\n",
        "\n",
        "# Spelling Check\n",
        "data['All'] = spelling_check(data['All'].values[0])\n",
        "\n",
        "# Erase stopwords using konlpy\n",
        "data['All'] = erase_stopwords(data['All'].values[0])"
      ],
      "execution_count": 164,
      "outputs": []
    },
    {
      "cell_type": "code",
      "metadata": {
        "id": "SQXbjcsNgVIZ"
      },
      "source": [
        "data['All'] = only_letters_num(data['All'].values)\n",
        "document_bert_data = [\"[CLS] \" + str(s) + \" [SEP]\" for s in data['All'].values]"
      ],
      "execution_count": 167,
      "outputs": []
    },
    {
      "cell_type": "code",
      "metadata": {
        "colab": {
          "base_uri": "https://localhost:8080/"
        },
        "id": "4eHWyJQKgVpF",
        "outputId": "d88f2087-64c1-4522-878c-fe9c2cf45854"
      },
      "source": [
        "document_bert_data"
      ],
      "execution_count": 168,
      "outputs": [
        {
          "output_type": "execute_result",
          "data": {
            "text/plain": [
              "['[CLS] 배 아프다 30 s 1일 전 명치 부위 남자 지속 심해지다 이전 에도 3 차례 통증 이번 보다 약하다 칼 로 찢기다 듯 한 통증 심하다 방사 통 등 퍼지다 구토 속 쓰리다 어지러움 갈증 소 변량 감소 오른쪽 돌 아누 우 면 완화 술 1 주일 6 7 번 식사 매우 불규칙 정상 [SEP]']"
            ]
          },
          "metadata": {
            "tags": []
          },
          "execution_count": 168
        }
      ]
    },
    {
      "cell_type": "code",
      "metadata": {
        "id": "BUD1a8b3g2dZ"
      },
      "source": [
        "m_max_len = 162\n",
        "tokenizer_funnel = FunnelTokenizerFast.from_pretrained(\"kykim/funnel-kor-base\")\n",
        "\n",
        "if data['Sex'].values =='남자':\n",
        "  ko_tokenized_texts_data = [tokenizer_funnel.tokenize(s) for s in document_bert_data]\n",
        "  data_sequence = m_tokenizer.texts_to_sequences(ko_tokenized_texts_data)\n",
        "  data_sequence = pad_sequences(data_sequence, maxlen = m_max_len).reshape(1,-1)"
      ],
      "execution_count": 169,
      "outputs": []
    },
    {
      "cell_type": "code",
      "metadata": {
        "id": "xUOaYIfjhAT9"
      },
      "source": [
        "y_prob = m_loaded_model.predict(data_sequence)"
      ],
      "execution_count": 170,
      "outputs": []
    },
    {
      "cell_type": "code",
      "metadata": {
        "id": "OvXABndaj-Q2"
      },
      "source": [
        "top_k_result = tf.math.top_k(y_prob, k=3, sorted=True)\n",
        "\n",
        "first = top_k_result[1][0][0], top_k_result.values.numpy()[0][0]\n",
        "second = top_k_result[1][0][1], top_k_result.values.numpy()[0][1]\n",
        "third = top_k_result[1][0][2], top_k_result.values.numpy()[0][2]\n",
        "\n",
        "first_pred_disease_name = m_disease_codes[first[0]]\n",
        "second_pred_disease_name = m_disease_codes[second[0]]\n",
        "third_pred_disease_name = m_disease_codes[third[0]]"
      ],
      "execution_count": 171,
      "outputs": []
    },
    {
      "cell_type": "code",
      "metadata": {
        "colab": {
          "base_uri": "https://localhost:8080/",
          "height": 1000
        },
        "id": "hKXMxNngkCWQ",
        "outputId": "563a88ae-e565-4faa-ebcc-bfc3d481e6d4"
      },
      "source": [
        "aa = pd.read_csv('Disease_info.csv')\n",
        "#aa.drop('Unnamed: 0', axis=1, inplace=True)\n",
        "aa"
      ],
      "execution_count": 173,
      "outputs": [
        {
          "output_type": "execute_result",
          "data": {
            "text/html": [
              "<div>\n",
              "<style scoped>\n",
              "    .dataframe tbody tr th:only-of-type {\n",
              "        vertical-align: middle;\n",
              "    }\n",
              "\n",
              "    .dataframe tbody tr th {\n",
              "        vertical-align: top;\n",
              "    }\n",
              "\n",
              "    .dataframe thead th {\n",
              "        text-align: right;\n",
              "    }\n",
              "</style>\n",
              "<table border=\"1\" class=\"dataframe\">\n",
              "  <thead>\n",
              "    <tr style=\"text-align: right;\">\n",
              "      <th></th>\n",
              "      <th>원 질병이름</th>\n",
              "      <th>사이트 질병 이름</th>\n",
              "      <th>진료과</th>\n",
              "      <th>동의어</th>\n",
              "      <th>정의</th>\n",
              "      <th>*비고</th>\n",
              "      <th>Unnamed: 6</th>\n",
              "      <th>Unnamed: 7</th>\n",
              "      <th>Unnamed: 8</th>\n",
              "      <th>Unnamed: 9</th>\n",
              "      <th>Unnamed: 10</th>\n",
              "      <th>Unnamed: 11</th>\n",
              "      <th>Unnamed: 12</th>\n",
              "      <th>Unnamed: 13</th>\n",
              "      <th>Unnamed: 14</th>\n",
              "      <th>Unnamed: 15</th>\n",
              "      <th>Unnamed: 16</th>\n",
              "      <th>Unnamed: 17</th>\n",
              "      <th>Unnamed: 18</th>\n",
              "      <th>Unnamed: 19</th>\n",
              "      <th>Unnamed: 20</th>\n",
              "      <th>Unnamed: 21</th>\n",
              "      <th>Unnamed: 22</th>\n",
              "      <th>Unnamed: 23</th>\n",
              "      <th>Unnamed: 24</th>\n",
              "      <th>Unnamed: 25</th>\n",
              "    </tr>\n",
              "  </thead>\n",
              "  <tbody>\n",
              "    <tr>\n",
              "      <th>0</th>\n",
              "      <td>ACEI(혈압강하제) 복용으로 인한 증상</td>\n",
              "      <td>(ACEI side effect)</td>\n",
              "      <td>순환기내과</td>\n",
              "      <td>ACEI 부작용</td>\n",
              "      <td>혈압 강하제 중 ACEI 복용 후 나타나는 부작용을 의미합니다.</td>\n",
              "      <td>NaN</td>\n",
              "      <td>NaN</td>\n",
              "      <td>NaN</td>\n",
              "      <td>NaN</td>\n",
              "      <td>NaN</td>\n",
              "      <td>NaN</td>\n",
              "      <td>NaN</td>\n",
              "      <td>NaN</td>\n",
              "      <td>NaN</td>\n",
              "      <td>NaN</td>\n",
              "      <td>NaN</td>\n",
              "      <td>NaN</td>\n",
              "      <td>NaN</td>\n",
              "      <td>NaN</td>\n",
              "      <td>NaN</td>\n",
              "      <td>NaN</td>\n",
              "      <td>NaN</td>\n",
              "      <td>NaN</td>\n",
              "      <td>NaN</td>\n",
              "      <td>NaN</td>\n",
              "      <td>NaN</td>\n",
              "    </tr>\n",
              "    <tr>\n",
              "      <th>1</th>\n",
              "      <td>간염</td>\n",
              "      <td>간염(Hepatitis)</td>\n",
              "      <td>소화기내과</td>\n",
              "      <td>간세포 염증,간염증</td>\n",
              "      <td>간염은 간세포 조직에 염증이 생긴 것을 의미합니다.</td>\n",
              "      <td>NaN</td>\n",
              "      <td>NaN</td>\n",
              "      <td>NaN</td>\n",
              "      <td>NaN</td>\n",
              "      <td>NaN</td>\n",
              "      <td>NaN</td>\n",
              "      <td>NaN</td>\n",
              "      <td>NaN</td>\n",
              "      <td>NaN</td>\n",
              "      <td>NaN</td>\n",
              "      <td>NaN</td>\n",
              "      <td>NaN</td>\n",
              "      <td>NaN</td>\n",
              "      <td>NaN</td>\n",
              "      <td>NaN</td>\n",
              "      <td>NaN</td>\n",
              "      <td>NaN</td>\n",
              "      <td>NaN</td>\n",
              "      <td>NaN</td>\n",
              "      <td>NaN</td>\n",
              "      <td>NaN</td>\n",
              "    </tr>\n",
              "    <tr>\n",
              "      <th>2</th>\n",
              "      <td>간질성 폐질환</td>\n",
              "      <td>미만성 간질성 폐질환(Diffuse Interstitial lung disease)</td>\n",
              "      <td>호흡기내과</td>\n",
              "      <td>간질성 폐질환,미만성 침윤성 폐질환,특발성 간질성 폐렴,폐섬유증,폐섬유화증</td>\n",
              "      <td>미만성 간질성 폐질환(DILD)은 폐간질에 침범되는 비종양성, 비감염성 질환을 총칭...</td>\n",
              "      <td>NaN</td>\n",
              "      <td>NaN</td>\n",
              "      <td>NaN</td>\n",
              "      <td>NaN</td>\n",
              "      <td>NaN</td>\n",
              "      <td>NaN</td>\n",
              "      <td>NaN</td>\n",
              "      <td>NaN</td>\n",
              "      <td>NaN</td>\n",
              "      <td>NaN</td>\n",
              "      <td>NaN</td>\n",
              "      <td>NaN</td>\n",
              "      <td>NaN</td>\n",
              "      <td>NaN</td>\n",
              "      <td>NaN</td>\n",
              "      <td>NaN</td>\n",
              "      <td>NaN</td>\n",
              "      <td>NaN</td>\n",
              "      <td>NaN</td>\n",
              "      <td>NaN</td>\n",
              "      <td>NaN</td>\n",
              "    </tr>\n",
              "    <tr>\n",
              "      <th>3</th>\n",
              "      <td>갈비연골염</td>\n",
              "      <td>갈비연골염</td>\n",
              "      <td>흉부외과</td>\n",
              "      <td>늑연골염</td>\n",
              "      <td>갈비연골염은 늑골과 흉골을 연결하는 갈비 연골에 염증이 생긴 것입니다.</td>\n",
              "      <td>NaN</td>\n",
              "      <td>NaN</td>\n",
              "      <td>NaN</td>\n",
              "      <td>NaN</td>\n",
              "      <td>NaN</td>\n",
              "      <td>NaN</td>\n",
              "      <td>NaN</td>\n",
              "      <td>NaN</td>\n",
              "      <td>NaN</td>\n",
              "      <td>NaN</td>\n",
              "      <td>NaN</td>\n",
              "      <td>NaN</td>\n",
              "      <td>NaN</td>\n",
              "      <td>NaN</td>\n",
              "      <td>NaN</td>\n",
              "      <td>NaN</td>\n",
              "      <td>NaN</td>\n",
              "      <td>NaN</td>\n",
              "      <td>NaN</td>\n",
              "      <td>NaN</td>\n",
              "      <td>NaN</td>\n",
              "    </tr>\n",
              "    <tr>\n",
              "      <th>4</th>\n",
              "      <td>감염성 관절염</td>\n",
              "      <td>감염성 관절염</td>\n",
              "      <td>류미티스과</td>\n",
              "      <td>관절염</td>\n",
              "      <td>감염성 관절염은 보통 박테리아나 경우에 따라 바이러스 또는 진균으로 인해 관절액과 ...</td>\n",
              "      <td>NaN</td>\n",
              "      <td>NaN</td>\n",
              "      <td>NaN</td>\n",
              "      <td>NaN</td>\n",
              "      <td>NaN</td>\n",
              "      <td>NaN</td>\n",
              "      <td>NaN</td>\n",
              "      <td>NaN</td>\n",
              "      <td>NaN</td>\n",
              "      <td>NaN</td>\n",
              "      <td>NaN</td>\n",
              "      <td>NaN</td>\n",
              "      <td>NaN</td>\n",
              "      <td>NaN</td>\n",
              "      <td>NaN</td>\n",
              "      <td>NaN</td>\n",
              "      <td>NaN</td>\n",
              "      <td>NaN</td>\n",
              "      <td>NaN</td>\n",
              "      <td>NaN</td>\n",
              "      <td>NaN</td>\n",
              "    </tr>\n",
              "    <tr>\n",
              "      <th>...</th>\n",
              "      <td>...</td>\n",
              "      <td>...</td>\n",
              "      <td>...</td>\n",
              "      <td>...</td>\n",
              "      <td>...</td>\n",
              "      <td>...</td>\n",
              "      <td>...</td>\n",
              "      <td>...</td>\n",
              "      <td>...</td>\n",
              "      <td>...</td>\n",
              "      <td>...</td>\n",
              "      <td>...</td>\n",
              "      <td>...</td>\n",
              "      <td>...</td>\n",
              "      <td>...</td>\n",
              "      <td>...</td>\n",
              "      <td>...</td>\n",
              "      <td>...</td>\n",
              "      <td>...</td>\n",
              "      <td>...</td>\n",
              "      <td>...</td>\n",
              "      <td>...</td>\n",
              "      <td>...</td>\n",
              "      <td>...</td>\n",
              "      <td>...</td>\n",
              "      <td>...</td>\n",
              "    </tr>\n",
              "    <tr>\n",
              "      <th>223</th>\n",
              "      <td>지주막하 출혈</td>\n",
              "      <td>업데이트 예정 (전처리 중 drop 질병)</td>\n",
              "      <td>NaN</td>\n",
              "      <td>NaN</td>\n",
              "      <td>NaN</td>\n",
              "      <td>NaN</td>\n",
              "      <td>NaN</td>\n",
              "      <td>NaN</td>\n",
              "      <td>NaN</td>\n",
              "      <td>NaN</td>\n",
              "      <td>NaN</td>\n",
              "      <td>NaN</td>\n",
              "      <td>NaN</td>\n",
              "      <td>NaN</td>\n",
              "      <td>NaN</td>\n",
              "      <td>NaN</td>\n",
              "      <td>NaN</td>\n",
              "      <td>NaN</td>\n",
              "      <td>NaN</td>\n",
              "      <td>NaN</td>\n",
              "      <td>NaN</td>\n",
              "      <td>NaN</td>\n",
              "      <td>NaN</td>\n",
              "      <td>NaN</td>\n",
              "      <td>NaN</td>\n",
              "      <td>NaN</td>\n",
              "    </tr>\n",
              "    <tr>\n",
              "      <th>224</th>\n",
              "      <td>커피 / 약물에 의한 요붕증</td>\n",
              "      <td>업데이트 예정 (전처리 중 drop 질병)</td>\n",
              "      <td>NaN</td>\n",
              "      <td>NaN</td>\n",
              "      <td>NaN</td>\n",
              "      <td>NaN</td>\n",
              "      <td>NaN</td>\n",
              "      <td>NaN</td>\n",
              "      <td>NaN</td>\n",
              "      <td>NaN</td>\n",
              "      <td>NaN</td>\n",
              "      <td>NaN</td>\n",
              "      <td>NaN</td>\n",
              "      <td>NaN</td>\n",
              "      <td>NaN</td>\n",
              "      <td>NaN</td>\n",
              "      <td>NaN</td>\n",
              "      <td>NaN</td>\n",
              "      <td>NaN</td>\n",
              "      <td>NaN</td>\n",
              "      <td>NaN</td>\n",
              "      <td>NaN</td>\n",
              "      <td>NaN</td>\n",
              "      <td>NaN</td>\n",
              "      <td>NaN</td>\n",
              "      <td>NaN</td>\n",
              "    </tr>\n",
              "    <tr>\n",
              "      <th>225</th>\n",
              "      <td>터너증후군</td>\n",
              "      <td>업데이트 예정 (전처리 중 drop 질병)</td>\n",
              "      <td>NaN</td>\n",
              "      <td>NaN</td>\n",
              "      <td>NaN</td>\n",
              "      <td>NaN</td>\n",
              "      <td>NaN</td>\n",
              "      <td>NaN</td>\n",
              "      <td>NaN</td>\n",
              "      <td>NaN</td>\n",
              "      <td>NaN</td>\n",
              "      <td>NaN</td>\n",
              "      <td>NaN</td>\n",
              "      <td>NaN</td>\n",
              "      <td>NaN</td>\n",
              "      <td>NaN</td>\n",
              "      <td>NaN</td>\n",
              "      <td>NaN</td>\n",
              "      <td>NaN</td>\n",
              "      <td>NaN</td>\n",
              "      <td>NaN</td>\n",
              "      <td>NaN</td>\n",
              "      <td>NaN</td>\n",
              "      <td>NaN</td>\n",
              "      <td>NaN</td>\n",
              "      <td>NaN</td>\n",
              "    </tr>\n",
              "    <tr>\n",
              "      <th>226</th>\n",
              "      <td>하지신경 손상</td>\n",
              "      <td>업데이트 예정 (전처리 중 drop 질병)</td>\n",
              "      <td>NaN</td>\n",
              "      <td>NaN</td>\n",
              "      <td>NaN</td>\n",
              "      <td>NaN</td>\n",
              "      <td>NaN</td>\n",
              "      <td>NaN</td>\n",
              "      <td>NaN</td>\n",
              "      <td>NaN</td>\n",
              "      <td>NaN</td>\n",
              "      <td>NaN</td>\n",
              "      <td>NaN</td>\n",
              "      <td>NaN</td>\n",
              "      <td>NaN</td>\n",
              "      <td>NaN</td>\n",
              "      <td>NaN</td>\n",
              "      <td>NaN</td>\n",
              "      <td>NaN</td>\n",
              "      <td>NaN</td>\n",
              "      <td>NaN</td>\n",
              "      <td>NaN</td>\n",
              "      <td>NaN</td>\n",
              "      <td>NaN</td>\n",
              "      <td>NaN</td>\n",
              "      <td>NaN</td>\n",
              "    </tr>\n",
              "    <tr>\n",
              "      <th>227</th>\n",
              "      <td>호두까기 증후군</td>\n",
              "      <td>업데이트 예정 (전처리 중 drop 질병)</td>\n",
              "      <td>NaN</td>\n",
              "      <td>NaN</td>\n",
              "      <td>NaN</td>\n",
              "      <td>NaN</td>\n",
              "      <td>NaN</td>\n",
              "      <td>NaN</td>\n",
              "      <td>NaN</td>\n",
              "      <td>NaN</td>\n",
              "      <td>NaN</td>\n",
              "      <td>NaN</td>\n",
              "      <td>NaN</td>\n",
              "      <td>NaN</td>\n",
              "      <td>NaN</td>\n",
              "      <td>NaN</td>\n",
              "      <td>NaN</td>\n",
              "      <td>NaN</td>\n",
              "      <td>NaN</td>\n",
              "      <td>NaN</td>\n",
              "      <td>NaN</td>\n",
              "      <td>NaN</td>\n",
              "      <td>NaN</td>\n",
              "      <td>NaN</td>\n",
              "      <td>NaN</td>\n",
              "      <td>NaN</td>\n",
              "    </tr>\n",
              "  </tbody>\n",
              "</table>\n",
              "<p>228 rows × 26 columns</p>\n",
              "</div>"
            ],
            "text/plain": [
              "                     원 질병이름                                       사이트 질병 이름  \\\n",
              "0    ACEI(혈압강하제) 복용으로 인한 증상                              (ACEI side effect)   \n",
              "1                        간염                                   간염(Hepatitis)   \n",
              "2                   간질성 폐질환  미만성 간질성 폐질환(Diffuse Interstitial lung disease)   \n",
              "3                     갈비연골염                                           갈비연골염   \n",
              "4                   감염성 관절염                                         감염성 관절염   \n",
              "..                      ...                                             ...   \n",
              "223                 지주막하 출혈                         업데이트 예정 (전처리 중 drop 질병)   \n",
              "224         커피 / 약물에 의한 요붕증                         업데이트 예정 (전처리 중 drop 질병)   \n",
              "225                   터너증후군                         업데이트 예정 (전처리 중 drop 질병)   \n",
              "226                 하지신경 손상                         업데이트 예정 (전처리 중 drop 질병)   \n",
              "227                호두까기 증후군                         업데이트 예정 (전처리 중 drop 질병)   \n",
              "\n",
              "       진료과                                        동의어  \\\n",
              "0    순환기내과                                   ACEI 부작용   \n",
              "1    소화기내과                                 간세포 염증,간염증   \n",
              "2    호흡기내과  간질성 폐질환,미만성 침윤성 폐질환,특발성 간질성 폐렴,폐섬유증,폐섬유화증   \n",
              "3     흉부외과                                       늑연골염   \n",
              "4    류미티스과                                        관절염   \n",
              "..     ...                                        ...   \n",
              "223    NaN                                        NaN   \n",
              "224    NaN                                        NaN   \n",
              "225    NaN                                        NaN   \n",
              "226    NaN                                        NaN   \n",
              "227    NaN                                        NaN   \n",
              "\n",
              "                                                    정의  *비고  Unnamed: 6  \\\n",
              "0                  혈압 강하제 중 ACEI 복용 후 나타나는 부작용을 의미합니다.  NaN         NaN   \n",
              "1                         간염은 간세포 조직에 염증이 생긴 것을 의미합니다.  NaN         NaN   \n",
              "2    미만성 간질성 폐질환(DILD)은 폐간질에 침범되는 비종양성, 비감염성 질환을 총칭...  NaN         NaN   \n",
              "3              갈비연골염은 늑골과 흉골을 연결하는 갈비 연골에 염증이 생긴 것입니다.  NaN         NaN   \n",
              "4    감염성 관절염은 보통 박테리아나 경우에 따라 바이러스 또는 진균으로 인해 관절액과 ...  NaN         NaN   \n",
              "..                                                 ...  ...         ...   \n",
              "223                                                NaN  NaN         NaN   \n",
              "224                                                NaN  NaN         NaN   \n",
              "225                                                NaN  NaN         NaN   \n",
              "226                                                NaN  NaN         NaN   \n",
              "227                                                NaN  NaN         NaN   \n",
              "\n",
              "     Unnamed: 7  Unnamed: 8  Unnamed: 9  Unnamed: 10  Unnamed: 11  \\\n",
              "0           NaN         NaN         NaN          NaN          NaN   \n",
              "1           NaN         NaN         NaN          NaN          NaN   \n",
              "2           NaN         NaN         NaN          NaN          NaN   \n",
              "3           NaN         NaN         NaN          NaN          NaN   \n",
              "4           NaN         NaN         NaN          NaN          NaN   \n",
              "..          ...         ...         ...          ...          ...   \n",
              "223         NaN         NaN         NaN          NaN          NaN   \n",
              "224         NaN         NaN         NaN          NaN          NaN   \n",
              "225         NaN         NaN         NaN          NaN          NaN   \n",
              "226         NaN         NaN         NaN          NaN          NaN   \n",
              "227         NaN         NaN         NaN          NaN          NaN   \n",
              "\n",
              "     Unnamed: 12  Unnamed: 13  Unnamed: 14  Unnamed: 15  Unnamed: 16  \\\n",
              "0            NaN          NaN          NaN          NaN          NaN   \n",
              "1            NaN          NaN          NaN          NaN          NaN   \n",
              "2            NaN          NaN          NaN          NaN          NaN   \n",
              "3            NaN          NaN          NaN          NaN          NaN   \n",
              "4            NaN          NaN          NaN          NaN          NaN   \n",
              "..           ...          ...          ...          ...          ...   \n",
              "223          NaN          NaN          NaN          NaN          NaN   \n",
              "224          NaN          NaN          NaN          NaN          NaN   \n",
              "225          NaN          NaN          NaN          NaN          NaN   \n",
              "226          NaN          NaN          NaN          NaN          NaN   \n",
              "227          NaN          NaN          NaN          NaN          NaN   \n",
              "\n",
              "     Unnamed: 17  Unnamed: 18  Unnamed: 19  Unnamed: 20  Unnamed: 21  \\\n",
              "0            NaN          NaN          NaN          NaN          NaN   \n",
              "1            NaN          NaN          NaN          NaN          NaN   \n",
              "2            NaN          NaN          NaN          NaN          NaN   \n",
              "3            NaN          NaN          NaN          NaN          NaN   \n",
              "4            NaN          NaN          NaN          NaN          NaN   \n",
              "..           ...          ...          ...          ...          ...   \n",
              "223          NaN          NaN          NaN          NaN          NaN   \n",
              "224          NaN          NaN          NaN          NaN          NaN   \n",
              "225          NaN          NaN          NaN          NaN          NaN   \n",
              "226          NaN          NaN          NaN          NaN          NaN   \n",
              "227          NaN          NaN          NaN          NaN          NaN   \n",
              "\n",
              "     Unnamed: 22  Unnamed: 23  Unnamed: 24  Unnamed: 25  \n",
              "0            NaN          NaN          NaN          NaN  \n",
              "1            NaN          NaN          NaN          NaN  \n",
              "2            NaN          NaN          NaN          NaN  \n",
              "3            NaN          NaN          NaN          NaN  \n",
              "4            NaN          NaN          NaN          NaN  \n",
              "..           ...          ...          ...          ...  \n",
              "223          NaN          NaN          NaN          NaN  \n",
              "224          NaN          NaN          NaN          NaN  \n",
              "225          NaN          NaN          NaN          NaN  \n",
              "226          NaN          NaN          NaN          NaN  \n",
              "227          NaN          NaN          NaN          NaN  \n",
              "\n",
              "[228 rows x 26 columns]"
            ]
          },
          "metadata": {
            "tags": []
          },
          "execution_count": 173
        }
      ]
    },
    {
      "cell_type": "code",
      "metadata": {
        "colab": {
          "base_uri": "https://localhost:8080/"
        },
        "id": "UooykeavcZZ9",
        "outputId": "34264b29-1f3d-4d6b-8a93-122deb677432"
      },
      "source": [
        "first_info = aa[aa['원 질병이름'] == first_pred_disease_name]\n",
        "print(first_pred_disease_name, round(first[1]*100, 2),'%','\\n',\n",
        "      '동의어:', first_info['동의어'].values[0]+'\\n',\n",
        "      '진료과: ', first_info['진료과'].values[0]+'\\n',\n",
        "      '질병 설명:', first_info['정의'].values[0]\n",
        "      )"
      ],
      "execution_count": 174,
      "outputs": [
        {
          "output_type": "stream",
          "text": [
            "소화성 궤양 99.74 % \n",
            " 동의어: 소화성 궤양,십이지장 궤양\n",
            " 진료과:  소화기내과, 노년내과\n",
            " 질병 설명: 위궤양은 위점막이 헐어서 궤양이 점막뿐만 아니라 근육층까지 침범한 것을 말합니다.\n"
          ],
          "name": "stdout"
        }
      ]
    },
    {
      "cell_type": "code",
      "metadata": {
        "colab": {
          "base_uri": "https://localhost:8080/",
          "height": 37
        },
        "id": "T53yyhM5McFY",
        "outputId": "c6bcc6d2-2939-4f66-aab0-901f0dceab74"
      },
      "source": [
        "first_info = aa[aa['원 질병이름'] == first_pred_disease_name]\n",
        "first_info['진료과'].values[0]"
      ],
      "execution_count": 175,
      "outputs": [
        {
          "output_type": "execute_result",
          "data": {
            "application/vnd.google.colaboratory.intrinsic+json": {
              "type": "string"
            },
            "text/plain": [
              "'소화기내과, 노년내과'"
            ]
          },
          "metadata": {
            "tags": []
          },
          "execution_count": 175
        }
      ]
    },
    {
      "cell_type": "code",
      "metadata": {
        "id": "jaKgeo3GMxJ5"
      },
      "source": [
        ""
      ],
      "execution_count": null,
      "outputs": []
    }
  ]
}